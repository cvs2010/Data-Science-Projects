{
  "nbformat": 4,
  "nbformat_minor": 0,
  "metadata": {
    "colab": {
      "provenance": [],
      "mount_file_id": "1LXl-iqtIJW7WYu4MyHpO9tdfkwr8pin3",
      "authorship_tag": "ABX9TyPPLtfDut8URgIc+XOcnmmu",
      "include_colab_link": true
    },
    "kernelspec": {
      "name": "python3",
      "display_name": "Python 3"
    },
    "language_info": {
      "name": "python"
    }
  },
  "cells": [
    {
      "cell_type": "markdown",
      "metadata": {
        "id": "view-in-github",
        "colab_type": "text"
      },
      "source": [
        "<a href=\"https://colab.research.google.com/github/cvs2010/udemyDeepLearning/blob/main/pandas_tutorial.ipynb\" target=\"_parent\"><img src=\"https://colab.research.google.com/assets/colab-badge.svg\" alt=\"Open In Colab\"/></a>"
      ]
    },
    {
      "cell_type": "code",
      "execution_count": 1,
      "metadata": {
        "id": "XsKYuUDVfeKa"
      },
      "outputs": [],
      "source": [
        "import pandas as pd"
      ]
    },
    {
      "cell_type": "code",
      "source": [
        " # Turn pandas dataframes into interactive tables that can be filtered, sorted, and explored dynamically\n",
        "%load_ext google.colab.data_table"
      ],
      "metadata": {
        "id": "67WvC3ioiMTX"
      },
      "execution_count": 2,
      "outputs": []
    },
    {
      "cell_type": "code",
      "source": [
        "# Importing kaggle data via API\n",
        "import os\n",
        "os.environ['KAGGLE_CONFIG_DIR'] = \"/content/drive/MyDrive/Colab Notebooks/API´s/\""
      ],
      "metadata": {
        "id": "pmKZ436Nj8vq"
      },
      "execution_count": 8,
      "outputs": []
    },
    {
      "cell_type": "code",
      "source": [
        "!kaggle datasets download -d kurtnakasato/imdb-100000-moviestvshows"
      ],
      "metadata": {
        "colab": {
          "base_uri": "https://localhost:8080/"
        },
        "id": "BfH9GZrskwOZ",
        "outputId": "5e9c3088-0fbb-4dad-d635-0e11245c848c"
      },
      "execution_count": 9,
      "outputs": [
        {
          "output_type": "stream",
          "name": "stdout",
          "text": [
            "Downloading imdb-100000-moviestvshows.zip to /content\n",
            " 71% 7.00M/9.81M [00:00<00:00, 13.4MB/s]\n",
            "100% 9.81M/9.81M [00:00<00:00, 12.1MB/s]\n"
          ]
        }
      ]
    },
    {
      "cell_type": "code",
      "source": [
        "# Javascript Function to prevent disconnections\n",
        "from IPython.display import HTML, Javascript, display\n",
        "from google.colab import output\n",
        "\n",
        "display(Javascript(\"\"\"\n",
        "\n",
        "function KeepClicking(){\n",
        "  console.log(\"Clicking\");\n",
        "  document.querySelector(\"colab-connect-button\").click()\n",
        "  }\n",
        "setInterval(KeepClicking,60000);\n",
        "\n",
        "\"\"\"))\n",
        "\n",
        "display(HTML(\"\"\"\n",
        "<div id=\"div1\">\n",
        "  Clicking to prevent disconnections in 60 sec interval.\n",
        "</div>  \n",
        "\"\"\"))"
      ],
      "metadata": {
        "colab": {
          "base_uri": "https://localhost:8080/",
          "height": 34
        },
        "id": "KB9kPMfgnXYj",
        "outputId": "0b0efbc0-8594-4c63-b733-b05349702146"
      },
      "execution_count": 23,
      "outputs": [
        {
          "output_type": "display_data",
          "data": {
            "text/plain": [
              "<IPython.core.display.Javascript object>"
            ],
            "application/javascript": [
              "\n",
              "\n",
              "function KeepClicking(){\n",
              "  console.log(\"Clicking\");\n",
              "  document.querySelector(\"colab-connect-button\").click()\n",
              "  }\n",
              "setInterval(KeepClicking,60000);\n",
              "\n"
            ]
          },
          "metadata": {}
        },
        {
          "output_type": "display_data",
          "data": {
            "text/plain": [
              "<IPython.core.display.HTML object>"
            ],
            "text/html": [
              "\n",
              "<div id=\"div1\">\n",
              "  Clicking to prevent disconnections in 60 sec interval.\n",
              "</div>  \n"
            ]
          },
          "metadata": {}
        }
      ]
    },
    {
      "cell_type": "code",
      "source": [
        "# Use Tensorboard with Colab\n",
        "# TensorBoard is a tool for displaying metrics and visualizations throughout\n",
        "# a Deep Learning workflow. It is immediately usable within Colab.\n",
        "\n",
        "# Load the TensorBoard notebook extension first:\n",
        "\n",
        "%load_ext tensorboard\n",
        "\n",
        "# Once your model is complete, launch TensorBoard within the notebook by typing:\n",
        "\n",
        "%tensorboard --logdir logs"
      ],
      "metadata": {
        "id": "ueiaL1birW6K"
      },
      "execution_count": null,
      "outputs": []
    },
    {
      "cell_type": "code",
      "source": [],
      "metadata": {
        "id": "PJdcYCSHrlyI"
      },
      "execution_count": null,
      "outputs": []
    }
  ]
}