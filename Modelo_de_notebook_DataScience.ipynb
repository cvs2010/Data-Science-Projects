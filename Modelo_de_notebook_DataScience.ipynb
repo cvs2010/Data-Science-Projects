{
  "nbformat": 4,
  "nbformat_minor": 0,
  "metadata": {
    "colab": {
      "provenance": [],
      "collapsed_sections": [
        "TGihgxjZHkL8",
        "kXnGj66AInrR",
        "EXC2Sbe6Jtd6",
        "WTheiGw6J2g7",
        "n87RQ2XbKO1D",
        "Tf6061c4Kb_Q",
        "6Wy4wX-zKg3k",
        "gkRn9k3oLeEg",
        "aJcoBL7BLy6R",
        "58g0IjF9MdSI",
        "n0IgsSD4NC1J",
        "s7ShDuX6Nmad",
        "ysMwjSkgODOa",
        "uSwyX6DtOFyc",
        "PzDwsLK6OLEl",
        "lIvCire6OS2O",
        "Y7UVnQPkOgYd"
      ],
      "authorship_tag": "ABX9TyNEJXsKhhsnWsgYI380Y+8i",
      "include_colab_link": true
    },
    "kernelspec": {
      "name": "python3",
      "display_name": "Python 3"
    },
    "language_info": {
      "name": "python"
    }
  },
  "cells": [
    {
      "cell_type": "markdown",
      "metadata": {
        "id": "view-in-github",
        "colab_type": "text"
      },
      "source": [
        "<a href=\"https://colab.research.google.com/github/cvs2010/udemyDeepLearning/blob/main/Modelo_de_notebook_DataScience.ipynb\" target=\"_parent\"><img src=\"https://colab.research.google.com/assets/colab-badge.svg\" alt=\"Open In Colab\"/></a>"
      ]
    },
    {
      "cell_type": "markdown",
      "source": [
        "# Notebook Description\n",
        "\n",
        "\n",
        "---\n",
        "\n",
        "\"This notebook was created with the purpose of developing a Machine Learning model for Project X.\"\n",
        "\n",
        "Available at: https://www.abcde.com"
      ],
      "metadata": {
        "id": "-SL0nPOHHeY5"
      }
    },
    {
      "cell_type": "markdown",
      "source": [
        "# 0.0 Configs"
      ],
      "metadata": {
        "id": "TGihgxjZHkL8"
      }
    },
    {
      "cell_type": "markdown",
      "source": [
        "## 0.0 Importing Libraries"
      ],
      "metadata": {
        "id": "nJBUlkoRHo1r"
      }
    },
    {
      "cell_type": "code",
      "source": [
        "# Insert the necessary libraries for the execution of the notebook\n",
        "import pandas as pd"
      ],
      "metadata": {
        "id": "Xd_FW5uvHuJ7"
      },
      "execution_count": 1,
      "outputs": []
    },
    {
      "cell_type": "markdown",
      "source": [
        "## 0.1 Functions"
      ],
      "metadata": {
        "id": "2nEulbvgHzJx"
      }
    },
    {
      "cell_type": "code",
      "source": [
        "# Insert here the functions that will be used in the notebook"
      ],
      "metadata": {
        "id": "ydnK0jklH2wh"
      },
      "execution_count": null,
      "outputs": []
    },
    {
      "cell_type": "markdown",
      "source": [
        "## 0.2 Load dataset"
      ],
      "metadata": {
        "id": "3G7ruUkFIT-P"
      }
    },
    {
      "cell_type": "code",
      "source": [
        "# Insert the code here to load the DataSet files"
      ],
      "metadata": {
        "id": "wC5bstVwIbYZ"
      },
      "execution_count": null,
      "outputs": []
    },
    {
      "cell_type": "markdown",
      "source": [
        "# 1.0 Data description"
      ],
      "metadata": {
        "id": "kXnGj66AInrR"
      }
    },
    {
      "cell_type": "markdown",
      "source": [
        "## 1.1 Descriptive Statistics"
      ],
      "metadata": {
        "id": "xUgfOWR8I21H"
      }
    },
    {
      "cell_type": "code",
      "source": [],
      "metadata": {
        "id": "raM_29oAIrFG"
      },
      "execution_count": null,
      "outputs": []
    },
    {
      "cell_type": "markdown",
      "source": [
        "## 1.2 Data dimensions"
      ],
      "metadata": {
        "id": "PZrxRQKFI4vZ"
      }
    },
    {
      "cell_type": "code",
      "source": [],
      "metadata": {
        "id": "cK9VYQ1fJF8_"
      },
      "execution_count": null,
      "outputs": []
    },
    {
      "cell_type": "markdown",
      "source": [
        "## 1.3 Data types"
      ],
      "metadata": {
        "id": "ggntaebMJGU5"
      }
    },
    {
      "cell_type": "code",
      "source": [],
      "metadata": {
        "id": "VTeUJ3kOJKer"
      },
      "execution_count": null,
      "outputs": []
    },
    {
      "cell_type": "markdown",
      "source": [
        "## 1.4 Check NAS (isNaN)"
      ],
      "metadata": {
        "id": "qpEBg9RdJXyc"
      }
    },
    {
      "cell_type": "code",
      "source": [],
      "metadata": {
        "id": "bDBeo-NLJoKm"
      },
      "execution_count": null,
      "outputs": []
    },
    {
      "cell_type": "markdown",
      "source": [
        "## 1.5 Missing values"
      ],
      "metadata": {
        "id": "hhLDEjKuJNM4"
      }
    },
    {
      "cell_type": "code",
      "source": [],
      "metadata": {
        "id": "3X1L8TaVJO-f"
      },
      "execution_count": null,
      "outputs": []
    },
    {
      "cell_type": "markdown",
      "source": [
        "## 1.6 Duplicates"
      ],
      "metadata": {
        "id": "nq_ooSCEJPe3"
      }
    },
    {
      "cell_type": "code",
      "source": [],
      "metadata": {
        "id": "T9XK0s6vJSS6"
      },
      "execution_count": 1,
      "outputs": []
    },
    {
      "cell_type": "markdown",
      "source": [
        "## 1.7 Outliers"
      ],
      "metadata": {
        "id": "FrOT8yfpJTeu"
      }
    },
    {
      "cell_type": "code",
      "source": [],
      "metadata": {
        "id": "ibjuNkiVJVS9"
      },
      "execution_count": null,
      "outputs": []
    },
    {
      "cell_type": "markdown",
      "source": [
        "## 1.8 Summary"
      ],
      "metadata": {
        "id": "WV8wE5o7JV1Z"
      }
    },
    {
      "cell_type": "code",
      "source": [],
      "metadata": {
        "id": "SFpg4f0qJXVG"
      },
      "execution_count": null,
      "outputs": []
    },
    {
      "cell_type": "markdown",
      "source": [
        "# 2.0 Data Cleaning and Balancing"
      ],
      "metadata": {
        "id": "EXC2Sbe6Jtd6"
      }
    },
    {
      "cell_type": "code",
      "source": [],
      "metadata": {
        "id": "-l2WOrlHJ1Ht"
      },
      "execution_count": null,
      "outputs": []
    },
    {
      "cell_type": "markdown",
      "source": [
        "# 3.0 Feature Engineering"
      ],
      "metadata": {
        "id": "WTheiGw6J2g7"
      }
    },
    {
      "cell_type": "code",
      "source": [
        "# Creating a copy of the filtered and balanced dataset after cleaning and organizing the data to start the work"
      ],
      "metadata": {
        "id": "vkobYXEHJ4bt"
      },
      "execution_count": null,
      "outputs": []
    },
    {
      "cell_type": "markdown",
      "source": [
        "# 4.0 Modeling and Evaluation - Filtering of variables"
      ],
      "metadata": {
        "id": "n87RQ2XbKO1D"
      }
    },
    {
      "cell_type": "code",
      "source": [],
      "metadata": {
        "id": "ZTx3tdEBKYfV"
      },
      "execution_count": null,
      "outputs": []
    },
    {
      "cell_type": "markdown",
      "source": [
        "# 5.0 Modeling and Evaluation - Exploratory Data Analysis"
      ],
      "metadata": {
        "id": "Tf6061c4Kb_Q"
      }
    },
    {
      "cell_type": "markdown",
      "source": [
        "## 5.1 Univariate Analysis"
      ],
      "metadata": {
        "id": "5N_BglIIKq97"
      }
    },
    {
      "cell_type": "code",
      "source": [],
      "metadata": {
        "id": "RT8uoFw3Kge9"
      },
      "execution_count": null,
      "outputs": []
    },
    {
      "cell_type": "markdown",
      "source": [
        "## 5.2 Bivariate Analysis"
      ],
      "metadata": {
        "id": "lKrcgeHMKuvj"
      }
    },
    {
      "cell_type": "code",
      "source": [],
      "metadata": {
        "id": "xvjfALY2KxWL"
      },
      "execution_count": null,
      "outputs": []
    },
    {
      "cell_type": "markdown",
      "source": [
        "## 5.3 Multivariate Analysis"
      ],
      "metadata": {
        "id": "uiJWyWmdKxyj"
      }
    },
    {
      "cell_type": "code",
      "source": [],
      "metadata": {
        "id": "xFEYhIaaKziy"
      },
      "execution_count": null,
      "outputs": []
    },
    {
      "cell_type": "markdown",
      "source": [
        "## 5.4 Summary of findings"
      ],
      "metadata": {
        "id": "f0GaOU8pK0JT"
      }
    },
    {
      "cell_type": "code",
      "source": [],
      "metadata": {
        "id": "GE7XijoAK3mI"
      },
      "execution_count": null,
      "outputs": []
    },
    {
      "cell_type": "markdown",
      "source": [
        "# 6.0 Modeling and Evaluation - Data preparation"
      ],
      "metadata": {
        "id": "6Wy4wX-zKg3k"
      }
    },
    {
      "cell_type": "markdown",
      "source": [
        "## 6.1 Label encoding"
      ],
      "metadata": {
        "id": "DzaJtimgLARK"
      }
    },
    {
      "cell_type": "code",
      "source": [],
      "metadata": {
        "id": "dLstI5ARLExf"
      },
      "execution_count": null,
      "outputs": []
    },
    {
      "cell_type": "markdown",
      "source": [
        "## 6.2 One hot encoding"
      ],
      "metadata": {
        "id": "Crf-GLC0LFUL"
      }
    },
    {
      "cell_type": "code",
      "source": [],
      "metadata": {
        "id": "GCJCHEgRLKHS"
      },
      "execution_count": null,
      "outputs": []
    },
    {
      "cell_type": "markdown",
      "source": [
        "## 6.2 Reescaling minMaxScaler"
      ],
      "metadata": {
        "id": "cRNdNywmLMiF"
      }
    },
    {
      "cell_type": "code",
      "source": [],
      "metadata": {
        "id": "S7ZMiJn2LdTz"
      },
      "execution_count": null,
      "outputs": []
    },
    {
      "cell_type": "markdown",
      "source": [
        "# 7.0 Modeling and Evaluation - Feature Selection"
      ],
      "metadata": {
        "id": "gkRn9k3oLeEg"
      }
    },
    {
      "cell_type": "markdown",
      "source": [
        "## 7.1 Feature importance"
      ],
      "metadata": {
        "id": "f5SH6fjqLk4c"
      }
    },
    {
      "cell_type": "code",
      "source": [],
      "metadata": {
        "id": "nj49cuJWLrpF"
      },
      "execution_count": null,
      "outputs": []
    },
    {
      "cell_type": "markdown",
      "source": [
        "## 7.2 Feature selection with RFE (Recursive Feature Elimination)"
      ],
      "metadata": {
        "id": "tTnQLGxALsx6"
      }
    },
    {
      "cell_type": "code",
      "source": [],
      "metadata": {
        "id": "c819Ad1kLuip"
      },
      "execution_count": null,
      "outputs": []
    },
    {
      "cell_type": "markdown",
      "source": [
        "# 8.0 Machine Learning - Modeling and Evaluation - Model Selection"
      ],
      "metadata": {
        "id": "aJcoBL7BLy6R"
      }
    },
    {
      "cell_type": "markdown",
      "source": [
        "## 8.1 Column selection"
      ],
      "metadata": {
        "id": "PnY63UqMMAhl"
      }
    },
    {
      "cell_type": "code",
      "source": [],
      "metadata": {
        "id": "KJnY7cuMMGA6"
      },
      "execution_count": null,
      "outputs": []
    },
    {
      "cell_type": "markdown",
      "source": [
        "## 8.2 Model 1 selection"
      ],
      "metadata": {
        "id": "xpYwbos1MGah"
      }
    },
    {
      "cell_type": "code",
      "source": [],
      "metadata": {
        "id": "Ps7KtGFJMJKa"
      },
      "execution_count": null,
      "outputs": []
    },
    {
      "cell_type": "markdown",
      "source": [
        "### 8.2.1 Model evaluation"
      ],
      "metadata": {
        "id": "58g0IjF9MdSI"
      }
    },
    {
      "cell_type": "code",
      "source": [],
      "metadata": {
        "id": "knWcfRsMMgBf"
      },
      "execution_count": null,
      "outputs": []
    },
    {
      "cell_type": "markdown",
      "source": [
        "### 8.2.2 Summary of findings"
      ],
      "metadata": {
        "id": "OxQADmCTMggF"
      }
    },
    {
      "cell_type": "code",
      "source": [],
      "metadata": {
        "id": "8c_uN8iCMkk0"
      },
      "execution_count": 1,
      "outputs": []
    },
    {
      "cell_type": "markdown",
      "source": [
        "## 8.3 Model 2 selection"
      ],
      "metadata": {
        "id": "Yp1CmIY2M3rj"
      }
    },
    {
      "cell_type": "code",
      "source": [],
      "metadata": {
        "id": "LFp8txjBM3rk"
      },
      "execution_count": null,
      "outputs": []
    },
    {
      "cell_type": "markdown",
      "source": [
        "### 8.3.1 Model evaluation"
      ],
      "metadata": {
        "id": "MpSAt8gUM3rk"
      }
    },
    {
      "cell_type": "code",
      "source": [],
      "metadata": {
        "id": "SW9N8dPUM3rl"
      },
      "execution_count": null,
      "outputs": []
    },
    {
      "cell_type": "markdown",
      "source": [
        "### 8.3.2 Summary of findings"
      ],
      "metadata": {
        "id": "wEVnnaNlM3rl"
      }
    },
    {
      "cell_type": "code",
      "source": [],
      "metadata": {
        "id": "me2NAhibM3rl"
      },
      "execution_count": 1,
      "outputs": []
    },
    {
      "cell_type": "markdown",
      "source": [
        "# 9.0 XGBoost"
      ],
      "metadata": {
        "id": "n0IgsSD4NC1J"
      }
    },
    {
      "cell_type": "markdown",
      "source": [
        "## 9.1 XGBoost - Modeling and Evaluation"
      ],
      "metadata": {
        "id": "bv0q9wN8NjtK"
      }
    },
    {
      "cell_type": "code",
      "source": [],
      "metadata": {
        "id": "nGPOGW7GNi_f"
      },
      "execution_count": null,
      "outputs": []
    },
    {
      "cell_type": "markdown",
      "source": [
        "# 10.0 SVC GridSearch"
      ],
      "metadata": {
        "id": "s7ShDuX6Nmad"
      }
    },
    {
      "cell_type": "code",
      "source": [],
      "metadata": {
        "id": "KOIHomrbN_iQ"
      },
      "execution_count": 1,
      "outputs": []
    },
    {
      "cell_type": "markdown",
      "source": [
        "# 11.0 LightGBM"
      ],
      "metadata": {
        "id": "ysMwjSkgODOa"
      }
    },
    {
      "cell_type": "code",
      "source": [],
      "metadata": {
        "id": "psKB5g5VOFBv"
      },
      "execution_count": null,
      "outputs": []
    },
    {
      "cell_type": "markdown",
      "source": [
        "# 12.0 Cross-validation"
      ],
      "metadata": {
        "id": "uSwyX6DtOFyc"
      }
    },
    {
      "cell_type": "code",
      "source": [],
      "metadata": {
        "id": "KPjIz2OaOKbP"
      },
      "execution_count": null,
      "outputs": []
    },
    {
      "cell_type": "markdown",
      "source": [
        "# 13.0 Error translate"
      ],
      "metadata": {
        "id": "PzDwsLK6OLEl"
      }
    },
    {
      "cell_type": "code",
      "source": [],
      "metadata": {
        "id": "3M6SaJTUOOhm"
      },
      "execution_count": null,
      "outputs": []
    },
    {
      "cell_type": "markdown",
      "source": [
        "# 14.0 Hyperparameter fine tuning"
      ],
      "metadata": {
        "id": "lIvCire6OS2O"
      }
    },
    {
      "cell_type": "code",
      "source": [],
      "metadata": {
        "id": "IngSJrhQOadr"
      },
      "execution_count": null,
      "outputs": []
    },
    {
      "cell_type": "markdown",
      "source": [
        "# 15.0 Predict data test"
      ],
      "metadata": {
        "id": "Y7UVnQPkOgYd"
      }
    },
    {
      "cell_type": "code",
      "source": [],
      "metadata": {
        "id": "jkG0MracOi-p"
      },
      "execution_count": null,
      "outputs": []
    }
  ]
}