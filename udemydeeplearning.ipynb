{
  "nbformat": 4,
  "nbformat_minor": 0,
  "metadata": {
    "colab": {
      "provenance": [],
      "mount_file_id": "173JL8j3dBHdvjJ-c2E5c4khl6YfhTP02",
      "authorship_tag": "ABX9TyOKjEQx02H+gdK0UhTqm6if",
      "include_colab_link": true
    },
    "kernelspec": {
      "name": "python3",
      "display_name": "Python 3"
    },
    "language_info": {
      "name": "python"
    }
  },
  "cells": [
    {
      "cell_type": "markdown",
      "metadata": {
        "id": "view-in-github",
        "colab_type": "text"
      },
      "source": [
        "<a href=\"https://colab.research.google.com/github/cvs2010/udemyDeepLearning/blob/main/udemydeeplearning.ipynb\" target=\"_parent\"><img src=\"https://colab.research.google.com/assets/colab-badge.svg\" alt=\"Open In Colab\"/></a>"
      ]
    },
    {
      "cell_type": "markdown",
      "source": [
        "# GoogleColab + Redes Neurais"
      ],
      "metadata": {
        "id": "DaqTXupFpsU6"
      }
    },
    {
      "cell_type": "code",
      "source": [
        "import numpy as np"
      ],
      "metadata": {
        "id": "izB_GtiWVm9C"
      },
      "execution_count": 121,
      "outputs": []
    },
    {
      "cell_type": "markdown",
      "source": [
        "A partir daqui vamos estudar as TransferFunctions - Funções de ativação - [Keras.io](https://keras.io/activations)<br><br>\n",
        "As funções de ativação são utilizadas em redes neurais artificiais para introduzir uma não-linearidade nos valores de saída de cada neurônio. Cada neurônio de uma rede neural recebe entradas, realiza uma combinação linear dessas entradas e, em seguida, aplica uma função de ativação não-linear para gerar sua saída.\n",
        "\n",
        "As funções de ativação são importantes porque permitem que as redes neurais aprendam a modelar relações não-lineares entre as entradas e as saídas. Sem uma função de ativação não-linear, a rede neural seria apenas uma combinação linear de seus inputs, o que não seria suficiente para resolver muitos problemas complexos de aprendizado de máquina.\n",
        "\n",
        "Algumas das funções de ativação mais comuns são:\n",
        "\n",
        "Sigmoid: A função sigmoid é definida como f(x) = 1 / (1 + exp(-x)). Ela mapeia qualquer valor de entrada para um valor entre 0 e 1. É usada em redes neurais para classificação binária.\n",
        "\n",
        "ReLU (Rectified Linear Unit): A função ReLU é definida como f(x) = max(0, x). Ela retorna 0 para valores de entrada negativos e o próprio valor de entrada para valores positivos. É uma das funções de ativação mais usadas, principalmente em redes neurais profundas.\n",
        "\n",
        "Tanh (tangente hiperbólica): A função tanh é definida como f(x) = (exp(x) - exp(-x)) / (exp(x) + exp(-x)). Ela mapeia valores de entrada para um intervalo entre -1 e 1, e é usada em redes neurais para classificação binária.\n",
        "\n",
        "Softmax: A função Softmax é definida como exp(xi) / sum(exp(xj)) para todos os valores de j. É usada em redes neurais para classificação multiclasse, pois retorna probabilidades normalizadas que somam 1 para cada classe."
      ],
      "metadata": {
        "id": "XoIghQjfeU09"
      }
    },
    {
      "cell_type": "code",
      "source": [
        "# Transfer Function - function that shows result 1 or 0 only, for numbers greater than or equal to 0 the result will be 1,\n",
        "# for negative numbers (less than 0) the result will be 0\n",
        "# Try to change the value of the function testTranferFunction = stepfunction(x) ,\n",
        "# with 'x' representing a positive or negative number and see the result by running the cell\n",
        "\n",
        "def stepfunction(soma):\n",
        "  if(soma >= 1):\n",
        "    return 1\n",
        "  else:\n",
        "    return 0\n",
        "\n",
        "testTranferFunction = stepfunction(33);\n",
        "print(testTranferFunction)"
      ],
      "metadata": {
        "colab": {
          "base_uri": "https://localhost:8080/"
        },
        "id": "UT3ZsMGDVvcc",
        "outputId": "f4999c09-41c9-4874-eaca-9800bf661994"
      },
      "execution_count": 122,
      "outputs": [
        {
          "output_type": "stream",
          "name": "stdout",
          "text": [
            "1\n"
          ]
        }
      ]
    },
    {
      "cell_type": "markdown",
      "source": [
        "Função Sigmóide - [Wikipedia Sigmoide Function](https://pt.wikipedia.org/wiki/Fun%C3%A7%C3%A3o_sigmoide)\n",
        "\n",
        "<br>\n",
        "\n",
        "\n",
        "![SigmoideFunction2.png](data:image/png;base64,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)"
      ],
      "metadata": {
        "id": "mB_X9gWwYZYb"
      }
    },
    {
      "cell_type": "code",
      "source": [
        "# Sigmoid Function - In MATLAB the sigmf function has two sigmoid setting values.\n",
        "# The first indicates the degree of slope of the curve, while the second indicates the midpoint of the curve, i.e,\n",
        "# for which value of x the sigmoid will assume value 0.5 on the y-axis (center of the sigmoid).\n",
        "# Try to change the value of the function testTranferFunction = sigmoidFunction(x) ,\n",
        "# with 'x' representing a positive or negative number and see the result by running the cell\n",
        "\n",
        "def sigmoidFunction(soma):\n",
        "  return 1 / (1 + np.exp(-soma))\n",
        "\n",
        "testSigmoidFunction = sigmoidFunction(33);\n",
        "print(testSigmoidFunction)"
      ],
      "metadata": {
        "id": "cJR1YwA7YU_9",
        "colab": {
          "base_uri": "https://localhost:8080/"
        },
        "outputId": "8025a76d-a7fd-4036-8574-bad269d37e00"
      },
      "execution_count": 165,
      "outputs": [
        {
          "output_type": "stream",
          "name": "stdout",
          "text": [
            "0.9999999999999953\n"
          ]
        }
      ]
    },
    {
      "cell_type": "markdown",
      "source": [
        "Função Tangente Hiperbólica - [Wikipedia - Função tangente hiperbólica](https://pt.wikipedia.org/wiki/Tangente_hiperb%C3%B3lica)\n",
        "<br>\n",
        "![download.png](data:image/png;base64,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)"
      ],
      "metadata": {
        "id": "tohK14LFcAi2"
      }
    },
    {
      "cell_type": "code",
      "source": [
        "# The domain of the function is set to \n",
        "# (- ∞,+ ∞) and its counterdomain is set to the interval\n",
        "# (-1,1). The function has a horizontal asymptote at y = -1 and y=1.\n",
        "# Try to change the value of the function testTranferFunction = tanhFunction(x) , between '-709 an 709'\n",
        "# with 'x' representing a positive or negative number and see the result by running the cell\n",
        "\n",
        "def tanhFunction (soma):\n",
        "  return (np.exp(soma) - np.exp(-soma)) / (np.exp(soma) + np.exp(-soma))\n",
        "\n",
        "testTanhFunction = tanhFunction(709);\n",
        "print(testTanhFunction)"
      ],
      "metadata": {
        "colab": {
          "base_uri": "https://localhost:8080/"
        },
        "id": "ADExlDgrcZ_m",
        "outputId": "780addef-5c50-403b-88a9-e4654b3bdade"
      },
      "execution_count": 124,
      "outputs": [
        {
          "output_type": "stream",
          "name": "stdout",
          "text": [
            "1.0\n"
          ]
        }
      ]
    },
    {
      "cell_type": "markdown",
      "source": [
        "Função ReLU - [Wikipedia ReLU](https://en.wikipedia.org/wiki/Rectifier_(neural_networks))<br>\n",
        "![Sem título2.png](data:image/png;base64,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)"
      ],
      "metadata": {
        "id": "GyfU6picfEWZ"
      }
    },
    {
      "cell_type": "code",
      "source": [
        "#ReLU function - Rectified linear units, compared to sigmoid function or similar activation functions,\n",
        "# allow faster and effective training of deep neural architectures on large and complex datasets.\n",
        "# Try to change the value of the function testTranferFunction = tanhFunction(x)\n",
        "# with 'x' representing a positive or negative number and see the result by running the cell\n",
        "\n",
        "def functionRelu(soma):\n",
        "  if soma >= 0:\n",
        "    return soma\n",
        "  return 0\n",
        "\n",
        "testReluFunction = functionRelu(-709);\n",
        "print(testReluFunction)"
      ],
      "metadata": {
        "colab": {
          "base_uri": "https://localhost:8080/"
        },
        "id": "C4AhSGX6fFFc",
        "outputId": "6f018024-a741-43ee-96ab-a160368b74f1"
      },
      "execution_count": 125,
      "outputs": [
        {
          "output_type": "stream",
          "name": "stdout",
          "text": [
            "0\n"
          ]
        }
      ]
    },
    {
      "cell_type": "markdown",
      "source": [
        "Função Softmax - [SoftMax WikiPedia](https://en.wikipedia.org/wiki/Softmax_function)"
      ],
      "metadata": {
        "id": "iXN-PXHegteY"
      }
    },
    {
      "cell_type": "code",
      "source": [
        "def testSoftMaxFunction(x):\n",
        "  exponencialSoftMaxTest = np.exp(x)\n",
        "  return exponencialSoftMaxTest / exponencialSoftMaxTest.sum()\n",
        "\n",
        "vectorValuesTestSoftMax =[5.0 , 7.0 , 1.3]\n",
        "print('As probabilidades para os valores dos vetores',vectorValuesTestSoftMax , ' são: ',testSoftMaxFunction(vectorValuesTestSoftMax))"
      ],
      "metadata": {
        "colab": {
          "base_uri": "https://localhost:8080/"
        },
        "id": "OQ-LddbTg5cU",
        "outputId": "1115335a-ef26-4d16-a6e6-4808d6314dc4"
      },
      "execution_count": 126,
      "outputs": [
        {
          "output_type": "stream",
          "name": "stdout",
          "text": [
            "As probabilidades para os valores dos vetores [5.0, 7.0, 1.3]  são:  [0.11885265 0.87820889 0.00293846]\n"
          ]
        }
      ]
    },
    {
      "cell_type": "markdown",
      "source": [
        "# Primeiro Projeto: Covertendo Celsius para Fahrenheit"
      ],
      "metadata": {
        "id": "ikbjIfdkpoi-"
      }
    },
    {
      "cell_type": "markdown",
      "source": [
        "Primeiro Projeto: Conversão de °C para °F <br>\n",
        "![Sem título.png](data:image/png;base64,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)"
      ],
      "metadata": {
        "id": "6olNyMZ1oyq_"
      }
    },
    {
      "cell_type": "markdown",
      "source": [
        "Etapa 1: Importando bibliotecas"
      ],
      "metadata": {
        "id": "-E75qeKQqPZQ"
      }
    },
    {
      "cell_type": "code",
      "source": [
        "%tensorflow_version 2.x\n",
        "import tensorflow as tf\n",
        "tf.__version__"
      ],
      "metadata": {
        "colab": {
          "base_uri": "https://localhost:8080/",
          "height": 53
        },
        "id": "TMFHI9bVk-P1",
        "outputId": "f10d9ebd-6562-42c4-d975-90d46601e78c"
      },
      "execution_count": 127,
      "outputs": [
        {
          "output_type": "stream",
          "name": "stdout",
          "text": [
            "Colab only includes TensorFlow 2.x; %tensorflow_version has no effect.\n"
          ]
        },
        {
          "output_type": "execute_result",
          "data": {
            "text/plain": [
              "'2.12.0'"
            ],
            "application/vnd.google.colaboratory.intrinsic+json": {
              "type": "string"
            }
          },
          "metadata": {},
          "execution_count": 127
        }
      ]
    },
    {
      "cell_type": "code",
      "source": [
        "import pandas as pd\n",
        "import numpy as np\n",
        "import seaborn as sns\n",
        "import matplotlib.pyplot as plt"
      ],
      "metadata": {
        "id": "9XPjVAKgqOS9"
      },
      "execution_count": 128,
      "outputs": []
    },
    {
      "cell_type": "markdown",
      "source": [
        "Etapa 2: Importando a base de dados"
      ],
      "metadata": {
        "id": "1MYbOTbuqSbq"
      }
    },
    {
      "cell_type": "code",
      "source": [
        "!wget https://github.com/cvs2010/udemyDeepLearning/raw/main/Celsius-to-Fahrenheit.csv"
      ],
      "metadata": {
        "colab": {
          "base_uri": "https://localhost:8080/"
        },
        "id": "HKPAB8W9qUYy",
        "outputId": "b67a0852-5d11-49e1-ec11-cc77e1d57b60"
      },
      "execution_count": 129,
      "outputs": [
        {
          "output_type": "stream",
          "name": "stdout",
          "text": [
            "--2023-04-17 15:25:34--  https://github.com/cvs2010/udemyDeepLearning/raw/main/Celsius-to-Fahrenheit.csv\n",
            "Resolving github.com (github.com)... 140.82.113.3\n",
            "Connecting to github.com (github.com)|140.82.113.3|:443... connected.\n",
            "HTTP request sent, awaiting response... 302 Found\n",
            "Location: https://raw.githubusercontent.com/cvs2010/udemyDeepLearning/main/Celsius-to-Fahrenheit.csv [following]\n",
            "--2023-04-17 15:25:34--  https://raw.githubusercontent.com/cvs2010/udemyDeepLearning/main/Celsius-to-Fahrenheit.csv\n",
            "Resolving raw.githubusercontent.com (raw.githubusercontent.com)... 185.199.108.133, 185.199.109.133, 185.199.110.133, ...\n",
            "Connecting to raw.githubusercontent.com (raw.githubusercontent.com)|185.199.108.133|:443... connected.\n",
            "HTTP request sent, awaiting response... 200 OK\n",
            "Length: 263 [text/plain]\n",
            "Saving to: ‘Celsius-to-Fahrenheit.csv.1’\n",
            "\n",
            "Celsius-to-Fahrenhe 100%[===================>]     263  --.-KB/s    in 0s      \n",
            "\n",
            "2023-04-17 15:25:34 (10.9 MB/s) - ‘Celsius-to-Fahrenheit.csv.1’ saved [263/263]\n",
            "\n"
          ]
        }
      ]
    },
    {
      "cell_type": "code",
      "source": [
        "temperature_df = pd.read_csv('/content/Celsius-to-Fahrenheit.csv')\n",
        "temperature_df.reset_index(drop = True, inplace = True)"
      ],
      "metadata": {
        "id": "BjzRypfRspy2"
      },
      "execution_count": 130,
      "outputs": []
    },
    {
      "cell_type": "code",
      "source": [
        "temperature_df"
      ],
      "metadata": {
        "colab": {
          "base_uri": "https://localhost:8080/",
          "height": 990
        },
        "id": "S1U3ZUwXu6kL",
        "outputId": "b5060d9a-c22a-41b4-b1c1-680b02c65773"
      },
      "execution_count": 131,
      "outputs": [
        {
          "output_type": "execute_result",
          "data": {
            "text/plain": [
              "    Celsius  Fahrenheit\n",
              "0       -50       -58.0\n",
              "1       -40       -40.0\n",
              "2       -30       -22.0\n",
              "3       -20        -4.0\n",
              "4       -10        14.0\n",
              "5        -9        15.8\n",
              "6        -8        17.6\n",
              "7        -7        19.4\n",
              "8        -6        21.2\n",
              "9        -5        23.0\n",
              "10       -4        24.8\n",
              "11       -3        26.6\n",
              "12       -2        28.4\n",
              "13       -1        30.2\n",
              "14        0        32.0\n",
              "15        1        33.8\n",
              "16        2        35.6\n",
              "17        3        37.4\n",
              "18        4        39.2\n",
              "19        5        41.0\n",
              "20        6        42.8\n",
              "21        7        44.6\n",
              "22        8        46.4\n",
              "23        9        48.2\n",
              "24       10        50.0\n",
              "25       20        68.0\n",
              "26       30        86.0\n",
              "27       40       104.0\n",
              "28       50       122.0\n",
              "29       60       140.0"
            ],
            "text/html": [
              "\n",
              "  <div id=\"df-4aa97107-1109-4733-af44-5f5408996ad9\">\n",
              "    <div class=\"colab-df-container\">\n",
              "      <div>\n",
              "<style scoped>\n",
              "    .dataframe tbody tr th:only-of-type {\n",
              "        vertical-align: middle;\n",
              "    }\n",
              "\n",
              "    .dataframe tbody tr th {\n",
              "        vertical-align: top;\n",
              "    }\n",
              "\n",
              "    .dataframe thead th {\n",
              "        text-align: right;\n",
              "    }\n",
              "</style>\n",
              "<table border=\"1\" class=\"dataframe\">\n",
              "  <thead>\n",
              "    <tr style=\"text-align: right;\">\n",
              "      <th></th>\n",
              "      <th>Celsius</th>\n",
              "      <th>Fahrenheit</th>\n",
              "    </tr>\n",
              "  </thead>\n",
              "  <tbody>\n",
              "    <tr>\n",
              "      <th>0</th>\n",
              "      <td>-50</td>\n",
              "      <td>-58.0</td>\n",
              "    </tr>\n",
              "    <tr>\n",
              "      <th>1</th>\n",
              "      <td>-40</td>\n",
              "      <td>-40.0</td>\n",
              "    </tr>\n",
              "    <tr>\n",
              "      <th>2</th>\n",
              "      <td>-30</td>\n",
              "      <td>-22.0</td>\n",
              "    </tr>\n",
              "    <tr>\n",
              "      <th>3</th>\n",
              "      <td>-20</td>\n",
              "      <td>-4.0</td>\n",
              "    </tr>\n",
              "    <tr>\n",
              "      <th>4</th>\n",
              "      <td>-10</td>\n",
              "      <td>14.0</td>\n",
              "    </tr>\n",
              "    <tr>\n",
              "      <th>5</th>\n",
              "      <td>-9</td>\n",
              "      <td>15.8</td>\n",
              "    </tr>\n",
              "    <tr>\n",
              "      <th>6</th>\n",
              "      <td>-8</td>\n",
              "      <td>17.6</td>\n",
              "    </tr>\n",
              "    <tr>\n",
              "      <th>7</th>\n",
              "      <td>-7</td>\n",
              "      <td>19.4</td>\n",
              "    </tr>\n",
              "    <tr>\n",
              "      <th>8</th>\n",
              "      <td>-6</td>\n",
              "      <td>21.2</td>\n",
              "    </tr>\n",
              "    <tr>\n",
              "      <th>9</th>\n",
              "      <td>-5</td>\n",
              "      <td>23.0</td>\n",
              "    </tr>\n",
              "    <tr>\n",
              "      <th>10</th>\n",
              "      <td>-4</td>\n",
              "      <td>24.8</td>\n",
              "    </tr>\n",
              "    <tr>\n",
              "      <th>11</th>\n",
              "      <td>-3</td>\n",
              "      <td>26.6</td>\n",
              "    </tr>\n",
              "    <tr>\n",
              "      <th>12</th>\n",
              "      <td>-2</td>\n",
              "      <td>28.4</td>\n",
              "    </tr>\n",
              "    <tr>\n",
              "      <th>13</th>\n",
              "      <td>-1</td>\n",
              "      <td>30.2</td>\n",
              "    </tr>\n",
              "    <tr>\n",
              "      <th>14</th>\n",
              "      <td>0</td>\n",
              "      <td>32.0</td>\n",
              "    </tr>\n",
              "    <tr>\n",
              "      <th>15</th>\n",
              "      <td>1</td>\n",
              "      <td>33.8</td>\n",
              "    </tr>\n",
              "    <tr>\n",
              "      <th>16</th>\n",
              "      <td>2</td>\n",
              "      <td>35.6</td>\n",
              "    </tr>\n",
              "    <tr>\n",
              "      <th>17</th>\n",
              "      <td>3</td>\n",
              "      <td>37.4</td>\n",
              "    </tr>\n",
              "    <tr>\n",
              "      <th>18</th>\n",
              "      <td>4</td>\n",
              "      <td>39.2</td>\n",
              "    </tr>\n",
              "    <tr>\n",
              "      <th>19</th>\n",
              "      <td>5</td>\n",
              "      <td>41.0</td>\n",
              "    </tr>\n",
              "    <tr>\n",
              "      <th>20</th>\n",
              "      <td>6</td>\n",
              "      <td>42.8</td>\n",
              "    </tr>\n",
              "    <tr>\n",
              "      <th>21</th>\n",
              "      <td>7</td>\n",
              "      <td>44.6</td>\n",
              "    </tr>\n",
              "    <tr>\n",
              "      <th>22</th>\n",
              "      <td>8</td>\n",
              "      <td>46.4</td>\n",
              "    </tr>\n",
              "    <tr>\n",
              "      <th>23</th>\n",
              "      <td>9</td>\n",
              "      <td>48.2</td>\n",
              "    </tr>\n",
              "    <tr>\n",
              "      <th>24</th>\n",
              "      <td>10</td>\n",
              "      <td>50.0</td>\n",
              "    </tr>\n",
              "    <tr>\n",
              "      <th>25</th>\n",
              "      <td>20</td>\n",
              "      <td>68.0</td>\n",
              "    </tr>\n",
              "    <tr>\n",
              "      <th>26</th>\n",
              "      <td>30</td>\n",
              "      <td>86.0</td>\n",
              "    </tr>\n",
              "    <tr>\n",
              "      <th>27</th>\n",
              "      <td>40</td>\n",
              "      <td>104.0</td>\n",
              "    </tr>\n",
              "    <tr>\n",
              "      <th>28</th>\n",
              "      <td>50</td>\n",
              "      <td>122.0</td>\n",
              "    </tr>\n",
              "    <tr>\n",
              "      <th>29</th>\n",
              "      <td>60</td>\n",
              "      <td>140.0</td>\n",
              "    </tr>\n",
              "  </tbody>\n",
              "</table>\n",
              "</div>\n",
              "      <button class=\"colab-df-convert\" onclick=\"convertToInteractive('df-4aa97107-1109-4733-af44-5f5408996ad9')\"\n",
              "              title=\"Convert this dataframe to an interactive table.\"\n",
              "              style=\"display:none;\">\n",
              "        \n",
              "  <svg xmlns=\"http://www.w3.org/2000/svg\" height=\"24px\"viewBox=\"0 0 24 24\"\n",
              "       width=\"24px\">\n",
              "    <path d=\"M0 0h24v24H0V0z\" fill=\"none\"/>\n",
              "    <path d=\"M18.56 5.44l.94 2.06.94-2.06 2.06-.94-2.06-.94-.94-2.06-.94 2.06-2.06.94zm-11 1L8.5 8.5l.94-2.06 2.06-.94-2.06-.94L8.5 2.5l-.94 2.06-2.06.94zm10 10l.94 2.06.94-2.06 2.06-.94-2.06-.94-.94-2.06-.94 2.06-2.06.94z\"/><path d=\"M17.41 7.96l-1.37-1.37c-.4-.4-.92-.59-1.43-.59-.52 0-1.04.2-1.43.59L10.3 9.45l-7.72 7.72c-.78.78-.78 2.05 0 2.83L4 21.41c.39.39.9.59 1.41.59.51 0 1.02-.2 1.41-.59l7.78-7.78 2.81-2.81c.8-.78.8-2.07 0-2.86zM5.41 20L4 18.59l7.72-7.72 1.47 1.35L5.41 20z\"/>\n",
              "  </svg>\n",
              "      </button>\n",
              "      \n",
              "  <style>\n",
              "    .colab-df-container {\n",
              "      display:flex;\n",
              "      flex-wrap:wrap;\n",
              "      gap: 12px;\n",
              "    }\n",
              "\n",
              "    .colab-df-convert {\n",
              "      background-color: #E8F0FE;\n",
              "      border: none;\n",
              "      border-radius: 50%;\n",
              "      cursor: pointer;\n",
              "      display: none;\n",
              "      fill: #1967D2;\n",
              "      height: 32px;\n",
              "      padding: 0 0 0 0;\n",
              "      width: 32px;\n",
              "    }\n",
              "\n",
              "    .colab-df-convert:hover {\n",
              "      background-color: #E2EBFA;\n",
              "      box-shadow: 0px 1px 2px rgba(60, 64, 67, 0.3), 0px 1px 3px 1px rgba(60, 64, 67, 0.15);\n",
              "      fill: #174EA6;\n",
              "    }\n",
              "\n",
              "    [theme=dark] .colab-df-convert {\n",
              "      background-color: #3B4455;\n",
              "      fill: #D2E3FC;\n",
              "    }\n",
              "\n",
              "    [theme=dark] .colab-df-convert:hover {\n",
              "      background-color: #434B5C;\n",
              "      box-shadow: 0px 1px 3px 1px rgba(0, 0, 0, 0.15);\n",
              "      filter: drop-shadow(0px 1px 2px rgba(0, 0, 0, 0.3));\n",
              "      fill: #FFFFFF;\n",
              "    }\n",
              "  </style>\n",
              "\n",
              "      <script>\n",
              "        const buttonEl =\n",
              "          document.querySelector('#df-4aa97107-1109-4733-af44-5f5408996ad9 button.colab-df-convert');\n",
              "        buttonEl.style.display =\n",
              "          google.colab.kernel.accessAllowed ? 'block' : 'none';\n",
              "\n",
              "        async function convertToInteractive(key) {\n",
              "          const element = document.querySelector('#df-4aa97107-1109-4733-af44-5f5408996ad9');\n",
              "          const dataTable =\n",
              "            await google.colab.kernel.invokeFunction('convertToInteractive',\n",
              "                                                     [key], {});\n",
              "          if (!dataTable) return;\n",
              "\n",
              "          const docLinkHtml = 'Like what you see? Visit the ' +\n",
              "            '<a target=\"_blank\" href=https://colab.research.google.com/notebooks/data_table.ipynb>data table notebook</a>'\n",
              "            + ' to learn more about interactive tables.';\n",
              "          element.innerHTML = '';\n",
              "          dataTable['output_type'] = 'display_data';\n",
              "          await google.colab.output.renderOutput(dataTable, element);\n",
              "          const docLink = document.createElement('div');\n",
              "          docLink.innerHTML = docLinkHtml;\n",
              "          element.appendChild(docLink);\n",
              "        }\n",
              "      </script>\n",
              "    </div>\n",
              "  </div>\n",
              "  "
            ]
          },
          "metadata": {},
          "execution_count": 131
        }
      ]
    },
    {
      "cell_type": "code",
      "source": [
        "temperature_df.head()"
      ],
      "metadata": {
        "colab": {
          "base_uri": "https://localhost:8080/",
          "height": 206
        },
        "id": "rzIB72F8vLUl",
        "outputId": "6e5835ec-32b4-4bf9-8d37-d120e4b2d23d"
      },
      "execution_count": 132,
      "outputs": [
        {
          "output_type": "execute_result",
          "data": {
            "text/plain": [
              "   Celsius  Fahrenheit\n",
              "0      -50       -58.0\n",
              "1      -40       -40.0\n",
              "2      -30       -22.0\n",
              "3      -20        -4.0\n",
              "4      -10        14.0"
            ],
            "text/html": [
              "\n",
              "  <div id=\"df-c0e97f1d-2a96-42c1-8c1c-3518539143ca\">\n",
              "    <div class=\"colab-df-container\">\n",
              "      <div>\n",
              "<style scoped>\n",
              "    .dataframe tbody tr th:only-of-type {\n",
              "        vertical-align: middle;\n",
              "    }\n",
              "\n",
              "    .dataframe tbody tr th {\n",
              "        vertical-align: top;\n",
              "    }\n",
              "\n",
              "    .dataframe thead th {\n",
              "        text-align: right;\n",
              "    }\n",
              "</style>\n",
              "<table border=\"1\" class=\"dataframe\">\n",
              "  <thead>\n",
              "    <tr style=\"text-align: right;\">\n",
              "      <th></th>\n",
              "      <th>Celsius</th>\n",
              "      <th>Fahrenheit</th>\n",
              "    </tr>\n",
              "  </thead>\n",
              "  <tbody>\n",
              "    <tr>\n",
              "      <th>0</th>\n",
              "      <td>-50</td>\n",
              "      <td>-58.0</td>\n",
              "    </tr>\n",
              "    <tr>\n",
              "      <th>1</th>\n",
              "      <td>-40</td>\n",
              "      <td>-40.0</td>\n",
              "    </tr>\n",
              "    <tr>\n",
              "      <th>2</th>\n",
              "      <td>-30</td>\n",
              "      <td>-22.0</td>\n",
              "    </tr>\n",
              "    <tr>\n",
              "      <th>3</th>\n",
              "      <td>-20</td>\n",
              "      <td>-4.0</td>\n",
              "    </tr>\n",
              "    <tr>\n",
              "      <th>4</th>\n",
              "      <td>-10</td>\n",
              "      <td>14.0</td>\n",
              "    </tr>\n",
              "  </tbody>\n",
              "</table>\n",
              "</div>\n",
              "      <button class=\"colab-df-convert\" onclick=\"convertToInteractive('df-c0e97f1d-2a96-42c1-8c1c-3518539143ca')\"\n",
              "              title=\"Convert this dataframe to an interactive table.\"\n",
              "              style=\"display:none;\">\n",
              "        \n",
              "  <svg xmlns=\"http://www.w3.org/2000/svg\" height=\"24px\"viewBox=\"0 0 24 24\"\n",
              "       width=\"24px\">\n",
              "    <path d=\"M0 0h24v24H0V0z\" fill=\"none\"/>\n",
              "    <path d=\"M18.56 5.44l.94 2.06.94-2.06 2.06-.94-2.06-.94-.94-2.06-.94 2.06-2.06.94zm-11 1L8.5 8.5l.94-2.06 2.06-.94-2.06-.94L8.5 2.5l-.94 2.06-2.06.94zm10 10l.94 2.06.94-2.06 2.06-.94-2.06-.94-.94-2.06-.94 2.06-2.06.94z\"/><path d=\"M17.41 7.96l-1.37-1.37c-.4-.4-.92-.59-1.43-.59-.52 0-1.04.2-1.43.59L10.3 9.45l-7.72 7.72c-.78.78-.78 2.05 0 2.83L4 21.41c.39.39.9.59 1.41.59.51 0 1.02-.2 1.41-.59l7.78-7.78 2.81-2.81c.8-.78.8-2.07 0-2.86zM5.41 20L4 18.59l7.72-7.72 1.47 1.35L5.41 20z\"/>\n",
              "  </svg>\n",
              "      </button>\n",
              "      \n",
              "  <style>\n",
              "    .colab-df-container {\n",
              "      display:flex;\n",
              "      flex-wrap:wrap;\n",
              "      gap: 12px;\n",
              "    }\n",
              "\n",
              "    .colab-df-convert {\n",
              "      background-color: #E8F0FE;\n",
              "      border: none;\n",
              "      border-radius: 50%;\n",
              "      cursor: pointer;\n",
              "      display: none;\n",
              "      fill: #1967D2;\n",
              "      height: 32px;\n",
              "      padding: 0 0 0 0;\n",
              "      width: 32px;\n",
              "    }\n",
              "\n",
              "    .colab-df-convert:hover {\n",
              "      background-color: #E2EBFA;\n",
              "      box-shadow: 0px 1px 2px rgba(60, 64, 67, 0.3), 0px 1px 3px 1px rgba(60, 64, 67, 0.15);\n",
              "      fill: #174EA6;\n",
              "    }\n",
              "\n",
              "    [theme=dark] .colab-df-convert {\n",
              "      background-color: #3B4455;\n",
              "      fill: #D2E3FC;\n",
              "    }\n",
              "\n",
              "    [theme=dark] .colab-df-convert:hover {\n",
              "      background-color: #434B5C;\n",
              "      box-shadow: 0px 1px 3px 1px rgba(0, 0, 0, 0.15);\n",
              "      filter: drop-shadow(0px 1px 2px rgba(0, 0, 0, 0.3));\n",
              "      fill: #FFFFFF;\n",
              "    }\n",
              "  </style>\n",
              "\n",
              "      <script>\n",
              "        const buttonEl =\n",
              "          document.querySelector('#df-c0e97f1d-2a96-42c1-8c1c-3518539143ca button.colab-df-convert');\n",
              "        buttonEl.style.display =\n",
              "          google.colab.kernel.accessAllowed ? 'block' : 'none';\n",
              "\n",
              "        async function convertToInteractive(key) {\n",
              "          const element = document.querySelector('#df-c0e97f1d-2a96-42c1-8c1c-3518539143ca');\n",
              "          const dataTable =\n",
              "            await google.colab.kernel.invokeFunction('convertToInteractive',\n",
              "                                                     [key], {});\n",
              "          if (!dataTable) return;\n",
              "\n",
              "          const docLinkHtml = 'Like what you see? Visit the ' +\n",
              "            '<a target=\"_blank\" href=https://colab.research.google.com/notebooks/data_table.ipynb>data table notebook</a>'\n",
              "            + ' to learn more about interactive tables.';\n",
              "          element.innerHTML = '';\n",
              "          dataTable['output_type'] = 'display_data';\n",
              "          await google.colab.output.renderOutput(dataTable, element);\n",
              "          const docLink = document.createElement('div');\n",
              "          docLink.innerHTML = docLinkHtml;\n",
              "          element.appendChild(docLink);\n",
              "        }\n",
              "      </script>\n",
              "    </div>\n",
              "  </div>\n",
              "  "
            ]
          },
          "metadata": {},
          "execution_count": 132
        }
      ]
    },
    {
      "cell_type": "code",
      "source": [
        "temperature_df.tail(10)"
      ],
      "metadata": {
        "colab": {
          "base_uri": "https://localhost:8080/",
          "height": 363
        },
        "id": "_mFuSNS2vNPh",
        "outputId": "4fb979c7-02c6-46fd-fde3-df89273f619d"
      },
      "execution_count": 133,
      "outputs": [
        {
          "output_type": "execute_result",
          "data": {
            "text/plain": [
              "    Celsius  Fahrenheit\n",
              "20        6        42.8\n",
              "21        7        44.6\n",
              "22        8        46.4\n",
              "23        9        48.2\n",
              "24       10        50.0\n",
              "25       20        68.0\n",
              "26       30        86.0\n",
              "27       40       104.0\n",
              "28       50       122.0\n",
              "29       60       140.0"
            ],
            "text/html": [
              "\n",
              "  <div id=\"df-ac8e2898-13eb-4806-9410-07a350c3b63b\">\n",
              "    <div class=\"colab-df-container\">\n",
              "      <div>\n",
              "<style scoped>\n",
              "    .dataframe tbody tr th:only-of-type {\n",
              "        vertical-align: middle;\n",
              "    }\n",
              "\n",
              "    .dataframe tbody tr th {\n",
              "        vertical-align: top;\n",
              "    }\n",
              "\n",
              "    .dataframe thead th {\n",
              "        text-align: right;\n",
              "    }\n",
              "</style>\n",
              "<table border=\"1\" class=\"dataframe\">\n",
              "  <thead>\n",
              "    <tr style=\"text-align: right;\">\n",
              "      <th></th>\n",
              "      <th>Celsius</th>\n",
              "      <th>Fahrenheit</th>\n",
              "    </tr>\n",
              "  </thead>\n",
              "  <tbody>\n",
              "    <tr>\n",
              "      <th>20</th>\n",
              "      <td>6</td>\n",
              "      <td>42.8</td>\n",
              "    </tr>\n",
              "    <tr>\n",
              "      <th>21</th>\n",
              "      <td>7</td>\n",
              "      <td>44.6</td>\n",
              "    </tr>\n",
              "    <tr>\n",
              "      <th>22</th>\n",
              "      <td>8</td>\n",
              "      <td>46.4</td>\n",
              "    </tr>\n",
              "    <tr>\n",
              "      <th>23</th>\n",
              "      <td>9</td>\n",
              "      <td>48.2</td>\n",
              "    </tr>\n",
              "    <tr>\n",
              "      <th>24</th>\n",
              "      <td>10</td>\n",
              "      <td>50.0</td>\n",
              "    </tr>\n",
              "    <tr>\n",
              "      <th>25</th>\n",
              "      <td>20</td>\n",
              "      <td>68.0</td>\n",
              "    </tr>\n",
              "    <tr>\n",
              "      <th>26</th>\n",
              "      <td>30</td>\n",
              "      <td>86.0</td>\n",
              "    </tr>\n",
              "    <tr>\n",
              "      <th>27</th>\n",
              "      <td>40</td>\n",
              "      <td>104.0</td>\n",
              "    </tr>\n",
              "    <tr>\n",
              "      <th>28</th>\n",
              "      <td>50</td>\n",
              "      <td>122.0</td>\n",
              "    </tr>\n",
              "    <tr>\n",
              "      <th>29</th>\n",
              "      <td>60</td>\n",
              "      <td>140.0</td>\n",
              "    </tr>\n",
              "  </tbody>\n",
              "</table>\n",
              "</div>\n",
              "      <button class=\"colab-df-convert\" onclick=\"convertToInteractive('df-ac8e2898-13eb-4806-9410-07a350c3b63b')\"\n",
              "              title=\"Convert this dataframe to an interactive table.\"\n",
              "              style=\"display:none;\">\n",
              "        \n",
              "  <svg xmlns=\"http://www.w3.org/2000/svg\" height=\"24px\"viewBox=\"0 0 24 24\"\n",
              "       width=\"24px\">\n",
              "    <path d=\"M0 0h24v24H0V0z\" fill=\"none\"/>\n",
              "    <path d=\"M18.56 5.44l.94 2.06.94-2.06 2.06-.94-2.06-.94-.94-2.06-.94 2.06-2.06.94zm-11 1L8.5 8.5l.94-2.06 2.06-.94-2.06-.94L8.5 2.5l-.94 2.06-2.06.94zm10 10l.94 2.06.94-2.06 2.06-.94-2.06-.94-.94-2.06-.94 2.06-2.06.94z\"/><path d=\"M17.41 7.96l-1.37-1.37c-.4-.4-.92-.59-1.43-.59-.52 0-1.04.2-1.43.59L10.3 9.45l-7.72 7.72c-.78.78-.78 2.05 0 2.83L4 21.41c.39.39.9.59 1.41.59.51 0 1.02-.2 1.41-.59l7.78-7.78 2.81-2.81c.8-.78.8-2.07 0-2.86zM5.41 20L4 18.59l7.72-7.72 1.47 1.35L5.41 20z\"/>\n",
              "  </svg>\n",
              "      </button>\n",
              "      \n",
              "  <style>\n",
              "    .colab-df-container {\n",
              "      display:flex;\n",
              "      flex-wrap:wrap;\n",
              "      gap: 12px;\n",
              "    }\n",
              "\n",
              "    .colab-df-convert {\n",
              "      background-color: #E8F0FE;\n",
              "      border: none;\n",
              "      border-radius: 50%;\n",
              "      cursor: pointer;\n",
              "      display: none;\n",
              "      fill: #1967D2;\n",
              "      height: 32px;\n",
              "      padding: 0 0 0 0;\n",
              "      width: 32px;\n",
              "    }\n",
              "\n",
              "    .colab-df-convert:hover {\n",
              "      background-color: #E2EBFA;\n",
              "      box-shadow: 0px 1px 2px rgba(60, 64, 67, 0.3), 0px 1px 3px 1px rgba(60, 64, 67, 0.15);\n",
              "      fill: #174EA6;\n",
              "    }\n",
              "\n",
              "    [theme=dark] .colab-df-convert {\n",
              "      background-color: #3B4455;\n",
              "      fill: #D2E3FC;\n",
              "    }\n",
              "\n",
              "    [theme=dark] .colab-df-convert:hover {\n",
              "      background-color: #434B5C;\n",
              "      box-shadow: 0px 1px 3px 1px rgba(0, 0, 0, 0.15);\n",
              "      filter: drop-shadow(0px 1px 2px rgba(0, 0, 0, 0.3));\n",
              "      fill: #FFFFFF;\n",
              "    }\n",
              "  </style>\n",
              "\n",
              "      <script>\n",
              "        const buttonEl =\n",
              "          document.querySelector('#df-ac8e2898-13eb-4806-9410-07a350c3b63b button.colab-df-convert');\n",
              "        buttonEl.style.display =\n",
              "          google.colab.kernel.accessAllowed ? 'block' : 'none';\n",
              "\n",
              "        async function convertToInteractive(key) {\n",
              "          const element = document.querySelector('#df-ac8e2898-13eb-4806-9410-07a350c3b63b');\n",
              "          const dataTable =\n",
              "            await google.colab.kernel.invokeFunction('convertToInteractive',\n",
              "                                                     [key], {});\n",
              "          if (!dataTable) return;\n",
              "\n",
              "          const docLinkHtml = 'Like what you see? Visit the ' +\n",
              "            '<a target=\"_blank\" href=https://colab.research.google.com/notebooks/data_table.ipynb>data table notebook</a>'\n",
              "            + ' to learn more about interactive tables.';\n",
              "          element.innerHTML = '';\n",
              "          dataTable['output_type'] = 'display_data';\n",
              "          await google.colab.output.renderOutput(dataTable, element);\n",
              "          const docLink = document.createElement('div');\n",
              "          docLink.innerHTML = docLinkHtml;\n",
              "          element.appendChild(docLink);\n",
              "        }\n",
              "      </script>\n",
              "    </div>\n",
              "  </div>\n",
              "  "
            ]
          },
          "metadata": {},
          "execution_count": 133
        }
      ]
    },
    {
      "cell_type": "markdown",
      "source": [
        "Celsius está em formato int64\n",
        "Fahrenheint está no formato float64\n",
        "Temos 30 dados de cada tipo e não temos dados Nulos (non-null)"
      ],
      "metadata": {
        "id": "_Qd6cvH9v_5X"
      }
    },
    {
      "cell_type": "code",
      "source": [
        "temperature_df.info()"
      ],
      "metadata": {
        "colab": {
          "base_uri": "https://localhost:8080/"
        },
        "id": "GbAIwFiLvQNx",
        "outputId": "b00fd31a-2079-475b-9091-7c679dd309b7"
      },
      "execution_count": 134,
      "outputs": [
        {
          "output_type": "stream",
          "name": "stdout",
          "text": [
            "<class 'pandas.core.frame.DataFrame'>\n",
            "RangeIndex: 30 entries, 0 to 29\n",
            "Data columns (total 2 columns):\n",
            " #   Column      Non-Null Count  Dtype  \n",
            "---  ------      --------------  -----  \n",
            " 0   Celsius     30 non-null     int64  \n",
            " 1   Fahrenheit  30 non-null     float64\n",
            "dtypes: float64(1), int64(1)\n",
            "memory usage: 608.0 bytes\n"
          ]
        }
      ]
    },
    {
      "cell_type": "markdown",
      "source": [
        "Descrição dos dados"
      ],
      "metadata": {
        "id": "C_VdPhjYwS43"
      }
    },
    {
      "cell_type": "code",
      "source": [
        "temperature_df.describe()"
      ],
      "metadata": {
        "colab": {
          "base_uri": "https://localhost:8080/",
          "height": 300
        },
        "id": "B-EDnRc5wWKP",
        "outputId": "fb4d9076-40bc-4431-fff5-5acc7d2b1cb2"
      },
      "execution_count": 135,
      "outputs": [
        {
          "output_type": "execute_result",
          "data": {
            "text/plain": [
              "         Celsius  Fahrenheit\n",
              "count  30.000000   30.000000\n",
              "mean    2.000000   35.600000\n",
              "std    22.780815   41.005466\n",
              "min   -50.000000  -58.000000\n",
              "25%    -6.750000   19.850000\n",
              "50%     0.500000   32.900000\n",
              "75%     7.750000   45.950000\n",
              "max    60.000000  140.000000"
            ],
            "text/html": [
              "\n",
              "  <div id=\"df-2abb7d90-b81e-46cf-a5bb-bd82b9e5d34a\">\n",
              "    <div class=\"colab-df-container\">\n",
              "      <div>\n",
              "<style scoped>\n",
              "    .dataframe tbody tr th:only-of-type {\n",
              "        vertical-align: middle;\n",
              "    }\n",
              "\n",
              "    .dataframe tbody tr th {\n",
              "        vertical-align: top;\n",
              "    }\n",
              "\n",
              "    .dataframe thead th {\n",
              "        text-align: right;\n",
              "    }\n",
              "</style>\n",
              "<table border=\"1\" class=\"dataframe\">\n",
              "  <thead>\n",
              "    <tr style=\"text-align: right;\">\n",
              "      <th></th>\n",
              "      <th>Celsius</th>\n",
              "      <th>Fahrenheit</th>\n",
              "    </tr>\n",
              "  </thead>\n",
              "  <tbody>\n",
              "    <tr>\n",
              "      <th>count</th>\n",
              "      <td>30.000000</td>\n",
              "      <td>30.000000</td>\n",
              "    </tr>\n",
              "    <tr>\n",
              "      <th>mean</th>\n",
              "      <td>2.000000</td>\n",
              "      <td>35.600000</td>\n",
              "    </tr>\n",
              "    <tr>\n",
              "      <th>std</th>\n",
              "      <td>22.780815</td>\n",
              "      <td>41.005466</td>\n",
              "    </tr>\n",
              "    <tr>\n",
              "      <th>min</th>\n",
              "      <td>-50.000000</td>\n",
              "      <td>-58.000000</td>\n",
              "    </tr>\n",
              "    <tr>\n",
              "      <th>25%</th>\n",
              "      <td>-6.750000</td>\n",
              "      <td>19.850000</td>\n",
              "    </tr>\n",
              "    <tr>\n",
              "      <th>50%</th>\n",
              "      <td>0.500000</td>\n",
              "      <td>32.900000</td>\n",
              "    </tr>\n",
              "    <tr>\n",
              "      <th>75%</th>\n",
              "      <td>7.750000</td>\n",
              "      <td>45.950000</td>\n",
              "    </tr>\n",
              "    <tr>\n",
              "      <th>max</th>\n",
              "      <td>60.000000</td>\n",
              "      <td>140.000000</td>\n",
              "    </tr>\n",
              "  </tbody>\n",
              "</table>\n",
              "</div>\n",
              "      <button class=\"colab-df-convert\" onclick=\"convertToInteractive('df-2abb7d90-b81e-46cf-a5bb-bd82b9e5d34a')\"\n",
              "              title=\"Convert this dataframe to an interactive table.\"\n",
              "              style=\"display:none;\">\n",
              "        \n",
              "  <svg xmlns=\"http://www.w3.org/2000/svg\" height=\"24px\"viewBox=\"0 0 24 24\"\n",
              "       width=\"24px\">\n",
              "    <path d=\"M0 0h24v24H0V0z\" fill=\"none\"/>\n",
              "    <path d=\"M18.56 5.44l.94 2.06.94-2.06 2.06-.94-2.06-.94-.94-2.06-.94 2.06-2.06.94zm-11 1L8.5 8.5l.94-2.06 2.06-.94-2.06-.94L8.5 2.5l-.94 2.06-2.06.94zm10 10l.94 2.06.94-2.06 2.06-.94-2.06-.94-.94-2.06-.94 2.06-2.06.94z\"/><path d=\"M17.41 7.96l-1.37-1.37c-.4-.4-.92-.59-1.43-.59-.52 0-1.04.2-1.43.59L10.3 9.45l-7.72 7.72c-.78.78-.78 2.05 0 2.83L4 21.41c.39.39.9.59 1.41.59.51 0 1.02-.2 1.41-.59l7.78-7.78 2.81-2.81c.8-.78.8-2.07 0-2.86zM5.41 20L4 18.59l7.72-7.72 1.47 1.35L5.41 20z\"/>\n",
              "  </svg>\n",
              "      </button>\n",
              "      \n",
              "  <style>\n",
              "    .colab-df-container {\n",
              "      display:flex;\n",
              "      flex-wrap:wrap;\n",
              "      gap: 12px;\n",
              "    }\n",
              "\n",
              "    .colab-df-convert {\n",
              "      background-color: #E8F0FE;\n",
              "      border: none;\n",
              "      border-radius: 50%;\n",
              "      cursor: pointer;\n",
              "      display: none;\n",
              "      fill: #1967D2;\n",
              "      height: 32px;\n",
              "      padding: 0 0 0 0;\n",
              "      width: 32px;\n",
              "    }\n",
              "\n",
              "    .colab-df-convert:hover {\n",
              "      background-color: #E2EBFA;\n",
              "      box-shadow: 0px 1px 2px rgba(60, 64, 67, 0.3), 0px 1px 3px 1px rgba(60, 64, 67, 0.15);\n",
              "      fill: #174EA6;\n",
              "    }\n",
              "\n",
              "    [theme=dark] .colab-df-convert {\n",
              "      background-color: #3B4455;\n",
              "      fill: #D2E3FC;\n",
              "    }\n",
              "\n",
              "    [theme=dark] .colab-df-convert:hover {\n",
              "      background-color: #434B5C;\n",
              "      box-shadow: 0px 1px 3px 1px rgba(0, 0, 0, 0.15);\n",
              "      filter: drop-shadow(0px 1px 2px rgba(0, 0, 0, 0.3));\n",
              "      fill: #FFFFFF;\n",
              "    }\n",
              "  </style>\n",
              "\n",
              "      <script>\n",
              "        const buttonEl =\n",
              "          document.querySelector('#df-2abb7d90-b81e-46cf-a5bb-bd82b9e5d34a button.colab-df-convert');\n",
              "        buttonEl.style.display =\n",
              "          google.colab.kernel.accessAllowed ? 'block' : 'none';\n",
              "\n",
              "        async function convertToInteractive(key) {\n",
              "          const element = document.querySelector('#df-2abb7d90-b81e-46cf-a5bb-bd82b9e5d34a');\n",
              "          const dataTable =\n",
              "            await google.colab.kernel.invokeFunction('convertToInteractive',\n",
              "                                                     [key], {});\n",
              "          if (!dataTable) return;\n",
              "\n",
              "          const docLinkHtml = 'Like what you see? Visit the ' +\n",
              "            '<a target=\"_blank\" href=https://colab.research.google.com/notebooks/data_table.ipynb>data table notebook</a>'\n",
              "            + ' to learn more about interactive tables.';\n",
              "          element.innerHTML = '';\n",
              "          dataTable['output_type'] = 'display_data';\n",
              "          await google.colab.output.renderOutput(dataTable, element);\n",
              "          const docLink = document.createElement('div');\n",
              "          docLink.innerHTML = docLinkHtml;\n",
              "          element.appendChild(docLink);\n",
              "        }\n",
              "      </script>\n",
              "    </div>\n",
              "  </div>\n",
              "  "
            ]
          },
          "metadata": {},
          "execution_count": 135
        }
      ]
    },
    {
      "cell_type": "markdown",
      "source": [
        "Etapa 3: Vizualização da base de dados"
      ],
      "metadata": {
        "id": "m-Zm0ykovUTQ"
      }
    },
    {
      "cell_type": "code",
      "source": [
        "#sns.scatterplot(temperature_df['Celsius'], temperature_df['Fahrenheit']); atualizado 18/01/2021\n",
        "sns.scatterplot(x=temperature_df['Celsius'], y=temperature_df['Fahrenheit']); # se inserir esse ';' no final o cabeçalho desaparece (try)"
      ],
      "metadata": {
        "colab": {
          "base_uri": "https://localhost:8080/",
          "height": 449
        },
        "id": "PG79gEFpvW2y",
        "outputId": "fd86cf96-952a-4daa-ce47-2128537b3fa1"
      },
      "execution_count": 136,
      "outputs": [
        {
          "output_type": "display_data",
          "data": {
            "text/plain": [
              "<Figure size 640x480 with 1 Axes>"
            ],
            "image/png": "[encoded data removed]"
          },
          "metadata": {}
        }
      ]
    },
    {
      "cell_type": "markdown",
      "source": [
        "Etapa 4: Configuração da base de dados de treinamento"
      ],
      "metadata": {
        "id": "8Og7FeTMvp7V"
      }
    },
    {
      "cell_type": "markdown",
      "source": [
        "Criando as variáveis para treino"
      ],
      "metadata": {
        "id": "pXH_WGHpw0Zu"
      }
    },
    {
      "cell_type": "code",
      "source": [
        "X_train = temperature_df['Celsius']\n",
        "y_train = temperature_df['Fahrenheit']"
      ],
      "metadata": {
        "id": "iLkdFwtTvyTw"
      },
      "execution_count": 137,
      "outputs": []
    },
    {
      "cell_type": "markdown",
      "source": [
        "Mostrando a quantidade de dados inseridos em cada variávels,\n",
        "para termos certeza que os dados foram inseridos corretamente"
      ],
      "metadata": {
        "id": "IZbvmOjiw3cQ"
      }
    },
    {
      "cell_type": "code",
      "source": [
        "X_train.shape"
      ],
      "metadata": {
        "colab": {
          "base_uri": "https://localhost:8080/"
        },
        "id": "_r5L8xwdxDmV",
        "outputId": "f0e80981-1eb7-4811-f2a4-92140844e625"
      },
      "execution_count": 138,
      "outputs": [
        {
          "output_type": "execute_result",
          "data": {
            "text/plain": [
              "(30,)"
            ]
          },
          "metadata": {},
          "execution_count": 138
        }
      ]
    },
    {
      "cell_type": "code",
      "source": [
        "y_train.shape"
      ],
      "metadata": {
        "colab": {
          "base_uri": "https://localhost:8080/"
        },
        "id": "-AEp0_m-v1A4",
        "outputId": "4a34dcb0-0b09-4995-93a4-b422d73da02f"
      },
      "execution_count": 139,
      "outputs": [
        {
          "output_type": "execute_result",
          "data": {
            "text/plain": [
              "(30,)"
            ]
          },
          "metadata": {},
          "execution_count": 139
        }
      ]
    },
    {
      "cell_type": "markdown",
      "source": [
        "Etapa 5: Construção e treinamento do modelo"
      ],
      "metadata": {
        "id": "LJZPMRSjwnne"
      }
    },
    {
      "cell_type": "markdown",
      "source": [
        "Construindo as camdas com a biblioteca keras"
      ],
      "metadata": {
        "id": "99IWoQkkxUvL"
      }
    },
    {
      "cell_type": "code",
      "source": [
        "model = tf.keras.Sequential() # Criando sequencia de camadas\n",
        "model.add(tf.keras.layers.Dense(units = 1, input_shape = [1])) # 1 entrada e 1 saída com redes ligadas\n",
        "model.summary()"
      ],
      "metadata": {
        "colab": {
          "base_uri": "https://localhost:8080/"
        },
        "id": "WRd_emQyworY",
        "outputId": "5f1f3dbf-8df6-4fc8-9182-67ae9d9c6a2a"
      },
      "execution_count": 140,
      "outputs": [
        {
          "output_type": "stream",
          "name": "stdout",
          "text": [
            "Model: \"sequential_1\"\n",
            "_________________________________________________________________\n",
            " Layer (type)                Output Shape              Param #   \n",
            "=================================================================\n",
            " dense_1 (Dense)             (None, 1)                 2         \n",
            "                                                                 \n",
            "=================================================================\n",
            "Total params: 2\n",
            "Trainable params: 2\n",
            "Non-trainable params: 0\n",
            "_________________________________________________________________\n"
          ]
        }
      ]
    },
    {
      "cell_type": "markdown",
      "source": [
        "Compilando o modelo para treino com o algoritmo Adam , com learningRate=0.1 (quanto menor o learningRate menor as tentaivas serão dispersas, ou seja, menor variânica), utilizando\n",
        "a função loss= Mean Square Error"
      ],
      "metadata": {
        "id": "gZNszXbOxxyo"
      }
    },
    {
      "cell_type": "code",
      "source": [
        "model.compile(optimizer=tf.keras.optimizers.Adam(0.1), loss = 'mean_squared_error')"
      ],
      "metadata": {
        "id": "nhNXSBTXx1ij"
      },
      "execution_count": 148,
      "outputs": []
    },
    {
      "cell_type": "markdown",
      "source": [
        "Montando o algoritmo de treino EPOCAS de treinamento\n",
        "(Execute 2 vezes o treinamento para ele chegar no fit correto)"
      ],
      "metadata": {
        "id": "C97bBWLMyWzs"
      }
    },
    {
      "cell_type": "code",
      "source": [
        "epochs_hist = model.fit(X_train,\n",
        "                        y_train,\n",
        "                        epochs = 500)"
      ],
      "metadata": {
        "colab": {
          "base_uri": "https://localhost:8080/"
        },
        "id": "XOUO3i4qyV-O",
        "outputId": "c8c187ff-984a-490f-fe41-7f6a0a3ea4c9"
      },
      "execution_count": 149,
      "outputs": [
        {
          "output_type": "stream",
          "name": "stdout",
          "text": [
            "Epoch 1/500\n",
            "1/1 [==============================] - 0s 431ms/step - loss: 8.9584\n",
            "Epoch 2/500\n",
            "1/1 [==============================] - 0s 16ms/step - loss: 27.7952\n",
            "Epoch 3/500\n",
            "1/1 [==============================] - 0s 15ms/step - loss: 7.9682\n",
            "Epoch 4/500\n",
            "1/1 [==============================] - 0s 19ms/step - loss: 10.1753\n",
            "Epoch 5/500\n",
            "1/1 [==============================] - 0s 13ms/step - loss: 16.5390\n",
            "Epoch 6/500\n",
            "1/1 [==============================] - 0s 12ms/step - loss: 12.8675\n",
            "Epoch 7/500\n",
            "1/1 [==============================] - 0s 10ms/step - loss: 5.8812\n",
            "Epoch 8/500\n",
            "1/1 [==============================] - 0s 11ms/step - loss: 2.6952\n",
            "Epoch 9/500\n",
            "1/1 [==============================] - 0s 10ms/step - loss: 4.5087\n",
            "Epoch 10/500\n",
            "1/1 [==============================] - 0s 12ms/step - loss: 7.0549\n",
            "Epoch 11/500\n",
            "1/1 [==============================] - 0s 11ms/step - loss: 6.5716\n",
            "Epoch 12/500\n",
            "1/1 [==============================] - 0s 14ms/step - loss: 3.6201\n",
            "Epoch 13/500\n",
            "1/1 [==============================] - 0s 14ms/step - loss: 0.9780\n",
            "Epoch 14/500\n",
            "1/1 [==============================] - 0s 14ms/step - loss: 0.5609\n",
            "Epoch 15/500\n",
            "1/1 [==============================] - 0s 14ms/step - loss: 1.9374\n",
            "Epoch 16/500\n",
            "1/1 [==============================] - 0s 14ms/step - loss: 3.1102\n",
            "Epoch 17/500\n",
            "1/1 [==============================] - 0s 15ms/step - loss: 2.7500\n",
            "Epoch 18/500\n",
            "1/1 [==============================] - 0s 11ms/step - loss: 1.3033\n",
            "Epoch 19/500\n",
            "1/1 [==============================] - 0s 10ms/step - loss: 0.1518\n",
            "Epoch 20/500\n",
            "1/1 [==============================] - 0s 11ms/step - loss: 0.1887\n",
            "Epoch 21/500\n",
            "1/1 [==============================] - 0s 10ms/step - loss: 1.0859\n",
            "Epoch 22/500\n",
            "1/1 [==============================] - 0s 19ms/step - loss: 1.7744\n",
            "Epoch 23/500\n",
            "1/1 [==============================] - 0s 12ms/step - loss: 1.5899\n",
            "Epoch 24/500\n",
            "1/1 [==============================] - 0s 11ms/step - loss: 0.8302\n",
            "Epoch 25/500\n",
            "1/1 [==============================] - 0s 13ms/step - loss: 0.2872\n",
            "Epoch 26/500\n",
            "1/1 [==============================] - 0s 11ms/step - loss: 0.4156\n",
            "Epoch 27/500\n",
            "1/1 [==============================] - 0s 12ms/step - loss: 0.9464\n",
            "Epoch 28/500\n",
            "1/1 [==============================] - 0s 12ms/step - loss: 1.2536\n",
            "Epoch 29/500\n",
            "1/1 [==============================] - 0s 11ms/step - loss: 1.0330\n",
            "Epoch 30/500\n",
            "1/1 [==============================] - 0s 10ms/step - loss: 0.5514\n",
            "Epoch 31/500\n",
            "1/1 [==============================] - 0s 10ms/step - loss: 0.2866\n",
            "Epoch 32/500\n",
            "1/1 [==============================] - 0s 13ms/step - loss: 0.4166\n",
            "Epoch 33/500\n",
            "1/1 [==============================] - 0s 12ms/step - loss: 0.6842\n",
            "Epoch 34/500\n",
            "1/1 [==============================] - 0s 12ms/step - loss: 0.7291\n",
            "Epoch 35/500\n",
            "1/1 [==============================] - 0s 13ms/step - loss: 0.4828\n",
            "Epoch 36/500\n",
            "1/1 [==============================] - 0s 11ms/step - loss: 0.1955\n",
            "Epoch 37/500\n",
            "1/1 [==============================] - 0s 10ms/step - loss: 0.1228\n",
            "Epoch 38/500\n",
            "1/1 [==============================] - 0s 9ms/step - loss: 0.2536\n",
            "Epoch 39/500\n",
            "1/1 [==============================] - 0s 10ms/step - loss: 0.3628\n",
            "Epoch 40/500\n",
            "1/1 [==============================] - 0s 10ms/step - loss: 0.2914\n",
            "Epoch 41/500\n",
            "1/1 [==============================] - 0s 14ms/step - loss: 0.1117\n",
            "Epoch 42/500\n",
            "1/1 [==============================] - 0s 13ms/step - loss: 0.0111\n",
            "Epoch 43/500\n",
            "1/1 [==============================] - 0s 12ms/step - loss: 0.0635\n",
            "Epoch 44/500\n",
            "1/1 [==============================] - 0s 11ms/step - loss: 0.1630\n",
            "Epoch 45/500\n",
            "1/1 [==============================] - 0s 11ms/step - loss: 0.1719\n",
            "Epoch 46/500\n",
            "1/1 [==============================] - 0s 8ms/step - loss: 0.0840\n",
            "Epoch 47/500\n",
            "1/1 [==============================] - 0s 9ms/step - loss: 0.0107\n",
            "Epoch 48/500\n",
            "1/1 [==============================] - 0s 10ms/step - loss: 0.0302\n",
            "Epoch 49/500\n",
            "1/1 [==============================] - 0s 10ms/step - loss: 0.0998\n",
            "Epoch 50/500\n",
            "1/1 [==============================] - 0s 10ms/step - loss: 0.1248\n",
            "Epoch 51/500\n",
            "1/1 [==============================] - 0s 10ms/step - loss: 0.0804\n",
            "Epoch 52/500\n",
            "1/1 [==============================] - 0s 10ms/step - loss: 0.0303\n",
            "Epoch 53/500\n",
            "1/1 [==============================] - 0s 11ms/step - loss: 0.0342\n",
            "Epoch 54/500\n",
            "1/1 [==============================] - 0s 10ms/step - loss: 0.0743\n",
            "Epoch 55/500\n",
            "1/1 [==============================] - 0s 11ms/step - loss: 0.0899\n",
            "Epoch 56/500\n",
            "1/1 [==============================] - 0s 11ms/step - loss: 0.0604\n",
            "Epoch 57/500\n",
            "1/1 [==============================] - 0s 10ms/step - loss: 0.0252\n",
            "Epoch 58/500\n",
            "1/1 [==============================] - 0s 10ms/step - loss: 0.0239\n",
            "Epoch 59/500\n",
            "1/1 [==============================] - 0s 10ms/step - loss: 0.0455\n",
            "Epoch 60/500\n",
            "1/1 [==============================] - 0s 11ms/step - loss: 0.0513\n",
            "Epoch 61/500\n",
            "1/1 [==============================] - 0s 11ms/step - loss: 0.0298\n",
            "Epoch 62/500\n",
            "1/1 [==============================] - 0s 11ms/step - loss: 0.0080\n",
            "Epoch 63/500\n",
            "1/1 [==============================] - 0s 10ms/step - loss: 0.0093\n",
            "Epoch 64/500\n",
            "1/1 [==============================] - 0s 10ms/step - loss: 0.0229\n",
            "Epoch 65/500\n",
            "1/1 [==============================] - 0s 11ms/step - loss: 0.0243\n",
            "Epoch 66/500\n",
            "1/1 [==============================] - 0s 10ms/step - loss: 0.0104\n",
            "Epoch 67/500\n",
            "1/1 [==============================] - 0s 15ms/step - loss: 2.0560e-04\n",
            "Epoch 68/500\n",
            "1/1 [==============================] - 0s 15ms/step - loss: 0.0052\n",
            "Epoch 69/500\n",
            "1/1 [==============================] - 0s 10ms/step - loss: 0.0144\n",
            "Epoch 70/500\n",
            "1/1 [==============================] - 0s 10ms/step - loss: 0.0134\n",
            "Epoch 71/500\n",
            "1/1 [==============================] - 0s 10ms/step - loss: 0.0049\n",
            "Epoch 72/500\n",
            "1/1 [==============================] - 0s 10ms/step - loss: 0.0018\n",
            "Epoch 73/500\n",
            "1/1 [==============================] - 0s 11ms/step - loss: 0.0074\n",
            "Epoch 74/500\n",
            "1/1 [==============================] - 0s 10ms/step - loss: 0.0119\n",
            "Epoch 75/500\n",
            "1/1 [==============================] - 0s 14ms/step - loss: 0.0087\n",
            "Epoch 76/500\n",
            "1/1 [==============================] - 0s 12ms/step - loss: 0.0035\n",
            "Epoch 77/500\n",
            "1/1 [==============================] - 0s 11ms/step - loss: 0.0036\n",
            "Epoch 78/500\n",
            "1/1 [==============================] - 0s 13ms/step - loss: 0.0073\n",
            "Epoch 79/500\n",
            "1/1 [==============================] - 0s 12ms/step - loss: 0.0078\n",
            "Epoch 80/500\n",
            "1/1 [==============================] - 0s 10ms/step - loss: 0.0040\n",
            "Epoch 81/500\n",
            "1/1 [==============================] - 0s 11ms/step - loss: 0.0015\n",
            "Epoch 82/500\n",
            "1/1 [==============================] - 0s 9ms/step - loss: 0.0029\n",
            "Epoch 83/500\n",
            "1/1 [==============================] - 0s 11ms/step - loss: 0.0045\n",
            "Epoch 84/500\n",
            "1/1 [==============================] - 0s 9ms/step - loss: 0.0031\n",
            "Epoch 85/500\n",
            "1/1 [==============================] - 0s 9ms/step - loss: 6.7556e-04\n",
            "Epoch 86/500\n",
            "1/1 [==============================] - 0s 11ms/step - loss: 5.0757e-04\n",
            "Epoch 87/500\n",
            "1/1 [==============================] - 0s 11ms/step - loss: 0.0020\n",
            "Epoch 88/500\n",
            "1/1 [==============================] - 0s 9ms/step - loss: 0.0022\n",
            "Epoch 89/500\n",
            "1/1 [==============================] - 0s 11ms/step - loss: 7.5911e-04\n",
            "Epoch 90/500\n",
            "1/1 [==============================] - 0s 14ms/step - loss: 4.9225e-05\n",
            "Epoch 91/500\n",
            "1/1 [==============================] - 0s 9ms/step - loss: 9.4528e-04\n",
            "Epoch 92/500\n",
            "1/1 [==============================] - 0s 10ms/step - loss: 0.0017\n",
            "Epoch 93/500\n",
            "1/1 [==============================] - 0s 11ms/step - loss: 0.0011\n",
            "Epoch 94/500\n",
            "1/1 [==============================] - 0s 9ms/step - loss: 3.2481e-04\n",
            "Epoch 95/500\n",
            "1/1 [==============================] - 0s 11ms/step - loss: 6.1268e-04\n",
            "Epoch 96/500\n",
            "1/1 [==============================] - 0s 9ms/step - loss: 0.0013\n",
            "Epoch 97/500\n",
            "1/1 [==============================] - 0s 9ms/step - loss: 0.0011\n",
            "Epoch 98/500\n",
            "1/1 [==============================] - 0s 8ms/step - loss: 4.5157e-04\n",
            "Epoch 99/500\n",
            "1/1 [==============================] - 0s 9ms/step - loss: 3.5988e-04\n",
            "Epoch 100/500\n",
            "1/1 [==============================] - 0s 9ms/step - loss: 7.5536e-04\n",
            "Epoch 101/500\n",
            "1/1 [==============================] - 0s 10ms/step - loss: 7.7427e-04\n",
            "Epoch 102/500\n",
            "1/1 [==============================] - 0s 9ms/step - loss: 3.2522e-04\n",
            "Epoch 103/500\n",
            "1/1 [==============================] - 0s 9ms/step - loss: 1.1277e-04\n",
            "Epoch 104/500\n",
            "1/1 [==============================] - 0s 10ms/step - loss: 3.3291e-04\n",
            "Epoch 105/500\n",
            "1/1 [==============================] - 0s 10ms/step - loss: 4.3874e-04\n",
            "Epoch 106/500\n",
            "1/1 [==============================] - 0s 10ms/step - loss: 1.8959e-04\n",
            "Epoch 107/500\n",
            "1/1 [==============================] - 0s 10ms/step - loss: 3.7651e-06\n",
            "Epoch 108/500\n",
            "1/1 [==============================] - 0s 10ms/step - loss: 1.3531e-04\n",
            "Epoch 109/500\n",
            "1/1 [==============================] - 0s 10ms/step - loss: 2.6936e-04\n",
            "Epoch 110/500\n",
            "1/1 [==============================] - 0s 12ms/step - loss: 1.5558e-04\n",
            "Epoch 111/500\n",
            "1/1 [==============================] - 0s 12ms/step - loss: 2.2244e-05\n",
            "Epoch 112/500\n",
            "1/1 [==============================] - 0s 9ms/step - loss: 9.6296e-05\n",
            "Epoch 113/500\n",
            "1/1 [==============================] - 0s 8ms/step - loss: 2.0888e-04\n",
            "Epoch 114/500\n",
            "1/1 [==============================] - 0s 9ms/step - loss: 1.5463e-04\n",
            "Epoch 115/500\n",
            "1/1 [==============================] - 0s 10ms/step - loss: 5.3357e-05\n",
            "Epoch 116/500\n",
            "1/1 [==============================] - 0s 8ms/step - loss: 8.2464e-05\n",
            "Epoch 117/500\n",
            "1/1 [==============================] - 0s 8ms/step - loss: 1.5546e-04\n",
            "Epoch 118/500\n",
            "1/1 [==============================] - 0s 9ms/step - loss: 1.2070e-04\n",
            "Epoch 119/500\n",
            "1/1 [==============================] - 0s 8ms/step - loss: 4.1468e-05\n",
            "Epoch 120/500\n",
            "1/1 [==============================] - 0s 9ms/step - loss: 4.6945e-05\n",
            "Epoch 121/500\n",
            "1/1 [==============================] - 0s 8ms/step - loss: 9.1862e-05\n",
            "Epoch 122/500\n",
            "1/1 [==============================] - 0s 9ms/step - loss: 6.9261e-05\n",
            "Epoch 123/500\n",
            "1/1 [==============================] - 0s 10ms/step - loss: 1.4207e-05\n",
            "Epoch 124/500\n",
            "1/1 [==============================] - 0s 9ms/step - loss: 1.6234e-05\n",
            "Epoch 125/500\n",
            "1/1 [==============================] - 0s 11ms/step - loss: 4.8563e-05\n",
            "Epoch 126/500\n",
            "1/1 [==============================] - 0s 9ms/step - loss: 3.7292e-05\n",
            "Epoch 127/500\n",
            "1/1 [==============================] - 0s 10ms/step - loss: 3.9610e-06\n",
            "Epoch 128/500\n",
            "1/1 [==============================] - 0s 9ms/step - loss: 8.9467e-06\n",
            "Epoch 129/500\n",
            "1/1 [==============================] - 0s 9ms/step - loss: 3.3474e-05\n",
            "Epoch 130/500\n",
            "1/1 [==============================] - 0s 10ms/step - loss: 2.7592e-05\n",
            "Epoch 131/500\n",
            "1/1 [==============================] - 0s 8ms/step - loss: 7.1364e-06\n",
            "Epoch 132/500\n",
            "1/1 [==============================] - 0s 7ms/step - loss: 1.2277e-05\n",
            "Epoch 133/500\n",
            "1/1 [==============================] - 0s 9ms/step - loss: 2.8198e-05\n",
            "Epoch 134/500\n",
            "1/1 [==============================] - 0s 9ms/step - loss: 2.2204e-05\n",
            "Epoch 135/500\n",
            "1/1 [==============================] - 0s 9ms/step - loss: 7.8433e-06\n",
            "Epoch 136/500\n",
            "1/1 [==============================] - 0s 9ms/step - loss: 1.1286e-05\n",
            "Epoch 137/500\n",
            "1/1 [==============================] - 0s 9ms/step - loss: 1.9963e-05\n",
            "Epoch 138/500\n",
            "1/1 [==============================] - 0s 8ms/step - loss: 1.3326e-05\n",
            "Epoch 139/500\n",
            "1/1 [==============================] - 0s 8ms/step - loss: 3.4356e-06\n",
            "Epoch 140/500\n",
            "1/1 [==============================] - 0s 8ms/step - loss: 6.3945e-06\n",
            "Epoch 141/500\n",
            "1/1 [==============================] - 0s 8ms/step - loss: 1.1207e-05\n",
            "Epoch 142/500\n",
            "1/1 [==============================] - 0s 9ms/step - loss: 5.7147e-06\n",
            "Epoch 143/500\n",
            "1/1 [==============================] - 0s 10ms/step - loss: 2.2183e-07\n",
            "Epoch 144/500\n",
            "1/1 [==============================] - 0s 8ms/step - loss: 3.6747e-06\n",
            "Epoch 145/500\n",
            "1/1 [==============================] - 0s 9ms/step - loss: 6.6366e-06\n",
            "Epoch 146/500\n",
            "1/1 [==============================] - 0s 8ms/step - loss: 2.7590e-06\n",
            "Epoch 147/500\n",
            "1/1 [==============================] - 0s 8ms/step - loss: 4.3995e-07\n",
            "Epoch 148/500\n",
            "1/1 [==============================] - 0s 8ms/step - loss: 3.7401e-06\n",
            "Epoch 149/500\n",
            "1/1 [==============================] - 0s 8ms/step - loss: 5.1201e-06\n",
            "Epoch 150/500\n",
            "1/1 [==============================] - 0s 8ms/step - loss: 2.1847e-06\n",
            "Epoch 151/500\n",
            "1/1 [==============================] - 0s 8ms/step - loss: 1.3808e-06\n",
            "Epoch 152/500\n",
            "1/1 [==============================] - 0s 8ms/step - loss: 3.6886e-06\n",
            "Epoch 153/500\n",
            "1/1 [==============================] - 0s 8ms/step - loss: 3.6520e-06\n",
            "Epoch 154/500\n",
            "1/1 [==============================] - 0s 8ms/step - loss: 1.3340e-06\n",
            "Epoch 155/500\n",
            "1/1 [==============================] - 0s 8ms/step - loss: 1.2330e-06\n",
            "Epoch 156/500\n",
            "1/1 [==============================] - 0s 11ms/step - loss: 2.5584e-06\n",
            "Epoch 157/500\n",
            "1/1 [==============================] - 0s 12ms/step - loss: 1.8123e-06\n",
            "Epoch 158/500\n",
            "1/1 [==============================] - 0s 10ms/step - loss: 3.1267e-07\n",
            "Epoch 159/500\n",
            "1/1 [==============================] - 0s 11ms/step - loss: 7.1850e-07\n",
            "Epoch 160/500\n",
            "1/1 [==============================] - 0s 11ms/step - loss: 1.4506e-06\n",
            "Epoch 161/500\n",
            "1/1 [==============================] - 0s 14ms/step - loss: 6.5828e-07\n",
            "Epoch 162/500\n",
            "1/1 [==============================] - 0s 10ms/step - loss: 3.8853e-09\n",
            "Epoch 163/500\n",
            "1/1 [==============================] - 0s 8ms/step - loss: 6.5163e-07\n",
            "Epoch 164/500\n",
            "1/1 [==============================] - 0s 8ms/step - loss: 9.6782e-07\n",
            "Epoch 165/500\n",
            "1/1 [==============================] - 0s 9ms/step - loss: 3.3614e-07\n",
            "Epoch 166/500\n",
            "1/1 [==============================] - 0s 9ms/step - loss: 2.1423e-07\n",
            "Epoch 167/500\n",
            "1/1 [==============================] - 0s 10ms/step - loss: 7.5195e-07\n",
            "Epoch 168/500\n",
            "1/1 [==============================] - 0s 10ms/step - loss: 7.0507e-07\n",
            "Epoch 169/500\n",
            "1/1 [==============================] - 0s 9ms/step - loss: 2.4108e-07\n",
            "Epoch 170/500\n",
            "1/1 [==============================] - 0s 9ms/step - loss: 3.3640e-07\n",
            "Epoch 171/500\n",
            "1/1 [==============================] - 0s 9ms/step - loss: 6.1049e-07\n",
            "Epoch 172/500\n",
            "1/1 [==============================] - 0s 7ms/step - loss: 3.6251e-07\n",
            "Epoch 173/500\n",
            "1/1 [==============================] - 0s 10ms/step - loss: 9.9349e-08\n",
            "Epoch 174/500\n",
            "1/1 [==============================] - 0s 10ms/step - loss: 2.6794e-07\n",
            "Epoch 175/500\n",
            "1/1 [==============================] - 0s 10ms/step - loss: 3.3232e-07\n",
            "Epoch 176/500\n",
            "1/1 [==============================] - 0s 12ms/step - loss: 8.9466e-08\n",
            "Epoch 177/500\n",
            "1/1 [==============================] - 0s 11ms/step - loss: 3.3101e-08\n",
            "Epoch 178/500\n",
            "1/1 [==============================] - 0s 11ms/step - loss: 1.9437e-07\n",
            "Epoch 179/500\n",
            "1/1 [==============================] - 0s 6ms/step - loss: 1.5440e-07\n",
            "Epoch 180/500\n",
            "1/1 [==============================] - 0s 6ms/step - loss: 1.2515e-08\n",
            "Epoch 181/500\n",
            "1/1 [==============================] - 0s 6ms/step - loss: 7.7971e-08\n",
            "Epoch 182/500\n",
            "1/1 [==============================] - 0s 11ms/step - loss: 1.6837e-07\n",
            "Epoch 183/500\n",
            "1/1 [==============================] - 0s 8ms/step - loss: 8.5602e-08\n",
            "Epoch 184/500\n",
            "1/1 [==============================] - 0s 15ms/step - loss: 3.6866e-08\n",
            "Epoch 185/500\n",
            "1/1 [==============================] - 0s 14ms/step - loss: 1.1550e-07\n",
            "Epoch 186/500\n",
            "1/1 [==============================] - 0s 11ms/step - loss: 1.2048e-07\n",
            "Epoch 187/500\n",
            "1/1 [==============================] - 0s 10ms/step - loss: 4.1251e-08\n",
            "Epoch 188/500\n",
            "1/1 [==============================] - 0s 11ms/step - loss: 4.7910e-08\n",
            "Epoch 189/500\n",
            "1/1 [==============================] - 0s 10ms/step - loss: 9.0554e-08\n",
            "Epoch 190/500\n",
            "1/1 [==============================] - 0s 9ms/step - loss: 4.9650e-08\n",
            "Epoch 191/500\n",
            "1/1 [==============================] - 0s 12ms/step - loss: 9.3262e-09\n",
            "Epoch 192/500\n",
            "1/1 [==============================] - 0s 13ms/step - loss: 4.0378e-08\n",
            "Epoch 193/500\n",
            "1/1 [==============================] - 0s 12ms/step - loss: 4.5241e-08\n",
            "Epoch 194/500\n",
            "1/1 [==============================] - 0s 11ms/step - loss: 7.2662e-09\n",
            "Epoch 195/500\n",
            "1/1 [==============================] - 0s 11ms/step - loss: 8.6542e-09\n",
            "Epoch 196/500\n",
            "1/1 [==============================] - 0s 12ms/step - loss: 3.4865e-08\n",
            "Epoch 197/500\n",
            "1/1 [==============================] - 0s 10ms/step - loss: 2.0017e-08\n",
            "Epoch 198/500\n",
            "1/1 [==============================] - 0s 9ms/step - loss: 3.9204e-09\n",
            "Epoch 199/500\n",
            "1/1 [==============================] - 0s 8ms/step - loss: 2.1679e-08\n",
            "Epoch 200/500\n",
            "1/1 [==============================] - 0s 9ms/step - loss: 2.7530e-08\n",
            "Epoch 201/500\n",
            "1/1 [==============================] - 0s 8ms/step - loss: 1.0240e-08\n",
            "Epoch 202/500\n",
            "1/1 [==============================] - 0s 8ms/step - loss: 1.0887e-08\n",
            "Epoch 203/500\n",
            "1/1 [==============================] - 0s 8ms/step - loss: 2.1929e-08\n",
            "Epoch 204/500\n",
            "1/1 [==============================] - 0s 7ms/step - loss: 1.3734e-08\n",
            "Epoch 205/500\n",
            "1/1 [==============================] - 0s 9ms/step - loss: 4.1472e-09\n",
            "Epoch 206/500\n",
            "1/1 [==============================] - 0s 8ms/step - loss: 1.1322e-08\n",
            "Epoch 207/500\n",
            "1/1 [==============================] - 0s 7ms/step - loss: 1.2194e-08\n",
            "Epoch 208/500\n",
            "1/1 [==============================] - 0s 9ms/step - loss: 2.2938e-09\n",
            "Epoch 209/500\n",
            "1/1 [==============================] - 0s 8ms/step - loss: 2.8157e-09\n",
            "Epoch 210/500\n",
            "1/1 [==============================] - 0s 8ms/step - loss: 8.6134e-09\n",
            "Epoch 211/500\n",
            "1/1 [==============================] - 0s 8ms/step - loss: 3.7172e-09\n",
            "Epoch 212/500\n",
            "1/1 [==============================] - 0s 13ms/step - loss: 2.9847e-10\n",
            "Epoch 213/500\n",
            "1/1 [==============================] - 0s 10ms/step - loss: 5.4239e-09\n",
            "Epoch 214/500\n",
            "1/1 [==============================] - 0s 11ms/step - loss: 5.7445e-09\n",
            "Epoch 215/500\n",
            "1/1 [==============================] - 0s 12ms/step - loss: 1.2608e-09\n",
            "Epoch 216/500\n",
            "1/1 [==============================] - 0s 11ms/step - loss: 3.2250e-09\n",
            "Epoch 217/500\n",
            "1/1 [==============================] - 0s 11ms/step - loss: 5.4662e-09\n",
            "Epoch 218/500\n",
            "1/1 [==============================] - 0s 8ms/step - loss: 2.4458e-09\n",
            "Epoch 219/500\n",
            "1/1 [==============================] - 0s 7ms/step - loss: 1.4764e-09\n",
            "Epoch 220/500\n",
            "1/1 [==============================] - 0s 12ms/step - loss: 3.7241e-09\n",
            "Epoch 221/500\n",
            "1/1 [==============================] - 0s 10ms/step - loss: 2.6704e-09\n",
            "Epoch 222/500\n",
            "1/1 [==============================] - 0s 7ms/step - loss: 5.4464e-10\n",
            "Epoch 223/500\n",
            "1/1 [==============================] - 0s 7ms/step - loss: 1.5582e-09\n",
            "Epoch 224/500\n",
            "1/1 [==============================] - 0s 10ms/step - loss: 2.3413e-09\n",
            "Epoch 225/500\n",
            "1/1 [==============================] - 0s 10ms/step - loss: 4.7794e-10\n",
            "Epoch 226/500\n",
            "1/1 [==============================] - 0s 9ms/step - loss: 4.5320e-10\n",
            "Epoch 227/500\n",
            "1/1 [==============================] - 0s 8ms/step - loss: 1.4755e-09\n",
            "Epoch 228/500\n",
            "1/1 [==============================] - 0s 9ms/step - loss: 5.9532e-10\n",
            "Epoch 229/500\n",
            "1/1 [==============================] - 0s 8ms/step - loss: 3.4834e-11\n",
            "Epoch 230/500\n",
            "1/1 [==============================] - 0s 9ms/step - loss: 8.0317e-10\n",
            "Epoch 231/500\n",
            "1/1 [==============================] - 0s 10ms/step - loss: 8.8248e-10\n",
            "Epoch 232/500\n",
            "1/1 [==============================] - 0s 8ms/step - loss: 2.2255e-10\n",
            "Epoch 233/500\n",
            "1/1 [==============================] - 0s 8ms/step - loss: 5.7532e-10\n",
            "Epoch 234/500\n",
            "1/1 [==============================] - 0s 10ms/step - loss: 8.0718e-10\n",
            "Epoch 235/500\n",
            "1/1 [==============================] - 0s 9ms/step - loss: 3.3388e-10\n",
            "Epoch 236/500\n",
            "1/1 [==============================] - 0s 8ms/step - loss: 2.9762e-10\n",
            "Epoch 237/500\n",
            "1/1 [==============================] - 0s 10ms/step - loss: 6.4989e-10\n",
            "Epoch 238/500\n",
            "1/1 [==============================] - 0s 9ms/step - loss: 3.8820e-10\n",
            "Epoch 239/500\n",
            "1/1 [==============================] - 0s 9ms/step - loss: 8.8676e-11\n",
            "Epoch 240/500\n",
            "1/1 [==============================] - 0s 11ms/step - loss: 4.0603e-10\n",
            "Epoch 241/500\n",
            "1/1 [==============================] - 0s 12ms/step - loss: 3.3860e-10\n",
            "Epoch 242/500\n",
            "1/1 [==============================] - 0s 11ms/step - loss: 1.4461e-11\n",
            "Epoch 243/500\n",
            "1/1 [==============================] - 0s 9ms/step - loss: 1.6435e-10\n",
            "Epoch 244/500\n",
            "1/1 [==============================] - 0s 10ms/step - loss: 2.0388e-10\n",
            "Epoch 245/500\n",
            "1/1 [==============================] - 0s 8ms/step - loss: 4.6960e-11\n",
            "Epoch 246/500\n",
            "1/1 [==============================] - 0s 8ms/step - loss: 8.7221e-11\n",
            "Epoch 247/500\n",
            "1/1 [==============================] - 0s 8ms/step - loss: 1.9030e-10\n",
            "Epoch 248/500\n",
            "1/1 [==============================] - 0s 10ms/step - loss: 8.7221e-11\n",
            "Epoch 249/500\n",
            "1/1 [==============================] - 0s 9ms/step - loss: 2.2222e-11\n",
            "Epoch 250/500\n",
            "1/1 [==============================] - 0s 9ms/step - loss: 1.6750e-10\n",
            "Epoch 251/500\n",
            "1/1 [==============================] - 0s 8ms/step - loss: 1.6750e-10\n",
            "Epoch 252/500\n",
            "1/1 [==============================] - 0s 8ms/step - loss: 2.2222e-11\n",
            "Epoch 253/500\n",
            "1/1 [==============================] - 0s 9ms/step - loss: 8.7221e-11\n",
            "Epoch 254/500\n",
            "1/1 [==============================] - 0s 8ms/step - loss: 1.4312e-10\n",
            "Epoch 255/500\n",
            "1/1 [==============================] - 0s 8ms/step - loss: 6.9516e-11\n",
            "Epoch 256/500\n",
            "1/1 [==============================] - 0s 8ms/step - loss: 4.6960e-11\n",
            "Epoch 257/500\n",
            "1/1 [==============================] - 0s 8ms/step - loss: 1.2130e-10\n",
            "Epoch 258/500\n",
            "1/1 [==============================] - 0s 8ms/step - loss: 6.2725e-11\n",
            "Epoch 259/500\n",
            "1/1 [==============================] - 0s 8ms/step - loss: 1.2036e-11\n",
            "Epoch 260/500\n",
            "1/1 [==============================] - 0s 8ms/step - loss: 6.9516e-11\n",
            "Epoch 261/500\n",
            "1/1 [==============================] - 0s 8ms/step - loss: 6.9516e-11\n",
            "Epoch 262/500\n",
            "1/1 [==============================] - 0s 10ms/step - loss: 1.2036e-11\n",
            "Epoch 263/500\n",
            "1/1 [==============================] - 0s 8ms/step - loss: 4.6960e-11\n",
            "Epoch 264/500\n",
            "1/1 [==============================] - 0s 9ms/step - loss: 4.6960e-11\n",
            "Epoch 265/500\n",
            "1/1 [==============================] - 0s 9ms/step - loss: 2.2222e-11\n",
            "Epoch 266/500\n",
            "1/1 [==============================] - 0s 8ms/step - loss: 1.2036e-11\n",
            "Epoch 267/500\n",
            "1/1 [==============================] - 0s 9ms/step - loss: 2.4041e-11\n",
            "Epoch 268/500\n",
            "1/1 [==============================] - 0s 11ms/step - loss: 2.4041e-11\n",
            "Epoch 269/500\n",
            "1/1 [==============================] - 0s 8ms/step - loss: 1.2036e-11\n",
            "Epoch 270/500\n",
            "1/1 [==============================] - 0s 9ms/step - loss: 2.2222e-11\n",
            "Epoch 271/500\n",
            "1/1 [==============================] - 0s 10ms/step - loss: 2.2222e-11\n",
            "Epoch 272/500\n",
            "1/1 [==============================] - 0s 10ms/step - loss: 2.2222e-11\n",
            "Epoch 273/500\n",
            "1/1 [==============================] - 0s 9ms/step - loss: 2.2222e-11\n",
            "Epoch 274/500\n",
            "1/1 [==============================] - 0s 8ms/step - loss: 1.2036e-11\n",
            "Epoch 275/500\n",
            "1/1 [==============================] - 0s 8ms/step - loss: 1.2036e-11\n",
            "Epoch 276/500\n",
            "1/1 [==============================] - 0s 9ms/step - loss: 1.2036e-11\n",
            "Epoch 277/500\n",
            "1/1 [==============================] - 0s 9ms/step - loss: 1.2036e-11\n",
            "Epoch 278/500\n",
            "1/1 [==============================] - 0s 9ms/step - loss: 1.2036e-11\n",
            "Epoch 279/500\n",
            "1/1 [==============================] - 0s 9ms/step - loss: 2.2222e-11\n",
            "Epoch 280/500\n",
            "1/1 [==============================] - 0s 10ms/step - loss: 2.2222e-11\n",
            "Epoch 281/500\n",
            "1/1 [==============================] - 0s 9ms/step - loss: 2.2222e-11\n",
            "Epoch 282/500\n",
            "1/1 [==============================] - 0s 9ms/step - loss: 2.2222e-11\n",
            "Epoch 283/500\n",
            "1/1 [==============================] - 0s 9ms/step - loss: 1.2036e-11\n",
            "Epoch 284/500\n",
            "1/1 [==============================] - 0s 10ms/step - loss: 1.2036e-11\n",
            "Epoch 285/500\n",
            "1/1 [==============================] - 0s 9ms/step - loss: 1.2036e-11\n",
            "Epoch 286/500\n",
            "1/1 [==============================] - 0s 10ms/step - loss: 1.2036e-11\n",
            "Epoch 287/500\n",
            "1/1 [==============================] - 0s 8ms/step - loss: 1.2036e-11\n",
            "Epoch 288/500\n",
            "1/1 [==============================] - 0s 8ms/step - loss: 2.2222e-11\n",
            "Epoch 289/500\n",
            "1/1 [==============================] - 0s 8ms/step - loss: 2.2222e-11\n",
            "Epoch 290/500\n",
            "1/1 [==============================] - 0s 8ms/step - loss: 2.2222e-11\n",
            "Epoch 291/500\n",
            "1/1 [==============================] - 0s 11ms/step - loss: 1.2036e-11\n",
            "Epoch 292/500\n",
            "1/1 [==============================] - 0s 10ms/step - loss: 1.2036e-11\n",
            "Epoch 293/500\n",
            "1/1 [==============================] - 0s 11ms/step - loss: 1.2036e-11\n",
            "Epoch 294/500\n",
            "1/1 [==============================] - 0s 10ms/step - loss: 1.2036e-11\n",
            "Epoch 295/500\n",
            "1/1 [==============================] - 0s 10ms/step - loss: 2.2222e-11\n",
            "Epoch 296/500\n",
            "1/1 [==============================] - 0s 13ms/step - loss: 2.2222e-11\n",
            "Epoch 297/500\n",
            "1/1 [==============================] - 0s 10ms/step - loss: 2.2222e-11\n",
            "Epoch 298/500\n",
            "1/1 [==============================] - 0s 10ms/step - loss: 1.2036e-11\n",
            "Epoch 299/500\n",
            "1/1 [==============================] - 0s 12ms/step - loss: 1.2036e-11\n",
            "Epoch 300/500\n",
            "1/1 [==============================] - 0s 13ms/step - loss: 1.2036e-11\n",
            "Epoch 301/500\n",
            "1/1 [==============================] - 0s 13ms/step - loss: 1.2036e-11\n",
            "Epoch 302/500\n",
            "1/1 [==============================] - 0s 15ms/step - loss: 2.2222e-11\n",
            "Epoch 303/500\n",
            "1/1 [==============================] - 0s 9ms/step - loss: 2.2222e-11\n",
            "Epoch 304/500\n",
            "1/1 [==============================] - 0s 10ms/step - loss: 2.2222e-11\n",
            "Epoch 305/500\n",
            "1/1 [==============================] - 0s 10ms/step - loss: 1.2036e-11\n",
            "Epoch 306/500\n",
            "1/1 [==============================] - 0s 9ms/step - loss: 1.2036e-11\n",
            "Epoch 307/500\n",
            "1/1 [==============================] - 0s 9ms/step - loss: 1.2036e-11\n",
            "Epoch 308/500\n",
            "1/1 [==============================] - 0s 9ms/step - loss: 1.2036e-11\n",
            "Epoch 309/500\n",
            "1/1 [==============================] - 0s 9ms/step - loss: 2.2222e-11\n",
            "Epoch 310/500\n",
            "1/1 [==============================] - 0s 9ms/step - loss: 2.2222e-11\n",
            "Epoch 311/500\n",
            "1/1 [==============================] - 0s 9ms/step - loss: 2.2222e-11\n",
            "Epoch 312/500\n",
            "1/1 [==============================] - 0s 9ms/step - loss: 1.2036e-11\n",
            "Epoch 313/500\n",
            "1/1 [==============================] - 0s 9ms/step - loss: 1.2036e-11\n",
            "Epoch 314/500\n",
            "1/1 [==============================] - 0s 11ms/step - loss: 1.2036e-11\n",
            "Epoch 315/500\n",
            "1/1 [==============================] - 0s 10ms/step - loss: 1.2036e-11\n",
            "Epoch 316/500\n",
            "1/1 [==============================] - 0s 10ms/step - loss: 2.2222e-11\n",
            "Epoch 317/500\n",
            "1/1 [==============================] - 0s 11ms/step - loss: 2.2222e-11\n",
            "Epoch 318/500\n",
            "1/1 [==============================] - 0s 10ms/step - loss: 2.2222e-11\n",
            "Epoch 319/500\n",
            "1/1 [==============================] - 0s 13ms/step - loss: 1.2036e-11\n",
            "Epoch 320/500\n",
            "1/1 [==============================] - 0s 14ms/step - loss: 1.2036e-11\n",
            "Epoch 321/500\n",
            "1/1 [==============================] - 0s 9ms/step - loss: 1.2036e-11\n",
            "Epoch 322/500\n",
            "1/1 [==============================] - 0s 10ms/step - loss: 1.2036e-11\n",
            "Epoch 323/500\n",
            "1/1 [==============================] - 0s 9ms/step - loss: 2.2222e-11\n",
            "Epoch 324/500\n",
            "1/1 [==============================] - 0s 9ms/step - loss: 2.2222e-11\n",
            "Epoch 325/500\n",
            "1/1 [==============================] - 0s 9ms/step - loss: 2.2222e-11\n",
            "Epoch 326/500\n",
            "1/1 [==============================] - 0s 10ms/step - loss: 1.2036e-11\n",
            "Epoch 327/500\n",
            "1/1 [==============================] - 0s 9ms/step - loss: 1.2036e-11\n",
            "Epoch 328/500\n",
            "1/1 [==============================] - 0s 9ms/step - loss: 1.2036e-11\n",
            "Epoch 329/500\n",
            "1/1 [==============================] - 0s 8ms/step - loss: 1.2036e-11\n",
            "Epoch 330/500\n",
            "1/1 [==============================] - 0s 9ms/step - loss: 2.2222e-11\n",
            "Epoch 331/500\n",
            "1/1 [==============================] - 0s 9ms/step - loss: 2.2222e-11\n",
            "Epoch 332/500\n",
            "1/1 [==============================] - 0s 10ms/step - loss: 2.2222e-11\n",
            "Epoch 333/500\n",
            "1/1 [==============================] - 0s 13ms/step - loss: 1.2036e-11\n",
            "Epoch 334/500\n",
            "1/1 [==============================] - 0s 12ms/step - loss: 1.2036e-11\n",
            "Epoch 335/500\n",
            "1/1 [==============================] - 0s 16ms/step - loss: 1.2036e-11\n",
            "Epoch 336/500\n",
            "1/1 [==============================] - 0s 13ms/step - loss: 1.2036e-11\n",
            "Epoch 337/500\n",
            "1/1 [==============================] - 0s 9ms/step - loss: 2.2222e-11\n",
            "Epoch 338/500\n",
            "1/1 [==============================] - 0s 9ms/step - loss: 2.2222e-11\n",
            "Epoch 339/500\n",
            "1/1 [==============================] - 0s 9ms/step - loss: 2.2222e-11\n",
            "Epoch 340/500\n",
            "1/1 [==============================] - 0s 10ms/step - loss: 1.2036e-11\n",
            "Epoch 341/500\n",
            "1/1 [==============================] - 0s 9ms/step - loss: 1.2036e-11\n",
            "Epoch 342/500\n",
            "1/1 [==============================] - 0s 9ms/step - loss: 1.2036e-11\n",
            "Epoch 343/500\n",
            "1/1 [==============================] - 0s 9ms/step - loss: 1.2036e-11\n",
            "Epoch 344/500\n",
            "1/1 [==============================] - 0s 9ms/step - loss: 2.2222e-11\n",
            "Epoch 345/500\n",
            "1/1 [==============================] - 0s 9ms/step - loss: 2.2222e-11\n",
            "Epoch 346/500\n",
            "1/1 [==============================] - 0s 9ms/step - loss: 2.2222e-11\n",
            "Epoch 347/500\n",
            "1/1 [==============================] - 0s 8ms/step - loss: 1.2036e-11\n",
            "Epoch 348/500\n",
            "1/1 [==============================] - 0s 8ms/step - loss: 1.2036e-11\n",
            "Epoch 349/500\n",
            "1/1 [==============================] - 0s 8ms/step - loss: 1.2036e-11\n",
            "Epoch 350/500\n",
            "1/1 [==============================] - 0s 9ms/step - loss: 1.2036e-11\n",
            "Epoch 351/500\n",
            "1/1 [==============================] - 0s 9ms/step - loss: 2.2222e-11\n",
            "Epoch 352/500\n",
            "1/1 [==============================] - 0s 11ms/step - loss: 2.2222e-11\n",
            "Epoch 353/500\n",
            "1/1 [==============================] - 0s 9ms/step - loss: 2.2222e-11\n",
            "Epoch 354/500\n",
            "1/1 [==============================] - 0s 9ms/step - loss: 1.2036e-11\n",
            "Epoch 355/500\n",
            "1/1 [==============================] - 0s 8ms/step - loss: 1.2036e-11\n",
            "Epoch 356/500\n",
            "1/1 [==============================] - 0s 11ms/step - loss: 1.2036e-11\n",
            "Epoch 357/500\n",
            "1/1 [==============================] - 0s 8ms/step - loss: 1.2036e-11\n",
            "Epoch 358/500\n",
            "1/1 [==============================] - 0s 8ms/step - loss: 2.2222e-11\n",
            "Epoch 359/500\n",
            "1/1 [==============================] - 0s 9ms/step - loss: 2.2222e-11\n",
            "Epoch 360/500\n",
            "1/1 [==============================] - 0s 9ms/step - loss: 2.2222e-11\n",
            "Epoch 361/500\n",
            "1/1 [==============================] - 0s 9ms/step - loss: 6.3665e-13\n",
            "Epoch 362/500\n",
            "1/1 [==============================] - 0s 8ms/step - loss: 2.3798e-11\n",
            "Epoch 363/500\n",
            "1/1 [==============================] - 0s 9ms/step - loss: 1.4461e-11\n",
            "Epoch 364/500\n",
            "1/1 [==============================] - 0s 10ms/step - loss: 3.9199e-11\n",
            "Epoch 365/500\n",
            "1/1 [==============================] - 0s 9ms/step - loss: 5.6662e-11\n",
            "Epoch 366/500\n",
            "1/1 [==============================] - 0s 9ms/step - loss: 3.9199e-11\n",
            "Epoch 367/500\n",
            "1/1 [==============================] - 0s 9ms/step - loss: 3.8472e-11\n",
            "Epoch 368/500\n",
            "1/1 [==============================] - 0s 10ms/step - loss: 5.1690e-11\n",
            "Epoch 369/500\n",
            "1/1 [==============================] - 0s 10ms/step - loss: 3.8472e-11\n",
            "Epoch 370/500\n",
            "1/1 [==============================] - 0s 8ms/step - loss: 1.3976e-11\n",
            "Epoch 371/500\n",
            "1/1 [==============================] - 0s 8ms/step - loss: 5.0022e-12\n",
            "Epoch 372/500\n",
            "1/1 [==============================] - 0s 9ms/step - loss: 6.3665e-13\n",
            "Epoch 373/500\n",
            "1/1 [==============================] - 0s 8ms/step - loss: 6.3665e-13\n",
            "Epoch 374/500\n",
            "1/1 [==============================] - 0s 8ms/step - loss: 6.3665e-13\n",
            "Epoch 375/500\n",
            "1/1 [==============================] - 0s 9ms/step - loss: 6.3665e-13\n",
            "Epoch 376/500\n",
            "1/1 [==============================] - 0s 9ms/step - loss: 6.3665e-13\n",
            "Epoch 377/500\n",
            "1/1 [==============================] - 0s 9ms/step - loss: 6.3665e-13\n",
            "Epoch 378/500\n",
            "1/1 [==============================] - 0s 8ms/step - loss: 6.3665e-13\n",
            "Epoch 379/500\n",
            "1/1 [==============================] - 0s 8ms/step - loss: 6.3665e-13\n",
            "Epoch 380/500\n",
            "1/1 [==============================] - 0s 9ms/step - loss: 6.3665e-13\n",
            "Epoch 381/500\n",
            "1/1 [==============================] - 0s 9ms/step - loss: 6.3665e-13\n",
            "Epoch 382/500\n",
            "1/1 [==============================] - 0s 8ms/step - loss: 6.3665e-13\n",
            "Epoch 383/500\n",
            "1/1 [==============================] - 0s 8ms/step - loss: 6.3665e-13\n",
            "Epoch 384/500\n",
            "1/1 [==============================] - 0s 8ms/step - loss: 6.3665e-13\n",
            "Epoch 385/500\n",
            "1/1 [==============================] - 0s 8ms/step - loss: 6.3665e-13\n",
            "Epoch 386/500\n",
            "1/1 [==============================] - 0s 8ms/step - loss: 6.3665e-13\n",
            "Epoch 387/500\n",
            "1/1 [==============================] - 0s 9ms/step - loss: 6.3665e-13\n",
            "Epoch 388/500\n",
            "1/1 [==============================] - 0s 9ms/step - loss: 6.3665e-13\n",
            "Epoch 389/500\n",
            "1/1 [==============================] - 0s 8ms/step - loss: 6.3665e-13\n",
            "Epoch 390/500\n",
            "1/1 [==============================] - 0s 9ms/step - loss: 6.3665e-13\n",
            "Epoch 391/500\n",
            "1/1 [==============================] - 0s 10ms/step - loss: 6.3665e-13\n",
            "Epoch 392/500\n",
            "1/1 [==============================] - 0s 8ms/step - loss: 6.3665e-13\n",
            "Epoch 393/500\n",
            "1/1 [==============================] - 0s 8ms/step - loss: 6.3665e-13\n",
            "Epoch 394/500\n",
            "1/1 [==============================] - 0s 8ms/step - loss: 6.3665e-13\n",
            "Epoch 395/500\n",
            "1/1 [==============================] - 0s 9ms/step - loss: 6.3665e-13\n",
            "Epoch 396/500\n",
            "1/1 [==============================] - 0s 9ms/step - loss: 6.3665e-13\n",
            "Epoch 397/500\n",
            "1/1 [==============================] - 0s 9ms/step - loss: 6.3665e-13\n",
            "Epoch 398/500\n",
            "1/1 [==============================] - 0s 8ms/step - loss: 6.3665e-13\n",
            "Epoch 399/500\n",
            "1/1 [==============================] - 0s 9ms/step - loss: 6.3665e-13\n",
            "Epoch 400/500\n",
            "1/1 [==============================] - 0s 9ms/step - loss: 6.3665e-13\n",
            "Epoch 401/500\n",
            "1/1 [==============================] - 0s 8ms/step - loss: 6.3665e-13\n",
            "Epoch 402/500\n",
            "1/1 [==============================] - 0s 8ms/step - loss: 6.3665e-13\n",
            "Epoch 403/500\n",
            "1/1 [==============================] - 0s 8ms/step - loss: 6.3665e-13\n",
            "Epoch 404/500\n",
            "1/1 [==============================] - 0s 8ms/step - loss: 6.3665e-13\n",
            "Epoch 405/500\n",
            "1/1 [==============================] - 0s 10ms/step - loss: 6.3665e-13\n",
            "Epoch 406/500\n",
            "1/1 [==============================] - 0s 8ms/step - loss: 6.3665e-13\n",
            "Epoch 407/500\n",
            "1/1 [==============================] - 0s 12ms/step - loss: 6.3665e-13\n",
            "Epoch 408/500\n",
            "1/1 [==============================] - 0s 8ms/step - loss: 6.3665e-13\n",
            "Epoch 409/500\n",
            "1/1 [==============================] - 0s 9ms/step - loss: 6.3665e-13\n",
            "Epoch 410/500\n",
            "1/1 [==============================] - 0s 8ms/step - loss: 6.3665e-13\n",
            "Epoch 411/500\n",
            "1/1 [==============================] - 0s 9ms/step - loss: 6.3665e-13\n",
            "Epoch 412/500\n",
            "1/1 [==============================] - 0s 9ms/step - loss: 6.3665e-13\n",
            "Epoch 413/500\n",
            "1/1 [==============================] - 0s 9ms/step - loss: 6.3665e-13\n",
            "Epoch 414/500\n",
            "1/1 [==============================] - 0s 8ms/step - loss: 6.3665e-13\n",
            "Epoch 415/500\n",
            "1/1 [==============================] - 0s 9ms/step - loss: 6.3665e-13\n",
            "Epoch 416/500\n",
            "1/1 [==============================] - 0s 10ms/step - loss: 6.3665e-13\n",
            "Epoch 417/500\n",
            "1/1 [==============================] - 0s 8ms/step - loss: 6.3665e-13\n",
            "Epoch 418/500\n",
            "1/1 [==============================] - 0s 9ms/step - loss: 6.3665e-13\n",
            "Epoch 419/500\n",
            "1/1 [==============================] - 0s 9ms/step - loss: 6.3665e-13\n",
            "Epoch 420/500\n",
            "1/1 [==============================] - 0s 9ms/step - loss: 6.3665e-13\n",
            "Epoch 421/500\n",
            "1/1 [==============================] - 0s 8ms/step - loss: 6.3665e-13\n",
            "Epoch 422/500\n",
            "1/1 [==============================] - 0s 9ms/step - loss: 6.3665e-13\n",
            "Epoch 423/500\n",
            "1/1 [==============================] - 0s 11ms/step - loss: 6.3665e-13\n",
            "Epoch 424/500\n",
            "1/1 [==============================] - 0s 8ms/step - loss: 6.3665e-13\n",
            "Epoch 425/500\n",
            "1/1 [==============================] - 0s 9ms/step - loss: 6.3665e-13\n",
            "Epoch 426/500\n",
            "1/1 [==============================] - 0s 9ms/step - loss: 6.3665e-13\n",
            "Epoch 427/500\n",
            "1/1 [==============================] - 0s 9ms/step - loss: 6.3665e-13\n",
            "Epoch 428/500\n",
            "1/1 [==============================] - 0s 8ms/step - loss: 6.3665e-13\n",
            "Epoch 429/500\n",
            "1/1 [==============================] - 0s 8ms/step - loss: 6.3665e-13\n",
            "Epoch 430/500\n",
            "1/1 [==============================] - 0s 8ms/step - loss: 6.3665e-13\n",
            "Epoch 431/500\n",
            "1/1 [==============================] - 0s 9ms/step - loss: 6.3665e-13\n",
            "Epoch 432/500\n",
            "1/1 [==============================] - 0s 8ms/step - loss: 6.3665e-13\n",
            "Epoch 433/500\n",
            "1/1 [==============================] - 0s 9ms/step - loss: 6.3665e-13\n",
            "Epoch 434/500\n",
            "1/1 [==============================] - 0s 8ms/step - loss: 6.3665e-13\n",
            "Epoch 435/500\n",
            "1/1 [==============================] - 0s 8ms/step - loss: 6.3665e-13\n",
            "Epoch 436/500\n",
            "1/1 [==============================] - 0s 8ms/step - loss: 6.3665e-13\n",
            "Epoch 437/500\n",
            "1/1 [==============================] - 0s 9ms/step - loss: 6.3665e-13\n",
            "Epoch 438/500\n",
            "1/1 [==============================] - 0s 8ms/step - loss: 6.3665e-13\n",
            "Epoch 439/500\n",
            "1/1 [==============================] - 0s 8ms/step - loss: 6.3665e-13\n",
            "Epoch 440/500\n",
            "1/1 [==============================] - 0s 8ms/step - loss: 6.3665e-13\n",
            "Epoch 441/500\n",
            "1/1 [==============================] - 0s 8ms/step - loss: 6.3665e-13\n",
            "Epoch 442/500\n",
            "1/1 [==============================] - 0s 8ms/step - loss: 6.3665e-13\n",
            "Epoch 443/500\n",
            "1/1 [==============================] - 0s 8ms/step - loss: 6.3665e-13\n",
            "Epoch 444/500\n",
            "1/1 [==============================] - 0s 8ms/step - loss: 6.3665e-13\n",
            "Epoch 445/500\n",
            "1/1 [==============================] - 0s 8ms/step - loss: 6.3665e-13\n",
            "Epoch 446/500\n",
            "1/1 [==============================] - 0s 7ms/step - loss: 6.3665e-13\n",
            "Epoch 447/500\n",
            "1/1 [==============================] - 0s 7ms/step - loss: 6.3665e-13\n",
            "Epoch 448/500\n",
            "1/1 [==============================] - 0s 8ms/step - loss: 6.3665e-13\n",
            "Epoch 449/500\n",
            "1/1 [==============================] - 0s 8ms/step - loss: 6.3665e-13\n",
            "Epoch 450/500\n",
            "1/1 [==============================] - 0s 8ms/step - loss: 6.3665e-13\n",
            "Epoch 451/500\n",
            "1/1 [==============================] - 0s 8ms/step - loss: 6.3665e-13\n",
            "Epoch 452/500\n",
            "1/1 [==============================] - 0s 8ms/step - loss: 6.3665e-13\n",
            "Epoch 453/500\n",
            "1/1 [==============================] - 0s 8ms/step - loss: 6.3665e-13\n",
            "Epoch 454/500\n",
            "1/1 [==============================] - 0s 8ms/step - loss: 6.3665e-13\n",
            "Epoch 455/500\n",
            "1/1 [==============================] - 0s 9ms/step - loss: 6.3665e-13\n",
            "Epoch 456/500\n",
            "1/1 [==============================] - 0s 6ms/step - loss: 6.3665e-13\n",
            "Epoch 457/500\n",
            "1/1 [==============================] - 0s 6ms/step - loss: 6.3665e-13\n",
            "Epoch 458/500\n",
            "1/1 [==============================] - 0s 9ms/step - loss: 6.3665e-13\n",
            "Epoch 459/500\n",
            "1/1 [==============================] - 0s 7ms/step - loss: 6.3665e-13\n",
            "Epoch 460/500\n",
            "1/1 [==============================] - 0s 7ms/step - loss: 6.3665e-13\n",
            "Epoch 461/500\n",
            "1/1 [==============================] - 0s 10ms/step - loss: 6.3665e-13\n",
            "Epoch 462/500\n",
            "1/1 [==============================] - 0s 6ms/step - loss: 6.3665e-13\n",
            "Epoch 463/500\n",
            "1/1 [==============================] - 0s 11ms/step - loss: 6.3665e-13\n",
            "Epoch 464/500\n",
            "1/1 [==============================] - 0s 6ms/step - loss: 6.3665e-13\n",
            "Epoch 465/500\n",
            "1/1 [==============================] - 0s 10ms/step - loss: 6.3665e-13\n",
            "Epoch 466/500\n",
            "1/1 [==============================] - 0s 6ms/step - loss: 6.3665e-13\n",
            "Epoch 467/500\n",
            "1/1 [==============================] - 0s 6ms/step - loss: 6.3665e-13\n",
            "Epoch 468/500\n",
            "1/1 [==============================] - 0s 10ms/step - loss: 6.3665e-13\n",
            "Epoch 469/500\n",
            "1/1 [==============================] - 0s 6ms/step - loss: 6.3665e-13\n",
            "Epoch 470/500\n",
            "1/1 [==============================] - 0s 10ms/step - loss: 6.3665e-13\n",
            "Epoch 471/500\n",
            "1/1 [==============================] - 0s 6ms/step - loss: 6.3665e-13\n",
            "Epoch 472/500\n",
            "1/1 [==============================] - 0s 11ms/step - loss: 6.3665e-13\n",
            "Epoch 473/500\n",
            "1/1 [==============================] - 0s 6ms/step - loss: 6.3665e-13\n",
            "Epoch 474/500\n",
            "1/1 [==============================] - 0s 10ms/step - loss: 6.3665e-13\n",
            "Epoch 475/500\n",
            "1/1 [==============================] - 0s 6ms/step - loss: 6.3665e-13\n",
            "Epoch 476/500\n",
            "1/1 [==============================] - 0s 10ms/step - loss: 6.3665e-13\n",
            "Epoch 477/500\n",
            "1/1 [==============================] - 0s 6ms/step - loss: 6.3665e-13\n",
            "Epoch 478/500\n",
            "1/1 [==============================] - 0s 7ms/step - loss: 6.3665e-13\n",
            "Epoch 479/500\n",
            "1/1 [==============================] - 0s 7ms/step - loss: 6.3665e-13\n",
            "Epoch 480/500\n",
            "1/1 [==============================] - 0s 8ms/step - loss: 6.3665e-13\n",
            "Epoch 481/500\n",
            "1/1 [==============================] - 0s 7ms/step - loss: 6.3665e-13\n",
            "Epoch 482/500\n",
            "1/1 [==============================] - 0s 12ms/step - loss: 6.3665e-13\n",
            "Epoch 483/500\n",
            "1/1 [==============================] - 0s 6ms/step - loss: 6.3665e-13\n",
            "Epoch 484/500\n",
            "1/1 [==============================] - 0s 11ms/step - loss: 6.3665e-13\n",
            "Epoch 485/500\n",
            "1/1 [==============================] - 0s 9ms/step - loss: 6.3665e-13\n",
            "Epoch 486/500\n",
            "1/1 [==============================] - 0s 10ms/step - loss: 6.3665e-13\n",
            "Epoch 487/500\n",
            "1/1 [==============================] - 0s 9ms/step - loss: 6.3665e-13\n",
            "Epoch 488/500\n",
            "1/1 [==============================] - 0s 8ms/step - loss: 6.3665e-13\n",
            "Epoch 489/500\n",
            "1/1 [==============================] - 0s 17ms/step - loss: 6.3665e-13\n",
            "Epoch 490/500\n",
            "1/1 [==============================] - 0s 9ms/step - loss: 6.3665e-13\n",
            "Epoch 491/500\n",
            "1/1 [==============================] - 0s 10ms/step - loss: 6.3665e-13\n",
            "Epoch 492/500\n",
            "1/1 [==============================] - 0s 10ms/step - loss: 6.3665e-13\n",
            "Epoch 493/500\n",
            "1/1 [==============================] - 0s 13ms/step - loss: 6.3665e-13\n",
            "Epoch 494/500\n",
            "1/1 [==============================] - 0s 12ms/step - loss: 6.3665e-13\n",
            "Epoch 495/500\n",
            "1/1 [==============================] - 0s 6ms/step - loss: 6.3665e-13\n",
            "Epoch 496/500\n",
            "1/1 [==============================] - 0s 6ms/step - loss: 6.3665e-13\n",
            "Epoch 497/500\n",
            "1/1 [==============================] - 0s 10ms/step - loss: 6.3665e-13\n",
            "Epoch 498/500\n",
            "1/1 [==============================] - 0s 11ms/step - loss: 6.3665e-13\n",
            "Epoch 499/500\n",
            "1/1 [==============================] - 0s 10ms/step - loss: 6.3665e-13\n",
            "Epoch 500/500\n",
            "1/1 [==============================] - 0s 7ms/step - loss: 6.3665e-13\n"
          ]
        }
      ]
    },
    {
      "cell_type": "markdown",
      "source": [
        "Etapa 5: Avaliação do modelo"
      ],
      "metadata": {
        "id": "8BXPsY7gyraj"
      }
    },
    {
      "cell_type": "markdown",
      "source": [
        "Salvando o histporico das épocas de treinamento"
      ],
      "metadata": {
        "id": "HaAEAdLdzbID"
      }
    },
    {
      "cell_type": "code",
      "source": [
        "epochs_hist.history.keys()"
      ],
      "metadata": {
        "colab": {
          "base_uri": "https://localhost:8080/"
        },
        "id": "7hmuLwCDyscL",
        "outputId": "cdbb2f55-0e70-4672-d326-8fd79e63d0f8"
      },
      "execution_count": 150,
      "outputs": [
        {
          "output_type": "execute_result",
          "data": {
            "text/plain": [
              "dict_keys(['loss'])"
            ]
          },
          "metadata": {},
          "execution_count": 150
        }
      ]
    },
    {
      "cell_type": "markdown",
      "source": [
        "Gerando o gráfico de treinamento"
      ],
      "metadata": {
        "id": "xCPGkGb5zh6V"
      }
    },
    {
      "cell_type": "code",
      "source": [
        "plt.plot(epochs_hist.history['loss'])\n",
        "plt.title('Model Loss Progress During Training')\n",
        "plt.xlabel('Epoch')\n",
        "plt.ylabel('Training loss')\n",
        "plt.legend(['Training loss']);"
      ],
      "metadata": {
        "colab": {
          "base_uri": "https://localhost:8080/",
          "height": 472
        },
        "id": "qYUauArmzlr9",
        "outputId": "b165b222-a270-468a-82e0-c77b6fa012eb"
      },
      "execution_count": 151,
      "outputs": [
        {
          "output_type": "display_data",
          "data": {
            "text/plain": [
              "<Figure size 640x480 with 1 Axes>"
            ],
            "image/png": "[encoded data removed]"
          },
          "metadata": {}
        }
      ]
    },
    {
      "cell_type": "markdown",
      "source": [
        "W1 = 1.8, BIAS = 32"
      ],
      "metadata": {
        "id": "aeQJW3JWzv-N"
      }
    },
    {
      "cell_type": "code",
      "source": [
        "model.get_weights()"
      ],
      "metadata": {
        "colab": {
          "base_uri": "https://localhost:8080/"
        },
        "id": "K_J8mN8zzyLB",
        "outputId": "e9c8efa1-1926-4ef2-a99d-60f15c65c16e"
      },
      "execution_count": 152,
      "outputs": [
        {
          "output_type": "execute_result",
          "data": {
            "text/plain": [
              "[array([[1.8]], dtype=float32), array([32.], dtype=float32)]"
            ]
          },
          "metadata": {},
          "execution_count": 152
        }
      ]
    },
    {
      "cell_type": "markdown",
      "source": [
        "Fazendo um predict de temperatura 10 em Celsius, resultado deverá ser 50 no array"
      ],
      "metadata": {
        "id": "wSx18ca6zzOG"
      }
    },
    {
      "cell_type": "code",
      "source": [
        "temp_c = 10\n",
        "temp_f = model.predict([temp_c])\n",
        "temp_f"
      ],
      "metadata": {
        "colab": {
          "base_uri": "https://localhost:8080/"
        },
        "id": "EsuYdoWHz2UW",
        "outputId": "d6dac6d2-e0ca-4a66-ef32-0558cdae6375"
      },
      "execution_count": 153,
      "outputs": [
        {
          "output_type": "stream",
          "name": "stdout",
          "text": [
            "1/1 [==============================] - 0s 85ms/step\n"
          ]
        },
        {
          "output_type": "execute_result",
          "data": {
            "text/plain": [
              "array([[50.]], dtype=float32)"
            ]
          },
          "metadata": {},
          "execution_count": 153
        }
      ]
    },
    {
      "cell_type": "markdown",
      "source": [
        "Comprovando que o MachineLearning acertou através da fórmula de transformação de °C para °F"
      ],
      "metadata": {
        "id": "aK3QqFekz5op"
      }
    },
    {
      "cell_type": "code",
      "source": [
        "temp_f1 = 9/5 * temp_c + 32\n",
        "temp_f1"
      ],
      "metadata": {
        "colab": {
          "base_uri": "https://localhost:8080/"
        },
        "id": "yYokZ8Ztz6ju",
        "outputId": "d7ed327d-a297-4987-cb57-e8da035e7e50"
      },
      "execution_count": 154,
      "outputs": [
        {
          "output_type": "execute_result",
          "data": {
            "text/plain": [
              "50.0"
            ]
          },
          "metadata": {},
          "execution_count": 154
        }
      ]
    }
  ]
}