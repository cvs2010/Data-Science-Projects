{
  "nbformat": 4,
  "nbformat_minor": 0,
  "metadata": {
    "colab": {
      "provenance": [],
      "mount_file_id": "1LXl-iqtIJW7WYu4MyHpO9tdfkwr8pin3",
      "authorship_tag": "ABX9TyMt2hJ6evmBDb5gSE4E2qdB",
      "include_colab_link": true
    },
    "kernelspec": {
      "name": "python3",
      "display_name": "Python 3"
    },
    "language_info": {
      "name": "python"
    }
  },
  "cells": [
    {
      "cell_type": "markdown",
      "metadata": {
        "id": "view-in-github",
        "colab_type": "text"
      },
      "source": [
        "<a href=\"https://colab.research.google.com/github/cvs2010/udemyDeepLearning/blob/main/00_pandas_tutorial.ipynb\" target=\"_parent\"><img src=\"https://colab.research.google.com/assets/colab-badge.svg\" alt=\"Open In Colab\"/></a>"
      ]
    },
    {
      "cell_type": "markdown",
      "source": [
        "# Configurações inicias"
      ],
      "metadata": {
        "id": "UmnzOHaY1XU_"
      }
    },
    {
      "cell_type": "code",
      "execution_count": null,
      "metadata": {
        "id": "XsKYuUDVfeKa"
      },
      "outputs": [],
      "source": [
        "import pandas as pd"
      ]
    },
    {
      "cell_type": "code",
      "source": [
        " # Turn pandas dataframes into interactive tables that can be filtered, sorted, and explored dynamically\n",
        "%load_ext google.colab.data_table"
      ],
      "metadata": {
        "id": "67WvC3ioiMTX",
        "colab": {
          "base_uri": "https://localhost:8080/"
        },
        "outputId": "d012f97c-89c6-4822-bf51-4e6d905e8ad4"
      },
      "execution_count": null,
      "outputs": [
        {
          "output_type": "stream",
          "name": "stdout",
          "text": [
            "The google.colab.data_table extension is already loaded. To reload it, use:\n",
            "  %reload_ext google.colab.data_table\n"
          ]
        }
      ]
    },
    {
      "cell_type": "code",
      "source": [
        "# Importing kaggle data via API\n",
        "import os\n",
        "os.environ['KAGGLE_CONFIG_DIR'] = \"/content/drive/MyDrive/Colab Notebooks/API´s/\""
      ],
      "metadata": {
        "id": "pmKZ436Nj8vq"
      },
      "execution_count": null,
      "outputs": []
    },
    {
      "cell_type": "code",
      "source": [
        "!wget https://github.com/cvs2010/udemyDeepLearning/raw/main/Files/countries.csv"
      ],
      "metadata": {
        "colab": {
          "base_uri": "https://localhost:8080/"
        },
        "id": "PJdcYCSHrlyI",
        "outputId": "92afa165-2e16-4c96-cc23-30d237df6dce"
      },
      "execution_count": null,
      "outputs": [
        {
          "output_type": "stream",
          "name": "stdout",
          "text": [
            "--2023-04-19 17:35:46--  https://github.com/cvs2010/udemyDeepLearning/raw/main/Files/countries.csv\n",
            "Resolving github.com (github.com)... 140.82.114.3\n",
            "Connecting to github.com (github.com)|140.82.114.3|:443... connected.\n",
            "HTTP request sent, awaiting response... 302 Found\n",
            "Location: https://raw.githubusercontent.com/cvs2010/udemyDeepLearning/main/Files/countries.csv [following]\n",
            "--2023-04-19 17:35:46--  https://raw.githubusercontent.com/cvs2010/udemyDeepLearning/main/Files/countries.csv\n",
            "Resolving raw.githubusercontent.com (raw.githubusercontent.com)... 185.199.108.133, 185.199.109.133, 185.199.110.133, ...\n",
            "Connecting to raw.githubusercontent.com (raw.githubusercontent.com)|185.199.108.133|:443... connected.\n",
            "HTTP request sent, awaiting response... 200 OK\n",
            "Length: 38809 (38K) [text/plain]\n",
            "Saving to: ‘countries.csv.1’\n",
            "\n",
            "countries.csv.1     100%[===================>]  37.90K  --.-KB/s    in 0s      \n",
            "\n",
            "2023-04-19 17:35:46 (76.8 MB/s) - ‘countries.csv.1’ saved [38809/38809]\n",
            "\n"
          ]
        }
      ]
    },
    {
      "cell_type": "markdown",
      "source": [
        "# Manipulando DataFrames"
      ],
      "metadata": {
        "id": "qJBF_odP1SZe"
      }
    },
    {
      "cell_type": "code",
      "source": [
        "# Criando um Dataframe (df = Base de Dados)\n",
        "df = pd.read_csv('/content/countries.csv')"
      ],
      "metadata": {
        "id": "qNwBFIOlyZ4r"
      },
      "execution_count": null,
      "outputs": []
    },
    {
      "cell_type": "code",
      "source": [
        "# 5 primeiros registros do Dataframe\n",
        "df.head()"
      ],
      "metadata": {
        "colab": {
          "base_uri": "https://localhost:8080/",
          "height": 196
        },
        "id": "62NrKqLZypCS",
        "outputId": "65cbad93-9c33-4c7d-8612-a230490416c6"
      },
      "execution_count": null,
      "outputs": [
        {
          "output_type": "execute_result",
          "data": {
            "text/plain": [
              "       country  year  population\n",
              "0  Afghanistan  1952     8425333\n",
              "1  Afghanistan  1957     9240934\n",
              "2  Afghanistan  1962    10267083\n",
              "3  Afghanistan  1967    11537966\n",
              "4  Afghanistan  1972    13079460"
            ],
            "text/html": [
              "\n",
              "  <div id=\"df-161350a3-ac9f-46cd-a961-d3c96267b66e\">\n",
              "    <div class=\"colab-df-container\">\n",
              "      <div>\n",
              "<style scoped>\n",
              "    .dataframe tbody tr th:only-of-type {\n",
              "        vertical-align: middle;\n",
              "    }\n",
              "\n",
              "    .dataframe tbody tr th {\n",
              "        vertical-align: top;\n",
              "    }\n",
              "\n",
              "    .dataframe thead th {\n",
              "        text-align: right;\n",
              "    }\n",
              "</style>\n",
              "<table border=\"1\" class=\"dataframe\">\n",
              "  <thead>\n",
              "    <tr style=\"text-align: right;\">\n",
              "      <th></th>\n",
              "      <th>country</th>\n",
              "      <th>year</th>\n",
              "      <th>population</th>\n",
              "    </tr>\n",
              "  </thead>\n",
              "  <tbody>\n",
              "    <tr>\n",
              "      <th>0</th>\n",
              "      <td>Afghanistan</td>\n",
              "      <td>1952</td>\n",
              "      <td>8425333</td>\n",
              "    </tr>\n",
              "    <tr>\n",
              "      <th>1</th>\n",
              "      <td>Afghanistan</td>\n",
              "      <td>1957</td>\n",
              "      <td>9240934</td>\n",
              "    </tr>\n",
              "    <tr>\n",
              "      <th>2</th>\n",
              "      <td>Afghanistan</td>\n",
              "      <td>1962</td>\n",
              "      <td>10267083</td>\n",
              "    </tr>\n",
              "    <tr>\n",
              "      <th>3</th>\n",
              "      <td>Afghanistan</td>\n",
              "      <td>1967</td>\n",
              "      <td>11537966</td>\n",
              "    </tr>\n",
              "    <tr>\n",
              "      <th>4</th>\n",
              "      <td>Afghanistan</td>\n",
              "      <td>1972</td>\n",
              "      <td>13079460</td>\n",
              "    </tr>\n",
              "  </tbody>\n",
              "</table>\n",
              "</div>\n",
              "      <button class=\"colab-df-convert\" onclick=\"convertToInteractive('df-161350a3-ac9f-46cd-a961-d3c96267b66e')\"\n",
              "              title=\"Convert this dataframe to an interactive table.\"\n",
              "              style=\"display:none;\">\n",
              "        \n",
              "  <svg xmlns=\"http://www.w3.org/2000/svg\" height=\"24px\"viewBox=\"0 0 24 24\"\n",
              "       width=\"24px\">\n",
              "    <path d=\"M0 0h24v24H0V0z\" fill=\"none\"/>\n",
              "    <path d=\"M18.56 5.44l.94 2.06.94-2.06 2.06-.94-2.06-.94-.94-2.06-.94 2.06-2.06.94zm-11 1L8.5 8.5l.94-2.06 2.06-.94-2.06-.94L8.5 2.5l-.94 2.06-2.06.94zm10 10l.94 2.06.94-2.06 2.06-.94-2.06-.94-.94-2.06-.94 2.06-2.06.94z\"/><path d=\"M17.41 7.96l-1.37-1.37c-.4-.4-.92-.59-1.43-.59-.52 0-1.04.2-1.43.59L10.3 9.45l-7.72 7.72c-.78.78-.78 2.05 0 2.83L4 21.41c.39.39.9.59 1.41.59.51 0 1.02-.2 1.41-.59l7.78-7.78 2.81-2.81c.8-.78.8-2.07 0-2.86zM5.41 20L4 18.59l7.72-7.72 1.47 1.35L5.41 20z\"/>\n",
              "  </svg>\n",
              "      </button>\n",
              "      \n",
              "  <style>\n",
              "    .colab-df-container {\n",
              "      display:flex;\n",
              "      flex-wrap:wrap;\n",
              "      gap: 12px;\n",
              "    }\n",
              "\n",
              "    .colab-df-convert {\n",
              "      background-color: #E8F0FE;\n",
              "      border: none;\n",
              "      border-radius: 50%;\n",
              "      cursor: pointer;\n",
              "      display: none;\n",
              "      fill: #1967D2;\n",
              "      height: 32px;\n",
              "      padding: 0 0 0 0;\n",
              "      width: 32px;\n",
              "    }\n",
              "\n",
              "    .colab-df-convert:hover {\n",
              "      background-color: #E2EBFA;\n",
              "      box-shadow: 0px 1px 2px rgba(60, 64, 67, 0.3), 0px 1px 3px 1px rgba(60, 64, 67, 0.15);\n",
              "      fill: #174EA6;\n",
              "    }\n",
              "\n",
              "    [theme=dark] .colab-df-convert {\n",
              "      background-color: #3B4455;\n",
              "      fill: #D2E3FC;\n",
              "    }\n",
              "\n",
              "    [theme=dark] .colab-df-convert:hover {\n",
              "      background-color: #434B5C;\n",
              "      box-shadow: 0px 1px 3px 1px rgba(0, 0, 0, 0.15);\n",
              "      filter: drop-shadow(0px 1px 2px rgba(0, 0, 0, 0.3));\n",
              "      fill: #FFFFFF;\n",
              "    }\n",
              "  </style>\n",
              "\n",
              "      <script>\n",
              "        const buttonEl =\n",
              "          document.querySelector('#df-161350a3-ac9f-46cd-a961-d3c96267b66e button.colab-df-convert');\n",
              "        buttonEl.style.display =\n",
              "          google.colab.kernel.accessAllowed ? 'block' : 'none';\n",
              "\n",
              "        async function convertToInteractive(key) {\n",
              "          const element = document.querySelector('#df-161350a3-ac9f-46cd-a961-d3c96267b66e');\n",
              "          const dataTable =\n",
              "            await google.colab.kernel.invokeFunction('convertToInteractive',\n",
              "                                                     [key], {});\n",
              "          if (!dataTable) return;\n",
              "\n",
              "          const docLinkHtml = 'Like what you see? Visit the ' +\n",
              "            '<a target=\"_blank\" href=https://colab.research.google.com/notebooks/data_table.ipynb>data table notebook</a>'\n",
              "            + ' to learn more about interactive tables.';\n",
              "          element.innerHTML = '';\n",
              "          dataTable['output_type'] = 'display_data';\n",
              "          await google.colab.output.renderOutput(dataTable, element);\n",
              "          const docLink = document.createElement('div');\n",
              "          docLink.innerHTML = docLinkHtml;\n",
              "          element.appendChild(docLink);\n",
              "        }\n",
              "      </script>\n",
              "    </div>\n",
              "  </div>\n",
              "  "
            ],
            "application/vnd.google.colaboratory.module+javascript": "\n      import \"https://ssl.gstatic.com/colaboratory/data_table/99dac6621f6ae8c4/data_table.js\";\n\n      window.createDataTable({\n        data: [[{\n            'v': 0,\n            'f': \"0\",\n        },\n\"Afghanistan\",\n{\n            'v': 1952,\n            'f': \"1952\",\n        },\n{\n            'v': 8425333,\n            'f': \"8425333\",\n        }],\n [{\n            'v': 1,\n            'f': \"1\",\n        },\n\"Afghanistan\",\n{\n            'v': 1957,\n            'f': \"1957\",\n        },\n{\n            'v': 9240934,\n            'f': \"9240934\",\n        }],\n [{\n            'v': 2,\n            'f': \"2\",\n        },\n\"Afghanistan\",\n{\n            'v': 1962,\n            'f': \"1962\",\n        },\n{\n            'v': 10267083,\n            'f': \"10267083\",\n        }],\n [{\n            'v': 3,\n            'f': \"3\",\n        },\n\"Afghanistan\",\n{\n            'v': 1967,\n            'f': \"1967\",\n        },\n{\n            'v': 11537966,\n            'f': \"11537966\",\n        }],\n [{\n            'v': 4,\n            'f': \"4\",\n        },\n\"Afghanistan\",\n{\n            'v': 1972,\n            'f': \"1972\",\n        },\n{\n            'v': 13079460,\n            'f': \"13079460\",\n        }]],\n        columns: [[\"number\", \"index\"], [\"string\", \"country\"], [\"number\", \"year\"], [\"number\", \"population\"]],\n        columnOptions: [{\"width\": \"1px\", \"className\": \"index_column\"}],\n        rowsPerPage: 25,\n        helpUrl: \"https://colab.research.google.com/notebooks/data_table.ipynb\",\n        suppressOutputScrolling: true,\n        minimumWidth: undefined,\n      });\n    "
          },
          "metadata": {},
          "execution_count": 28
        }
      ]
    },
    {
      "cell_type": "code",
      "source": [
        "# 5 últimos registros do Dataframe\n",
        "df.tail()"
      ],
      "metadata": {
        "colab": {
          "base_uri": "https://localhost:8080/",
          "height": 196
        },
        "id": "H50lBoqOzST7",
        "outputId": "71364a73-900b-4a1d-807d-77271208515d"
      },
      "execution_count": null,
      "outputs": [
        {
          "output_type": "execute_result",
          "data": {
            "text/plain": [
              "       country  year  population\n",
              "1699  Zimbabwe  1987     9216418\n",
              "1700  Zimbabwe  1992    10704340\n",
              "1701  Zimbabwe  1997    11404948\n",
              "1702  Zimbabwe  2002    11926563\n",
              "1703  Zimbabwe  2007    12311143"
            ],
            "text/html": [
              "\n",
              "  <div id=\"df-4e6846d2-74af-4b25-b9cc-7e0faab2eb2f\">\n",
              "    <div class=\"colab-df-container\">\n",
              "      <div>\n",
              "<style scoped>\n",
              "    .dataframe tbody tr th:only-of-type {\n",
              "        vertical-align: middle;\n",
              "    }\n",
              "\n",
              "    .dataframe tbody tr th {\n",
              "        vertical-align: top;\n",
              "    }\n",
              "\n",
              "    .dataframe thead th {\n",
              "        text-align: right;\n",
              "    }\n",
              "</style>\n",
              "<table border=\"1\" class=\"dataframe\">\n",
              "  <thead>\n",
              "    <tr style=\"text-align: right;\">\n",
              "      <th></th>\n",
              "      <th>country</th>\n",
              "      <th>year</th>\n",
              "      <th>population</th>\n",
              "    </tr>\n",
              "  </thead>\n",
              "  <tbody>\n",
              "    <tr>\n",
              "      <th>1699</th>\n",
              "      <td>Zimbabwe</td>\n",
              "      <td>1987</td>\n",
              "      <td>9216418</td>\n",
              "    </tr>\n",
              "    <tr>\n",
              "      <th>1700</th>\n",
              "      <td>Zimbabwe</td>\n",
              "      <td>1992</td>\n",
              "      <td>10704340</td>\n",
              "    </tr>\n",
              "    <tr>\n",
              "      <th>1701</th>\n",
              "      <td>Zimbabwe</td>\n",
              "      <td>1997</td>\n",
              "      <td>11404948</td>\n",
              "    </tr>\n",
              "    <tr>\n",
              "      <th>1702</th>\n",
              "      <td>Zimbabwe</td>\n",
              "      <td>2002</td>\n",
              "      <td>11926563</td>\n",
              "    </tr>\n",
              "    <tr>\n",
              "      <th>1703</th>\n",
              "      <td>Zimbabwe</td>\n",
              "      <td>2007</td>\n",
              "      <td>12311143</td>\n",
              "    </tr>\n",
              "  </tbody>\n",
              "</table>\n",
              "</div>\n",
              "      <button class=\"colab-df-convert\" onclick=\"convertToInteractive('df-4e6846d2-74af-4b25-b9cc-7e0faab2eb2f')\"\n",
              "              title=\"Convert this dataframe to an interactive table.\"\n",
              "              style=\"display:none;\">\n",
              "        \n",
              "  <svg xmlns=\"http://www.w3.org/2000/svg\" height=\"24px\"viewBox=\"0 0 24 24\"\n",
              "       width=\"24px\">\n",
              "    <path d=\"M0 0h24v24H0V0z\" fill=\"none\"/>\n",
              "    <path d=\"M18.56 5.44l.94 2.06.94-2.06 2.06-.94-2.06-.94-.94-2.06-.94 2.06-2.06.94zm-11 1L8.5 8.5l.94-2.06 2.06-.94-2.06-.94L8.5 2.5l-.94 2.06-2.06.94zm10 10l.94 2.06.94-2.06 2.06-.94-2.06-.94-.94-2.06-.94 2.06-2.06.94z\"/><path d=\"M17.41 7.96l-1.37-1.37c-.4-.4-.92-.59-1.43-.59-.52 0-1.04.2-1.43.59L10.3 9.45l-7.72 7.72c-.78.78-.78 2.05 0 2.83L4 21.41c.39.39.9.59 1.41.59.51 0 1.02-.2 1.41-.59l7.78-7.78 2.81-2.81c.8-.78.8-2.07 0-2.86zM5.41 20L4 18.59l7.72-7.72 1.47 1.35L5.41 20z\"/>\n",
              "  </svg>\n",
              "      </button>\n",
              "      \n",
              "  <style>\n",
              "    .colab-df-container {\n",
              "      display:flex;\n",
              "      flex-wrap:wrap;\n",
              "      gap: 12px;\n",
              "    }\n",
              "\n",
              "    .colab-df-convert {\n",
              "      background-color: #E8F0FE;\n",
              "      border: none;\n",
              "      border-radius: 50%;\n",
              "      cursor: pointer;\n",
              "      display: none;\n",
              "      fill: #1967D2;\n",
              "      height: 32px;\n",
              "      padding: 0 0 0 0;\n",
              "      width: 32px;\n",
              "    }\n",
              "\n",
              "    .colab-df-convert:hover {\n",
              "      background-color: #E2EBFA;\n",
              "      box-shadow: 0px 1px 2px rgba(60, 64, 67, 0.3), 0px 1px 3px 1px rgba(60, 64, 67, 0.15);\n",
              "      fill: #174EA6;\n",
              "    }\n",
              "\n",
              "    [theme=dark] .colab-df-convert {\n",
              "      background-color: #3B4455;\n",
              "      fill: #D2E3FC;\n",
              "    }\n",
              "\n",
              "    [theme=dark] .colab-df-convert:hover {\n",
              "      background-color: #434B5C;\n",
              "      box-shadow: 0px 1px 3px 1px rgba(0, 0, 0, 0.15);\n",
              "      filter: drop-shadow(0px 1px 2px rgba(0, 0, 0, 0.3));\n",
              "      fill: #FFFFFF;\n",
              "    }\n",
              "  </style>\n",
              "\n",
              "      <script>\n",
              "        const buttonEl =\n",
              "          document.querySelector('#df-4e6846d2-74af-4b25-b9cc-7e0faab2eb2f button.colab-df-convert');\n",
              "        buttonEl.style.display =\n",
              "          google.colab.kernel.accessAllowed ? 'block' : 'none';\n",
              "\n",
              "        async function convertToInteractive(key) {\n",
              "          const element = document.querySelector('#df-4e6846d2-74af-4b25-b9cc-7e0faab2eb2f');\n",
              "          const dataTable =\n",
              "            await google.colab.kernel.invokeFunction('convertToInteractive',\n",
              "                                                     [key], {});\n",
              "          if (!dataTable) return;\n",
              "\n",
              "          const docLinkHtml = 'Like what you see? Visit the ' +\n",
              "            '<a target=\"_blank\" href=https://colab.research.google.com/notebooks/data_table.ipynb>data table notebook</a>'\n",
              "            + ' to learn more about interactive tables.';\n",
              "          element.innerHTML = '';\n",
              "          dataTable['output_type'] = 'display_data';\n",
              "          await google.colab.output.renderOutput(dataTable, element);\n",
              "          const docLink = document.createElement('div');\n",
              "          docLink.innerHTML = docLinkHtml;\n",
              "          element.appendChild(docLink);\n",
              "        }\n",
              "      </script>\n",
              "    </div>\n",
              "  </div>\n",
              "  "
            ],
            "application/vnd.google.colaboratory.module+javascript": "\n      import \"https://ssl.gstatic.com/colaboratory/data_table/99dac6621f6ae8c4/data_table.js\";\n\n      window.createDataTable({\n        data: [[{\n            'v': 1699,\n            'f': \"1699\",\n        },\n\"Zimbabwe\",\n{\n            'v': 1987,\n            'f': \"1987\",\n        },\n{\n            'v': 9216418,\n            'f': \"9216418\",\n        }],\n [{\n            'v': 1700,\n            'f': \"1700\",\n        },\n\"Zimbabwe\",\n{\n            'v': 1992,\n            'f': \"1992\",\n        },\n{\n            'v': 10704340,\n            'f': \"10704340\",\n        }],\n [{\n            'v': 1701,\n            'f': \"1701\",\n        },\n\"Zimbabwe\",\n{\n            'v': 1997,\n            'f': \"1997\",\n        },\n{\n            'v': 11404948,\n            'f': \"11404948\",\n        }],\n [{\n            'v': 1702,\n            'f': \"1702\",\n        },\n\"Zimbabwe\",\n{\n            'v': 2002,\n            'f': \"2002\",\n        },\n{\n            'v': 11926563,\n            'f': \"11926563\",\n        }],\n [{\n            'v': 1703,\n            'f': \"1703\",\n        },\n\"Zimbabwe\",\n{\n            'v': 2007,\n            'f': \"2007\",\n        },\n{\n            'v': 12311143,\n            'f': \"12311143\",\n        }]],\n        columns: [[\"number\", \"index\"], [\"string\", \"country\"], [\"number\", \"year\"], [\"number\", \"population\"]],\n        columnOptions: [{\"width\": \"1px\", \"className\": \"index_column\"}],\n        rowsPerPage: 25,\n        helpUrl: \"https://colab.research.google.com/notebooks/data_table.ipynb\",\n        suppressOutputScrolling: true,\n        minimumWidth: undefined,\n      });\n    "
          },
          "metadata": {},
          "execution_count": 29
        }
      ]
    },
    {
      "cell_type": "code",
      "source": [
        "# Informações dos registros do Dataframe, geralmente utilizado para\n",
        "# ver se há valores nulos (null)\n",
        "df.info()"
      ],
      "metadata": {
        "colab": {
          "base_uri": "https://localhost:8080/"
        },
        "id": "4u7-DqH1zU56",
        "outputId": "b4c0022d-7cb2-42b0-8013-aee5dd0891a3"
      },
      "execution_count": null,
      "outputs": [
        {
          "output_type": "stream",
          "name": "stdout",
          "text": [
            "<class 'pandas.core.frame.DataFrame'>\n",
            "RangeIndex: 1704 entries, 0 to 1703\n",
            "Data columns (total 3 columns):\n",
            " #   Column      Non-Null Count  Dtype \n",
            "---  ------      --------------  ----- \n",
            " 0   country     1704 non-null   object\n",
            " 1   year        1704 non-null   int64 \n",
            " 2   population  1704 non-null   int64 \n",
            "dtypes: int64(2), object(1)\n",
            "memory usage: 40.1+ KB\n"
          ]
        }
      ]
    },
    {
      "cell_type": "code",
      "source": [
        "# Informações estatísticas do Dataframe\n",
        "df.describe()"
      ],
      "metadata": {
        "colab": {
          "base_uri": "https://localhost:8080/",
          "height": 260
        },
        "id": "JDjXXN5TzYrx",
        "outputId": "593429af-af93-4f98-80cb-9bcbdf1b4cc9"
      },
      "execution_count": null,
      "outputs": [
        {
          "output_type": "execute_result",
          "data": {
            "text/plain": [
              "             year    population\n",
              "count  1704.00000  1.704000e+03\n",
              "mean   1979.50000  2.960121e+07\n",
              "std      17.26533  1.061579e+08\n",
              "min    1952.00000  6.001100e+04\n",
              "25%    1965.75000  2.793664e+06\n",
              "50%    1979.50000  7.023596e+06\n",
              "75%    1993.25000  1.958522e+07\n",
              "max    2007.00000  1.318683e+09"
            ],
            "text/html": [
              "\n",
              "  <div id=\"df-6b006d86-4c80-46ff-8ee3-d63eb0724f2d\">\n",
              "    <div class=\"colab-df-container\">\n",
              "      <div>\n",
              "<style scoped>\n",
              "    .dataframe tbody tr th:only-of-type {\n",
              "        vertical-align: middle;\n",
              "    }\n",
              "\n",
              "    .dataframe tbody tr th {\n",
              "        vertical-align: top;\n",
              "    }\n",
              "\n",
              "    .dataframe thead th {\n",
              "        text-align: right;\n",
              "    }\n",
              "</style>\n",
              "<table border=\"1\" class=\"dataframe\">\n",
              "  <thead>\n",
              "    <tr style=\"text-align: right;\">\n",
              "      <th></th>\n",
              "      <th>year</th>\n",
              "      <th>population</th>\n",
              "    </tr>\n",
              "  </thead>\n",
              "  <tbody>\n",
              "    <tr>\n",
              "      <th>count</th>\n",
              "      <td>1704.00000</td>\n",
              "      <td>1.704000e+03</td>\n",
              "    </tr>\n",
              "    <tr>\n",
              "      <th>mean</th>\n",
              "      <td>1979.50000</td>\n",
              "      <td>2.960121e+07</td>\n",
              "    </tr>\n",
              "    <tr>\n",
              "      <th>std</th>\n",
              "      <td>17.26533</td>\n",
              "      <td>1.061579e+08</td>\n",
              "    </tr>\n",
              "    <tr>\n",
              "      <th>min</th>\n",
              "      <td>1952.00000</td>\n",
              "      <td>6.001100e+04</td>\n",
              "    </tr>\n",
              "    <tr>\n",
              "      <th>25%</th>\n",
              "      <td>1965.75000</td>\n",
              "      <td>2.793664e+06</td>\n",
              "    </tr>\n",
              "    <tr>\n",
              "      <th>50%</th>\n",
              "      <td>1979.50000</td>\n",
              "      <td>7.023596e+06</td>\n",
              "    </tr>\n",
              "    <tr>\n",
              "      <th>75%</th>\n",
              "      <td>1993.25000</td>\n",
              "      <td>1.958522e+07</td>\n",
              "    </tr>\n",
              "    <tr>\n",
              "      <th>max</th>\n",
              "      <td>2007.00000</td>\n",
              "      <td>1.318683e+09</td>\n",
              "    </tr>\n",
              "  </tbody>\n",
              "</table>\n",
              "</div>\n",
              "      <button class=\"colab-df-convert\" onclick=\"convertToInteractive('df-6b006d86-4c80-46ff-8ee3-d63eb0724f2d')\"\n",
              "              title=\"Convert this dataframe to an interactive table.\"\n",
              "              style=\"display:none;\">\n",
              "        \n",
              "  <svg xmlns=\"http://www.w3.org/2000/svg\" height=\"24px\"viewBox=\"0 0 24 24\"\n",
              "       width=\"24px\">\n",
              "    <path d=\"M0 0h24v24H0V0z\" fill=\"none\"/>\n",
              "    <path d=\"M18.56 5.44l.94 2.06.94-2.06 2.06-.94-2.06-.94-.94-2.06-.94 2.06-2.06.94zm-11 1L8.5 8.5l.94-2.06 2.06-.94-2.06-.94L8.5 2.5l-.94 2.06-2.06.94zm10 10l.94 2.06.94-2.06 2.06-.94-2.06-.94-.94-2.06-.94 2.06-2.06.94z\"/><path d=\"M17.41 7.96l-1.37-1.37c-.4-.4-.92-.59-1.43-.59-.52 0-1.04.2-1.43.59L10.3 9.45l-7.72 7.72c-.78.78-.78 2.05 0 2.83L4 21.41c.39.39.9.59 1.41.59.51 0 1.02-.2 1.41-.59l7.78-7.78 2.81-2.81c.8-.78.8-2.07 0-2.86zM5.41 20L4 18.59l7.72-7.72 1.47 1.35L5.41 20z\"/>\n",
              "  </svg>\n",
              "      </button>\n",
              "      \n",
              "  <style>\n",
              "    .colab-df-container {\n",
              "      display:flex;\n",
              "      flex-wrap:wrap;\n",
              "      gap: 12px;\n",
              "    }\n",
              "\n",
              "    .colab-df-convert {\n",
              "      background-color: #E8F0FE;\n",
              "      border: none;\n",
              "      border-radius: 50%;\n",
              "      cursor: pointer;\n",
              "      display: none;\n",
              "      fill: #1967D2;\n",
              "      height: 32px;\n",
              "      padding: 0 0 0 0;\n",
              "      width: 32px;\n",
              "    }\n",
              "\n",
              "    .colab-df-convert:hover {\n",
              "      background-color: #E2EBFA;\n",
              "      box-shadow: 0px 1px 2px rgba(60, 64, 67, 0.3), 0px 1px 3px 1px rgba(60, 64, 67, 0.15);\n",
              "      fill: #174EA6;\n",
              "    }\n",
              "\n",
              "    [theme=dark] .colab-df-convert {\n",
              "      background-color: #3B4455;\n",
              "      fill: #D2E3FC;\n",
              "    }\n",
              "\n",
              "    [theme=dark] .colab-df-convert:hover {\n",
              "      background-color: #434B5C;\n",
              "      box-shadow: 0px 1px 3px 1px rgba(0, 0, 0, 0.15);\n",
              "      filter: drop-shadow(0px 1px 2px rgba(0, 0, 0, 0.3));\n",
              "      fill: #FFFFFF;\n",
              "    }\n",
              "  </style>\n",
              "\n",
              "      <script>\n",
              "        const buttonEl =\n",
              "          document.querySelector('#df-6b006d86-4c80-46ff-8ee3-d63eb0724f2d button.colab-df-convert');\n",
              "        buttonEl.style.display =\n",
              "          google.colab.kernel.accessAllowed ? 'block' : 'none';\n",
              "\n",
              "        async function convertToInteractive(key) {\n",
              "          const element = document.querySelector('#df-6b006d86-4c80-46ff-8ee3-d63eb0724f2d');\n",
              "          const dataTable =\n",
              "            await google.colab.kernel.invokeFunction('convertToInteractive',\n",
              "                                                     [key], {});\n",
              "          if (!dataTable) return;\n",
              "\n",
              "          const docLinkHtml = 'Like what you see? Visit the ' +\n",
              "            '<a target=\"_blank\" href=https://colab.research.google.com/notebooks/data_table.ipynb>data table notebook</a>'\n",
              "            + ' to learn more about interactive tables.';\n",
              "          element.innerHTML = '';\n",
              "          dataTable['output_type'] = 'display_data';\n",
              "          await google.colab.output.renderOutput(dataTable, element);\n",
              "          const docLink = document.createElement('div');\n",
              "          docLink.innerHTML = docLinkHtml;\n",
              "          element.appendChild(docLink);\n",
              "        }\n",
              "      </script>\n",
              "    </div>\n",
              "  </div>\n",
              "  "
            ],
            "application/vnd.google.colaboratory.module+javascript": "\n      import \"https://ssl.gstatic.com/colaboratory/data_table/99dac6621f6ae8c4/data_table.js\";\n\n      window.createDataTable({\n        data: [[\"count\",\n{\n            'v': 1704.0,\n            'f': \"1704.0\",\n        },\n{\n            'v': 1704.0,\n            'f': \"1704.0\",\n        }],\n [\"mean\",\n{\n            'v': 1979.5,\n            'f': \"1979.5\",\n        },\n{\n            'v': 29601212.324530516,\n            'f': \"29601212.324530516\",\n        }],\n [\"std\",\n{\n            'v': 17.265329508973615,\n            'f': \"17.265329508973615\",\n        },\n{\n            'v': 106157896.74391477,\n            'f': \"106157896.74391477\",\n        }],\n [\"min\",\n{\n            'v': 1952.0,\n            'f': \"1952.0\",\n        },\n{\n            'v': 60011.0,\n            'f': \"60011.0\",\n        }],\n [\"25%\",\n{\n            'v': 1965.75,\n            'f': \"1965.75\",\n        },\n{\n            'v': 2793664.0,\n            'f': \"2793664.0\",\n        }],\n [\"50%\",\n{\n            'v': 1979.5,\n            'f': \"1979.5\",\n        },\n{\n            'v': 7023595.5,\n            'f': \"7023595.5\",\n        }],\n [\"75%\",\n{\n            'v': 1993.25,\n            'f': \"1993.25\",\n        },\n{\n            'v': 19585221.75,\n            'f': \"19585221.75\",\n        }],\n [\"max\",\n{\n            'v': 2007.0,\n            'f': \"2007.0\",\n        },\n{\n            'v': 1318683096.0,\n            'f': \"1318683096.0\",\n        }]],\n        columns: [[\"string\", \"index\"], [\"number\", \"year\"], [\"number\", \"population\"]],\n        columnOptions: [{\"width\": \"1px\", \"className\": \"index_column\"}],\n        rowsPerPage: 25,\n        helpUrl: \"https://colab.research.google.com/notebooks/data_table.ipynb\",\n        suppressOutputScrolling: true,\n        minimumWidth: undefined,\n      });\n    "
          },
          "metadata": {},
          "execution_count": 31
        }
      ]
    },
    {
      "cell_type": "code",
      "source": [
        "# Acessando colunas do Dataframe - duas formas\n",
        "df['country']\n",
        "df.country"
      ],
      "metadata": {
        "colab": {
          "base_uri": "https://localhost:8080/"
        },
        "id": "cyMwe89az3gB",
        "outputId": "9ee1ea8c-f8bd-4474-ef2b-043df1bea13f"
      },
      "execution_count": null,
      "outputs": [
        {
          "output_type": "execute_result",
          "data": {
            "text/plain": [
              "0       Afghanistan\n",
              "1       Afghanistan\n",
              "2       Afghanistan\n",
              "3       Afghanistan\n",
              "4       Afghanistan\n",
              "           ...     \n",
              "1699       Zimbabwe\n",
              "1700       Zimbabwe\n",
              "1701       Zimbabwe\n",
              "1702       Zimbabwe\n",
              "1703       Zimbabwe\n",
              "Name: country, Length: 1704, dtype: object"
            ]
          },
          "metadata": {},
          "execution_count": 32
        }
      ]
    },
    {
      "cell_type": "code",
      "source": [
        "# Resgatando os valores únicos de uma coluna DataFrame na forma de array\n",
        "df.country.unique()"
      ],
      "metadata": {
        "colab": {
          "base_uri": "https://localhost:8080/"
        },
        "id": "HYN4p5vQ0QpJ",
        "outputId": "17f3f0e1-3601-4b7d-f020-14e5758526f0"
      },
      "execution_count": null,
      "outputs": [
        {
          "output_type": "execute_result",
          "data": {
            "text/plain": [
              "array(['Afghanistan', 'Albania', 'Algeria', 'Angola', 'Argentina',\n",
              "       'Australia', 'Austria', 'Bahrain', 'Bangladesh', 'Belgium',\n",
              "       'Benin', 'Bolivia', 'Bosnia and Herzegovina', 'Botswana', 'Brazil',\n",
              "       'Bulgaria', 'Burkina Faso', 'Burundi', 'Cambodia', 'Cameroon',\n",
              "       'Canada', 'Central African Republic', 'Chad', 'Chile', 'China',\n",
              "       'Colombia', 'Comoros', 'Congo, Dem. Rep.', 'Congo, Rep.',\n",
              "       'Costa Rica', \"Cote d'Ivoire\", 'Croatia', 'Cuba', 'Czech Republic',\n",
              "       'Denmark', 'Djibouti', 'Dominican Republic', 'Ecuador', 'Egypt',\n",
              "       'El Salvador', 'Equatorial Guinea', 'Eritrea', 'Ethiopia',\n",
              "       'Finland', 'France', 'Gabon', 'Gambia', 'Germany', 'Ghana',\n",
              "       'Greece', 'Guatemala', 'Guinea', 'Guinea-Bissau', 'Haiti',\n",
              "       'Honduras', 'Hong Kong, China', 'Hungary', 'Iceland', 'India',\n",
              "       'Indonesia', 'Iran', 'Iraq', 'Ireland', 'Israel', 'Italy',\n",
              "       'Jamaica', 'Japan', 'Jordan', 'Kenya', 'Korea, Dem. Rep.',\n",
              "       'Korea, Rep.', 'Kuwait', 'Lebanon', 'Lesotho', 'Liberia', 'Libya',\n",
              "       'Madagascar', 'Malawi', 'Malaysia', 'Mali', 'Mauritania',\n",
              "       'Mauritius', 'Mexico', 'Mongolia', 'Montenegro', 'Morocco',\n",
              "       'Mozambique', 'Myanmar', 'Namibia', 'Nepal', 'Netherlands',\n",
              "       'New Zealand', 'Nicaragua', 'Niger', 'Nigeria', 'Norway', 'Oman',\n",
              "       'Pakistan', 'Panama', 'Paraguay', 'Peru', 'Philippines', 'Poland',\n",
              "       'Portugal', 'Puerto Rico', 'Reunion', 'Romania', 'Rwanda',\n",
              "       'Sao Tome and Principe', 'Saudi Arabia', 'Senegal', 'Serbia',\n",
              "       'Sierra Leone', 'Singapore', 'Slovak Republic', 'Slovenia',\n",
              "       'Somalia', 'South Africa', 'Spain', 'Sri Lanka', 'Sudan',\n",
              "       'Swaziland', 'Sweden', 'Switzerland', 'Syria', 'Taiwan',\n",
              "       'Tanzania', 'Thailand', 'Togo', 'Trinidad and Tobago', 'Tunisia',\n",
              "       'Turkey', 'Uganda', 'United Kingdom', 'United States', 'Uruguay',\n",
              "       'Venezuela', 'Vietnam', 'West Bank and Gaza', 'Yemen, Rep.',\n",
              "       'Zambia', 'Zimbabwe'], dtype=object)"
            ]
          },
          "metadata": {},
          "execution_count": 33
        }
      ]
    },
    {
      "cell_type": "code",
      "source": [
        "# Filtrando um atributo de uma coluna do Dataframe\n",
        "df[df.country == 'Brazil']"
      ],
      "metadata": {
        "colab": {
          "base_uri": "https://localhost:8080/",
          "height": 345
        },
        "id": "RkoKpFMb07xX",
        "outputId": "7e3d4667-46d8-43e6-b2f8-c7b516c33f81"
      },
      "execution_count": null,
      "outputs": [
        {
          "output_type": "execute_result",
          "data": {
            "text/plain": [
              "    country  year  population\n",
              "168  Brazil  1952    56602560\n",
              "169  Brazil  1957    65551171\n",
              "170  Brazil  1962    76039390\n",
              "171  Brazil  1967    88049823\n",
              "172  Brazil  1972   100840058\n",
              "173  Brazil  1977   114313951\n",
              "174  Brazil  1982   128962939\n",
              "175  Brazil  1987   142938076\n",
              "176  Brazil  1992   155975974\n",
              "177  Brazil  1997   168546719\n",
              "178  Brazil  2002   179914212\n",
              "179  Brazil  2007   190010647"
            ],
            "text/html": [
              "\n",
              "  <div id=\"df-5919c34a-b8aa-4fde-98dc-c9e89ff704c1\">\n",
              "    <div class=\"colab-df-container\">\n",
              "      <div>\n",
              "<style scoped>\n",
              "    .dataframe tbody tr th:only-of-type {\n",
              "        vertical-align: middle;\n",
              "    }\n",
              "\n",
              "    .dataframe tbody tr th {\n",
              "        vertical-align: top;\n",
              "    }\n",
              "\n",
              "    .dataframe thead th {\n",
              "        text-align: right;\n",
              "    }\n",
              "</style>\n",
              "<table border=\"1\" class=\"dataframe\">\n",
              "  <thead>\n",
              "    <tr style=\"text-align: right;\">\n",
              "      <th></th>\n",
              "      <th>country</th>\n",
              "      <th>year</th>\n",
              "      <th>population</th>\n",
              "    </tr>\n",
              "  </thead>\n",
              "  <tbody>\n",
              "    <tr>\n",
              "      <th>168</th>\n",
              "      <td>Brazil</td>\n",
              "      <td>1952</td>\n",
              "      <td>56602560</td>\n",
              "    </tr>\n",
              "    <tr>\n",
              "      <th>169</th>\n",
              "      <td>Brazil</td>\n",
              "      <td>1957</td>\n",
              "      <td>65551171</td>\n",
              "    </tr>\n",
              "    <tr>\n",
              "      <th>170</th>\n",
              "      <td>Brazil</td>\n",
              "      <td>1962</td>\n",
              "      <td>76039390</td>\n",
              "    </tr>\n",
              "    <tr>\n",
              "      <th>171</th>\n",
              "      <td>Brazil</td>\n",
              "      <td>1967</td>\n",
              "      <td>88049823</td>\n",
              "    </tr>\n",
              "    <tr>\n",
              "      <th>172</th>\n",
              "      <td>Brazil</td>\n",
              "      <td>1972</td>\n",
              "      <td>100840058</td>\n",
              "    </tr>\n",
              "    <tr>\n",
              "      <th>173</th>\n",
              "      <td>Brazil</td>\n",
              "      <td>1977</td>\n",
              "      <td>114313951</td>\n",
              "    </tr>\n",
              "    <tr>\n",
              "      <th>174</th>\n",
              "      <td>Brazil</td>\n",
              "      <td>1982</td>\n",
              "      <td>128962939</td>\n",
              "    </tr>\n",
              "    <tr>\n",
              "      <th>175</th>\n",
              "      <td>Brazil</td>\n",
              "      <td>1987</td>\n",
              "      <td>142938076</td>\n",
              "    </tr>\n",
              "    <tr>\n",
              "      <th>176</th>\n",
              "      <td>Brazil</td>\n",
              "      <td>1992</td>\n",
              "      <td>155975974</td>\n",
              "    </tr>\n",
              "    <tr>\n",
              "      <th>177</th>\n",
              "      <td>Brazil</td>\n",
              "      <td>1997</td>\n",
              "      <td>168546719</td>\n",
              "    </tr>\n",
              "    <tr>\n",
              "      <th>178</th>\n",
              "      <td>Brazil</td>\n",
              "      <td>2002</td>\n",
              "      <td>179914212</td>\n",
              "    </tr>\n",
              "    <tr>\n",
              "      <th>179</th>\n",
              "      <td>Brazil</td>\n",
              "      <td>2007</td>\n",
              "      <td>190010647</td>\n",
              "    </tr>\n",
              "  </tbody>\n",
              "</table>\n",
              "</div>\n",
              "      <button class=\"colab-df-convert\" onclick=\"convertToInteractive('df-5919c34a-b8aa-4fde-98dc-c9e89ff704c1')\"\n",
              "              title=\"Convert this dataframe to an interactive table.\"\n",
              "              style=\"display:none;\">\n",
              "        \n",
              "  <svg xmlns=\"http://www.w3.org/2000/svg\" height=\"24px\"viewBox=\"0 0 24 24\"\n",
              "       width=\"24px\">\n",
              "    <path d=\"M0 0h24v24H0V0z\" fill=\"none\"/>\n",
              "    <path d=\"M18.56 5.44l.94 2.06.94-2.06 2.06-.94-2.06-.94-.94-2.06-.94 2.06-2.06.94zm-11 1L8.5 8.5l.94-2.06 2.06-.94-2.06-.94L8.5 2.5l-.94 2.06-2.06.94zm10 10l.94 2.06.94-2.06 2.06-.94-2.06-.94-.94-2.06-.94 2.06-2.06.94z\"/><path d=\"M17.41 7.96l-1.37-1.37c-.4-.4-.92-.59-1.43-.59-.52 0-1.04.2-1.43.59L10.3 9.45l-7.72 7.72c-.78.78-.78 2.05 0 2.83L4 21.41c.39.39.9.59 1.41.59.51 0 1.02-.2 1.41-.59l7.78-7.78 2.81-2.81c.8-.78.8-2.07 0-2.86zM5.41 20L4 18.59l7.72-7.72 1.47 1.35L5.41 20z\"/>\n",
              "  </svg>\n",
              "      </button>\n",
              "      \n",
              "  <style>\n",
              "    .colab-df-container {\n",
              "      display:flex;\n",
              "      flex-wrap:wrap;\n",
              "      gap: 12px;\n",
              "    }\n",
              "\n",
              "    .colab-df-convert {\n",
              "      background-color: #E8F0FE;\n",
              "      border: none;\n",
              "      border-radius: 50%;\n",
              "      cursor: pointer;\n",
              "      display: none;\n",
              "      fill: #1967D2;\n",
              "      height: 32px;\n",
              "      padding: 0 0 0 0;\n",
              "      width: 32px;\n",
              "    }\n",
              "\n",
              "    .colab-df-convert:hover {\n",
              "      background-color: #E2EBFA;\n",
              "      box-shadow: 0px 1px 2px rgba(60, 64, 67, 0.3), 0px 1px 3px 1px rgba(60, 64, 67, 0.15);\n",
              "      fill: #174EA6;\n",
              "    }\n",
              "\n",
              "    [theme=dark] .colab-df-convert {\n",
              "      background-color: #3B4455;\n",
              "      fill: #D2E3FC;\n",
              "    }\n",
              "\n",
              "    [theme=dark] .colab-df-convert:hover {\n",
              "      background-color: #434B5C;\n",
              "      box-shadow: 0px 1px 3px 1px rgba(0, 0, 0, 0.15);\n",
              "      filter: drop-shadow(0px 1px 2px rgba(0, 0, 0, 0.3));\n",
              "      fill: #FFFFFF;\n",
              "    }\n",
              "  </style>\n",
              "\n",
              "      <script>\n",
              "        const buttonEl =\n",
              "          document.querySelector('#df-5919c34a-b8aa-4fde-98dc-c9e89ff704c1 button.colab-df-convert');\n",
              "        buttonEl.style.display =\n",
              "          google.colab.kernel.accessAllowed ? 'block' : 'none';\n",
              "\n",
              "        async function convertToInteractive(key) {\n",
              "          const element = document.querySelector('#df-5919c34a-b8aa-4fde-98dc-c9e89ff704c1');\n",
              "          const dataTable =\n",
              "            await google.colab.kernel.invokeFunction('convertToInteractive',\n",
              "                                                     [key], {});\n",
              "          if (!dataTable) return;\n",
              "\n",
              "          const docLinkHtml = 'Like what you see? Visit the ' +\n",
              "            '<a target=\"_blank\" href=https://colab.research.google.com/notebooks/data_table.ipynb>data table notebook</a>'\n",
              "            + ' to learn more about interactive tables.';\n",
              "          element.innerHTML = '';\n",
              "          dataTable['output_type'] = 'display_data';\n",
              "          await google.colab.output.renderOutput(dataTable, element);\n",
              "          const docLink = document.createElement('div');\n",
              "          docLink.innerHTML = docLinkHtml;\n",
              "          element.appendChild(docLink);\n",
              "        }\n",
              "      </script>\n",
              "    </div>\n",
              "  </div>\n",
              "  "
            ],
            "application/vnd.google.colaboratory.module+javascript": "\n      import \"https://ssl.gstatic.com/colaboratory/data_table/99dac6621f6ae8c4/data_table.js\";\n\n      window.createDataTable({\n        data: [[{\n            'v': 168,\n            'f': \"168\",\n        },\n\"Brazil\",\n{\n            'v': 1952,\n            'f': \"1952\",\n        },\n{\n            'v': 56602560,\n            'f': \"56602560\",\n        }],\n [{\n            'v': 169,\n            'f': \"169\",\n        },\n\"Brazil\",\n{\n            'v': 1957,\n            'f': \"1957\",\n        },\n{\n            'v': 65551171,\n            'f': \"65551171\",\n        }],\n [{\n            'v': 170,\n            'f': \"170\",\n        },\n\"Brazil\",\n{\n            'v': 1962,\n            'f': \"1962\",\n        },\n{\n            'v': 76039390,\n            'f': \"76039390\",\n        }],\n [{\n            'v': 171,\n            'f': \"171\",\n        },\n\"Brazil\",\n{\n            'v': 1967,\n            'f': \"1967\",\n        },\n{\n            'v': 88049823,\n            'f': \"88049823\",\n        }],\n [{\n            'v': 172,\n            'f': \"172\",\n        },\n\"Brazil\",\n{\n            'v': 1972,\n            'f': \"1972\",\n        },\n{\n            'v': 100840058,\n            'f': \"100840058\",\n        }],\n [{\n            'v': 173,\n            'f': \"173\",\n        },\n\"Brazil\",\n{\n            'v': 1977,\n            'f': \"1977\",\n        },\n{\n            'v': 114313951,\n            'f': \"114313951\",\n        }],\n [{\n            'v': 174,\n            'f': \"174\",\n        },\n\"Brazil\",\n{\n            'v': 1982,\n            'f': \"1982\",\n        },\n{\n            'v': 128962939,\n            'f': \"128962939\",\n        }],\n [{\n            'v': 175,\n            'f': \"175\",\n        },\n\"Brazil\",\n{\n            'v': 1987,\n            'f': \"1987\",\n        },\n{\n            'v': 142938076,\n            'f': \"142938076\",\n        }],\n [{\n            'v': 176,\n            'f': \"176\",\n        },\n\"Brazil\",\n{\n            'v': 1992,\n            'f': \"1992\",\n        },\n{\n            'v': 155975974,\n            'f': \"155975974\",\n        }],\n [{\n            'v': 177,\n            'f': \"177\",\n        },\n\"Brazil\",\n{\n            'v': 1997,\n            'f': \"1997\",\n        },\n{\n            'v': 168546719,\n            'f': \"168546719\",\n        }],\n [{\n            'v': 178,\n            'f': \"178\",\n        },\n\"Brazil\",\n{\n            'v': 2002,\n            'f': \"2002\",\n        },\n{\n            'v': 179914212,\n            'f': \"179914212\",\n        }],\n [{\n            'v': 179,\n            'f': \"179\",\n        },\n\"Brazil\",\n{\n            'v': 2007,\n            'f': \"2007\",\n        },\n{\n            'v': 190010647,\n            'f': \"190010647\",\n        }]],\n        columns: [[\"number\", \"index\"], [\"string\", \"country\"], [\"number\", \"year\"], [\"number\", \"population\"]],\n        columnOptions: [{\"width\": \"1px\", \"className\": \"index_column\"}],\n        rowsPerPage: 25,\n        helpUrl: \"https://colab.research.google.com/notebooks/data_table.ipynb\",\n        suppressOutputScrolling: true,\n        minimumWidth: undefined,\n      });\n    "
          },
          "metadata": {},
          "execution_count": 34
        }
      ]
    },
    {
      "cell_type": "markdown",
      "source": [
        "# Trabalhando com Plotagens"
      ],
      "metadata": {
        "id": "MdnEpWsP1gs9"
      }
    },
    {
      "cell_type": "code",
      "source": [
        "import matplotlib.pyplot as plt"
      ],
      "metadata": {
        "id": "uHizWkqU1dIo"
      },
      "execution_count": null,
      "outputs": []
    },
    {
      "cell_type": "code",
      "source": [
        "# Criando um gráfico da população do Brasil\n",
        "brazil = df[df.country == 'Brazil'].copy()\n",
        "usa = df[df.country == 'United States'].copy()\n",
        "canada = df[df.country == 'Canada'].copy()\n",
        "\n",
        "plt.plot(brazil.year, brazil.population, label='BR')\n",
        "plt.plot(usa.year, usa.population, label='USA')\n",
        "plt.legend()\n",
        "plt.ylabel('Population')\n",
        "plt.xlabel('Year')\n",
        "plt.show()"
      ],
      "metadata": {
        "colab": {
          "base_uri": "https://localhost:8080/",
          "height": 465
        },
        "id": "BfsLf1Nx216p",
        "outputId": "8f57e04e-acab-4c27-bdef-b7ad1ccb8156"
      },
      "execution_count": null,
      "outputs": [
        {
          "output_type": "display_data",
          "data": {
            "text/plain": [
              "<Figure size 640x480 with 1 Axes>"
            ],
            "image/png": "[encoded data removed]"
          },
          "metadata": {}
        }
      ]
    },
    {
      "cell_type": "markdown",
      "source": [
        "# Manipulando Colunas"
      ],
      "metadata": {
        "id": "O5ZFJJ3DH8ip"
      }
    },
    {
      "cell_type": "code",
      "source": [
        "#Selecionando a linha 0 [0,1,2...12] e coluna 2 [0,1,2]\n",
        "brazil.iloc[0, 2]"
      ],
      "metadata": {
        "colab": {
          "base_uri": "https://localhost:8080/"
        },
        "id": "c6y02FhqJKsx",
        "outputId": "bdab4991-732c-44d8-a8dd-a04001371032"
      },
      "execution_count": null,
      "outputs": [
        {
          "output_type": "execute_result",
          "data": {
            "text/plain": [
              "56602560"
            ]
          },
          "metadata": {},
          "execution_count": 37
        }
      ]
    },
    {
      "cell_type": "code",
      "source": [
        "# Criando uma coluna com a população relativa ao ano 1952 (population/primeira linha e última coluna)\n",
        "brazil['population_rel'] = brazil.population / brazil.iloc[0, 2]\n",
        "brazil"
      ],
      "metadata": {
        "colab": {
          "base_uri": "https://localhost:8080/",
          "height": 345
        },
        "id": "iUqS2Q3_H7Qi",
        "outputId": "f66fcc15-f474-498a-9073-64c8db753bba"
      },
      "execution_count": null,
      "outputs": [
        {
          "output_type": "execute_result",
          "data": {
            "text/plain": [
              "    country  year  population  population_rel\n",
              "168  Brazil  1952    56602560        1.000000\n",
              "169  Brazil  1957    65551171        1.158096\n",
              "170  Brazil  1962    76039390        1.343391\n",
              "171  Brazil  1967    88049823        1.555580\n",
              "172  Brazil  1972   100840058        1.781546\n",
              "173  Brazil  1977   114313951        2.019590\n",
              "174  Brazil  1982   128962939        2.278394\n",
              "175  Brazil  1987   142938076        2.525293\n",
              "176  Brazil  1992   155975974        2.755635\n",
              "177  Brazil  1997   168546719        2.977723\n",
              "178  Brazil  2002   179914212        3.178553\n",
              "179  Brazil  2007   190010647        3.356927"
            ],
            "text/html": [
              "\n",
              "  <div id=\"df-a980c27b-cfa9-414b-b2b2-881e9c1d44f7\">\n",
              "    <div class=\"colab-df-container\">\n",
              "      <div>\n",
              "<style scoped>\n",
              "    .dataframe tbody tr th:only-of-type {\n",
              "        vertical-align: middle;\n",
              "    }\n",
              "\n",
              "    .dataframe tbody tr th {\n",
              "        vertical-align: top;\n",
              "    }\n",
              "\n",
              "    .dataframe thead th {\n",
              "        text-align: right;\n",
              "    }\n",
              "</style>\n",
              "<table border=\"1\" class=\"dataframe\">\n",
              "  <thead>\n",
              "    <tr style=\"text-align: right;\">\n",
              "      <th></th>\n",
              "      <th>country</th>\n",
              "      <th>year</th>\n",
              "      <th>population</th>\n",
              "      <th>population_rel</th>\n",
              "    </tr>\n",
              "  </thead>\n",
              "  <tbody>\n",
              "    <tr>\n",
              "      <th>168</th>\n",
              "      <td>Brazil</td>\n",
              "      <td>1952</td>\n",
              "      <td>56602560</td>\n",
              "      <td>1.000000</td>\n",
              "    </tr>\n",
              "    <tr>\n",
              "      <th>169</th>\n",
              "      <td>Brazil</td>\n",
              "      <td>1957</td>\n",
              "      <td>65551171</td>\n",
              "      <td>1.158096</td>\n",
              "    </tr>\n",
              "    <tr>\n",
              "      <th>170</th>\n",
              "      <td>Brazil</td>\n",
              "      <td>1962</td>\n",
              "      <td>76039390</td>\n",
              "      <td>1.343391</td>\n",
              "    </tr>\n",
              "    <tr>\n",
              "      <th>171</th>\n",
              "      <td>Brazil</td>\n",
              "      <td>1967</td>\n",
              "      <td>88049823</td>\n",
              "      <td>1.555580</td>\n",
              "    </tr>\n",
              "    <tr>\n",
              "      <th>172</th>\n",
              "      <td>Brazil</td>\n",
              "      <td>1972</td>\n",
              "      <td>100840058</td>\n",
              "      <td>1.781546</td>\n",
              "    </tr>\n",
              "    <tr>\n",
              "      <th>173</th>\n",
              "      <td>Brazil</td>\n",
              "      <td>1977</td>\n",
              "      <td>114313951</td>\n",
              "      <td>2.019590</td>\n",
              "    </tr>\n",
              "    <tr>\n",
              "      <th>174</th>\n",
              "      <td>Brazil</td>\n",
              "      <td>1982</td>\n",
              "      <td>128962939</td>\n",
              "      <td>2.278394</td>\n",
              "    </tr>\n",
              "    <tr>\n",
              "      <th>175</th>\n",
              "      <td>Brazil</td>\n",
              "      <td>1987</td>\n",
              "      <td>142938076</td>\n",
              "      <td>2.525293</td>\n",
              "    </tr>\n",
              "    <tr>\n",
              "      <th>176</th>\n",
              "      <td>Brazil</td>\n",
              "      <td>1992</td>\n",
              "      <td>155975974</td>\n",
              "      <td>2.755635</td>\n",
              "    </tr>\n",
              "    <tr>\n",
              "      <th>177</th>\n",
              "      <td>Brazil</td>\n",
              "      <td>1997</td>\n",
              "      <td>168546719</td>\n",
              "      <td>2.977723</td>\n",
              "    </tr>\n",
              "    <tr>\n",
              "      <th>178</th>\n",
              "      <td>Brazil</td>\n",
              "      <td>2002</td>\n",
              "      <td>179914212</td>\n",
              "      <td>3.178553</td>\n",
              "    </tr>\n",
              "    <tr>\n",
              "      <th>179</th>\n",
              "      <td>Brazil</td>\n",
              "      <td>2007</td>\n",
              "      <td>190010647</td>\n",
              "      <td>3.356927</td>\n",
              "    </tr>\n",
              "  </tbody>\n",
              "</table>\n",
              "</div>\n",
              "      <button class=\"colab-df-convert\" onclick=\"convertToInteractive('df-a980c27b-cfa9-414b-b2b2-881e9c1d44f7')\"\n",
              "              title=\"Convert this dataframe to an interactive table.\"\n",
              "              style=\"display:none;\">\n",
              "        \n",
              "  <svg xmlns=\"http://www.w3.org/2000/svg\" height=\"24px\"viewBox=\"0 0 24 24\"\n",
              "       width=\"24px\">\n",
              "    <path d=\"M0 0h24v24H0V0z\" fill=\"none\"/>\n",
              "    <path d=\"M18.56 5.44l.94 2.06.94-2.06 2.06-.94-2.06-.94-.94-2.06-.94 2.06-2.06.94zm-11 1L8.5 8.5l.94-2.06 2.06-.94-2.06-.94L8.5 2.5l-.94 2.06-2.06.94zm10 10l.94 2.06.94-2.06 2.06-.94-2.06-.94-.94-2.06-.94 2.06-2.06.94z\"/><path d=\"M17.41 7.96l-1.37-1.37c-.4-.4-.92-.59-1.43-.59-.52 0-1.04.2-1.43.59L10.3 9.45l-7.72 7.72c-.78.78-.78 2.05 0 2.83L4 21.41c.39.39.9.59 1.41.59.51 0 1.02-.2 1.41-.59l7.78-7.78 2.81-2.81c.8-.78.8-2.07 0-2.86zM5.41 20L4 18.59l7.72-7.72 1.47 1.35L5.41 20z\"/>\n",
              "  </svg>\n",
              "      </button>\n",
              "      \n",
              "  <style>\n",
              "    .colab-df-container {\n",
              "      display:flex;\n",
              "      flex-wrap:wrap;\n",
              "      gap: 12px;\n",
              "    }\n",
              "\n",
              "    .colab-df-convert {\n",
              "      background-color: #E8F0FE;\n",
              "      border: none;\n",
              "      border-radius: 50%;\n",
              "      cursor: pointer;\n",
              "      display: none;\n",
              "      fill: #1967D2;\n",
              "      height: 32px;\n",
              "      padding: 0 0 0 0;\n",
              "      width: 32px;\n",
              "    }\n",
              "\n",
              "    .colab-df-convert:hover {\n",
              "      background-color: #E2EBFA;\n",
              "      box-shadow: 0px 1px 2px rgba(60, 64, 67, 0.3), 0px 1px 3px 1px rgba(60, 64, 67, 0.15);\n",
              "      fill: #174EA6;\n",
              "    }\n",
              "\n",
              "    [theme=dark] .colab-df-convert {\n",
              "      background-color: #3B4455;\n",
              "      fill: #D2E3FC;\n",
              "    }\n",
              "\n",
              "    [theme=dark] .colab-df-convert:hover {\n",
              "      background-color: #434B5C;\n",
              "      box-shadow: 0px 1px 3px 1px rgba(0, 0, 0, 0.15);\n",
              "      filter: drop-shadow(0px 1px 2px rgba(0, 0, 0, 0.3));\n",
              "      fill: #FFFFFF;\n",
              "    }\n",
              "  </style>\n",
              "\n",
              "      <script>\n",
              "        const buttonEl =\n",
              "          document.querySelector('#df-a980c27b-cfa9-414b-b2b2-881e9c1d44f7 button.colab-df-convert');\n",
              "        buttonEl.style.display =\n",
              "          google.colab.kernel.accessAllowed ? 'block' : 'none';\n",
              "\n",
              "        async function convertToInteractive(key) {\n",
              "          const element = document.querySelector('#df-a980c27b-cfa9-414b-b2b2-881e9c1d44f7');\n",
              "          const dataTable =\n",
              "            await google.colab.kernel.invokeFunction('convertToInteractive',\n",
              "                                                     [key], {});\n",
              "          if (!dataTable) return;\n",
              "\n",
              "          const docLinkHtml = 'Like what you see? Visit the ' +\n",
              "            '<a target=\"_blank\" href=https://colab.research.google.com/notebooks/data_table.ipynb>data table notebook</a>'\n",
              "            + ' to learn more about interactive tables.';\n",
              "          element.innerHTML = '';\n",
              "          dataTable['output_type'] = 'display_data';\n",
              "          await google.colab.output.renderOutput(dataTable, element);\n",
              "          const docLink = document.createElement('div');\n",
              "          docLink.innerHTML = docLinkHtml;\n",
              "          element.appendChild(docLink);\n",
              "        }\n",
              "      </script>\n",
              "    </div>\n",
              "  </div>\n",
              "  "
            ],
            "application/vnd.google.colaboratory.module+javascript": "\n      import \"https://ssl.gstatic.com/colaboratory/data_table/99dac6621f6ae8c4/data_table.js\";\n\n      window.createDataTable({\n        data: [[{\n            'v': 168,\n            'f': \"168\",\n        },\n\"Brazil\",\n{\n            'v': 1952,\n            'f': \"1952\",\n        },\n{\n            'v': 56602560,\n            'f': \"56602560\",\n        },\n{\n            'v': 1.0,\n            'f': \"1.0\",\n        }],\n [{\n            'v': 169,\n            'f': \"169\",\n        },\n\"Brazil\",\n{\n            'v': 1957,\n            'f': \"1957\",\n        },\n{\n            'v': 65551171,\n            'f': \"65551171\",\n        },\n{\n            'v': 1.1580955172345562,\n            'f': \"1.1580955172345562\",\n        }],\n [{\n            'v': 170,\n            'f': \"170\",\n        },\n\"Brazil\",\n{\n            'v': 1962,\n            'f': \"1962\",\n        },\n{\n            'v': 76039390,\n            'f': \"76039390\",\n        },\n{\n            'v': 1.3433913589774031,\n            'f': \"1.3433913589774031\",\n        }],\n [{\n            'v': 171,\n            'f': \"171\",\n        },\n\"Brazil\",\n{\n            'v': 1967,\n            'f': \"1967\",\n        },\n{\n            'v': 88049823,\n            'f': \"88049823\",\n        },\n{\n            'v': 1.5555802246400163,\n            'f': \"1.5555802246400163\",\n        }],\n [{\n            'v': 172,\n            'f': \"172\",\n        },\n\"Brazil\",\n{\n            'v': 1972,\n            'f': \"1972\",\n        },\n{\n            'v': 100840058,\n            'f': \"100840058\",\n        },\n{\n            'v': 1.781545887677165,\n            'f': \"1.781545887677165\",\n        }],\n [{\n            'v': 173,\n            'f': \"173\",\n        },\n\"Brazil\",\n{\n            'v': 1977,\n            'f': \"1977\",\n        },\n{\n            'v': 114313951,\n            'f': \"114313951\",\n        },\n{\n            'v': 2.0195897676712855,\n            'f': \"2.0195897676712855\",\n        }],\n [{\n            'v': 174,\n            'f': \"174\",\n        },\n\"Brazil\",\n{\n            'v': 1982,\n            'f': \"1982\",\n        },\n{\n            'v': 128962939,\n            'f': \"128962939\",\n        },\n{\n            'v': 2.278394104436266,\n            'f': \"2.278394104436266\",\n        }],\n [{\n            'v': 175,\n            'f': \"175\",\n        },\n\"Brazil\",\n{\n            'v': 1987,\n            'f': \"1987\",\n        },\n{\n            'v': 142938076,\n            'f': \"142938076\",\n        },\n{\n            'v': 2.525293484958984,\n            'f': \"2.525293484958984\",\n        }],\n [{\n            'v': 176,\n            'f': \"176\",\n        },\n\"Brazil\",\n{\n            'v': 1992,\n            'f': \"1992\",\n        },\n{\n            'v': 155975974,\n            'f': \"155975974\",\n        },\n{\n            'v': 2.755634621472951,\n            'f': \"2.755634621472951\",\n        }],\n [{\n            'v': 177,\n            'f': \"177\",\n        },\n\"Brazil\",\n{\n            'v': 1997,\n            'f': \"1997\",\n        },\n{\n            'v': 168546719,\n            'f': \"168546719\",\n        },\n{\n            'v': 2.977722544704692,\n            'f': \"2.977722544704692\",\n        }],\n [{\n            'v': 178,\n            'f': \"178\",\n        },\n\"Brazil\",\n{\n            'v': 2002,\n            'f': \"2002\",\n        },\n{\n            'v': 179914212,\n            'f': \"179914212\",\n        },\n{\n            'v': 3.17855256016689,\n            'f': \"3.17855256016689\",\n        }],\n [{\n            'v': 179,\n            'f': \"179\",\n        },\n\"Brazil\",\n{\n            'v': 2007,\n            'f': \"2007\",\n        },\n{\n            'v': 190010647,\n            'f': \"190010647\",\n        },\n{\n            'v': 3.35692673617589,\n            'f': \"3.35692673617589\",\n        }]],\n        columns: [[\"number\", \"index\"], [\"string\", \"country\"], [\"number\", \"year\"], [\"number\", \"population\"], [\"number\", \"population_rel\"]],\n        columnOptions: [{\"width\": \"1px\", \"className\": \"index_column\"}],\n        rowsPerPage: 25,\n        helpUrl: \"https://colab.research.google.com/notebooks/data_table.ipynb\",\n        suppressOutputScrolling: true,\n        minimumWidth: undefined,\n      });\n    "
          },
          "metadata": {},
          "execution_count": 38
        }
      ]
    },
    {
      "cell_type": "markdown",
      "source": [
        "# Criando gráfico de barras"
      ],
      "metadata": {
        "id": "7PsV_JEVeHFe"
      }
    },
    {
      "cell_type": "code",
      "source": [
        "brazil.population.mean()"
      ],
      "metadata": {
        "colab": {
          "base_uri": "https://localhost:8080/"
        },
        "id": "J-su4LdIeESN",
        "outputId": "2ff7566f-6ec7-438b-b09e-2c3a2fca5816"
      },
      "execution_count": null,
      "outputs": [
        {
          "output_type": "execute_result",
          "data": {
            "text/plain": [
              "122312126.66666667"
            ]
          },
          "metadata": {},
          "execution_count": 39
        }
      ]
    },
    {
      "cell_type": "code",
      "source": [
        "import matplotlib.pyplot as plt\n",
        "\n",
        "barras = ['USA', 'BR', 'CAN']\n",
        "alturas = [usa.population.mean(), brazil.population.mean(), canada.population.mean()]\n",
        "plt.bar(barras, alturas)\n",
        "plt.title('Média populacional')"
      ],
      "metadata": {
        "colab": {
          "base_uri": "https://localhost:8080/",
          "height": 470
        },
        "id": "bwmqthsbe3D7",
        "outputId": "a9e36b63-4935-4ddf-fe95-5a844f51107b"
      },
      "execution_count": null,
      "outputs": [
        {
          "output_type": "execute_result",
          "data": {
            "text/plain": [
              "Text(0.5, 1.0, 'Média populacional')"
            ]
          },
          "metadata": {},
          "execution_count": 40
        },
        {
          "output_type": "display_data",
          "data": {
            "text/plain": [
              "<Figure size 640x480 with 1 Axes>"
            ],
            "image/png": "[encoded data removed]"
          },
          "metadata": {}
        }
      ]
    },
    {
      "cell_type": "markdown",
      "source": [
        "Podemos utilizar o mesmo procedimento para plotar o gráfico crescimento percentual médio.\n",
        "\n",
        "Criamos, primeiro, as colunas contendo o crescimento relativo percentual."
      ],
      "metadata": {
        "id": "vJfPO22AfADk"
      }
    },
    {
      "cell_type": "code",
      "source": [
        "usa['rel_population'] = usa.population / usa.iloc[0, 2] * 100\n",
        "brazil['rel_population'] = brazil.population / brazil.iloc[0, 2] * 100\n",
        "canada['rel_population'] = canada.population / canada.iloc[0, 2] * 100\n",
        "\n",
        "# Em seguida, geramos o gráfico de barras contendo as médias.\n",
        "\n",
        "barras = ['USA', 'BR', 'CAN']\n",
        "alturas = [usa.rel_population.mean(), brazil.rel_population.mean(), canada.rel_population.mean()]\n",
        "plt.bar(barras, alturas)\n",
        "plt.title('Crescimento médio populacional')\n",
        "plt.ylabel('População média')"
      ],
      "metadata": {
        "colab": {
          "base_uri": "https://localhost:8080/",
          "height": 470
        },
        "id": "IWjwTpf3fA08",
        "outputId": "9a2da541-144b-4a8f-e9d8-278cc9af3b96"
      },
      "execution_count": null,
      "outputs": [
        {
          "output_type": "execute_result",
          "data": {
            "text/plain": [
              "Text(0, 0.5, 'População média')"
            ]
          },
          "metadata": {},
          "execution_count": 41
        },
        {
          "output_type": "display_data",
          "data": {
            "text/plain": [
              "<Figure size 640x480 with 1 Axes>"
            ],
            "image/png": "[encoded data removed]"
          },
          "metadata": {}
        }
      ]
    },
    {
      "cell_type": "markdown",
      "source": [
        "Criaremos agora, um gráfico de barras contendo as 6 maiores populações no ano de 2007. Para tanto, criaremos uma cópia do DataFrame countries, filtrando somente os valores correspondentes ao ano de 2007."
      ],
      "metadata": {
        "id": "v_QbNoc8fQp7"
      }
    },
    {
      "cell_type": "code",
      "source": [
        "biggest_pop_2007 = df[df.year == 2007].copy()\n",
        "biggest_pop_2007"
      ],
      "metadata": {
        "colab": {
          "base_uri": "https://localhost:8080/",
          "height": 632
        },
        "id": "NYxcnuywfQEn",
        "outputId": "d3e62396-7e6e-4e1d-de03-408e4a432135"
      },
      "execution_count": null,
      "outputs": [
        {
          "output_type": "execute_result",
          "data": {
            "text/plain": [
              "                 country  year  population\n",
              "11           Afghanistan  2007    31889923\n",
              "23               Albania  2007     3600523\n",
              "35               Algeria  2007    33333216\n",
              "47                Angola  2007    12420476\n",
              "59             Argentina  2007    40301927\n",
              "...                  ...   ...         ...\n",
              "1655             Vietnam  2007    85262356\n",
              "1667  West Bank and Gaza  2007     4018332\n",
              "1679         Yemen, Rep.  2007    22211743\n",
              "1691              Zambia  2007    11746035\n",
              "1703            Zimbabwe  2007    12311143\n",
              "\n",
              "[142 rows x 3 columns]"
            ],
            "text/html": [
              "\n",
              "  <div id=\"df-769a8fa8-e4d0-4d18-9099-42c90baef5e7\">\n",
              "    <div class=\"colab-df-container\">\n",
              "      <div>\n",
              "<style scoped>\n",
              "    .dataframe tbody tr th:only-of-type {\n",
              "        vertical-align: middle;\n",
              "    }\n",
              "\n",
              "    .dataframe tbody tr th {\n",
              "        vertical-align: top;\n",
              "    }\n",
              "\n",
              "    .dataframe thead th {\n",
              "        text-align: right;\n",
              "    }\n",
              "</style>\n",
              "<table border=\"1\" class=\"dataframe\">\n",
              "  <thead>\n",
              "    <tr style=\"text-align: right;\">\n",
              "      <th></th>\n",
              "      <th>country</th>\n",
              "      <th>year</th>\n",
              "      <th>population</th>\n",
              "    </tr>\n",
              "  </thead>\n",
              "  <tbody>\n",
              "    <tr>\n",
              "      <th>11</th>\n",
              "      <td>Afghanistan</td>\n",
              "      <td>2007</td>\n",
              "      <td>31889923</td>\n",
              "    </tr>\n",
              "    <tr>\n",
              "      <th>23</th>\n",
              "      <td>Albania</td>\n",
              "      <td>2007</td>\n",
              "      <td>3600523</td>\n",
              "    </tr>\n",
              "    <tr>\n",
              "      <th>35</th>\n",
              "      <td>Algeria</td>\n",
              "      <td>2007</td>\n",
              "      <td>33333216</td>\n",
              "    </tr>\n",
              "    <tr>\n",
              "      <th>47</th>\n",
              "      <td>Angola</td>\n",
              "      <td>2007</td>\n",
              "      <td>12420476</td>\n",
              "    </tr>\n",
              "    <tr>\n",
              "      <th>59</th>\n",
              "      <td>Argentina</td>\n",
              "      <td>2007</td>\n",
              "      <td>40301927</td>\n",
              "    </tr>\n",
              "    <tr>\n",
              "      <th>...</th>\n",
              "      <td>...</td>\n",
              "      <td>...</td>\n",
              "      <td>...</td>\n",
              "    </tr>\n",
              "    <tr>\n",
              "      <th>1655</th>\n",
              "      <td>Vietnam</td>\n",
              "      <td>2007</td>\n",
              "      <td>85262356</td>\n",
              "    </tr>\n",
              "    <tr>\n",
              "      <th>1667</th>\n",
              "      <td>West Bank and Gaza</td>\n",
              "      <td>2007</td>\n",
              "      <td>4018332</td>\n",
              "    </tr>\n",
              "    <tr>\n",
              "      <th>1679</th>\n",
              "      <td>Yemen, Rep.</td>\n",
              "      <td>2007</td>\n",
              "      <td>22211743</td>\n",
              "    </tr>\n",
              "    <tr>\n",
              "      <th>1691</th>\n",
              "      <td>Zambia</td>\n",
              "      <td>2007</td>\n",
              "      <td>11746035</td>\n",
              "    </tr>\n",
              "    <tr>\n",
              "      <th>1703</th>\n",
              "      <td>Zimbabwe</td>\n",
              "      <td>2007</td>\n",
              "      <td>12311143</td>\n",
              "    </tr>\n",
              "  </tbody>\n",
              "</table>\n",
              "<p>142 rows × 3 columns</p>\n",
              "</div>\n",
              "      <button class=\"colab-df-convert\" onclick=\"convertToInteractive('df-769a8fa8-e4d0-4d18-9099-42c90baef5e7')\"\n",
              "              title=\"Convert this dataframe to an interactive table.\"\n",
              "              style=\"display:none;\">\n",
              "        \n",
              "  <svg xmlns=\"http://www.w3.org/2000/svg\" height=\"24px\"viewBox=\"0 0 24 24\"\n",
              "       width=\"24px\">\n",
              "    <path d=\"M0 0h24v24H0V0z\" fill=\"none\"/>\n",
              "    <path d=\"M18.56 5.44l.94 2.06.94-2.06 2.06-.94-2.06-.94-.94-2.06-.94 2.06-2.06.94zm-11 1L8.5 8.5l.94-2.06 2.06-.94-2.06-.94L8.5 2.5l-.94 2.06-2.06.94zm10 10l.94 2.06.94-2.06 2.06-.94-2.06-.94-.94-2.06-.94 2.06-2.06.94z\"/><path d=\"M17.41 7.96l-1.37-1.37c-.4-.4-.92-.59-1.43-.59-.52 0-1.04.2-1.43.59L10.3 9.45l-7.72 7.72c-.78.78-.78 2.05 0 2.83L4 21.41c.39.39.9.59 1.41.59.51 0 1.02-.2 1.41-.59l7.78-7.78 2.81-2.81c.8-.78.8-2.07 0-2.86zM5.41 20L4 18.59l7.72-7.72 1.47 1.35L5.41 20z\"/>\n",
              "  </svg>\n",
              "      </button>\n",
              "      \n",
              "  <style>\n",
              "    .colab-df-container {\n",
              "      display:flex;\n",
              "      flex-wrap:wrap;\n",
              "      gap: 12px;\n",
              "    }\n",
              "\n",
              "    .colab-df-convert {\n",
              "      background-color: #E8F0FE;\n",
              "      border: none;\n",
              "      border-radius: 50%;\n",
              "      cursor: pointer;\n",
              "      display: none;\n",
              "      fill: #1967D2;\n",
              "      height: 32px;\n",
              "      padding: 0 0 0 0;\n",
              "      width: 32px;\n",
              "    }\n",
              "\n",
              "    .colab-df-convert:hover {\n",
              "      background-color: #E2EBFA;\n",
              "      box-shadow: 0px 1px 2px rgba(60, 64, 67, 0.3), 0px 1px 3px 1px rgba(60, 64, 67, 0.15);\n",
              "      fill: #174EA6;\n",
              "    }\n",
              "\n",
              "    [theme=dark] .colab-df-convert {\n",
              "      background-color: #3B4455;\n",
              "      fill: #D2E3FC;\n",
              "    }\n",
              "\n",
              "    [theme=dark] .colab-df-convert:hover {\n",
              "      background-color: #434B5C;\n",
              "      box-shadow: 0px 1px 3px 1px rgba(0, 0, 0, 0.15);\n",
              "      filter: drop-shadow(0px 1px 2px rgba(0, 0, 0, 0.3));\n",
              "      fill: #FFFFFF;\n",
              "    }\n",
              "  </style>\n",
              "\n",
              "      <script>\n",
              "        const buttonEl =\n",
              "          document.querySelector('#df-769a8fa8-e4d0-4d18-9099-42c90baef5e7 button.colab-df-convert');\n",
              "        buttonEl.style.display =\n",
              "          google.colab.kernel.accessAllowed ? 'block' : 'none';\n",
              "\n",
              "        async function convertToInteractive(key) {\n",
              "          const element = document.querySelector('#df-769a8fa8-e4d0-4d18-9099-42c90baef5e7');\n",
              "          const dataTable =\n",
              "            await google.colab.kernel.invokeFunction('convertToInteractive',\n",
              "                                                     [key], {});\n",
              "          if (!dataTable) return;\n",
              "\n",
              "          const docLinkHtml = 'Like what you see? Visit the ' +\n",
              "            '<a target=\"_blank\" href=https://colab.research.google.com/notebooks/data_table.ipynb>data table notebook</a>'\n",
              "            + ' to learn more about interactive tables.';\n",
              "          element.innerHTML = '';\n",
              "          dataTable['output_type'] = 'display_data';\n",
              "          await google.colab.output.renderOutput(dataTable, element);\n",
              "          const docLink = document.createElement('div');\n",
              "          docLink.innerHTML = docLinkHtml;\n",
              "          element.appendChild(docLink);\n",
              "        }\n",
              "      </script>\n",
              "    </div>\n",
              "  </div>\n",
              "  "
            ],
            "application/vnd.google.colaboratory.module+javascript": "\n      import \"https://ssl.gstatic.com/colaboratory/data_table/99dac6621f6ae8c4/data_table.js\";\n\n      window.createDataTable({\n        data: [[{\n            'v': 11,\n            'f': \"11\",\n        },\n\"Afghanistan\",\n{\n            'v': 2007,\n            'f': \"2007\",\n        },\n{\n            'v': 31889923,\n            'f': \"31889923\",\n        }],\n [{\n            'v': 23,\n            'f': \"23\",\n        },\n\"Albania\",\n{\n            'v': 2007,\n            'f': \"2007\",\n        },\n{\n            'v': 3600523,\n            'f': \"3600523\",\n        }],\n [{\n            'v': 35,\n            'f': \"35\",\n        },\n\"Algeria\",\n{\n            'v': 2007,\n            'f': \"2007\",\n        },\n{\n            'v': 33333216,\n            'f': \"33333216\",\n        }],\n [{\n            'v': 47,\n            'f': \"47\",\n        },\n\"Angola\",\n{\n            'v': 2007,\n            'f': \"2007\",\n        },\n{\n            'v': 12420476,\n            'f': \"12420476\",\n        }],\n [{\n            'v': 59,\n            'f': \"59\",\n        },\n\"Argentina\",\n{\n            'v': 2007,\n            'f': \"2007\",\n        },\n{\n            'v': 40301927,\n            'f': \"40301927\",\n        }],\n [{\n            'v': 71,\n            'f': \"71\",\n        },\n\"Australia\",\n{\n            'v': 2007,\n            'f': \"2007\",\n        },\n{\n            'v': 20434176,\n            'f': \"20434176\",\n        }],\n [{\n            'v': 83,\n            'f': \"83\",\n        },\n\"Austria\",\n{\n            'v': 2007,\n            'f': \"2007\",\n        },\n{\n            'v': 8199783,\n            'f': \"8199783\",\n        }],\n [{\n            'v': 95,\n            'f': \"95\",\n        },\n\"Bahrain\",\n{\n            'v': 2007,\n            'f': \"2007\",\n        },\n{\n            'v': 708573,\n            'f': \"708573\",\n        }],\n [{\n            'v': 107,\n            'f': \"107\",\n        },\n\"Bangladesh\",\n{\n            'v': 2007,\n            'f': \"2007\",\n        },\n{\n            'v': 150448339,\n            'f': \"150448339\",\n        }],\n [{\n            'v': 119,\n            'f': \"119\",\n        },\n\"Belgium\",\n{\n            'v': 2007,\n            'f': \"2007\",\n        },\n{\n            'v': 10392226,\n            'f': \"10392226\",\n        }],\n [{\n            'v': 131,\n            'f': \"131\",\n        },\n\"Benin\",\n{\n            'v': 2007,\n            'f': \"2007\",\n        },\n{\n            'v': 8078314,\n            'f': \"8078314\",\n        }],\n [{\n            'v': 143,\n            'f': \"143\",\n        },\n\"Bolivia\",\n{\n            'v': 2007,\n            'f': \"2007\",\n        },\n{\n            'v': 9119152,\n            'f': \"9119152\",\n        }],\n [{\n            'v': 155,\n            'f': \"155\",\n        },\n\"Bosnia and Herzegovina\",\n{\n            'v': 2007,\n            'f': \"2007\",\n        },\n{\n            'v': 4552198,\n            'f': \"4552198\",\n        }],\n [{\n            'v': 167,\n            'f': \"167\",\n        },\n\"Botswana\",\n{\n            'v': 2007,\n            'f': \"2007\",\n        },\n{\n            'v': 1639131,\n            'f': \"1639131\",\n        }],\n [{\n            'v': 179,\n            'f': \"179\",\n        },\n\"Brazil\",\n{\n            'v': 2007,\n            'f': \"2007\",\n        },\n{\n            'v': 190010647,\n            'f': \"190010647\",\n        }],\n [{\n            'v': 191,\n            'f': \"191\",\n        },\n\"Bulgaria\",\n{\n            'v': 2007,\n            'f': \"2007\",\n        },\n{\n            'v': 7322858,\n            'f': \"7322858\",\n        }],\n [{\n            'v': 203,\n            'f': \"203\",\n        },\n\"Burkina Faso\",\n{\n            'v': 2007,\n            'f': \"2007\",\n        },\n{\n            'v': 14326203,\n            'f': \"14326203\",\n        }],\n [{\n            'v': 215,\n            'f': \"215\",\n        },\n\"Burundi\",\n{\n            'v': 2007,\n            'f': \"2007\",\n        },\n{\n            'v': 8390505,\n            'f': \"8390505\",\n        }],\n [{\n            'v': 227,\n            'f': \"227\",\n        },\n\"Cambodia\",\n{\n            'v': 2007,\n            'f': \"2007\",\n        },\n{\n            'v': 14131858,\n            'f': \"14131858\",\n        }],\n [{\n            'v': 239,\n            'f': \"239\",\n        },\n\"Cameroon\",\n{\n            'v': 2007,\n            'f': \"2007\",\n        },\n{\n            'v': 17696293,\n            'f': \"17696293\",\n        }],\n [{\n            'v': 251,\n            'f': \"251\",\n        },\n\"Canada\",\n{\n            'v': 2007,\n            'f': \"2007\",\n        },\n{\n            'v': 33390141,\n            'f': \"33390141\",\n        }],\n [{\n            'v': 263,\n            'f': \"263\",\n        },\n\"Central African Republic\",\n{\n            'v': 2007,\n            'f': \"2007\",\n        },\n{\n            'v': 4369038,\n            'f': \"4369038\",\n        }],\n [{\n            'v': 275,\n            'f': \"275\",\n        },\n\"Chad\",\n{\n            'v': 2007,\n            'f': \"2007\",\n        },\n{\n            'v': 10238807,\n            'f': \"10238807\",\n        }],\n [{\n            'v': 287,\n            'f': \"287\",\n        },\n\"Chile\",\n{\n            'v': 2007,\n            'f': \"2007\",\n        },\n{\n            'v': 16284741,\n            'f': \"16284741\",\n        }],\n [{\n            'v': 299,\n            'f': \"299\",\n        },\n\"China\",\n{\n            'v': 2007,\n            'f': \"2007\",\n        },\n{\n            'v': 1318683096,\n            'f': \"1318683096\",\n        }],\n [{\n            'v': 311,\n            'f': \"311\",\n        },\n\"Colombia\",\n{\n            'v': 2007,\n            'f': \"2007\",\n        },\n{\n            'v': 44227550,\n            'f': \"44227550\",\n        }],\n [{\n            'v': 323,\n            'f': \"323\",\n        },\n\"Comoros\",\n{\n            'v': 2007,\n            'f': \"2007\",\n        },\n{\n            'v': 710960,\n            'f': \"710960\",\n        }],\n [{\n            'v': 335,\n            'f': \"335\",\n        },\n\"Congo, Dem. Rep.\",\n{\n            'v': 2007,\n            'f': \"2007\",\n        },\n{\n            'v': 64606759,\n            'f': \"64606759\",\n        }],\n [{\n            'v': 347,\n            'f': \"347\",\n        },\n\"Congo, Rep.\",\n{\n            'v': 2007,\n            'f': \"2007\",\n        },\n{\n            'v': 3800610,\n            'f': \"3800610\",\n        }],\n [{\n            'v': 359,\n            'f': \"359\",\n        },\n\"Costa Rica\",\n{\n            'v': 2007,\n            'f': \"2007\",\n        },\n{\n            'v': 4133884,\n            'f': \"4133884\",\n        }],\n [{\n            'v': 371,\n            'f': \"371\",\n        },\n\"Cote d'Ivoire\",\n{\n            'v': 2007,\n            'f': \"2007\",\n        },\n{\n            'v': 18013409,\n            'f': \"18013409\",\n        }],\n [{\n            'v': 383,\n            'f': \"383\",\n        },\n\"Croatia\",\n{\n            'v': 2007,\n            'f': \"2007\",\n        },\n{\n            'v': 4493312,\n            'f': \"4493312\",\n        }],\n [{\n            'v': 395,\n            'f': \"395\",\n        },\n\"Cuba\",\n{\n            'v': 2007,\n            'f': \"2007\",\n        },\n{\n            'v': 11416987,\n            'f': \"11416987\",\n        }],\n [{\n            'v': 407,\n            'f': \"407\",\n        },\n\"Czech Republic\",\n{\n            'v': 2007,\n            'f': \"2007\",\n        },\n{\n            'v': 10228744,\n            'f': \"10228744\",\n        }],\n [{\n            'v': 419,\n            'f': \"419\",\n        },\n\"Denmark\",\n{\n            'v': 2007,\n            'f': \"2007\",\n        },\n{\n            'v': 5468120,\n            'f': \"5468120\",\n        }],\n [{\n            'v': 431,\n            'f': \"431\",\n        },\n\"Djibouti\",\n{\n            'v': 2007,\n            'f': \"2007\",\n        },\n{\n            'v': 496374,\n            'f': \"496374\",\n        }],\n [{\n            'v': 443,\n            'f': \"443\",\n        },\n\"Dominican Republic\",\n{\n            'v': 2007,\n            'f': \"2007\",\n        },\n{\n            'v': 9319622,\n            'f': \"9319622\",\n        }],\n [{\n            'v': 455,\n            'f': \"455\",\n        },\n\"Ecuador\",\n{\n            'v': 2007,\n            'f': \"2007\",\n        },\n{\n            'v': 13755680,\n            'f': \"13755680\",\n        }],\n [{\n            'v': 467,\n            'f': \"467\",\n        },\n\"Egypt\",\n{\n            'v': 2007,\n            'f': \"2007\",\n        },\n{\n            'v': 80264543,\n            'f': \"80264543\",\n        }],\n [{\n            'v': 479,\n            'f': \"479\",\n        },\n\"El Salvador\",\n{\n            'v': 2007,\n            'f': \"2007\",\n        },\n{\n            'v': 6939688,\n            'f': \"6939688\",\n        }],\n [{\n            'v': 491,\n            'f': \"491\",\n        },\n\"Equatorial Guinea\",\n{\n            'v': 2007,\n            'f': \"2007\",\n        },\n{\n            'v': 551201,\n            'f': \"551201\",\n        }],\n [{\n            'v': 503,\n            'f': \"503\",\n        },\n\"Eritrea\",\n{\n            'v': 2007,\n            'f': \"2007\",\n        },\n{\n            'v': 4906585,\n            'f': \"4906585\",\n        }],\n [{\n            'v': 515,\n            'f': \"515\",\n        },\n\"Ethiopia\",\n{\n            'v': 2007,\n            'f': \"2007\",\n        },\n{\n            'v': 76511887,\n            'f': \"76511887\",\n        }],\n [{\n            'v': 527,\n            'f': \"527\",\n        },\n\"Finland\",\n{\n            'v': 2007,\n            'f': \"2007\",\n        },\n{\n            'v': 5238460,\n            'f': \"5238460\",\n        }],\n [{\n            'v': 539,\n            'f': \"539\",\n        },\n\"France\",\n{\n            'v': 2007,\n            'f': \"2007\",\n        },\n{\n            'v': 61083916,\n            'f': \"61083916\",\n        }],\n [{\n            'v': 551,\n            'f': \"551\",\n        },\n\"Gabon\",\n{\n            'v': 2007,\n            'f': \"2007\",\n        },\n{\n            'v': 1454867,\n            'f': \"1454867\",\n        }],\n [{\n            'v': 563,\n            'f': \"563\",\n        },\n\"Gambia\",\n{\n            'v': 2007,\n            'f': \"2007\",\n        },\n{\n            'v': 1688359,\n            'f': \"1688359\",\n        }],\n [{\n            'v': 575,\n            'f': \"575\",\n        },\n\"Germany\",\n{\n            'v': 2007,\n            'f': \"2007\",\n        },\n{\n            'v': 82400996,\n            'f': \"82400996\",\n        }],\n [{\n            'v': 587,\n            'f': \"587\",\n        },\n\"Ghana\",\n{\n            'v': 2007,\n            'f': \"2007\",\n        },\n{\n            'v': 22873338,\n            'f': \"22873338\",\n        }],\n [{\n            'v': 599,\n            'f': \"599\",\n        },\n\"Greece\",\n{\n            'v': 2007,\n            'f': \"2007\",\n        },\n{\n            'v': 10706290,\n            'f': \"10706290\",\n        }],\n [{\n            'v': 611,\n            'f': \"611\",\n        },\n\"Guatemala\",\n{\n            'v': 2007,\n            'f': \"2007\",\n        },\n{\n            'v': 12572928,\n            'f': \"12572928\",\n        }],\n [{\n            'v': 623,\n            'f': \"623\",\n        },\n\"Guinea\",\n{\n            'v': 2007,\n            'f': \"2007\",\n        },\n{\n            'v': 9947814,\n            'f': \"9947814\",\n        }],\n [{\n            'v': 635,\n            'f': \"635\",\n        },\n\"Guinea-Bissau\",\n{\n            'v': 2007,\n            'f': \"2007\",\n        },\n{\n            'v': 1472041,\n            'f': \"1472041\",\n        }],\n [{\n            'v': 647,\n            'f': \"647\",\n        },\n\"Haiti\",\n{\n            'v': 2007,\n            'f': \"2007\",\n        },\n{\n            'v': 8502814,\n            'f': \"8502814\",\n        }],\n [{\n            'v': 659,\n            'f': \"659\",\n        },\n\"Honduras\",\n{\n            'v': 2007,\n            'f': \"2007\",\n        },\n{\n            'v': 7483763,\n            'f': \"7483763\",\n        }],\n [{\n            'v': 671,\n            'f': \"671\",\n        },\n\"Hong Kong, China\",\n{\n            'v': 2007,\n            'f': \"2007\",\n        },\n{\n            'v': 6980412,\n            'f': \"6980412\",\n        }],\n [{\n            'v': 683,\n            'f': \"683\",\n        },\n\"Hungary\",\n{\n            'v': 2007,\n            'f': \"2007\",\n        },\n{\n            'v': 9956108,\n            'f': \"9956108\",\n        }],\n [{\n            'v': 695,\n            'f': \"695\",\n        },\n\"Iceland\",\n{\n            'v': 2007,\n            'f': \"2007\",\n        },\n{\n            'v': 301931,\n            'f': \"301931\",\n        }],\n [{\n            'v': 707,\n            'f': \"707\",\n        },\n\"India\",\n{\n            'v': 2007,\n            'f': \"2007\",\n        },\n{\n            'v': 1110396331,\n            'f': \"1110396331\",\n        }],\n [{\n            'v': 719,\n            'f': \"719\",\n        },\n\"Indonesia\",\n{\n            'v': 2007,\n            'f': \"2007\",\n        },\n{\n            'v': 223547000,\n            'f': \"223547000\",\n        }],\n [{\n            'v': 731,\n            'f': \"731\",\n        },\n\"Iran\",\n{\n            'v': 2007,\n            'f': \"2007\",\n        },\n{\n            'v': 69453570,\n            'f': \"69453570\",\n        }],\n [{\n            'v': 743,\n            'f': \"743\",\n        },\n\"Iraq\",\n{\n            'v': 2007,\n            'f': \"2007\",\n        },\n{\n            'v': 27499638,\n            'f': \"27499638\",\n        }],\n [{\n            'v': 755,\n            'f': \"755\",\n        },\n\"Ireland\",\n{\n            'v': 2007,\n            'f': \"2007\",\n        },\n{\n            'v': 4109086,\n            'f': \"4109086\",\n        }],\n [{\n            'v': 767,\n            'f': \"767\",\n        },\n\"Israel\",\n{\n            'v': 2007,\n            'f': \"2007\",\n        },\n{\n            'v': 6426679,\n            'f': \"6426679\",\n        }],\n [{\n            'v': 779,\n            'f': \"779\",\n        },\n\"Italy\",\n{\n            'v': 2007,\n            'f': \"2007\",\n        },\n{\n            'v': 58147733,\n            'f': \"58147733\",\n        }],\n [{\n            'v': 791,\n            'f': \"791\",\n        },\n\"Jamaica\",\n{\n            'v': 2007,\n            'f': \"2007\",\n        },\n{\n            'v': 2780132,\n            'f': \"2780132\",\n        }],\n [{\n            'v': 803,\n            'f': \"803\",\n        },\n\"Japan\",\n{\n            'v': 2007,\n            'f': \"2007\",\n        },\n{\n            'v': 127467972,\n            'f': \"127467972\",\n        }],\n [{\n            'v': 815,\n            'f': \"815\",\n        },\n\"Jordan\",\n{\n            'v': 2007,\n            'f': \"2007\",\n        },\n{\n            'v': 6053193,\n            'f': \"6053193\",\n        }],\n [{\n            'v': 827,\n            'f': \"827\",\n        },\n\"Kenya\",\n{\n            'v': 2007,\n            'f': \"2007\",\n        },\n{\n            'v': 35610177,\n            'f': \"35610177\",\n        }],\n [{\n            'v': 839,\n            'f': \"839\",\n        },\n\"Korea, Dem. Rep.\",\n{\n            'v': 2007,\n            'f': \"2007\",\n        },\n{\n            'v': 23301725,\n            'f': \"23301725\",\n        }],\n [{\n            'v': 851,\n            'f': \"851\",\n        },\n\"Korea, Rep.\",\n{\n            'v': 2007,\n            'f': \"2007\",\n        },\n{\n            'v': 49044790,\n            'f': \"49044790\",\n        }],\n [{\n            'v': 863,\n            'f': \"863\",\n        },\n\"Kuwait\",\n{\n            'v': 2007,\n            'f': \"2007\",\n        },\n{\n            'v': 2505559,\n            'f': \"2505559\",\n        }],\n [{\n            'v': 875,\n            'f': \"875\",\n        },\n\"Lebanon\",\n{\n            'v': 2007,\n            'f': \"2007\",\n        },\n{\n            'v': 3921278,\n            'f': \"3921278\",\n        }],\n [{\n            'v': 887,\n            'f': \"887\",\n        },\n\"Lesotho\",\n{\n            'v': 2007,\n            'f': \"2007\",\n        },\n{\n            'v': 2012649,\n            'f': \"2012649\",\n        }],\n [{\n            'v': 899,\n            'f': \"899\",\n        },\n\"Liberia\",\n{\n            'v': 2007,\n            'f': \"2007\",\n        },\n{\n            'v': 3193942,\n            'f': \"3193942\",\n        }],\n [{\n            'v': 911,\n            'f': \"911\",\n        },\n\"Libya\",\n{\n            'v': 2007,\n            'f': \"2007\",\n        },\n{\n            'v': 6036914,\n            'f': \"6036914\",\n        }],\n [{\n            'v': 923,\n            'f': \"923\",\n        },\n\"Madagascar\",\n{\n            'v': 2007,\n            'f': \"2007\",\n        },\n{\n            'v': 19167654,\n            'f': \"19167654\",\n        }],\n [{\n            'v': 935,\n            'f': \"935\",\n        },\n\"Malawi\",\n{\n            'v': 2007,\n            'f': \"2007\",\n        },\n{\n            'v': 13327079,\n            'f': \"13327079\",\n        }],\n [{\n            'v': 947,\n            'f': \"947\",\n        },\n\"Malaysia\",\n{\n            'v': 2007,\n            'f': \"2007\",\n        },\n{\n            'v': 24821286,\n            'f': \"24821286\",\n        }],\n [{\n            'v': 959,\n            'f': \"959\",\n        },\n\"Mali\",\n{\n            'v': 2007,\n            'f': \"2007\",\n        },\n{\n            'v': 12031795,\n            'f': \"12031795\",\n        }],\n [{\n            'v': 971,\n            'f': \"971\",\n        },\n\"Mauritania\",\n{\n            'v': 2007,\n            'f': \"2007\",\n        },\n{\n            'v': 3270065,\n            'f': \"3270065\",\n        }],\n [{\n            'v': 983,\n            'f': \"983\",\n        },\n\"Mauritius\",\n{\n            'v': 2007,\n            'f': \"2007\",\n        },\n{\n            'v': 1250882,\n            'f': \"1250882\",\n        }],\n [{\n            'v': 995,\n            'f': \"995\",\n        },\n\"Mexico\",\n{\n            'v': 2007,\n            'f': \"2007\",\n        },\n{\n            'v': 108700891,\n            'f': \"108700891\",\n        }],\n [{\n            'v': 1007,\n            'f': \"1007\",\n        },\n\"Mongolia\",\n{\n            'v': 2007,\n            'f': \"2007\",\n        },\n{\n            'v': 2874127,\n            'f': \"2874127\",\n        }],\n [{\n            'v': 1019,\n            'f': \"1019\",\n        },\n\"Montenegro\",\n{\n            'v': 2007,\n            'f': \"2007\",\n        },\n{\n            'v': 684736,\n            'f': \"684736\",\n        }],\n [{\n            'v': 1031,\n            'f': \"1031\",\n        },\n\"Morocco\",\n{\n            'v': 2007,\n            'f': \"2007\",\n        },\n{\n            'v': 33757175,\n            'f': \"33757175\",\n        }],\n [{\n            'v': 1043,\n            'f': \"1043\",\n        },\n\"Mozambique\",\n{\n            'v': 2007,\n            'f': \"2007\",\n        },\n{\n            'v': 19951656,\n            'f': \"19951656\",\n        }],\n [{\n            'v': 1055,\n            'f': \"1055\",\n        },\n\"Myanmar\",\n{\n            'v': 2007,\n            'f': \"2007\",\n        },\n{\n            'v': 47761980,\n            'f': \"47761980\",\n        }],\n [{\n            'v': 1067,\n            'f': \"1067\",\n        },\n\"Namibia\",\n{\n            'v': 2007,\n            'f': \"2007\",\n        },\n{\n            'v': 2055080,\n            'f': \"2055080\",\n        }],\n [{\n            'v': 1079,\n            'f': \"1079\",\n        },\n\"Nepal\",\n{\n            'v': 2007,\n            'f': \"2007\",\n        },\n{\n            'v': 28901790,\n            'f': \"28901790\",\n        }],\n [{\n            'v': 1091,\n            'f': \"1091\",\n        },\n\"Netherlands\",\n{\n            'v': 2007,\n            'f': \"2007\",\n        },\n{\n            'v': 16570613,\n            'f': \"16570613\",\n        }],\n [{\n            'v': 1103,\n            'f': \"1103\",\n        },\n\"New Zealand\",\n{\n            'v': 2007,\n            'f': \"2007\",\n        },\n{\n            'v': 4115771,\n            'f': \"4115771\",\n        }],\n [{\n            'v': 1115,\n            'f': \"1115\",\n        },\n\"Nicaragua\",\n{\n            'v': 2007,\n            'f': \"2007\",\n        },\n{\n            'v': 5675356,\n            'f': \"5675356\",\n        }],\n [{\n            'v': 1127,\n            'f': \"1127\",\n        },\n\"Niger\",\n{\n            'v': 2007,\n            'f': \"2007\",\n        },\n{\n            'v': 12894865,\n            'f': \"12894865\",\n        }],\n [{\n            'v': 1139,\n            'f': \"1139\",\n        },\n\"Nigeria\",\n{\n            'v': 2007,\n            'f': \"2007\",\n        },\n{\n            'v': 135031164,\n            'f': \"135031164\",\n        }],\n [{\n            'v': 1151,\n            'f': \"1151\",\n        },\n\"Norway\",\n{\n            'v': 2007,\n            'f': \"2007\",\n        },\n{\n            'v': 4627926,\n            'f': \"4627926\",\n        }],\n [{\n            'v': 1163,\n            'f': \"1163\",\n        },\n\"Oman\",\n{\n            'v': 2007,\n            'f': \"2007\",\n        },\n{\n            'v': 3204897,\n            'f': \"3204897\",\n        }],\n [{\n            'v': 1175,\n            'f': \"1175\",\n        },\n\"Pakistan\",\n{\n            'v': 2007,\n            'f': \"2007\",\n        },\n{\n            'v': 169270617,\n            'f': \"169270617\",\n        }],\n [{\n            'v': 1187,\n            'f': \"1187\",\n        },\n\"Panama\",\n{\n            'v': 2007,\n            'f': \"2007\",\n        },\n{\n            'v': 3242173,\n            'f': \"3242173\",\n        }],\n [{\n            'v': 1199,\n            'f': \"1199\",\n        },\n\"Paraguay\",\n{\n            'v': 2007,\n            'f': \"2007\",\n        },\n{\n            'v': 6667147,\n            'f': \"6667147\",\n        }],\n [{\n            'v': 1211,\n            'f': \"1211\",\n        },\n\"Peru\",\n{\n            'v': 2007,\n            'f': \"2007\",\n        },\n{\n            'v': 28674757,\n            'f': \"28674757\",\n        }],\n [{\n            'v': 1223,\n            'f': \"1223\",\n        },\n\"Philippines\",\n{\n            'v': 2007,\n            'f': \"2007\",\n        },\n{\n            'v': 91077287,\n            'f': \"91077287\",\n        }],\n [{\n            'v': 1235,\n            'f': \"1235\",\n        },\n\"Poland\",\n{\n            'v': 2007,\n            'f': \"2007\",\n        },\n{\n            'v': 38518241,\n            'f': \"38518241\",\n        }],\n [{\n            'v': 1247,\n            'f': \"1247\",\n        },\n\"Portugal\",\n{\n            'v': 2007,\n            'f': \"2007\",\n        },\n{\n            'v': 10642836,\n            'f': \"10642836\",\n        }],\n [{\n            'v': 1259,\n            'f': \"1259\",\n        },\n\"Puerto Rico\",\n{\n            'v': 2007,\n            'f': \"2007\",\n        },\n{\n            'v': 3942491,\n            'f': \"3942491\",\n        }],\n [{\n            'v': 1271,\n            'f': \"1271\",\n        },\n\"Reunion\",\n{\n            'v': 2007,\n            'f': \"2007\",\n        },\n{\n            'v': 798094,\n            'f': \"798094\",\n        }],\n [{\n            'v': 1283,\n            'f': \"1283\",\n        },\n\"Romania\",\n{\n            'v': 2007,\n            'f': \"2007\",\n        },\n{\n            'v': 22276056,\n            'f': \"22276056\",\n        }],\n [{\n            'v': 1295,\n            'f': \"1295\",\n        },\n\"Rwanda\",\n{\n            'v': 2007,\n            'f': \"2007\",\n        },\n{\n            'v': 8860588,\n            'f': \"8860588\",\n        }],\n [{\n            'v': 1307,\n            'f': \"1307\",\n        },\n\"Sao Tome and Principe\",\n{\n            'v': 2007,\n            'f': \"2007\",\n        },\n{\n            'v': 199579,\n            'f': \"199579\",\n        }],\n [{\n            'v': 1319,\n            'f': \"1319\",\n        },\n\"Saudi Arabia\",\n{\n            'v': 2007,\n            'f': \"2007\",\n        },\n{\n            'v': 27601038,\n            'f': \"27601038\",\n        }],\n [{\n            'v': 1331,\n            'f': \"1331\",\n        },\n\"Senegal\",\n{\n            'v': 2007,\n            'f': \"2007\",\n        },\n{\n            'v': 12267493,\n            'f': \"12267493\",\n        }],\n [{\n            'v': 1343,\n            'f': \"1343\",\n        },\n\"Serbia\",\n{\n            'v': 2007,\n            'f': \"2007\",\n        },\n{\n            'v': 10150265,\n            'f': \"10150265\",\n        }],\n [{\n            'v': 1355,\n            'f': \"1355\",\n        },\n\"Sierra Leone\",\n{\n            'v': 2007,\n            'f': \"2007\",\n        },\n{\n            'v': 6144562,\n            'f': \"6144562\",\n        }],\n [{\n            'v': 1367,\n            'f': \"1367\",\n        },\n\"Singapore\",\n{\n            'v': 2007,\n            'f': \"2007\",\n        },\n{\n            'v': 4553009,\n            'f': \"4553009\",\n        }],\n [{\n            'v': 1379,\n            'f': \"1379\",\n        },\n\"Slovak Republic\",\n{\n            'v': 2007,\n            'f': \"2007\",\n        },\n{\n            'v': 5447502,\n            'f': \"5447502\",\n        }],\n [{\n            'v': 1391,\n            'f': \"1391\",\n        },\n\"Slovenia\",\n{\n            'v': 2007,\n            'f': \"2007\",\n        },\n{\n            'v': 2009245,\n            'f': \"2009245\",\n        }],\n [{\n            'v': 1403,\n            'f': \"1403\",\n        },\n\"Somalia\",\n{\n            'v': 2007,\n            'f': \"2007\",\n        },\n{\n            'v': 9118773,\n            'f': \"9118773\",\n        }],\n [{\n            'v': 1415,\n            'f': \"1415\",\n        },\n\"South Africa\",\n{\n            'v': 2007,\n            'f': \"2007\",\n        },\n{\n            'v': 43997828,\n            'f': \"43997828\",\n        }],\n [{\n            'v': 1427,\n            'f': \"1427\",\n        },\n\"Spain\",\n{\n            'v': 2007,\n            'f': \"2007\",\n        },\n{\n            'v': 40448191,\n            'f': \"40448191\",\n        }],\n [{\n            'v': 1439,\n            'f': \"1439\",\n        },\n\"Sri Lanka\",\n{\n            'v': 2007,\n            'f': \"2007\",\n        },\n{\n            'v': 20378239,\n            'f': \"20378239\",\n        }],\n [{\n            'v': 1451,\n            'f': \"1451\",\n        },\n\"Sudan\",\n{\n            'v': 2007,\n            'f': \"2007\",\n        },\n{\n            'v': 42292929,\n            'f': \"42292929\",\n        }],\n [{\n            'v': 1463,\n            'f': \"1463\",\n        },\n\"Swaziland\",\n{\n            'v': 2007,\n            'f': \"2007\",\n        },\n{\n            'v': 1133066,\n            'f': \"1133066\",\n        }],\n [{\n            'v': 1475,\n            'f': \"1475\",\n        },\n\"Sweden\",\n{\n            'v': 2007,\n            'f': \"2007\",\n        },\n{\n            'v': 9031088,\n            'f': \"9031088\",\n        }],\n [{\n            'v': 1487,\n            'f': \"1487\",\n        },\n\"Switzerland\",\n{\n            'v': 2007,\n            'f': \"2007\",\n        },\n{\n            'v': 7554661,\n            'f': \"7554661\",\n        }],\n [{\n            'v': 1499,\n            'f': \"1499\",\n        },\n\"Syria\",\n{\n            'v': 2007,\n            'f': \"2007\",\n        },\n{\n            'v': 19314747,\n            'f': \"19314747\",\n        }],\n [{\n            'v': 1511,\n            'f': \"1511\",\n        },\n\"Taiwan\",\n{\n            'v': 2007,\n            'f': \"2007\",\n        },\n{\n            'v': 23174294,\n            'f': \"23174294\",\n        }],\n [{\n            'v': 1523,\n            'f': \"1523\",\n        },\n\"Tanzania\",\n{\n            'v': 2007,\n            'f': \"2007\",\n        },\n{\n            'v': 38139640,\n            'f': \"38139640\",\n        }],\n [{\n            'v': 1535,\n            'f': \"1535\",\n        },\n\"Thailand\",\n{\n            'v': 2007,\n            'f': \"2007\",\n        },\n{\n            'v': 65068149,\n            'f': \"65068149\",\n        }],\n [{\n            'v': 1547,\n            'f': \"1547\",\n        },\n\"Togo\",\n{\n            'v': 2007,\n            'f': \"2007\",\n        },\n{\n            'v': 5701579,\n            'f': \"5701579\",\n        }],\n [{\n            'v': 1559,\n            'f': \"1559\",\n        },\n\"Trinidad and Tobago\",\n{\n            'v': 2007,\n            'f': \"2007\",\n        },\n{\n            'v': 1056608,\n            'f': \"1056608\",\n        }],\n [{\n            'v': 1571,\n            'f': \"1571\",\n        },\n\"Tunisia\",\n{\n            'v': 2007,\n            'f': \"2007\",\n        },\n{\n            'v': 10276158,\n            'f': \"10276158\",\n        }],\n [{\n            'v': 1583,\n            'f': \"1583\",\n        },\n\"Turkey\",\n{\n            'v': 2007,\n            'f': \"2007\",\n        },\n{\n            'v': 71158647,\n            'f': \"71158647\",\n        }],\n [{\n            'v': 1595,\n            'f': \"1595\",\n        },\n\"Uganda\",\n{\n            'v': 2007,\n            'f': \"2007\",\n        },\n{\n            'v': 29170398,\n            'f': \"29170398\",\n        }],\n [{\n            'v': 1607,\n            'f': \"1607\",\n        },\n\"United Kingdom\",\n{\n            'v': 2007,\n            'f': \"2007\",\n        },\n{\n            'v': 60776238,\n            'f': \"60776238\",\n        }],\n [{\n            'v': 1619,\n            'f': \"1619\",\n        },\n\"United States\",\n{\n            'v': 2007,\n            'f': \"2007\",\n        },\n{\n            'v': 301139947,\n            'f': \"301139947\",\n        }],\n [{\n            'v': 1631,\n            'f': \"1631\",\n        },\n\"Uruguay\",\n{\n            'v': 2007,\n            'f': \"2007\",\n        },\n{\n            'v': 3447496,\n            'f': \"3447496\",\n        }],\n [{\n            'v': 1643,\n            'f': \"1643\",\n        },\n\"Venezuela\",\n{\n            'v': 2007,\n            'f': \"2007\",\n        },\n{\n            'v': 26084662,\n            'f': \"26084662\",\n        }],\n [{\n            'v': 1655,\n            'f': \"1655\",\n        },\n\"Vietnam\",\n{\n            'v': 2007,\n            'f': \"2007\",\n        },\n{\n            'v': 85262356,\n            'f': \"85262356\",\n        }],\n [{\n            'v': 1667,\n            'f': \"1667\",\n        },\n\"West Bank and Gaza\",\n{\n            'v': 2007,\n            'f': \"2007\",\n        },\n{\n            'v': 4018332,\n            'f': \"4018332\",\n        }],\n [{\n            'v': 1679,\n            'f': \"1679\",\n        },\n\"Yemen, Rep.\",\n{\n            'v': 2007,\n            'f': \"2007\",\n        },\n{\n            'v': 22211743,\n            'f': \"22211743\",\n        }],\n [{\n            'v': 1691,\n            'f': \"1691\",\n        },\n\"Zambia\",\n{\n            'v': 2007,\n            'f': \"2007\",\n        },\n{\n            'v': 11746035,\n            'f': \"11746035\",\n        }],\n [{\n            'v': 1703,\n            'f': \"1703\",\n        },\n\"Zimbabwe\",\n{\n            'v': 2007,\n            'f': \"2007\",\n        },\n{\n            'v': 12311143,\n            'f': \"12311143\",\n        }]],\n        columns: [[\"number\", \"index\"], [\"string\", \"country\"], [\"number\", \"year\"], [\"number\", \"population\"]],\n        columnOptions: [{\"width\": \"1px\", \"className\": \"index_column\"}],\n        rowsPerPage: 25,\n        helpUrl: \"https://colab.research.google.com/notebooks/data_table.ipynb\",\n        suppressOutputScrolling: true,\n        minimumWidth: undefined,\n      });\n    "
          },
          "metadata": {},
          "execution_count": 42
        }
      ]
    },
    {
      "cell_type": "markdown",
      "source": [
        "O DataFrame está organizado em ordem alfabética do nome dos países. Faremos a ordenação por população utilizando o comando DataFrame.sort_values(by=nome_da_coluna). O comando fará a ordenação do menor valor para o maior, especificando a coluna de referência para a ordenação através da definição do parâmetro by. Para inverter a ordem da ordenação, definimos o parâmetro ascending=False e, para efetuar a modificação no DataFrame, definimos também o parâmetro inplace=True."
      ],
      "metadata": {
        "id": "IJVPqdrMgWCR"
      }
    },
    {
      "cell_type": "code",
      "source": [
        "biggest_pop_2007.sort_values(by='population', ascending=False, inplace=True)\n",
        "biggest_pop_2007.head(10)"
      ],
      "metadata": {
        "colab": {
          "base_uri": "https://localhost:8080/",
          "height": 302
        },
        "id": "dWGnH1XrgW_B",
        "outputId": "d8898695-81dc-4939-fa30-231b71e4729e"
      },
      "execution_count": null,
      "outputs": [
        {
          "output_type": "execute_result",
          "data": {
            "text/plain": [
              "            country  year  population\n",
              "299           China  2007  1318683096\n",
              "707           India  2007  1110396331\n",
              "1619  United States  2007   301139947\n",
              "719       Indonesia  2007   223547000\n",
              "179          Brazil  2007   190010647\n",
              "1175       Pakistan  2007   169270617\n",
              "107      Bangladesh  2007   150448339\n",
              "1139        Nigeria  2007   135031164\n",
              "803           Japan  2007   127467972\n",
              "995          Mexico  2007   108700891"
            ],
            "text/html": [
              "\n",
              "  <div id=\"df-3a1319d5-6b47-424d-8740-261b1556f9ac\">\n",
              "    <div class=\"colab-df-container\">\n",
              "      <div>\n",
              "<style scoped>\n",
              "    .dataframe tbody tr th:only-of-type {\n",
              "        vertical-align: middle;\n",
              "    }\n",
              "\n",
              "    .dataframe tbody tr th {\n",
              "        vertical-align: top;\n",
              "    }\n",
              "\n",
              "    .dataframe thead th {\n",
              "        text-align: right;\n",
              "    }\n",
              "</style>\n",
              "<table border=\"1\" class=\"dataframe\">\n",
              "  <thead>\n",
              "    <tr style=\"text-align: right;\">\n",
              "      <th></th>\n",
              "      <th>country</th>\n",
              "      <th>year</th>\n",
              "      <th>population</th>\n",
              "    </tr>\n",
              "  </thead>\n",
              "  <tbody>\n",
              "    <tr>\n",
              "      <th>299</th>\n",
              "      <td>China</td>\n",
              "      <td>2007</td>\n",
              "      <td>1318683096</td>\n",
              "    </tr>\n",
              "    <tr>\n",
              "      <th>707</th>\n",
              "      <td>India</td>\n",
              "      <td>2007</td>\n",
              "      <td>1110396331</td>\n",
              "    </tr>\n",
              "    <tr>\n",
              "      <th>1619</th>\n",
              "      <td>United States</td>\n",
              "      <td>2007</td>\n",
              "      <td>301139947</td>\n",
              "    </tr>\n",
              "    <tr>\n",
              "      <th>719</th>\n",
              "      <td>Indonesia</td>\n",
              "      <td>2007</td>\n",
              "      <td>223547000</td>\n",
              "    </tr>\n",
              "    <tr>\n",
              "      <th>179</th>\n",
              "      <td>Brazil</td>\n",
              "      <td>2007</td>\n",
              "      <td>190010647</td>\n",
              "    </tr>\n",
              "    <tr>\n",
              "      <th>1175</th>\n",
              "      <td>Pakistan</td>\n",
              "      <td>2007</td>\n",
              "      <td>169270617</td>\n",
              "    </tr>\n",
              "    <tr>\n",
              "      <th>107</th>\n",
              "      <td>Bangladesh</td>\n",
              "      <td>2007</td>\n",
              "      <td>150448339</td>\n",
              "    </tr>\n",
              "    <tr>\n",
              "      <th>1139</th>\n",
              "      <td>Nigeria</td>\n",
              "      <td>2007</td>\n",
              "      <td>135031164</td>\n",
              "    </tr>\n",
              "    <tr>\n",
              "      <th>803</th>\n",
              "      <td>Japan</td>\n",
              "      <td>2007</td>\n",
              "      <td>127467972</td>\n",
              "    </tr>\n",
              "    <tr>\n",
              "      <th>995</th>\n",
              "      <td>Mexico</td>\n",
              "      <td>2007</td>\n",
              "      <td>108700891</td>\n",
              "    </tr>\n",
              "  </tbody>\n",
              "</table>\n",
              "</div>\n",
              "      <button class=\"colab-df-convert\" onclick=\"convertToInteractive('df-3a1319d5-6b47-424d-8740-261b1556f9ac')\"\n",
              "              title=\"Convert this dataframe to an interactive table.\"\n",
              "              style=\"display:none;\">\n",
              "        \n",
              "  <svg xmlns=\"http://www.w3.org/2000/svg\" height=\"24px\"viewBox=\"0 0 24 24\"\n",
              "       width=\"24px\">\n",
              "    <path d=\"M0 0h24v24H0V0z\" fill=\"none\"/>\n",
              "    <path d=\"M18.56 5.44l.94 2.06.94-2.06 2.06-.94-2.06-.94-.94-2.06-.94 2.06-2.06.94zm-11 1L8.5 8.5l.94-2.06 2.06-.94-2.06-.94L8.5 2.5l-.94 2.06-2.06.94zm10 10l.94 2.06.94-2.06 2.06-.94-2.06-.94-.94-2.06-.94 2.06-2.06.94z\"/><path d=\"M17.41 7.96l-1.37-1.37c-.4-.4-.92-.59-1.43-.59-.52 0-1.04.2-1.43.59L10.3 9.45l-7.72 7.72c-.78.78-.78 2.05 0 2.83L4 21.41c.39.39.9.59 1.41.59.51 0 1.02-.2 1.41-.59l7.78-7.78 2.81-2.81c.8-.78.8-2.07 0-2.86zM5.41 20L4 18.59l7.72-7.72 1.47 1.35L5.41 20z\"/>\n",
              "  </svg>\n",
              "      </button>\n",
              "      \n",
              "  <style>\n",
              "    .colab-df-container {\n",
              "      display:flex;\n",
              "      flex-wrap:wrap;\n",
              "      gap: 12px;\n",
              "    }\n",
              "\n",
              "    .colab-df-convert {\n",
              "      background-color: #E8F0FE;\n",
              "      border: none;\n",
              "      border-radius: 50%;\n",
              "      cursor: pointer;\n",
              "      display: none;\n",
              "      fill: #1967D2;\n",
              "      height: 32px;\n",
              "      padding: 0 0 0 0;\n",
              "      width: 32px;\n",
              "    }\n",
              "\n",
              "    .colab-df-convert:hover {\n",
              "      background-color: #E2EBFA;\n",
              "      box-shadow: 0px 1px 2px rgba(60, 64, 67, 0.3), 0px 1px 3px 1px rgba(60, 64, 67, 0.15);\n",
              "      fill: #174EA6;\n",
              "    }\n",
              "\n",
              "    [theme=dark] .colab-df-convert {\n",
              "      background-color: #3B4455;\n",
              "      fill: #D2E3FC;\n",
              "    }\n",
              "\n",
              "    [theme=dark] .colab-df-convert:hover {\n",
              "      background-color: #434B5C;\n",
              "      box-shadow: 0px 1px 3px 1px rgba(0, 0, 0, 0.15);\n",
              "      filter: drop-shadow(0px 1px 2px rgba(0, 0, 0, 0.3));\n",
              "      fill: #FFFFFF;\n",
              "    }\n",
              "  </style>\n",
              "\n",
              "      <script>\n",
              "        const buttonEl =\n",
              "          document.querySelector('#df-3a1319d5-6b47-424d-8740-261b1556f9ac button.colab-df-convert');\n",
              "        buttonEl.style.display =\n",
              "          google.colab.kernel.accessAllowed ? 'block' : 'none';\n",
              "\n",
              "        async function convertToInteractive(key) {\n",
              "          const element = document.querySelector('#df-3a1319d5-6b47-424d-8740-261b1556f9ac');\n",
              "          const dataTable =\n",
              "            await google.colab.kernel.invokeFunction('convertToInteractive',\n",
              "                                                     [key], {});\n",
              "          if (!dataTable) return;\n",
              "\n",
              "          const docLinkHtml = 'Like what you see? Visit the ' +\n",
              "            '<a target=\"_blank\" href=https://colab.research.google.com/notebooks/data_table.ipynb>data table notebook</a>'\n",
              "            + ' to learn more about interactive tables.';\n",
              "          element.innerHTML = '';\n",
              "          dataTable['output_type'] = 'display_data';\n",
              "          await google.colab.output.renderOutput(dataTable, element);\n",
              "          const docLink = document.createElement('div');\n",
              "          docLink.innerHTML = docLinkHtml;\n",
              "          element.appendChild(docLink);\n",
              "        }\n",
              "      </script>\n",
              "    </div>\n",
              "  </div>\n",
              "  "
            ],
            "application/vnd.google.colaboratory.module+javascript": "\n      import \"https://ssl.gstatic.com/colaboratory/data_table/99dac6621f6ae8c4/data_table.js\";\n\n      window.createDataTable({\n        data: [[{\n            'v': 299,\n            'f': \"299\",\n        },\n\"China\",\n{\n            'v': 2007,\n            'f': \"2007\",\n        },\n{\n            'v': 1318683096,\n            'f': \"1318683096\",\n        }],\n [{\n            'v': 707,\n            'f': \"707\",\n        },\n\"India\",\n{\n            'v': 2007,\n            'f': \"2007\",\n        },\n{\n            'v': 1110396331,\n            'f': \"1110396331\",\n        }],\n [{\n            'v': 1619,\n            'f': \"1619\",\n        },\n\"United States\",\n{\n            'v': 2007,\n            'f': \"2007\",\n        },\n{\n            'v': 301139947,\n            'f': \"301139947\",\n        }],\n [{\n            'v': 719,\n            'f': \"719\",\n        },\n\"Indonesia\",\n{\n            'v': 2007,\n            'f': \"2007\",\n        },\n{\n            'v': 223547000,\n            'f': \"223547000\",\n        }],\n [{\n            'v': 179,\n            'f': \"179\",\n        },\n\"Brazil\",\n{\n            'v': 2007,\n            'f': \"2007\",\n        },\n{\n            'v': 190010647,\n            'f': \"190010647\",\n        }],\n [{\n            'v': 1175,\n            'f': \"1175\",\n        },\n\"Pakistan\",\n{\n            'v': 2007,\n            'f': \"2007\",\n        },\n{\n            'v': 169270617,\n            'f': \"169270617\",\n        }],\n [{\n            'v': 107,\n            'f': \"107\",\n        },\n\"Bangladesh\",\n{\n            'v': 2007,\n            'f': \"2007\",\n        },\n{\n            'v': 150448339,\n            'f': \"150448339\",\n        }],\n [{\n            'v': 1139,\n            'f': \"1139\",\n        },\n\"Nigeria\",\n{\n            'v': 2007,\n            'f': \"2007\",\n        },\n{\n            'v': 135031164,\n            'f': \"135031164\",\n        }],\n [{\n            'v': 803,\n            'f': \"803\",\n        },\n\"Japan\",\n{\n            'v': 2007,\n            'f': \"2007\",\n        },\n{\n            'v': 127467972,\n            'f': \"127467972\",\n        }],\n [{\n            'v': 995,\n            'f': \"995\",\n        },\n\"Mexico\",\n{\n            'v': 2007,\n            'f': \"2007\",\n        },\n{\n            'v': 108700891,\n            'f': \"108700891\",\n        }]],\n        columns: [[\"number\", \"index\"], [\"string\", \"country\"], [\"number\", \"year\"], [\"number\", \"population\"]],\n        columnOptions: [{\"width\": \"1px\", \"className\": \"index_column\"}],\n        rowsPerPage: 25,\n        helpUrl: \"https://colab.research.google.com/notebooks/data_table.ipynb\",\n        suppressOutputScrolling: true,\n        minimumWidth: undefined,\n      });\n    "
          },
          "metadata": {},
          "execution_count": 43
        }
      ]
    },
    {
      "cell_type": "markdown",
      "source": [
        "Como estamos interessados somente nas 5 maiores populações, utilizamos o comando Series.head(5) para copiar as 5 primeiras linhas da tabela. Para facilitar o uso do código, atribuiremos o valor 5 à variável n. O gráfico resultante pode ficar pequeno para plotar 5 barras. Para alterar o tamanho do gráfico, aprescentemos o comando plt.figure(figsize=(largura, altura)). Nesse caso, modificaremos as dimensões do gráfico para largura=8 e altura=4."
      ],
      "metadata": {
        "id": "SCJe-C3cg2xv"
      }
    },
    {
      "cell_type": "code",
      "source": [
        "n = 5\n",
        "plt.figure(figsize=(8, 4))\n",
        "plt.bar(biggest_pop_2007.country.head(n), biggest_pop_2007.population.head(n))\n",
        "plt.title(f'Os {n} países mais populosos são:')\n",
        "plt.figure(figsize=(8,5))"
      ],
      "metadata": {
        "colab": {
          "base_uri": "https://localhost:8080/",
          "height": 426
        },
        "id": "E9hrZySKg1e_",
        "outputId": "a7587886-da87-41a3-f1a6-3935095c68e9"
      },
      "execution_count": null,
      "outputs": [
        {
          "output_type": "execute_result",
          "data": {
            "text/plain": [
              "<Figure size 800x500 with 0 Axes>"
            ]
          },
          "metadata": {},
          "execution_count": 44
        },
        {
          "output_type": "display_data",
          "data": {
            "text/plain": [
              "<Figure size 800x400 with 1 Axes>"
            ],
            "image/png": "[encoded data removed]"
          },
          "metadata": {}
        },
        {
          "output_type": "display_data",
          "data": {
            "text/plain": [
              "<Figure size 800x500 with 0 Axes>"
            ]
          },
          "metadata": {}
        }
      ]
    }
  ]
}