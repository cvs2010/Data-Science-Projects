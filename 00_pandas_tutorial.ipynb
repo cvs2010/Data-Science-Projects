{
  "nbformat": 4,
  "nbformat_minor": 0,
  "metadata": {
    "colab": {
      "provenance": [],
      "mount_file_id": "1LXl-iqtIJW7WYu4MyHpO9tdfkwr8pin3",
      "authorship_tag": "ABX9TyP+DY9muWmtmSBqhvQgUcin",
      "include_colab_link": true
    },
    "kernelspec": {
      "name": "python3",
      "display_name": "Python 3"
    },
    "language_info": {
      "name": "python"
    }
  },
  "cells": [
    {
      "cell_type": "markdown",
      "metadata": {
        "id": "view-in-github",
        "colab_type": "text"
      },
      "source": [
        "<a href=\"https://colab.research.google.com/github/cvs2010/udemyDeepLearning/blob/main/00_pandas_tutorial.ipynb\" target=\"_parent\"><img src=\"https://colab.research.google.com/assets/colab-badge.svg\" alt=\"Open In Colab\"/></a>"
      ]
    },
    {
      "cell_type": "markdown",
      "source": [
        "# Configurações inicias"
      ],
      "metadata": {
        "id": "UmnzOHaY1XU_"
      }
    },
    {
      "cell_type": "code",
      "execution_count": 1,
      "metadata": {
        "id": "XsKYuUDVfeKa"
      },
      "outputs": [],
      "source": [
        "import pandas as pd\n",
        "import numpy as np\n",
        "import matplotlib.pyplot as plt\n",
        "!pip install seaborn\n",
        "import seaborn as sns\n",
        "# Importing kaggle data via API\n",
        "import os\n",
        "os.environ['KAGGLE_CONFIG_DIR'] = \"/content/drive/MyDrive/Colab Notebooks/API´s/\""
      ]
    },
    {
      "cell_type": "code",
      "source": [
        " # Turn pandas dataframes into interactive tables that can be filtered, sorted, and explored dynamically\n",
        "%load_ext google.colab.data_table"
      ],
      "metadata": {
        "id": "67WvC3ioiMTX"
      },
      "execution_count": 2,
      "outputs": []
    },
    {
      "cell_type": "code",
      "source": [
        "!wget https://github.com/cvs2010/udemyDeepLearning/raw/main/Files/countries.csv\n",
        "\n",
        "# Também é possível fazer a leitura diretamente de um arquivo do GitHub (RAW)\n",
        "# housing = pd.read_csv('https://raw.githubusercontent.com/cvs2010/udemyDeepLearning/main/Files/countries.csv')"
      ],
      "metadata": {
        "colab": {
          "base_uri": "https://localhost:8080/"
        },
        "id": "PJdcYCSHrlyI",
        "outputId": "64149d49-60cd-4aa3-bbd1-ec1b28d55f15"
      },
      "execution_count": 3,
      "outputs": [
        {
          "output_type": "stream",
          "name": "stdout",
          "text": [
            "--2023-04-20 14:24:37--  https://github.com/cvs2010/udemyDeepLearning/raw/main/Files/countries.csv\n",
            "Resolving github.com (github.com)... 140.82.114.4\n",
            "Connecting to github.com (github.com)|140.82.114.4|:443... connected.\n",
            "HTTP request sent, awaiting response... 302 Found\n",
            "Location: https://raw.githubusercontent.com/cvs2010/udemyDeepLearning/main/Files/countries.csv [following]\n",
            "--2023-04-20 14:24:37--  https://raw.githubusercontent.com/cvs2010/udemyDeepLearning/main/Files/countries.csv\n",
            "Resolving raw.githubusercontent.com (raw.githubusercontent.com)... 185.199.108.133, 185.199.109.133, 185.199.110.133, ...\n",
            "Connecting to raw.githubusercontent.com (raw.githubusercontent.com)|185.199.108.133|:443... connected.\n",
            "HTTP request sent, awaiting response... 200 OK\n",
            "Length: 38809 (38K) [text/plain]\n",
            "Saving to: ‘countries.csv.2’\n",
            "\n",
            "countries.csv.2     100%[===================>]  37.90K  --.-KB/s    in 0.003s  \n",
            "\n",
            "2023-04-20 14:24:37 (10.7 MB/s) - ‘countries.csv.2’ saved [38809/38809]\n",
            "\n"
          ]
        }
      ]
    },
    {
      "cell_type": "markdown",
      "source": [
        "# Manipulando DataFrames"
      ],
      "metadata": {
        "id": "qJBF_odP1SZe"
      }
    },
    {
      "cell_type": "code",
      "source": [
        "# Criando um Dataframe (df = Base de Dados)\n",
        "df = pd.read_csv('/content/countries.csv')"
      ],
      "metadata": {
        "id": "qNwBFIOlyZ4r"
      },
      "execution_count": 4,
      "outputs": []
    },
    {
      "cell_type": "code",
      "source": [
        "# 5 primeiros registros do Dataframe\n",
        "df.head()"
      ],
      "metadata": {
        "colab": {
          "base_uri": "https://localhost:8080/",
          "height": 196
        },
        "id": "62NrKqLZypCS",
        "outputId": "c6262bae-c49c-4d99-e250-44326db39cac"
      },
      "execution_count": 5,
      "outputs": [
        {
          "output_type": "execute_result",
          "data": {
            "text/plain": [
              "       country  year  population\n",
              "0  Afghanistan  1952     8425333\n",
              "1  Afghanistan  1957     9240934\n",
              "2  Afghanistan  1962    10267083\n",
              "3  Afghanistan  1967    11537966\n",
              "4  Afghanistan  1972    13079460"
            ],
            "text/html": [
              "\n",
              "  <div id=\"df-b54a2c6d-9a5c-413e-81ec-93b2155966c0\">\n",
              "    <div class=\"colab-df-container\">\n",
              "      <div>\n",
              "<style scoped>\n",
              "    .dataframe tbody tr th:only-of-type {\n",
              "        vertical-align: middle;\n",
              "    }\n",
              "\n",
              "    .dataframe tbody tr th {\n",
              "        vertical-align: top;\n",
              "    }\n",
              "\n",
              "    .dataframe thead th {\n",
              "        text-align: right;\n",
              "    }\n",
              "</style>\n",
              "<table border=\"1\" class=\"dataframe\">\n",
              "  <thead>\n",
              "    <tr style=\"text-align: right;\">\n",
              "      <th></th>\n",
              "      <th>country</th>\n",
              "      <th>year</th>\n",
              "      <th>population</th>\n",
              "    </tr>\n",
              "  </thead>\n",
              "  <tbody>\n",
              "    <tr>\n",
              "      <th>0</th>\n",
              "      <td>Afghanistan</td>\n",
              "      <td>1952</td>\n",
              "      <td>8425333</td>\n",
              "    </tr>\n",
              "    <tr>\n",
              "      <th>1</th>\n",
              "      <td>Afghanistan</td>\n",
              "      <td>1957</td>\n",
              "      <td>9240934</td>\n",
              "    </tr>\n",
              "    <tr>\n",
              "      <th>2</th>\n",
              "      <td>Afghanistan</td>\n",
              "      <td>1962</td>\n",
              "      <td>10267083</td>\n",
              "    </tr>\n",
              "    <tr>\n",
              "      <th>3</th>\n",
              "      <td>Afghanistan</td>\n",
              "      <td>1967</td>\n",
              "      <td>11537966</td>\n",
              "    </tr>\n",
              "    <tr>\n",
              "      <th>4</th>\n",
              "      <td>Afghanistan</td>\n",
              "      <td>1972</td>\n",
              "      <td>13079460</td>\n",
              "    </tr>\n",
              "  </tbody>\n",
              "</table>\n",
              "</div>\n",
              "      <button class=\"colab-df-convert\" onclick=\"convertToInteractive('df-b54a2c6d-9a5c-413e-81ec-93b2155966c0')\"\n",
              "              title=\"Convert this dataframe to an interactive table.\"\n",
              "              style=\"display:none;\">\n",
              "        \n",
              "  <svg xmlns=\"http://www.w3.org/2000/svg\" height=\"24px\"viewBox=\"0 0 24 24\"\n",
              "       width=\"24px\">\n",
              "    <path d=\"M0 0h24v24H0V0z\" fill=\"none\"/>\n",
              "    <path d=\"M18.56 5.44l.94 2.06.94-2.06 2.06-.94-2.06-.94-.94-2.06-.94 2.06-2.06.94zm-11 1L8.5 8.5l.94-2.06 2.06-.94-2.06-.94L8.5 2.5l-.94 2.06-2.06.94zm10 10l.94 2.06.94-2.06 2.06-.94-2.06-.94-.94-2.06-.94 2.06-2.06.94z\"/><path d=\"M17.41 7.96l-1.37-1.37c-.4-.4-.92-.59-1.43-.59-.52 0-1.04.2-1.43.59L10.3 9.45l-7.72 7.72c-.78.78-.78 2.05 0 2.83L4 21.41c.39.39.9.59 1.41.59.51 0 1.02-.2 1.41-.59l7.78-7.78 2.81-2.81c.8-.78.8-2.07 0-2.86zM5.41 20L4 18.59l7.72-7.72 1.47 1.35L5.41 20z\"/>\n",
              "  </svg>\n",
              "      </button>\n",
              "      \n",
              "  <style>\n",
              "    .colab-df-container {\n",
              "      display:flex;\n",
              "      flex-wrap:wrap;\n",
              "      gap: 12px;\n",
              "    }\n",
              "\n",
              "    .colab-df-convert {\n",
              "      background-color: #E8F0FE;\n",
              "      border: none;\n",
              "      border-radius: 50%;\n",
              "      cursor: pointer;\n",
              "      display: none;\n",
              "      fill: #1967D2;\n",
              "      height: 32px;\n",
              "      padding: 0 0 0 0;\n",
              "      width: 32px;\n",
              "    }\n",
              "\n",
              "    .colab-df-convert:hover {\n",
              "      background-color: #E2EBFA;\n",
              "      box-shadow: 0px 1px 2px rgba(60, 64, 67, 0.3), 0px 1px 3px 1px rgba(60, 64, 67, 0.15);\n",
              "      fill: #174EA6;\n",
              "    }\n",
              "\n",
              "    [theme=dark] .colab-df-convert {\n",
              "      background-color: #3B4455;\n",
              "      fill: #D2E3FC;\n",
              "    }\n",
              "\n",
              "    [theme=dark] .colab-df-convert:hover {\n",
              "      background-color: #434B5C;\n",
              "      box-shadow: 0px 1px 3px 1px rgba(0, 0, 0, 0.15);\n",
              "      filter: drop-shadow(0px 1px 2px rgba(0, 0, 0, 0.3));\n",
              "      fill: #FFFFFF;\n",
              "    }\n",
              "  </style>\n",
              "\n",
              "      <script>\n",
              "        const buttonEl =\n",
              "          document.querySelector('#df-b54a2c6d-9a5c-413e-81ec-93b2155966c0 button.colab-df-convert');\n",
              "        buttonEl.style.display =\n",
              "          google.colab.kernel.accessAllowed ? 'block' : 'none';\n",
              "\n",
              "        async function convertToInteractive(key) {\n",
              "          const element = document.querySelector('#df-b54a2c6d-9a5c-413e-81ec-93b2155966c0');\n",
              "          const dataTable =\n",
              "            await google.colab.kernel.invokeFunction('convertToInteractive',\n",
              "                                                     [key], {});\n",
              "          if (!dataTable) return;\n",
              "\n",
              "          const docLinkHtml = 'Like what you see? Visit the ' +\n",
              "            '<a target=\"_blank\" href=https://colab.research.google.com/notebooks/data_table.ipynb>data table notebook</a>'\n",
              "            + ' to learn more about interactive tables.';\n",
              "          element.innerHTML = '';\n",
              "          dataTable['output_type'] = 'display_data';\n",
              "          await google.colab.output.renderOutput(dataTable, element);\n",
              "          const docLink = document.createElement('div');\n",
              "          docLink.innerHTML = docLinkHtml;\n",
              "          element.appendChild(docLink);\n",
              "        }\n",
              "      </script>\n",
              "    </div>\n",
              "  </div>\n",
              "  "
            ],
            "application/vnd.google.colaboratory.module+javascript": "\n      import \"https://ssl.gstatic.com/colaboratory/data_table/99dac6621f6ae8c4/data_table.js\";\n\n      window.createDataTable({\n        data: [[{\n            'v': 0,\n            'f': \"0\",\n        },\n\"Afghanistan\",\n{\n            'v': 1952,\n            'f': \"1952\",\n        },\n{\n            'v': 8425333,\n            'f': \"8425333\",\n        }],\n [{\n            'v': 1,\n            'f': \"1\",\n        },\n\"Afghanistan\",\n{\n            'v': 1957,\n            'f': \"1957\",\n        },\n{\n            'v': 9240934,\n            'f': \"9240934\",\n        }],\n [{\n            'v': 2,\n            'f': \"2\",\n        },\n\"Afghanistan\",\n{\n            'v': 1962,\n            'f': \"1962\",\n        },\n{\n            'v': 10267083,\n            'f': \"10267083\",\n        }],\n [{\n            'v': 3,\n            'f': \"3\",\n        },\n\"Afghanistan\",\n{\n            'v': 1967,\n            'f': \"1967\",\n        },\n{\n            'v': 11537966,\n            'f': \"11537966\",\n        }],\n [{\n            'v': 4,\n            'f': \"4\",\n        },\n\"Afghanistan\",\n{\n            'v': 1972,\n            'f': \"1972\",\n        },\n{\n            'v': 13079460,\n            'f': \"13079460\",\n        }]],\n        columns: [[\"number\", \"index\"], [\"string\", \"country\"], [\"number\", \"year\"], [\"number\", \"population\"]],\n        columnOptions: [{\"width\": \"1px\", \"className\": \"index_column\"}],\n        rowsPerPage: 25,\n        helpUrl: \"https://colab.research.google.com/notebooks/data_table.ipynb\",\n        suppressOutputScrolling: true,\n        minimumWidth: undefined,\n      });\n    "
          },
          "metadata": {},
          "execution_count": 5
        }
      ]
    },
    {
      "cell_type": "code",
      "source": [
        "# 5 últimos registros do Dataframe\n",
        "df.tail()"
      ],
      "metadata": {
        "colab": {
          "base_uri": "https://localhost:8080/",
          "height": 196
        },
        "id": "H50lBoqOzST7",
        "outputId": "0f473fbe-d236-407e-8c8e-c7794b3aeda5"
      },
      "execution_count": 6,
      "outputs": [
        {
          "output_type": "execute_result",
          "data": {
            "text/plain": [
              "       country  year  population\n",
              "1699  Zimbabwe  1987     9216418\n",
              "1700  Zimbabwe  1992    10704340\n",
              "1701  Zimbabwe  1997    11404948\n",
              "1702  Zimbabwe  2002    11926563\n",
              "1703  Zimbabwe  2007    12311143"
            ],
            "text/html": [
              "\n",
              "  <div id=\"df-8d15ef45-1314-4ed3-b954-1b360d70c71b\">\n",
              "    <div class=\"colab-df-container\">\n",
              "      <div>\n",
              "<style scoped>\n",
              "    .dataframe tbody tr th:only-of-type {\n",
              "        vertical-align: middle;\n",
              "    }\n",
              "\n",
              "    .dataframe tbody tr th {\n",
              "        vertical-align: top;\n",
              "    }\n",
              "\n",
              "    .dataframe thead th {\n",
              "        text-align: right;\n",
              "    }\n",
              "</style>\n",
              "<table border=\"1\" class=\"dataframe\">\n",
              "  <thead>\n",
              "    <tr style=\"text-align: right;\">\n",
              "      <th></th>\n",
              "      <th>country</th>\n",
              "      <th>year</th>\n",
              "      <th>population</th>\n",
              "    </tr>\n",
              "  </thead>\n",
              "  <tbody>\n",
              "    <tr>\n",
              "      <th>1699</th>\n",
              "      <td>Zimbabwe</td>\n",
              "      <td>1987</td>\n",
              "      <td>9216418</td>\n",
              "    </tr>\n",
              "    <tr>\n",
              "      <th>1700</th>\n",
              "      <td>Zimbabwe</td>\n",
              "      <td>1992</td>\n",
              "      <td>10704340</td>\n",
              "    </tr>\n",
              "    <tr>\n",
              "      <th>1701</th>\n",
              "      <td>Zimbabwe</td>\n",
              "      <td>1997</td>\n",
              "      <td>11404948</td>\n",
              "    </tr>\n",
              "    <tr>\n",
              "      <th>1702</th>\n",
              "      <td>Zimbabwe</td>\n",
              "      <td>2002</td>\n",
              "      <td>11926563</td>\n",
              "    </tr>\n",
              "    <tr>\n",
              "      <th>1703</th>\n",
              "      <td>Zimbabwe</td>\n",
              "      <td>2007</td>\n",
              "      <td>12311143</td>\n",
              "    </tr>\n",
              "  </tbody>\n",
              "</table>\n",
              "</div>\n",
              "      <button class=\"colab-df-convert\" onclick=\"convertToInteractive('df-8d15ef45-1314-4ed3-b954-1b360d70c71b')\"\n",
              "              title=\"Convert this dataframe to an interactive table.\"\n",
              "              style=\"display:none;\">\n",
              "        \n",
              "  <svg xmlns=\"http://www.w3.org/2000/svg\" height=\"24px\"viewBox=\"0 0 24 24\"\n",
              "       width=\"24px\">\n",
              "    <path d=\"M0 0h24v24H0V0z\" fill=\"none\"/>\n",
              "    <path d=\"M18.56 5.44l.94 2.06.94-2.06 2.06-.94-2.06-.94-.94-2.06-.94 2.06-2.06.94zm-11 1L8.5 8.5l.94-2.06 2.06-.94-2.06-.94L8.5 2.5l-.94 2.06-2.06.94zm10 10l.94 2.06.94-2.06 2.06-.94-2.06-.94-.94-2.06-.94 2.06-2.06.94z\"/><path d=\"M17.41 7.96l-1.37-1.37c-.4-.4-.92-.59-1.43-.59-.52 0-1.04.2-1.43.59L10.3 9.45l-7.72 7.72c-.78.78-.78 2.05 0 2.83L4 21.41c.39.39.9.59 1.41.59.51 0 1.02-.2 1.41-.59l7.78-7.78 2.81-2.81c.8-.78.8-2.07 0-2.86zM5.41 20L4 18.59l7.72-7.72 1.47 1.35L5.41 20z\"/>\n",
              "  </svg>\n",
              "      </button>\n",
              "      \n",
              "  <style>\n",
              "    .colab-df-container {\n",
              "      display:flex;\n",
              "      flex-wrap:wrap;\n",
              "      gap: 12px;\n",
              "    }\n",
              "\n",
              "    .colab-df-convert {\n",
              "      background-color: #E8F0FE;\n",
              "      border: none;\n",
              "      border-radius: 50%;\n",
              "      cursor: pointer;\n",
              "      display: none;\n",
              "      fill: #1967D2;\n",
              "      height: 32px;\n",
              "      padding: 0 0 0 0;\n",
              "      width: 32px;\n",
              "    }\n",
              "\n",
              "    .colab-df-convert:hover {\n",
              "      background-color: #E2EBFA;\n",
              "      box-shadow: 0px 1px 2px rgba(60, 64, 67, 0.3), 0px 1px 3px 1px rgba(60, 64, 67, 0.15);\n",
              "      fill: #174EA6;\n",
              "    }\n",
              "\n",
              "    [theme=dark] .colab-df-convert {\n",
              "      background-color: #3B4455;\n",
              "      fill: #D2E3FC;\n",
              "    }\n",
              "\n",
              "    [theme=dark] .colab-df-convert:hover {\n",
              "      background-color: #434B5C;\n",
              "      box-shadow: 0px 1px 3px 1px rgba(0, 0, 0, 0.15);\n",
              "      filter: drop-shadow(0px 1px 2px rgba(0, 0, 0, 0.3));\n",
              "      fill: #FFFFFF;\n",
              "    }\n",
              "  </style>\n",
              "\n",
              "      <script>\n",
              "        const buttonEl =\n",
              "          document.querySelector('#df-8d15ef45-1314-4ed3-b954-1b360d70c71b button.colab-df-convert');\n",
              "        buttonEl.style.display =\n",
              "          google.colab.kernel.accessAllowed ? 'block' : 'none';\n",
              "\n",
              "        async function convertToInteractive(key) {\n",
              "          const element = document.querySelector('#df-8d15ef45-1314-4ed3-b954-1b360d70c71b');\n",
              "          const dataTable =\n",
              "            await google.colab.kernel.invokeFunction('convertToInteractive',\n",
              "                                                     [key], {});\n",
              "          if (!dataTable) return;\n",
              "\n",
              "          const docLinkHtml = 'Like what you see? Visit the ' +\n",
              "            '<a target=\"_blank\" href=https://colab.research.google.com/notebooks/data_table.ipynb>data table notebook</a>'\n",
              "            + ' to learn more about interactive tables.';\n",
              "          element.innerHTML = '';\n",
              "          dataTable['output_type'] = 'display_data';\n",
              "          await google.colab.output.renderOutput(dataTable, element);\n",
              "          const docLink = document.createElement('div');\n",
              "          docLink.innerHTML = docLinkHtml;\n",
              "          element.appendChild(docLink);\n",
              "        }\n",
              "      </script>\n",
              "    </div>\n",
              "  </div>\n",
              "  "
            ],
            "application/vnd.google.colaboratory.module+javascript": "\n      import \"https://ssl.gstatic.com/colaboratory/data_table/99dac6621f6ae8c4/data_table.js\";\n\n      window.createDataTable({\n        data: [[{\n            'v': 1699,\n            'f': \"1699\",\n        },\n\"Zimbabwe\",\n{\n            'v': 1987,\n            'f': \"1987\",\n        },\n{\n            'v': 9216418,\n            'f': \"9216418\",\n        }],\n [{\n            'v': 1700,\n            'f': \"1700\",\n        },\n\"Zimbabwe\",\n{\n            'v': 1992,\n            'f': \"1992\",\n        },\n{\n            'v': 10704340,\n            'f': \"10704340\",\n        }],\n [{\n            'v': 1701,\n            'f': \"1701\",\n        },\n\"Zimbabwe\",\n{\n            'v': 1997,\n            'f': \"1997\",\n        },\n{\n            'v': 11404948,\n            'f': \"11404948\",\n        }],\n [{\n            'v': 1702,\n            'f': \"1702\",\n        },\n\"Zimbabwe\",\n{\n            'v': 2002,\n            'f': \"2002\",\n        },\n{\n            'v': 11926563,\n            'f': \"11926563\",\n        }],\n [{\n            'v': 1703,\n            'f': \"1703\",\n        },\n\"Zimbabwe\",\n{\n            'v': 2007,\n            'f': \"2007\",\n        },\n{\n            'v': 12311143,\n            'f': \"12311143\",\n        }]],\n        columns: [[\"number\", \"index\"], [\"string\", \"country\"], [\"number\", \"year\"], [\"number\", \"population\"]],\n        columnOptions: [{\"width\": \"1px\", \"className\": \"index_column\"}],\n        rowsPerPage: 25,\n        helpUrl: \"https://colab.research.google.com/notebooks/data_table.ipynb\",\n        suppressOutputScrolling: true,\n        minimumWidth: undefined,\n      });\n    "
          },
          "metadata": {},
          "execution_count": 6
        }
      ]
    },
    {
      "cell_type": "code",
      "source": [
        "# Informações dos registros do Dataframe, geralmente utilizado para\n",
        "# ver se há valores nulos (null)\n",
        "df.info()"
      ],
      "metadata": {
        "colab": {
          "base_uri": "https://localhost:8080/"
        },
        "id": "4u7-DqH1zU56",
        "outputId": "32b692cf-a22f-40dd-fcc0-170a1a5e66bc"
      },
      "execution_count": 7,
      "outputs": [
        {
          "output_type": "stream",
          "name": "stdout",
          "text": [
            "<class 'pandas.core.frame.DataFrame'>\n",
            "RangeIndex: 1704 entries, 0 to 1703\n",
            "Data columns (total 3 columns):\n",
            " #   Column      Non-Null Count  Dtype \n",
            "---  ------      --------------  ----- \n",
            " 0   country     1704 non-null   object\n",
            " 1   year        1704 non-null   int64 \n",
            " 2   population  1704 non-null   int64 \n",
            "dtypes: int64(2), object(1)\n",
            "memory usage: 40.1+ KB\n"
          ]
        }
      ]
    },
    {
      "cell_type": "code",
      "source": [
        "# Informações estatísticas do Dataframe\n",
        "df.describe()"
      ],
      "metadata": {
        "colab": {
          "base_uri": "https://localhost:8080/",
          "height": 260
        },
        "id": "JDjXXN5TzYrx",
        "outputId": "0cf77cc3-22c3-4c2c-d678-d5467e6c90f3"
      },
      "execution_count": 8,
      "outputs": [
        {
          "output_type": "execute_result",
          "data": {
            "text/plain": [
              "             year    population\n",
              "count  1704.00000  1.704000e+03\n",
              "mean   1979.50000  2.960121e+07\n",
              "std      17.26533  1.061579e+08\n",
              "min    1952.00000  6.001100e+04\n",
              "25%    1965.75000  2.793664e+06\n",
              "50%    1979.50000  7.023596e+06\n",
              "75%    1993.25000  1.958522e+07\n",
              "max    2007.00000  1.318683e+09"
            ],
            "text/html": [
              "\n",
              "  <div id=\"df-5297ba91-9f46-449d-87e9-fd6d71f9bc67\">\n",
              "    <div class=\"colab-df-container\">\n",
              "      <div>\n",
              "<style scoped>\n",
              "    .dataframe tbody tr th:only-of-type {\n",
              "        vertical-align: middle;\n",
              "    }\n",
              "\n",
              "    .dataframe tbody tr th {\n",
              "        vertical-align: top;\n",
              "    }\n",
              "\n",
              "    .dataframe thead th {\n",
              "        text-align: right;\n",
              "    }\n",
              "</style>\n",
              "<table border=\"1\" class=\"dataframe\">\n",
              "  <thead>\n",
              "    <tr style=\"text-align: right;\">\n",
              "      <th></th>\n",
              "      <th>year</th>\n",
              "      <th>population</th>\n",
              "    </tr>\n",
              "  </thead>\n",
              "  <tbody>\n",
              "    <tr>\n",
              "      <th>count</th>\n",
              "      <td>1704.00000</td>\n",
              "      <td>1.704000e+03</td>\n",
              "    </tr>\n",
              "    <tr>\n",
              "      <th>mean</th>\n",
              "      <td>1979.50000</td>\n",
              "      <td>2.960121e+07</td>\n",
              "    </tr>\n",
              "    <tr>\n",
              "      <th>std</th>\n",
              "      <td>17.26533</td>\n",
              "      <td>1.061579e+08</td>\n",
              "    </tr>\n",
              "    <tr>\n",
              "      <th>min</th>\n",
              "      <td>1952.00000</td>\n",
              "      <td>6.001100e+04</td>\n",
              "    </tr>\n",
              "    <tr>\n",
              "      <th>25%</th>\n",
              "      <td>1965.75000</td>\n",
              "      <td>2.793664e+06</td>\n",
              "    </tr>\n",
              "    <tr>\n",
              "      <th>50%</th>\n",
              "      <td>1979.50000</td>\n",
              "      <td>7.023596e+06</td>\n",
              "    </tr>\n",
              "    <tr>\n",
              "      <th>75%</th>\n",
              "      <td>1993.25000</td>\n",
              "      <td>1.958522e+07</td>\n",
              "    </tr>\n",
              "    <tr>\n",
              "      <th>max</th>\n",
              "      <td>2007.00000</td>\n",
              "      <td>1.318683e+09</td>\n",
              "    </tr>\n",
              "  </tbody>\n",
              "</table>\n",
              "</div>\n",
              "      <button class=\"colab-df-convert\" onclick=\"convertToInteractive('df-5297ba91-9f46-449d-87e9-fd6d71f9bc67')\"\n",
              "              title=\"Convert this dataframe to an interactive table.\"\n",
              "              style=\"display:none;\">\n",
              "        \n",
              "  <svg xmlns=\"http://www.w3.org/2000/svg\" height=\"24px\"viewBox=\"0 0 24 24\"\n",
              "       width=\"24px\">\n",
              "    <path d=\"M0 0h24v24H0V0z\" fill=\"none\"/>\n",
              "    <path d=\"M18.56 5.44l.94 2.06.94-2.06 2.06-.94-2.06-.94-.94-2.06-.94 2.06-2.06.94zm-11 1L8.5 8.5l.94-2.06 2.06-.94-2.06-.94L8.5 2.5l-.94 2.06-2.06.94zm10 10l.94 2.06.94-2.06 2.06-.94-2.06-.94-.94-2.06-.94 2.06-2.06.94z\"/><path d=\"M17.41 7.96l-1.37-1.37c-.4-.4-.92-.59-1.43-.59-.52 0-1.04.2-1.43.59L10.3 9.45l-7.72 7.72c-.78.78-.78 2.05 0 2.83L4 21.41c.39.39.9.59 1.41.59.51 0 1.02-.2 1.41-.59l7.78-7.78 2.81-2.81c.8-.78.8-2.07 0-2.86zM5.41 20L4 18.59l7.72-7.72 1.47 1.35L5.41 20z\"/>\n",
              "  </svg>\n",
              "      </button>\n",
              "      \n",
              "  <style>\n",
              "    .colab-df-container {\n",
              "      display:flex;\n",
              "      flex-wrap:wrap;\n",
              "      gap: 12px;\n",
              "    }\n",
              "\n",
              "    .colab-df-convert {\n",
              "      background-color: #E8F0FE;\n",
              "      border: none;\n",
              "      border-radius: 50%;\n",
              "      cursor: pointer;\n",
              "      display: none;\n",
              "      fill: #1967D2;\n",
              "      height: 32px;\n",
              "      padding: 0 0 0 0;\n",
              "      width: 32px;\n",
              "    }\n",
              "\n",
              "    .colab-df-convert:hover {\n",
              "      background-color: #E2EBFA;\n",
              "      box-shadow: 0px 1px 2px rgba(60, 64, 67, 0.3), 0px 1px 3px 1px rgba(60, 64, 67, 0.15);\n",
              "      fill: #174EA6;\n",
              "    }\n",
              "\n",
              "    [theme=dark] .colab-df-convert {\n",
              "      background-color: #3B4455;\n",
              "      fill: #D2E3FC;\n",
              "    }\n",
              "\n",
              "    [theme=dark] .colab-df-convert:hover {\n",
              "      background-color: #434B5C;\n",
              "      box-shadow: 0px 1px 3px 1px rgba(0, 0, 0, 0.15);\n",
              "      filter: drop-shadow(0px 1px 2px rgba(0, 0, 0, 0.3));\n",
              "      fill: #FFFFFF;\n",
              "    }\n",
              "  </style>\n",
              "\n",
              "      <script>\n",
              "        const buttonEl =\n",
              "          document.querySelector('#df-5297ba91-9f46-449d-87e9-fd6d71f9bc67 button.colab-df-convert');\n",
              "        buttonEl.style.display =\n",
              "          google.colab.kernel.accessAllowed ? 'block' : 'none';\n",
              "\n",
              "        async function convertToInteractive(key) {\n",
              "          const element = document.querySelector('#df-5297ba91-9f46-449d-87e9-fd6d71f9bc67');\n",
              "          const dataTable =\n",
              "            await google.colab.kernel.invokeFunction('convertToInteractive',\n",
              "                                                     [key], {});\n",
              "          if (!dataTable) return;\n",
              "\n",
              "          const docLinkHtml = 'Like what you see? Visit the ' +\n",
              "            '<a target=\"_blank\" href=https://colab.research.google.com/notebooks/data_table.ipynb>data table notebook</a>'\n",
              "            + ' to learn more about interactive tables.';\n",
              "          element.innerHTML = '';\n",
              "          dataTable['output_type'] = 'display_data';\n",
              "          await google.colab.output.renderOutput(dataTable, element);\n",
              "          const docLink = document.createElement('div');\n",
              "          docLink.innerHTML = docLinkHtml;\n",
              "          element.appendChild(docLink);\n",
              "        }\n",
              "      </script>\n",
              "    </div>\n",
              "  </div>\n",
              "  "
            ],
            "application/vnd.google.colaboratory.module+javascript": "\n      import \"https://ssl.gstatic.com/colaboratory/data_table/99dac6621f6ae8c4/data_table.js\";\n\n      window.createDataTable({\n        data: [[\"count\",\n{\n            'v': 1704.0,\n            'f': \"1704.0\",\n        },\n{\n            'v': 1704.0,\n            'f': \"1704.0\",\n        }],\n [\"mean\",\n{\n            'v': 1979.5,\n            'f': \"1979.5\",\n        },\n{\n            'v': 29601212.324530516,\n            'f': \"29601212.324530516\",\n        }],\n [\"std\",\n{\n            'v': 17.265329508973615,\n            'f': \"17.265329508973615\",\n        },\n{\n            'v': 106157896.74391477,\n            'f': \"106157896.74391477\",\n        }],\n [\"min\",\n{\n            'v': 1952.0,\n            'f': \"1952.0\",\n        },\n{\n            'v': 60011.0,\n            'f': \"60011.0\",\n        }],\n [\"25%\",\n{\n            'v': 1965.75,\n            'f': \"1965.75\",\n        },\n{\n            'v': 2793664.0,\n            'f': \"2793664.0\",\n        }],\n [\"50%\",\n{\n            'v': 1979.5,\n            'f': \"1979.5\",\n        },\n{\n            'v': 7023595.5,\n            'f': \"7023595.5\",\n        }],\n [\"75%\",\n{\n            'v': 1993.25,\n            'f': \"1993.25\",\n        },\n{\n            'v': 19585221.75,\n            'f': \"19585221.75\",\n        }],\n [\"max\",\n{\n            'v': 2007.0,\n            'f': \"2007.0\",\n        },\n{\n            'v': 1318683096.0,\n            'f': \"1318683096.0\",\n        }]],\n        columns: [[\"string\", \"index\"], [\"number\", \"year\"], [\"number\", \"population\"]],\n        columnOptions: [{\"width\": \"1px\", \"className\": \"index_column\"}],\n        rowsPerPage: 25,\n        helpUrl: \"https://colab.research.google.com/notebooks/data_table.ipynb\",\n        suppressOutputScrolling: true,\n        minimumWidth: undefined,\n      });\n    "
          },
          "metadata": {},
          "execution_count": 8
        }
      ]
    },
    {
      "cell_type": "code",
      "source": [
        "# Acessando colunas do Dataframe - duas formas\n",
        "df['country']\n",
        "df.country"
      ],
      "metadata": {
        "colab": {
          "base_uri": "https://localhost:8080/"
        },
        "id": "cyMwe89az3gB",
        "outputId": "d5f3d639-054e-4c6f-92c5-c14103290260"
      },
      "execution_count": 9,
      "outputs": [
        {
          "output_type": "execute_result",
          "data": {
            "text/plain": [
              "0       Afghanistan\n",
              "1       Afghanistan\n",
              "2       Afghanistan\n",
              "3       Afghanistan\n",
              "4       Afghanistan\n",
              "           ...     \n",
              "1699       Zimbabwe\n",
              "1700       Zimbabwe\n",
              "1701       Zimbabwe\n",
              "1702       Zimbabwe\n",
              "1703       Zimbabwe\n",
              "Name: country, Length: 1704, dtype: object"
            ]
          },
          "metadata": {},
          "execution_count": 9
        }
      ]
    },
    {
      "cell_type": "code",
      "source": [
        "# Resgatando os valores únicos de uma coluna DataFrame na forma de array\n",
        "df.country.unique()"
      ],
      "metadata": {
        "colab": {
          "base_uri": "https://localhost:8080/"
        },
        "id": "HYN4p5vQ0QpJ",
        "outputId": "665f5ce9-219c-420f-cb0d-f6f9da9ce427"
      },
      "execution_count": 10,
      "outputs": [
        {
          "output_type": "execute_result",
          "data": {
            "text/plain": [
              "array(['Afghanistan', 'Albania', 'Algeria', 'Angola', 'Argentina',\n",
              "       'Australia', 'Austria', 'Bahrain', 'Bangladesh', 'Belgium',\n",
              "       'Benin', 'Bolivia', 'Bosnia and Herzegovina', 'Botswana', 'Brazil',\n",
              "       'Bulgaria', 'Burkina Faso', 'Burundi', 'Cambodia', 'Cameroon',\n",
              "       'Canada', 'Central African Republic', 'Chad', 'Chile', 'China',\n",
              "       'Colombia', 'Comoros', 'Congo, Dem. Rep.', 'Congo, Rep.',\n",
              "       'Costa Rica', \"Cote d'Ivoire\", 'Croatia', 'Cuba', 'Czech Republic',\n",
              "       'Denmark', 'Djibouti', 'Dominican Republic', 'Ecuador', 'Egypt',\n",
              "       'El Salvador', 'Equatorial Guinea', 'Eritrea', 'Ethiopia',\n",
              "       'Finland', 'France', 'Gabon', 'Gambia', 'Germany', 'Ghana',\n",
              "       'Greece', 'Guatemala', 'Guinea', 'Guinea-Bissau', 'Haiti',\n",
              "       'Honduras', 'Hong Kong, China', 'Hungary', 'Iceland', 'India',\n",
              "       'Indonesia', 'Iran', 'Iraq', 'Ireland', 'Israel', 'Italy',\n",
              "       'Jamaica', 'Japan', 'Jordan', 'Kenya', 'Korea, Dem. Rep.',\n",
              "       'Korea, Rep.', 'Kuwait', 'Lebanon', 'Lesotho', 'Liberia', 'Libya',\n",
              "       'Madagascar', 'Malawi', 'Malaysia', 'Mali', 'Mauritania',\n",
              "       'Mauritius', 'Mexico', 'Mongolia', 'Montenegro', 'Morocco',\n",
              "       'Mozambique', 'Myanmar', 'Namibia', 'Nepal', 'Netherlands',\n",
              "       'New Zealand', 'Nicaragua', 'Niger', 'Nigeria', 'Norway', 'Oman',\n",
              "       'Pakistan', 'Panama', 'Paraguay', 'Peru', 'Philippines', 'Poland',\n",
              "       'Portugal', 'Puerto Rico', 'Reunion', 'Romania', 'Rwanda',\n",
              "       'Sao Tome and Principe', 'Saudi Arabia', 'Senegal', 'Serbia',\n",
              "       'Sierra Leone', 'Singapore', 'Slovak Republic', 'Slovenia',\n",
              "       'Somalia', 'South Africa', 'Spain', 'Sri Lanka', 'Sudan',\n",
              "       'Swaziland', 'Sweden', 'Switzerland', 'Syria', 'Taiwan',\n",
              "       'Tanzania', 'Thailand', 'Togo', 'Trinidad and Tobago', 'Tunisia',\n",
              "       'Turkey', 'Uganda', 'United Kingdom', 'United States', 'Uruguay',\n",
              "       'Venezuela', 'Vietnam', 'West Bank and Gaza', 'Yemen, Rep.',\n",
              "       'Zambia', 'Zimbabwe'], dtype=object)"
            ]
          },
          "metadata": {},
          "execution_count": 10
        }
      ]
    },
    {
      "cell_type": "code",
      "source": [
        "# Filtrando um atributo de uma coluna do Dataframe\n",
        "df[df.country == 'Brazil']"
      ],
      "metadata": {
        "colab": {
          "base_uri": "https://localhost:8080/",
          "height": 345
        },
        "id": "RkoKpFMb07xX",
        "outputId": "0830a290-9bea-4fdc-9dd4-0902494f25bf"
      },
      "execution_count": 11,
      "outputs": [
        {
          "output_type": "execute_result",
          "data": {
            "text/plain": [
              "    country  year  population\n",
              "168  Brazil  1952    56602560\n",
              "169  Brazil  1957    65551171\n",
              "170  Brazil  1962    76039390\n",
              "171  Brazil  1967    88049823\n",
              "172  Brazil  1972   100840058\n",
              "173  Brazil  1977   114313951\n",
              "174  Brazil  1982   128962939\n",
              "175  Brazil  1987   142938076\n",
              "176  Brazil  1992   155975974\n",
              "177  Brazil  1997   168546719\n",
              "178  Brazil  2002   179914212\n",
              "179  Brazil  2007   190010647"
            ],
            "text/html": [
              "\n",
              "  <div id=\"df-2902d7f6-a20d-478d-a189-fd8d2ffa5c50\">\n",
              "    <div class=\"colab-df-container\">\n",
              "      <div>\n",
              "<style scoped>\n",
              "    .dataframe tbody tr th:only-of-type {\n",
              "        vertical-align: middle;\n",
              "    }\n",
              "\n",
              "    .dataframe tbody tr th {\n",
              "        vertical-align: top;\n",
              "    }\n",
              "\n",
              "    .dataframe thead th {\n",
              "        text-align: right;\n",
              "    }\n",
              "</style>\n",
              "<table border=\"1\" class=\"dataframe\">\n",
              "  <thead>\n",
              "    <tr style=\"text-align: right;\">\n",
              "      <th></th>\n",
              "      <th>country</th>\n",
              "      <th>year</th>\n",
              "      <th>population</th>\n",
              "    </tr>\n",
              "  </thead>\n",
              "  <tbody>\n",
              "    <tr>\n",
              "      <th>168</th>\n",
              "      <td>Brazil</td>\n",
              "      <td>1952</td>\n",
              "      <td>56602560</td>\n",
              "    </tr>\n",
              "    <tr>\n",
              "      <th>169</th>\n",
              "      <td>Brazil</td>\n",
              "      <td>1957</td>\n",
              "      <td>65551171</td>\n",
              "    </tr>\n",
              "    <tr>\n",
              "      <th>170</th>\n",
              "      <td>Brazil</td>\n",
              "      <td>1962</td>\n",
              "      <td>76039390</td>\n",
              "    </tr>\n",
              "    <tr>\n",
              "      <th>171</th>\n",
              "      <td>Brazil</td>\n",
              "      <td>1967</td>\n",
              "      <td>88049823</td>\n",
              "    </tr>\n",
              "    <tr>\n",
              "      <th>172</th>\n",
              "      <td>Brazil</td>\n",
              "      <td>1972</td>\n",
              "      <td>100840058</td>\n",
              "    </tr>\n",
              "    <tr>\n",
              "      <th>173</th>\n",
              "      <td>Brazil</td>\n",
              "      <td>1977</td>\n",
              "      <td>114313951</td>\n",
              "    </tr>\n",
              "    <tr>\n",
              "      <th>174</th>\n",
              "      <td>Brazil</td>\n",
              "      <td>1982</td>\n",
              "      <td>128962939</td>\n",
              "    </tr>\n",
              "    <tr>\n",
              "      <th>175</th>\n",
              "      <td>Brazil</td>\n",
              "      <td>1987</td>\n",
              "      <td>142938076</td>\n",
              "    </tr>\n",
              "    <tr>\n",
              "      <th>176</th>\n",
              "      <td>Brazil</td>\n",
              "      <td>1992</td>\n",
              "      <td>155975974</td>\n",
              "    </tr>\n",
              "    <tr>\n",
              "      <th>177</th>\n",
              "      <td>Brazil</td>\n",
              "      <td>1997</td>\n",
              "      <td>168546719</td>\n",
              "    </tr>\n",
              "    <tr>\n",
              "      <th>178</th>\n",
              "      <td>Brazil</td>\n",
              "      <td>2002</td>\n",
              "      <td>179914212</td>\n",
              "    </tr>\n",
              "    <tr>\n",
              "      <th>179</th>\n",
              "      <td>Brazil</td>\n",
              "      <td>2007</td>\n",
              "      <td>190010647</td>\n",
              "    </tr>\n",
              "  </tbody>\n",
              "</table>\n",
              "</div>\n",
              "      <button class=\"colab-df-convert\" onclick=\"convertToInteractive('df-2902d7f6-a20d-478d-a189-fd8d2ffa5c50')\"\n",
              "              title=\"Convert this dataframe to an interactive table.\"\n",
              "              style=\"display:none;\">\n",
              "        \n",
              "  <svg xmlns=\"http://www.w3.org/2000/svg\" height=\"24px\"viewBox=\"0 0 24 24\"\n",
              "       width=\"24px\">\n",
              "    <path d=\"M0 0h24v24H0V0z\" fill=\"none\"/>\n",
              "    <path d=\"M18.56 5.44l.94 2.06.94-2.06 2.06-.94-2.06-.94-.94-2.06-.94 2.06-2.06.94zm-11 1L8.5 8.5l.94-2.06 2.06-.94-2.06-.94L8.5 2.5l-.94 2.06-2.06.94zm10 10l.94 2.06.94-2.06 2.06-.94-2.06-.94-.94-2.06-.94 2.06-2.06.94z\"/><path d=\"M17.41 7.96l-1.37-1.37c-.4-.4-.92-.59-1.43-.59-.52 0-1.04.2-1.43.59L10.3 9.45l-7.72 7.72c-.78.78-.78 2.05 0 2.83L4 21.41c.39.39.9.59 1.41.59.51 0 1.02-.2 1.41-.59l7.78-7.78 2.81-2.81c.8-.78.8-2.07 0-2.86zM5.41 20L4 18.59l7.72-7.72 1.47 1.35L5.41 20z\"/>\n",
              "  </svg>\n",
              "      </button>\n",
              "      \n",
              "  <style>\n",
              "    .colab-df-container {\n",
              "      display:flex;\n",
              "      flex-wrap:wrap;\n",
              "      gap: 12px;\n",
              "    }\n",
              "\n",
              "    .colab-df-convert {\n",
              "      background-color: #E8F0FE;\n",
              "      border: none;\n",
              "      border-radius: 50%;\n",
              "      cursor: pointer;\n",
              "      display: none;\n",
              "      fill: #1967D2;\n",
              "      height: 32px;\n",
              "      padding: 0 0 0 0;\n",
              "      width: 32px;\n",
              "    }\n",
              "\n",
              "    .colab-df-convert:hover {\n",
              "      background-color: #E2EBFA;\n",
              "      box-shadow: 0px 1px 2px rgba(60, 64, 67, 0.3), 0px 1px 3px 1px rgba(60, 64, 67, 0.15);\n",
              "      fill: #174EA6;\n",
              "    }\n",
              "\n",
              "    [theme=dark] .colab-df-convert {\n",
              "      background-color: #3B4455;\n",
              "      fill: #D2E3FC;\n",
              "    }\n",
              "\n",
              "    [theme=dark] .colab-df-convert:hover {\n",
              "      background-color: #434B5C;\n",
              "      box-shadow: 0px 1px 3px 1px rgba(0, 0, 0, 0.15);\n",
              "      filter: drop-shadow(0px 1px 2px rgba(0, 0, 0, 0.3));\n",
              "      fill: #FFFFFF;\n",
              "    }\n",
              "  </style>\n",
              "\n",
              "      <script>\n",
              "        const buttonEl =\n",
              "          document.querySelector('#df-2902d7f6-a20d-478d-a189-fd8d2ffa5c50 button.colab-df-convert');\n",
              "        buttonEl.style.display =\n",
              "          google.colab.kernel.accessAllowed ? 'block' : 'none';\n",
              "\n",
              "        async function convertToInteractive(key) {\n",
              "          const element = document.querySelector('#df-2902d7f6-a20d-478d-a189-fd8d2ffa5c50');\n",
              "          const dataTable =\n",
              "            await google.colab.kernel.invokeFunction('convertToInteractive',\n",
              "                                                     [key], {});\n",
              "          if (!dataTable) return;\n",
              "\n",
              "          const docLinkHtml = 'Like what you see? Visit the ' +\n",
              "            '<a target=\"_blank\" href=https://colab.research.google.com/notebooks/data_table.ipynb>data table notebook</a>'\n",
              "            + ' to learn more about interactive tables.';\n",
              "          element.innerHTML = '';\n",
              "          dataTable['output_type'] = 'display_data';\n",
              "          await google.colab.output.renderOutput(dataTable, element);\n",
              "          const docLink = document.createElement('div');\n",
              "          docLink.innerHTML = docLinkHtml;\n",
              "          element.appendChild(docLink);\n",
              "        }\n",
              "      </script>\n",
              "    </div>\n",
              "  </div>\n",
              "  "
            ],
            "application/vnd.google.colaboratory.module+javascript": "\n      import \"https://ssl.gstatic.com/colaboratory/data_table/99dac6621f6ae8c4/data_table.js\";\n\n      window.createDataTable({\n        data: [[{\n            'v': 168,\n            'f': \"168\",\n        },\n\"Brazil\",\n{\n            'v': 1952,\n            'f': \"1952\",\n        },\n{\n            'v': 56602560,\n            'f': \"56602560\",\n        }],\n [{\n            'v': 169,\n            'f': \"169\",\n        },\n\"Brazil\",\n{\n            'v': 1957,\n            'f': \"1957\",\n        },\n{\n            'v': 65551171,\n            'f': \"65551171\",\n        }],\n [{\n            'v': 170,\n            'f': \"170\",\n        },\n\"Brazil\",\n{\n            'v': 1962,\n            'f': \"1962\",\n        },\n{\n            'v': 76039390,\n            'f': \"76039390\",\n        }],\n [{\n            'v': 171,\n            'f': \"171\",\n        },\n\"Brazil\",\n{\n            'v': 1967,\n            'f': \"1967\",\n        },\n{\n            'v': 88049823,\n            'f': \"88049823\",\n        }],\n [{\n            'v': 172,\n            'f': \"172\",\n        },\n\"Brazil\",\n{\n            'v': 1972,\n            'f': \"1972\",\n        },\n{\n            'v': 100840058,\n            'f': \"100840058\",\n        }],\n [{\n            'v': 173,\n            'f': \"173\",\n        },\n\"Brazil\",\n{\n            'v': 1977,\n            'f': \"1977\",\n        },\n{\n            'v': 114313951,\n            'f': \"114313951\",\n        }],\n [{\n            'v': 174,\n            'f': \"174\",\n        },\n\"Brazil\",\n{\n            'v': 1982,\n            'f': \"1982\",\n        },\n{\n            'v': 128962939,\n            'f': \"128962939\",\n        }],\n [{\n            'v': 175,\n            'f': \"175\",\n        },\n\"Brazil\",\n{\n            'v': 1987,\n            'f': \"1987\",\n        },\n{\n            'v': 142938076,\n            'f': \"142938076\",\n        }],\n [{\n            'v': 176,\n            'f': \"176\",\n        },\n\"Brazil\",\n{\n            'v': 1992,\n            'f': \"1992\",\n        },\n{\n            'v': 155975974,\n            'f': \"155975974\",\n        }],\n [{\n            'v': 177,\n            'f': \"177\",\n        },\n\"Brazil\",\n{\n            'v': 1997,\n            'f': \"1997\",\n        },\n{\n            'v': 168546719,\n            'f': \"168546719\",\n        }],\n [{\n            'v': 178,\n            'f': \"178\",\n        },\n\"Brazil\",\n{\n            'v': 2002,\n            'f': \"2002\",\n        },\n{\n            'v': 179914212,\n            'f': \"179914212\",\n        }],\n [{\n            'v': 179,\n            'f': \"179\",\n        },\n\"Brazil\",\n{\n            'v': 2007,\n            'f': \"2007\",\n        },\n{\n            'v': 190010647,\n            'f': \"190010647\",\n        }]],\n        columns: [[\"number\", \"index\"], [\"string\", \"country\"], [\"number\", \"year\"], [\"number\", \"population\"]],\n        columnOptions: [{\"width\": \"1px\", \"className\": \"index_column\"}],\n        rowsPerPage: 25,\n        helpUrl: \"https://colab.research.google.com/notebooks/data_table.ipynb\",\n        suppressOutputScrolling: true,\n        minimumWidth: undefined,\n      });\n    "
          },
          "metadata": {},
          "execution_count": 11
        }
      ]
    },
    {
      "cell_type": "markdown",
      "source": [
        "# Trabalhando com Plotagens"
      ],
      "metadata": {
        "id": "MdnEpWsP1gs9"
      }
    },
    {
      "cell_type": "code",
      "source": [
        "import matplotlib.pyplot as plt"
      ],
      "metadata": {
        "id": "uHizWkqU1dIo"
      },
      "execution_count": 12,
      "outputs": []
    },
    {
      "cell_type": "code",
      "source": [
        "# Criando um gráfico da população do Brasil\n",
        "brazil = df[df.country == 'Brazil'].copy()\n",
        "usa = df[df.country == 'United States'].copy()\n",
        "canada = df[df.country == 'Canada'].copy()\n",
        "\n",
        "plt.plot(brazil.year, brazil.population, label='BR')\n",
        "plt.plot(usa.year, usa.population, label='USA')\n",
        "plt.legend()\n",
        "plt.ylabel('Population')\n",
        "plt.xlabel('Year')\n",
        "plt.show()"
      ],
      "metadata": {
        "colab": {
          "base_uri": "https://localhost:8080/",
          "height": 465
        },
        "id": "BfsLf1Nx216p",
        "outputId": "86c4609e-b013-49cf-e2dc-e79d0b891f0d"
      },
      "execution_count": 13,
      "outputs": [
        {
          "output_type": "display_data",
          "data": {
            "text/plain": [
              "<Figure size 640x480 with 1 Axes>"
            ],
            "image/png": "[encoded data removed]"
          },
          "metadata": {}
        }
      ]
    },
    {
      "cell_type": "markdown",
      "source": [
        "# Manipulando Colunas"
      ],
      "metadata": {
        "id": "O5ZFJJ3DH8ip"
      }
    },
    {
      "cell_type": "code",
      "source": [
        "#Selecionando a linha 0 [0,1,2...12] e coluna 2 [0,1,2]\n",
        "brazil.iloc[0, 2]"
      ],
      "metadata": {
        "colab": {
          "base_uri": "https://localhost:8080/"
        },
        "id": "c6y02FhqJKsx",
        "outputId": "a631416c-1217-4965-b81c-a36cd01da6f6"
      },
      "execution_count": 14,
      "outputs": [
        {
          "output_type": "execute_result",
          "data": {
            "text/plain": [
              "56602560"
            ]
          },
          "metadata": {},
          "execution_count": 14
        }
      ]
    },
    {
      "cell_type": "code",
      "source": [
        "# Criando uma coluna com a população relativa ao ano 1952 (population/primeira linha e última coluna)\n",
        "brazil['population_rel'] = brazil.population / brazil.iloc[0, 2]\n",
        "brazil"
      ],
      "metadata": {
        "colab": {
          "base_uri": "https://localhost:8080/",
          "height": 345
        },
        "id": "iUqS2Q3_H7Qi",
        "outputId": "8bf09642-66cd-4a49-dbad-cdbc20d6658b"
      },
      "execution_count": 15,
      "outputs": [
        {
          "output_type": "execute_result",
          "data": {
            "text/plain": [
              "    country  year  population  population_rel\n",
              "168  Brazil  1952    56602560        1.000000\n",
              "169  Brazil  1957    65551171        1.158096\n",
              "170  Brazil  1962    76039390        1.343391\n",
              "171  Brazil  1967    88049823        1.555580\n",
              "172  Brazil  1972   100840058        1.781546\n",
              "173  Brazil  1977   114313951        2.019590\n",
              "174  Brazil  1982   128962939        2.278394\n",
              "175  Brazil  1987   142938076        2.525293\n",
              "176  Brazil  1992   155975974        2.755635\n",
              "177  Brazil  1997   168546719        2.977723\n",
              "178  Brazil  2002   179914212        3.178553\n",
              "179  Brazil  2007   190010647        3.356927"
            ],
            "text/html": [
              "\n",
              "  <div id=\"df-90b83cca-3c95-43e8-bc41-47a7ea2d14aa\">\n",
              "    <div class=\"colab-df-container\">\n",
              "      <div>\n",
              "<style scoped>\n",
              "    .dataframe tbody tr th:only-of-type {\n",
              "        vertical-align: middle;\n",
              "    }\n",
              "\n",
              "    .dataframe tbody tr th {\n",
              "        vertical-align: top;\n",
              "    }\n",
              "\n",
              "    .dataframe thead th {\n",
              "        text-align: right;\n",
              "    }\n",
              "</style>\n",
              "<table border=\"1\" class=\"dataframe\">\n",
              "  <thead>\n",
              "    <tr style=\"text-align: right;\">\n",
              "      <th></th>\n",
              "      <th>country</th>\n",
              "      <th>year</th>\n",
              "      <th>population</th>\n",
              "      <th>population_rel</th>\n",
              "    </tr>\n",
              "  </thead>\n",
              "  <tbody>\n",
              "    <tr>\n",
              "      <th>168</th>\n",
              "      <td>Brazil</td>\n",
              "      <td>1952</td>\n",
              "      <td>56602560</td>\n",
              "      <td>1.000000</td>\n",
              "    </tr>\n",
              "    <tr>\n",
              "      <th>169</th>\n",
              "      <td>Brazil</td>\n",
              "      <td>1957</td>\n",
              "      <td>65551171</td>\n",
              "      <td>1.158096</td>\n",
              "    </tr>\n",
              "    <tr>\n",
              "      <th>170</th>\n",
              "      <td>Brazil</td>\n",
              "      <td>1962</td>\n",
              "      <td>76039390</td>\n",
              "      <td>1.343391</td>\n",
              "    </tr>\n",
              "    <tr>\n",
              "      <th>171</th>\n",
              "      <td>Brazil</td>\n",
              "      <td>1967</td>\n",
              "      <td>88049823</td>\n",
              "      <td>1.555580</td>\n",
              "    </tr>\n",
              "    <tr>\n",
              "      <th>172</th>\n",
              "      <td>Brazil</td>\n",
              "      <td>1972</td>\n",
              "      <td>100840058</td>\n",
              "      <td>1.781546</td>\n",
              "    </tr>\n",
              "    <tr>\n",
              "      <th>173</th>\n",
              "      <td>Brazil</td>\n",
              "      <td>1977</td>\n",
              "      <td>114313951</td>\n",
              "      <td>2.019590</td>\n",
              "    </tr>\n",
              "    <tr>\n",
              "      <th>174</th>\n",
              "      <td>Brazil</td>\n",
              "      <td>1982</td>\n",
              "      <td>128962939</td>\n",
              "      <td>2.278394</td>\n",
              "    </tr>\n",
              "    <tr>\n",
              "      <th>175</th>\n",
              "      <td>Brazil</td>\n",
              "      <td>1987</td>\n",
              "      <td>142938076</td>\n",
              "      <td>2.525293</td>\n",
              "    </tr>\n",
              "    <tr>\n",
              "      <th>176</th>\n",
              "      <td>Brazil</td>\n",
              "      <td>1992</td>\n",
              "      <td>155975974</td>\n",
              "      <td>2.755635</td>\n",
              "    </tr>\n",
              "    <tr>\n",
              "      <th>177</th>\n",
              "      <td>Brazil</td>\n",
              "      <td>1997</td>\n",
              "      <td>168546719</td>\n",
              "      <td>2.977723</td>\n",
              "    </tr>\n",
              "    <tr>\n",
              "      <th>178</th>\n",
              "      <td>Brazil</td>\n",
              "      <td>2002</td>\n",
              "      <td>179914212</td>\n",
              "      <td>3.178553</td>\n",
              "    </tr>\n",
              "    <tr>\n",
              "      <th>179</th>\n",
              "      <td>Brazil</td>\n",
              "      <td>2007</td>\n",
              "      <td>190010647</td>\n",
              "      <td>3.356927</td>\n",
              "    </tr>\n",
              "  </tbody>\n",
              "</table>\n",
              "</div>\n",
              "      <button class=\"colab-df-convert\" onclick=\"convertToInteractive('df-90b83cca-3c95-43e8-bc41-47a7ea2d14aa')\"\n",
              "              title=\"Convert this dataframe to an interactive table.\"\n",
              "              style=\"display:none;\">\n",
              "        \n",
              "  <svg xmlns=\"http://www.w3.org/2000/svg\" height=\"24px\"viewBox=\"0 0 24 24\"\n",
              "       width=\"24px\">\n",
              "    <path d=\"M0 0h24v24H0V0z\" fill=\"none\"/>\n",
              "    <path d=\"M18.56 5.44l.94 2.06.94-2.06 2.06-.94-2.06-.94-.94-2.06-.94 2.06-2.06.94zm-11 1L8.5 8.5l.94-2.06 2.06-.94-2.06-.94L8.5 2.5l-.94 2.06-2.06.94zm10 10l.94 2.06.94-2.06 2.06-.94-2.06-.94-.94-2.06-.94 2.06-2.06.94z\"/><path d=\"M17.41 7.96l-1.37-1.37c-.4-.4-.92-.59-1.43-.59-.52 0-1.04.2-1.43.59L10.3 9.45l-7.72 7.72c-.78.78-.78 2.05 0 2.83L4 21.41c.39.39.9.59 1.41.59.51 0 1.02-.2 1.41-.59l7.78-7.78 2.81-2.81c.8-.78.8-2.07 0-2.86zM5.41 20L4 18.59l7.72-7.72 1.47 1.35L5.41 20z\"/>\n",
              "  </svg>\n",
              "      </button>\n",
              "      \n",
              "  <style>\n",
              "    .colab-df-container {\n",
              "      display:flex;\n",
              "      flex-wrap:wrap;\n",
              "      gap: 12px;\n",
              "    }\n",
              "\n",
              "    .colab-df-convert {\n",
              "      background-color: #E8F0FE;\n",
              "      border: none;\n",
              "      border-radius: 50%;\n",
              "      cursor: pointer;\n",
              "      display: none;\n",
              "      fill: #1967D2;\n",
              "      height: 32px;\n",
              "      padding: 0 0 0 0;\n",
              "      width: 32px;\n",
              "    }\n",
              "\n",
              "    .colab-df-convert:hover {\n",
              "      background-color: #E2EBFA;\n",
              "      box-shadow: 0px 1px 2px rgba(60, 64, 67, 0.3), 0px 1px 3px 1px rgba(60, 64, 67, 0.15);\n",
              "      fill: #174EA6;\n",
              "    }\n",
              "\n",
              "    [theme=dark] .colab-df-convert {\n",
              "      background-color: #3B4455;\n",
              "      fill: #D2E3FC;\n",
              "    }\n",
              "\n",
              "    [theme=dark] .colab-df-convert:hover {\n",
              "      background-color: #434B5C;\n",
              "      box-shadow: 0px 1px 3px 1px rgba(0, 0, 0, 0.15);\n",
              "      filter: drop-shadow(0px 1px 2px rgba(0, 0, 0, 0.3));\n",
              "      fill: #FFFFFF;\n",
              "    }\n",
              "  </style>\n",
              "\n",
              "      <script>\n",
              "        const buttonEl =\n",
              "          document.querySelector('#df-90b83cca-3c95-43e8-bc41-47a7ea2d14aa button.colab-df-convert');\n",
              "        buttonEl.style.display =\n",
              "          google.colab.kernel.accessAllowed ? 'block' : 'none';\n",
              "\n",
              "        async function convertToInteractive(key) {\n",
              "          const element = document.querySelector('#df-90b83cca-3c95-43e8-bc41-47a7ea2d14aa');\n",
              "          const dataTable =\n",
              "            await google.colab.kernel.invokeFunction('convertToInteractive',\n",
              "                                                     [key], {});\n",
              "          if (!dataTable) return;\n",
              "\n",
              "          const docLinkHtml = 'Like what you see? Visit the ' +\n",
              "            '<a target=\"_blank\" href=https://colab.research.google.com/notebooks/data_table.ipynb>data table notebook</a>'\n",
              "            + ' to learn more about interactive tables.';\n",
              "          element.innerHTML = '';\n",
              "          dataTable['output_type'] = 'display_data';\n",
              "          await google.colab.output.renderOutput(dataTable, element);\n",
              "          const docLink = document.createElement('div');\n",
              "          docLink.innerHTML = docLinkHtml;\n",
              "          element.appendChild(docLink);\n",
              "        }\n",
              "      </script>\n",
              "    </div>\n",
              "  </div>\n",
              "  "
            ],
            "application/vnd.google.colaboratory.module+javascript": "\n      import \"https://ssl.gstatic.com/colaboratory/data_table/99dac6621f6ae8c4/data_table.js\";\n\n      window.createDataTable({\n        data: [[{\n            'v': 168,\n            'f': \"168\",\n        },\n\"Brazil\",\n{\n            'v': 1952,\n            'f': \"1952\",\n        },\n{\n            'v': 56602560,\n            'f': \"56602560\",\n        },\n{\n            'v': 1.0,\n            'f': \"1.0\",\n        }],\n [{\n            'v': 169,\n            'f': \"169\",\n        },\n\"Brazil\",\n{\n            'v': 1957,\n            'f': \"1957\",\n        },\n{\n            'v': 65551171,\n            'f': \"65551171\",\n        },\n{\n            'v': 1.1580955172345562,\n            'f': \"1.1580955172345562\",\n        }],\n [{\n            'v': 170,\n            'f': \"170\",\n        },\n\"Brazil\",\n{\n            'v': 1962,\n            'f': \"1962\",\n        },\n{\n            'v': 76039390,\n            'f': \"76039390\",\n        },\n{\n            'v': 1.3433913589774031,\n            'f': \"1.3433913589774031\",\n        }],\n [{\n            'v': 171,\n            'f': \"171\",\n        },\n\"Brazil\",\n{\n            'v': 1967,\n            'f': \"1967\",\n        },\n{\n            'v': 88049823,\n            'f': \"88049823\",\n        },\n{\n            'v': 1.5555802246400163,\n            'f': \"1.5555802246400163\",\n        }],\n [{\n            'v': 172,\n            'f': \"172\",\n        },\n\"Brazil\",\n{\n            'v': 1972,\n            'f': \"1972\",\n        },\n{\n            'v': 100840058,\n            'f': \"100840058\",\n        },\n{\n            'v': 1.781545887677165,\n            'f': \"1.781545887677165\",\n        }],\n [{\n            'v': 173,\n            'f': \"173\",\n        },\n\"Brazil\",\n{\n            'v': 1977,\n            'f': \"1977\",\n        },\n{\n            'v': 114313951,\n            'f': \"114313951\",\n        },\n{\n            'v': 2.0195897676712855,\n            'f': \"2.0195897676712855\",\n        }],\n [{\n            'v': 174,\n            'f': \"174\",\n        },\n\"Brazil\",\n{\n            'v': 1982,\n            'f': \"1982\",\n        },\n{\n            'v': 128962939,\n            'f': \"128962939\",\n        },\n{\n            'v': 2.278394104436266,\n            'f': \"2.278394104436266\",\n        }],\n [{\n            'v': 175,\n            'f': \"175\",\n        },\n\"Brazil\",\n{\n            'v': 1987,\n            'f': \"1987\",\n        },\n{\n            'v': 142938076,\n            'f': \"142938076\",\n        },\n{\n            'v': 2.525293484958984,\n            'f': \"2.525293484958984\",\n        }],\n [{\n            'v': 176,\n            'f': \"176\",\n        },\n\"Brazil\",\n{\n            'v': 1992,\n            'f': \"1992\",\n        },\n{\n            'v': 155975974,\n            'f': \"155975974\",\n        },\n{\n            'v': 2.755634621472951,\n            'f': \"2.755634621472951\",\n        }],\n [{\n            'v': 177,\n            'f': \"177\",\n        },\n\"Brazil\",\n{\n            'v': 1997,\n            'f': \"1997\",\n        },\n{\n            'v': 168546719,\n            'f': \"168546719\",\n        },\n{\n            'v': 2.977722544704692,\n            'f': \"2.977722544704692\",\n        }],\n [{\n            'v': 178,\n            'f': \"178\",\n        },\n\"Brazil\",\n{\n            'v': 2002,\n            'f': \"2002\",\n        },\n{\n            'v': 179914212,\n            'f': \"179914212\",\n        },\n{\n            'v': 3.17855256016689,\n            'f': \"3.17855256016689\",\n        }],\n [{\n            'v': 179,\n            'f': \"179\",\n        },\n\"Brazil\",\n{\n            'v': 2007,\n            'f': \"2007\",\n        },\n{\n            'v': 190010647,\n            'f': \"190010647\",\n        },\n{\n            'v': 3.35692673617589,\n            'f': \"3.35692673617589\",\n        }]],\n        columns: [[\"number\", \"index\"], [\"string\", \"country\"], [\"number\", \"year\"], [\"number\", \"population\"], [\"number\", \"population_rel\"]],\n        columnOptions: [{\"width\": \"1px\", \"className\": \"index_column\"}],\n        rowsPerPage: 25,\n        helpUrl: \"https://colab.research.google.com/notebooks/data_table.ipynb\",\n        suppressOutputScrolling: true,\n        minimumWidth: undefined,\n      });\n    "
          },
          "metadata": {},
          "execution_count": 15
        }
      ]
    },
    {
      "cell_type": "markdown",
      "source": [
        "# Criando gráfico de barras"
      ],
      "metadata": {
        "id": "7PsV_JEVeHFe"
      }
    },
    {
      "cell_type": "code",
      "source": [
        "brazil.population.mean()"
      ],
      "metadata": {
        "colab": {
          "base_uri": "https://localhost:8080/"
        },
        "id": "J-su4LdIeESN",
        "outputId": "bed6097f-bb30-4aba-a4d3-0c38ee596f2b"
      },
      "execution_count": 16,
      "outputs": [
        {
          "output_type": "execute_result",
          "data": {
            "text/plain": [
              "122312126.66666667"
            ]
          },
          "metadata": {},
          "execution_count": 16
        }
      ]
    },
    {
      "cell_type": "code",
      "source": [
        "import matplotlib.pyplot as plt\n",
        "\n",
        "barras = ['USA', 'BR', 'CAN']\n",
        "alturas = [usa.population.mean(), brazil.population.mean(), canada.population.mean()]\n",
        "plt.bar(barras, alturas)\n",
        "plt.title('Média populacional')"
      ],
      "metadata": {
        "colab": {
          "base_uri": "https://localhost:8080/",
          "height": 470
        },
        "id": "bwmqthsbe3D7",
        "outputId": "0c4dc11b-9c95-4995-f2ce-092484284677"
      },
      "execution_count": 17,
      "outputs": [
        {
          "output_type": "execute_result",
          "data": {
            "text/plain": [
              "Text(0.5, 1.0, 'Média populacional')"
            ]
          },
          "metadata": {},
          "execution_count": 17
        },
        {
          "output_type": "display_data",
          "data": {
            "text/plain": [
              "<Figure size 640x480 with 1 Axes>"
            ],
            "image/png": "[encoded data removed]"
          },
          "metadata": {}
        }
      ]
    },
    {
      "cell_type": "markdown",
      "source": [
        "Podemos utilizar o mesmo procedimento para plotar o gráfico crescimento percentual médio.\n",
        "\n",
        "Criamos, primeiro, as colunas contendo o crescimento relativo percentual."
      ],
      "metadata": {
        "id": "vJfPO22AfADk"
      }
    },
    {
      "cell_type": "code",
      "source": [
        "usa['rel_population'] = usa.population / usa.iloc[0, 2] * 100\n",
        "brazil['rel_population'] = brazil.population / brazil.iloc[0, 2] * 100\n",
        "canada['rel_population'] = canada.population / canada.iloc[0, 2] * 100\n",
        "\n",
        "# Em seguida, geramos o gráfico de barras contendo as médias.\n",
        "\n",
        "barras = ['USA', 'BR', 'CAN']\n",
        "alturas = [usa.rel_population.mean(), brazil.rel_population.mean(), canada.rel_population.mean()]\n",
        "plt.bar(barras, alturas)\n",
        "plt.title('Crescimento médio populacional')\n",
        "plt.ylabel('População média')"
      ],
      "metadata": {
        "colab": {
          "base_uri": "https://localhost:8080/",
          "height": 470
        },
        "id": "IWjwTpf3fA08",
        "outputId": "fec5e0b9-7979-4101-bcad-680b3ae228f0"
      },
      "execution_count": 18,
      "outputs": [
        {
          "output_type": "execute_result",
          "data": {
            "text/plain": [
              "Text(0, 0.5, 'População média')"
            ]
          },
          "metadata": {},
          "execution_count": 18
        },
        {
          "output_type": "display_data",
          "data": {
            "text/plain": [
              "<Figure size 640x480 with 1 Axes>"
            ],
            "image/png": "[encoded data removed]"
          },
          "metadata": {}
        }
      ]
    },
    {
      "cell_type": "markdown",
      "source": [
        "Criaremos agora, um gráfico de barras contendo as 6 maiores populações no ano de 2007. Para tanto, criaremos uma cópia do DataFrame countries, filtrando somente os valores correspondentes ao ano de 2007."
      ],
      "metadata": {
        "id": "v_QbNoc8fQp7"
      }
    },
    {
      "cell_type": "code",
      "source": [
        "biggest_pop_2007 = df[df.year == 2007].copy()\n",
        "biggest_pop_2007"
      ],
      "metadata": {
        "colab": {
          "base_uri": "https://localhost:8080/",
          "height": 632
        },
        "id": "NYxcnuywfQEn",
        "outputId": "bec321d6-32d3-48ae-81a6-e97fe4d4564f"
      },
      "execution_count": 19,
      "outputs": [
        {
          "output_type": "execute_result",
          "data": {
            "text/plain": [
              "                 country  year  population\n",
              "11           Afghanistan  2007    31889923\n",
              "23               Albania  2007     3600523\n",
              "35               Algeria  2007    33333216\n",
              "47                Angola  2007    12420476\n",
              "59             Argentina  2007    40301927\n",
              "...                  ...   ...         ...\n",
              "1655             Vietnam  2007    85262356\n",
              "1667  West Bank and Gaza  2007     4018332\n",
              "1679         Yemen, Rep.  2007    22211743\n",
              "1691              Zambia  2007    11746035\n",
              "1703            Zimbabwe  2007    12311143\n",
              "\n",
              "[142 rows x 3 columns]"
            ],
            "text/html": [
              "\n",
              "  <div id=\"df-9178c6c4-5612-449a-acfc-951cc6d02cdb\">\n",
              "    <div class=\"colab-df-container\">\n",
              "      <div>\n",
              "<style scoped>\n",
              "    .dataframe tbody tr th:only-of-type {\n",
              "        vertical-align: middle;\n",
              "    }\n",
              "\n",
              "    .dataframe tbody tr th {\n",
              "        vertical-align: top;\n",
              "    }\n",
              "\n",
              "    .dataframe thead th {\n",
              "        text-align: right;\n",
              "    }\n",
              "</style>\n",
              "<table border=\"1\" class=\"dataframe\">\n",
              "  <thead>\n",
              "    <tr style=\"text-align: right;\">\n",
              "      <th></th>\n",
              "      <th>country</th>\n",
              "      <th>year</th>\n",
              "      <th>population</th>\n",
              "    </tr>\n",
              "  </thead>\n",
              "  <tbody>\n",
              "    <tr>\n",
              "      <th>11</th>\n",
              "      <td>Afghanistan</td>\n",
              "      <td>2007</td>\n",
              "      <td>31889923</td>\n",
              "    </tr>\n",
              "    <tr>\n",
              "      <th>23</th>\n",
              "      <td>Albania</td>\n",
              "      <td>2007</td>\n",
              "      <td>3600523</td>\n",
              "    </tr>\n",
              "    <tr>\n",
              "      <th>35</th>\n",
              "      <td>Algeria</td>\n",
              "      <td>2007</td>\n",
              "      <td>33333216</td>\n",
              "    </tr>\n",
              "    <tr>\n",
              "      <th>47</th>\n",
              "      <td>Angola</td>\n",
              "      <td>2007</td>\n",
              "      <td>12420476</td>\n",
              "    </tr>\n",
              "    <tr>\n",
              "      <th>59</th>\n",
              "      <td>Argentina</td>\n",
              "      <td>2007</td>\n",
              "      <td>40301927</td>\n",
              "    </tr>\n",
              "    <tr>\n",
              "      <th>...</th>\n",
              "      <td>...</td>\n",
              "      <td>...</td>\n",
              "      <td>...</td>\n",
              "    </tr>\n",
              "    <tr>\n",
              "      <th>1655</th>\n",
              "      <td>Vietnam</td>\n",
              "      <td>2007</td>\n",
              "      <td>85262356</td>\n",
              "    </tr>\n",
              "    <tr>\n",
              "      <th>1667</th>\n",
              "      <td>West Bank and Gaza</td>\n",
              "      <td>2007</td>\n",
              "      <td>4018332</td>\n",
              "    </tr>\n",
              "    <tr>\n",
              "      <th>1679</th>\n",
              "      <td>Yemen, Rep.</td>\n",
              "      <td>2007</td>\n",
              "      <td>22211743</td>\n",
              "    </tr>\n",
              "    <tr>\n",
              "      <th>1691</th>\n",
              "      <td>Zambia</td>\n",
              "      <td>2007</td>\n",
              "      <td>11746035</td>\n",
              "    </tr>\n",
              "    <tr>\n",
              "      <th>1703</th>\n",
              "      <td>Zimbabwe</td>\n",
              "      <td>2007</td>\n",
              "      <td>12311143</td>\n",
              "    </tr>\n",
              "  </tbody>\n",
              "</table>\n",
              "<p>142 rows × 3 columns</p>\n",
              "</div>\n",
              "      <button class=\"colab-df-convert\" onclick=\"convertToInteractive('df-9178c6c4-5612-449a-acfc-951cc6d02cdb')\"\n",
              "              title=\"Convert this dataframe to an interactive table.\"\n",
              "              style=\"display:none;\">\n",
              "        \n",
              "  <svg xmlns=\"http://www.w3.org/2000/svg\" height=\"24px\"viewBox=\"0 0 24 24\"\n",
              "       width=\"24px\">\n",
              "    <path d=\"M0 0h24v24H0V0z\" fill=\"none\"/>\n",
              "    <path d=\"M18.56 5.44l.94 2.06.94-2.06 2.06-.94-2.06-.94-.94-2.06-.94 2.06-2.06.94zm-11 1L8.5 8.5l.94-2.06 2.06-.94-2.06-.94L8.5 2.5l-.94 2.06-2.06.94zm10 10l.94 2.06.94-2.06 2.06-.94-2.06-.94-.94-2.06-.94 2.06-2.06.94z\"/><path d=\"M17.41 7.96l-1.37-1.37c-.4-.4-.92-.59-1.43-.59-.52 0-1.04.2-1.43.59L10.3 9.45l-7.72 7.72c-.78.78-.78 2.05 0 2.83L4 21.41c.39.39.9.59 1.41.59.51 0 1.02-.2 1.41-.59l7.78-7.78 2.81-2.81c.8-.78.8-2.07 0-2.86zM5.41 20L4 18.59l7.72-7.72 1.47 1.35L5.41 20z\"/>\n",
              "  </svg>\n",
              "      </button>\n",
              "      \n",
              "  <style>\n",
              "    .colab-df-container {\n",
              "      display:flex;\n",
              "      flex-wrap:wrap;\n",
              "      gap: 12px;\n",
              "    }\n",
              "\n",
              "    .colab-df-convert {\n",
              "      background-color: #E8F0FE;\n",
              "      border: none;\n",
              "      border-radius: 50%;\n",
              "      cursor: pointer;\n",
              "      display: none;\n",
              "      fill: #1967D2;\n",
              "      height: 32px;\n",
              "      padding: 0 0 0 0;\n",
              "      width: 32px;\n",
              "    }\n",
              "\n",
              "    .colab-df-convert:hover {\n",
              "      background-color: #E2EBFA;\n",
              "      box-shadow: 0px 1px 2px rgba(60, 64, 67, 0.3), 0px 1px 3px 1px rgba(60, 64, 67, 0.15);\n",
              "      fill: #174EA6;\n",
              "    }\n",
              "\n",
              "    [theme=dark] .colab-df-convert {\n",
              "      background-color: #3B4455;\n",
              "      fill: #D2E3FC;\n",
              "    }\n",
              "\n",
              "    [theme=dark] .colab-df-convert:hover {\n",
              "      background-color: #434B5C;\n",
              "      box-shadow: 0px 1px 3px 1px rgba(0, 0, 0, 0.15);\n",
              "      filter: drop-shadow(0px 1px 2px rgba(0, 0, 0, 0.3));\n",
              "      fill: #FFFFFF;\n",
              "    }\n",
              "  </style>\n",
              "\n",
              "      <script>\n",
              "        const buttonEl =\n",
              "          document.querySelector('#df-9178c6c4-5612-449a-acfc-951cc6d02cdb button.colab-df-convert');\n",
              "        buttonEl.style.display =\n",
              "          google.colab.kernel.accessAllowed ? 'block' : 'none';\n",
              "\n",
              "        async function convertToInteractive(key) {\n",
              "          const element = document.querySelector('#df-9178c6c4-5612-449a-acfc-951cc6d02cdb');\n",
              "          const dataTable =\n",
              "            await google.colab.kernel.invokeFunction('convertToInteractive',\n",
              "                                                     [key], {});\n",
              "          if (!dataTable) return;\n",
              "\n",
              "          const docLinkHtml = 'Like what you see? Visit the ' +\n",
              "            '<a target=\"_blank\" href=https://colab.research.google.com/notebooks/data_table.ipynb>data table notebook</a>'\n",
              "            + ' to learn more about interactive tables.';\n",
              "          element.innerHTML = '';\n",
              "          dataTable['output_type'] = 'display_data';\n",
              "          await google.colab.output.renderOutput(dataTable, element);\n",
              "          const docLink = document.createElement('div');\n",
              "          docLink.innerHTML = docLinkHtml;\n",
              "          element.appendChild(docLink);\n",
              "        }\n",
              "      </script>\n",
              "    </div>\n",
              "  </div>\n",
              "  "
            ],
            "application/vnd.google.colaboratory.module+javascript": "\n      import \"https://ssl.gstatic.com/colaboratory/data_table/99dac6621f6ae8c4/data_table.js\";\n\n      window.createDataTable({\n        data: [[{\n            'v': 11,\n            'f': \"11\",\n        },\n\"Afghanistan\",\n{\n            'v': 2007,\n            'f': \"2007\",\n        },\n{\n            'v': 31889923,\n            'f': \"31889923\",\n        }],\n [{\n            'v': 23,\n            'f': \"23\",\n        },\n\"Albania\",\n{\n            'v': 2007,\n            'f': \"2007\",\n        },\n{\n            'v': 3600523,\n            'f': \"3600523\",\n        }],\n [{\n            'v': 35,\n            'f': \"35\",\n        },\n\"Algeria\",\n{\n            'v': 2007,\n            'f': \"2007\",\n        },\n{\n            'v': 33333216,\n            'f': \"33333216\",\n        }],\n [{\n            'v': 47,\n            'f': \"47\",\n        },\n\"Angola\",\n{\n            'v': 2007,\n            'f': \"2007\",\n        },\n{\n            'v': 12420476,\n            'f': \"12420476\",\n        }],\n [{\n            'v': 59,\n            'f': \"59\",\n        },\n\"Argentina\",\n{\n            'v': 2007,\n            'f': \"2007\",\n        },\n{\n            'v': 40301927,\n            'f': \"40301927\",\n        }],\n [{\n            'v': 71,\n            'f': \"71\",\n        },\n\"Australia\",\n{\n            'v': 2007,\n            'f': \"2007\",\n        },\n{\n            'v': 20434176,\n            'f': \"20434176\",\n        }],\n [{\n            'v': 83,\n            'f': \"83\",\n        },\n\"Austria\",\n{\n            'v': 2007,\n            'f': \"2007\",\n        },\n{\n            'v': 8199783,\n            'f': \"8199783\",\n        }],\n [{\n            'v': 95,\n            'f': \"95\",\n        },\n\"Bahrain\",\n{\n            'v': 2007,\n            'f': \"2007\",\n        },\n{\n            'v': 708573,\n            'f': \"708573\",\n        }],\n [{\n            'v': 107,\n            'f': \"107\",\n        },\n\"Bangladesh\",\n{\n            'v': 2007,\n            'f': \"2007\",\n        },\n{\n            'v': 150448339,\n            'f': \"150448339\",\n        }],\n [{\n            'v': 119,\n            'f': \"119\",\n        },\n\"Belgium\",\n{\n            'v': 2007,\n            'f': \"2007\",\n        },\n{\n            'v': 10392226,\n            'f': \"10392226\",\n        }],\n [{\n            'v': 131,\n            'f': \"131\",\n        },\n\"Benin\",\n{\n            'v': 2007,\n            'f': \"2007\",\n        },\n{\n            'v': 8078314,\n            'f': \"8078314\",\n        }],\n [{\n            'v': 143,\n            'f': \"143\",\n        },\n\"Bolivia\",\n{\n            'v': 2007,\n            'f': \"2007\",\n        },\n{\n            'v': 9119152,\n            'f': \"9119152\",\n        }],\n [{\n            'v': 155,\n            'f': \"155\",\n        },\n\"Bosnia and Herzegovina\",\n{\n            'v': 2007,\n            'f': \"2007\",\n        },\n{\n            'v': 4552198,\n            'f': \"4552198\",\n        }],\n [{\n            'v': 167,\n            'f': \"167\",\n        },\n\"Botswana\",\n{\n            'v': 2007,\n            'f': \"2007\",\n        },\n{\n            'v': 1639131,\n            'f': \"1639131\",\n        }],\n [{\n            'v': 179,\n            'f': \"179\",\n        },\n\"Brazil\",\n{\n            'v': 2007,\n            'f': \"2007\",\n        },\n{\n            'v': 190010647,\n            'f': \"190010647\",\n        }],\n [{\n            'v': 191,\n            'f': \"191\",\n        },\n\"Bulgaria\",\n{\n            'v': 2007,\n            'f': \"2007\",\n        },\n{\n            'v': 7322858,\n            'f': \"7322858\",\n        }],\n [{\n            'v': 203,\n            'f': \"203\",\n        },\n\"Burkina Faso\",\n{\n            'v': 2007,\n            'f': \"2007\",\n        },\n{\n            'v': 14326203,\n            'f': \"14326203\",\n        }],\n [{\n            'v': 215,\n            'f': \"215\",\n        },\n\"Burundi\",\n{\n            'v': 2007,\n            'f': \"2007\",\n        },\n{\n            'v': 8390505,\n            'f': \"8390505\",\n        }],\n [{\n            'v': 227,\n            'f': \"227\",\n        },\n\"Cambodia\",\n{\n            'v': 2007,\n            'f': \"2007\",\n        },\n{\n            'v': 14131858,\n            'f': \"14131858\",\n        }],\n [{\n            'v': 239,\n            'f': \"239\",\n        },\n\"Cameroon\",\n{\n            'v': 2007,\n            'f': \"2007\",\n        },\n{\n            'v': 17696293,\n            'f': \"17696293\",\n        }],\n [{\n            'v': 251,\n            'f': \"251\",\n        },\n\"Canada\",\n{\n            'v': 2007,\n            'f': \"2007\",\n        },\n{\n            'v': 33390141,\n            'f': \"33390141\",\n        }],\n [{\n            'v': 263,\n            'f': \"263\",\n        },\n\"Central African Republic\",\n{\n            'v': 2007,\n            'f': \"2007\",\n        },\n{\n            'v': 4369038,\n            'f': \"4369038\",\n        }],\n [{\n            'v': 275,\n            'f': \"275\",\n        },\n\"Chad\",\n{\n            'v': 2007,\n            'f': \"2007\",\n        },\n{\n            'v': 10238807,\n            'f': \"10238807\",\n        }],\n [{\n            'v': 287,\n            'f': \"287\",\n        },\n\"Chile\",\n{\n            'v': 2007,\n            'f': \"2007\",\n        },\n{\n            'v': 16284741,\n            'f': \"16284741\",\n        }],\n [{\n            'v': 299,\n            'f': \"299\",\n        },\n\"China\",\n{\n            'v': 2007,\n            'f': \"2007\",\n        },\n{\n            'v': 1318683096,\n            'f': \"1318683096\",\n        }],\n [{\n            'v': 311,\n            'f': \"311\",\n        },\n\"Colombia\",\n{\n            'v': 2007,\n            'f': \"2007\",\n        },\n{\n            'v': 44227550,\n            'f': \"44227550\",\n        }],\n [{\n            'v': 323,\n            'f': \"323\",\n        },\n\"Comoros\",\n{\n            'v': 2007,\n            'f': \"2007\",\n        },\n{\n            'v': 710960,\n            'f': \"710960\",\n        }],\n [{\n            'v': 335,\n            'f': \"335\",\n        },\n\"Congo, Dem. Rep.\",\n{\n            'v': 2007,\n            'f': \"2007\",\n        },\n{\n            'v': 64606759,\n            'f': \"64606759\",\n        }],\n [{\n            'v': 347,\n            'f': \"347\",\n        },\n\"Congo, Rep.\",\n{\n            'v': 2007,\n            'f': \"2007\",\n        },\n{\n            'v': 3800610,\n            'f': \"3800610\",\n        }],\n [{\n            'v': 359,\n            'f': \"359\",\n        },\n\"Costa Rica\",\n{\n            'v': 2007,\n            'f': \"2007\",\n        },\n{\n            'v': 4133884,\n            'f': \"4133884\",\n        }],\n [{\n            'v': 371,\n            'f': \"371\",\n        },\n\"Cote d'Ivoire\",\n{\n            'v': 2007,\n            'f': \"2007\",\n        },\n{\n            'v': 18013409,\n            'f': \"18013409\",\n        }],\n [{\n            'v': 383,\n            'f': \"383\",\n        },\n\"Croatia\",\n{\n            'v': 2007,\n            'f': \"2007\",\n        },\n{\n            'v': 4493312,\n            'f': \"4493312\",\n        }],\n [{\n            'v': 395,\n            'f': \"395\",\n        },\n\"Cuba\",\n{\n            'v': 2007,\n            'f': \"2007\",\n        },\n{\n            'v': 11416987,\n            'f': \"11416987\",\n        }],\n [{\n            'v': 407,\n            'f': \"407\",\n        },\n\"Czech Republic\",\n{\n            'v': 2007,\n            'f': \"2007\",\n        },\n{\n            'v': 10228744,\n            'f': \"10228744\",\n        }],\n [{\n            'v': 419,\n            'f': \"419\",\n        },\n\"Denmark\",\n{\n            'v': 2007,\n            'f': \"2007\",\n        },\n{\n            'v': 5468120,\n            'f': \"5468120\",\n        }],\n [{\n            'v': 431,\n            'f': \"431\",\n        },\n\"Djibouti\",\n{\n            'v': 2007,\n            'f': \"2007\",\n        },\n{\n            'v': 496374,\n            'f': \"496374\",\n        }],\n [{\n            'v': 443,\n            'f': \"443\",\n        },\n\"Dominican Republic\",\n{\n            'v': 2007,\n            'f': \"2007\",\n        },\n{\n            'v': 9319622,\n            'f': \"9319622\",\n        }],\n [{\n            'v': 455,\n            'f': \"455\",\n        },\n\"Ecuador\",\n{\n            'v': 2007,\n            'f': \"2007\",\n        },\n{\n            'v': 13755680,\n            'f': \"13755680\",\n        }],\n [{\n            'v': 467,\n            'f': \"467\",\n        },\n\"Egypt\",\n{\n            'v': 2007,\n            'f': \"2007\",\n        },\n{\n            'v': 80264543,\n            'f': \"80264543\",\n        }],\n [{\n            'v': 479,\n            'f': \"479\",\n        },\n\"El Salvador\",\n{\n            'v': 2007,\n            'f': \"2007\",\n        },\n{\n            'v': 6939688,\n            'f': \"6939688\",\n        }],\n [{\n            'v': 491,\n            'f': \"491\",\n        },\n\"Equatorial Guinea\",\n{\n            'v': 2007,\n            'f': \"2007\",\n        },\n{\n            'v': 551201,\n            'f': \"551201\",\n        }],\n [{\n            'v': 503,\n            'f': \"503\",\n        },\n\"Eritrea\",\n{\n            'v': 2007,\n            'f': \"2007\",\n        },\n{\n            'v': 4906585,\n            'f': \"4906585\",\n        }],\n [{\n            'v': 515,\n            'f': \"515\",\n        },\n\"Ethiopia\",\n{\n            'v': 2007,\n            'f': \"2007\",\n        },\n{\n            'v': 76511887,\n            'f': \"76511887\",\n        }],\n [{\n            'v': 527,\n            'f': \"527\",\n        },\n\"Finland\",\n{\n            'v': 2007,\n            'f': \"2007\",\n        },\n{\n            'v': 5238460,\n            'f': \"5238460\",\n        }],\n [{\n            'v': 539,\n            'f': \"539\",\n        },\n\"France\",\n{\n            'v': 2007,\n            'f': \"2007\",\n        },\n{\n            'v': 61083916,\n            'f': \"61083916\",\n        }],\n [{\n            'v': 551,\n            'f': \"551\",\n        },\n\"Gabon\",\n{\n            'v': 2007,\n            'f': \"2007\",\n        },\n{\n            'v': 1454867,\n            'f': \"1454867\",\n        }],\n [{\n            'v': 563,\n            'f': \"563\",\n        },\n\"Gambia\",\n{\n            'v': 2007,\n            'f': \"2007\",\n        },\n{\n            'v': 1688359,\n            'f': \"1688359\",\n        }],\n [{\n            'v': 575,\n            'f': \"575\",\n        },\n\"Germany\",\n{\n            'v': 2007,\n            'f': \"2007\",\n        },\n{\n            'v': 82400996,\n            'f': \"82400996\",\n        }],\n [{\n            'v': 587,\n            'f': \"587\",\n        },\n\"Ghana\",\n{\n            'v': 2007,\n            'f': \"2007\",\n        },\n{\n            'v': 22873338,\n            'f': \"22873338\",\n        }],\n [{\n            'v': 599,\n            'f': \"599\",\n        },\n\"Greece\",\n{\n            'v': 2007,\n            'f': \"2007\",\n        },\n{\n            'v': 10706290,\n            'f': \"10706290\",\n        }],\n [{\n            'v': 611,\n            'f': \"611\",\n        },\n\"Guatemala\",\n{\n            'v': 2007,\n            'f': \"2007\",\n        },\n{\n            'v': 12572928,\n            'f': \"12572928\",\n        }],\n [{\n            'v': 623,\n            'f': \"623\",\n        },\n\"Guinea\",\n{\n            'v': 2007,\n            'f': \"2007\",\n        },\n{\n            'v': 9947814,\n            'f': \"9947814\",\n        }],\n [{\n            'v': 635,\n            'f': \"635\",\n        },\n\"Guinea-Bissau\",\n{\n            'v': 2007,\n            'f': \"2007\",\n        },\n{\n            'v': 1472041,\n            'f': \"1472041\",\n        }],\n [{\n            'v': 647,\n            'f': \"647\",\n        },\n\"Haiti\",\n{\n            'v': 2007,\n            'f': \"2007\",\n        },\n{\n            'v': 8502814,\n            'f': \"8502814\",\n        }],\n [{\n            'v': 659,\n            'f': \"659\",\n        },\n\"Honduras\",\n{\n            'v': 2007,\n            'f': \"2007\",\n        },\n{\n            'v': 7483763,\n            'f': \"7483763\",\n        }],\n [{\n            'v': 671,\n            'f': \"671\",\n        },\n\"Hong Kong, China\",\n{\n            'v': 2007,\n            'f': \"2007\",\n        },\n{\n            'v': 6980412,\n            'f': \"6980412\",\n        }],\n [{\n            'v': 683,\n            'f': \"683\",\n        },\n\"Hungary\",\n{\n            'v': 2007,\n            'f': \"2007\",\n        },\n{\n            'v': 9956108,\n            'f': \"9956108\",\n        }],\n [{\n            'v': 695,\n            'f': \"695\",\n        },\n\"Iceland\",\n{\n            'v': 2007,\n            'f': \"2007\",\n        },\n{\n            'v': 301931,\n            'f': \"301931\",\n        }],\n [{\n            'v': 707,\n            'f': \"707\",\n        },\n\"India\",\n{\n            'v': 2007,\n            'f': \"2007\",\n        },\n{\n            'v': 1110396331,\n            'f': \"1110396331\",\n        }],\n [{\n            'v': 719,\n            'f': \"719\",\n        },\n\"Indonesia\",\n{\n            'v': 2007,\n            'f': \"2007\",\n        },\n{\n            'v': 223547000,\n            'f': \"223547000\",\n        }],\n [{\n            'v': 731,\n            'f': \"731\",\n        },\n\"Iran\",\n{\n            'v': 2007,\n            'f': \"2007\",\n        },\n{\n            'v': 69453570,\n            'f': \"69453570\",\n        }],\n [{\n            'v': 743,\n            'f': \"743\",\n        },\n\"Iraq\",\n{\n            'v': 2007,\n            'f': \"2007\",\n        },\n{\n            'v': 27499638,\n            'f': \"27499638\",\n        }],\n [{\n            'v': 755,\n            'f': \"755\",\n        },\n\"Ireland\",\n{\n            'v': 2007,\n            'f': \"2007\",\n        },\n{\n            'v': 4109086,\n            'f': \"4109086\",\n        }],\n [{\n            'v': 767,\n            'f': \"767\",\n        },\n\"Israel\",\n{\n            'v': 2007,\n            'f': \"2007\",\n        },\n{\n            'v': 6426679,\n            'f': \"6426679\",\n        }],\n [{\n            'v': 779,\n            'f': \"779\",\n        },\n\"Italy\",\n{\n            'v': 2007,\n            'f': \"2007\",\n        },\n{\n            'v': 58147733,\n            'f': \"58147733\",\n        }],\n [{\n            'v': 791,\n            'f': \"791\",\n        },\n\"Jamaica\",\n{\n            'v': 2007,\n            'f': \"2007\",\n        },\n{\n            'v': 2780132,\n            'f': \"2780132\",\n        }],\n [{\n            'v': 803,\n            'f': \"803\",\n        },\n\"Japan\",\n{\n            'v': 2007,\n            'f': \"2007\",\n        },\n{\n            'v': 127467972,\n            'f': \"127467972\",\n        }],\n [{\n            'v': 815,\n            'f': \"815\",\n        },\n\"Jordan\",\n{\n            'v': 2007,\n            'f': \"2007\",\n        },\n{\n            'v': 6053193,\n            'f': \"6053193\",\n        }],\n [{\n            'v': 827,\n            'f': \"827\",\n        },\n\"Kenya\",\n{\n            'v': 2007,\n            'f': \"2007\",\n        },\n{\n            'v': 35610177,\n            'f': \"35610177\",\n        }],\n [{\n            'v': 839,\n            'f': \"839\",\n        },\n\"Korea, Dem. Rep.\",\n{\n            'v': 2007,\n            'f': \"2007\",\n        },\n{\n            'v': 23301725,\n            'f': \"23301725\",\n        }],\n [{\n            'v': 851,\n            'f': \"851\",\n        },\n\"Korea, Rep.\",\n{\n            'v': 2007,\n            'f': \"2007\",\n        },\n{\n            'v': 49044790,\n            'f': \"49044790\",\n        }],\n [{\n            'v': 863,\n            'f': \"863\",\n        },\n\"Kuwait\",\n{\n            'v': 2007,\n            'f': \"2007\",\n        },\n{\n            'v': 2505559,\n            'f': \"2505559\",\n        }],\n [{\n            'v': 875,\n            'f': \"875\",\n        },\n\"Lebanon\",\n{\n            'v': 2007,\n            'f': \"2007\",\n        },\n{\n            'v': 3921278,\n            'f': \"3921278\",\n        }],\n [{\n            'v': 887,\n            'f': \"887\",\n        },\n\"Lesotho\",\n{\n            'v': 2007,\n            'f': \"2007\",\n        },\n{\n            'v': 2012649,\n            'f': \"2012649\",\n        }],\n [{\n            'v': 899,\n            'f': \"899\",\n        },\n\"Liberia\",\n{\n            'v': 2007,\n            'f': \"2007\",\n        },\n{\n            'v': 3193942,\n            'f': \"3193942\",\n        }],\n [{\n            'v': 911,\n            'f': \"911\",\n        },\n\"Libya\",\n{\n            'v': 2007,\n            'f': \"2007\",\n        },\n{\n            'v': 6036914,\n            'f': \"6036914\",\n        }],\n [{\n            'v': 923,\n            'f': \"923\",\n        },\n\"Madagascar\",\n{\n            'v': 2007,\n            'f': \"2007\",\n        },\n{\n            'v': 19167654,\n            'f': \"19167654\",\n        }],\n [{\n            'v': 935,\n            'f': \"935\",\n        },\n\"Malawi\",\n{\n            'v': 2007,\n            'f': \"2007\",\n        },\n{\n            'v': 13327079,\n            'f': \"13327079\",\n        }],\n [{\n            'v': 947,\n            'f': \"947\",\n        },\n\"Malaysia\",\n{\n            'v': 2007,\n            'f': \"2007\",\n        },\n{\n            'v': 24821286,\n            'f': \"24821286\",\n        }],\n [{\n            'v': 959,\n            'f': \"959\",\n        },\n\"Mali\",\n{\n            'v': 2007,\n            'f': \"2007\",\n        },\n{\n            'v': 12031795,\n            'f': \"12031795\",\n        }],\n [{\n            'v': 971,\n            'f': \"971\",\n        },\n\"Mauritania\",\n{\n            'v': 2007,\n            'f': \"2007\",\n        },\n{\n            'v': 3270065,\n            'f': \"3270065\",\n        }],\n [{\n            'v': 983,\n            'f': \"983\",\n        },\n\"Mauritius\",\n{\n            'v': 2007,\n            'f': \"2007\",\n        },\n{\n            'v': 1250882,\n            'f': \"1250882\",\n        }],\n [{\n            'v': 995,\n            'f': \"995\",\n        },\n\"Mexico\",\n{\n            'v': 2007,\n            'f': \"2007\",\n        },\n{\n            'v': 108700891,\n            'f': \"108700891\",\n        }],\n [{\n            'v': 1007,\n            'f': \"1007\",\n        },\n\"Mongolia\",\n{\n            'v': 2007,\n            'f': \"2007\",\n        },\n{\n            'v': 2874127,\n            'f': \"2874127\",\n        }],\n [{\n            'v': 1019,\n            'f': \"1019\",\n        },\n\"Montenegro\",\n{\n            'v': 2007,\n            'f': \"2007\",\n        },\n{\n            'v': 684736,\n            'f': \"684736\",\n        }],\n [{\n            'v': 1031,\n            'f': \"1031\",\n        },\n\"Morocco\",\n{\n            'v': 2007,\n            'f': \"2007\",\n        },\n{\n            'v': 33757175,\n            'f': \"33757175\",\n        }],\n [{\n            'v': 1043,\n            'f': \"1043\",\n        },\n\"Mozambique\",\n{\n            'v': 2007,\n            'f': \"2007\",\n        },\n{\n            'v': 19951656,\n            'f': \"19951656\",\n        }],\n [{\n            'v': 1055,\n            'f': \"1055\",\n        },\n\"Myanmar\",\n{\n            'v': 2007,\n            'f': \"2007\",\n        },\n{\n            'v': 47761980,\n            'f': \"47761980\",\n        }],\n [{\n            'v': 1067,\n            'f': \"1067\",\n        },\n\"Namibia\",\n{\n            'v': 2007,\n            'f': \"2007\",\n        },\n{\n            'v': 2055080,\n            'f': \"2055080\",\n        }],\n [{\n            'v': 1079,\n            'f': \"1079\",\n        },\n\"Nepal\",\n{\n            'v': 2007,\n            'f': \"2007\",\n        },\n{\n            'v': 28901790,\n            'f': \"28901790\",\n        }],\n [{\n            'v': 1091,\n            'f': \"1091\",\n        },\n\"Netherlands\",\n{\n            'v': 2007,\n            'f': \"2007\",\n        },\n{\n            'v': 16570613,\n            'f': \"16570613\",\n        }],\n [{\n            'v': 1103,\n            'f': \"1103\",\n        },\n\"New Zealand\",\n{\n            'v': 2007,\n            'f': \"2007\",\n        },\n{\n            'v': 4115771,\n            'f': \"4115771\",\n        }],\n [{\n            'v': 1115,\n            'f': \"1115\",\n        },\n\"Nicaragua\",\n{\n            'v': 2007,\n            'f': \"2007\",\n        },\n{\n            'v': 5675356,\n            'f': \"5675356\",\n        }],\n [{\n            'v': 1127,\n            'f': \"1127\",\n        },\n\"Niger\",\n{\n            'v': 2007,\n            'f': \"2007\",\n        },\n{\n            'v': 12894865,\n            'f': \"12894865\",\n        }],\n [{\n            'v': 1139,\n            'f': \"1139\",\n        },\n\"Nigeria\",\n{\n            'v': 2007,\n            'f': \"2007\",\n        },\n{\n            'v': 135031164,\n            'f': \"135031164\",\n        }],\n [{\n            'v': 1151,\n            'f': \"1151\",\n        },\n\"Norway\",\n{\n            'v': 2007,\n            'f': \"2007\",\n        },\n{\n            'v': 4627926,\n            'f': \"4627926\",\n        }],\n [{\n            'v': 1163,\n            'f': \"1163\",\n        },\n\"Oman\",\n{\n            'v': 2007,\n            'f': \"2007\",\n        },\n{\n            'v': 3204897,\n            'f': \"3204897\",\n        }],\n [{\n            'v': 1175,\n            'f': \"1175\",\n        },\n\"Pakistan\",\n{\n            'v': 2007,\n            'f': \"2007\",\n        },\n{\n            'v': 169270617,\n            'f': \"169270617\",\n        }],\n [{\n            'v': 1187,\n            'f': \"1187\",\n        },\n\"Panama\",\n{\n            'v': 2007,\n            'f': \"2007\",\n        },\n{\n            'v': 3242173,\n            'f': \"3242173\",\n        }],\n [{\n            'v': 1199,\n            'f': \"1199\",\n        },\n\"Paraguay\",\n{\n            'v': 2007,\n            'f': \"2007\",\n        },\n{\n            'v': 6667147,\n            'f': \"6667147\",\n        }],\n [{\n            'v': 1211,\n            'f': \"1211\",\n        },\n\"Peru\",\n{\n            'v': 2007,\n            'f': \"2007\",\n        },\n{\n            'v': 28674757,\n            'f': \"28674757\",\n        }],\n [{\n            'v': 1223,\n            'f': \"1223\",\n        },\n\"Philippines\",\n{\n            'v': 2007,\n            'f': \"2007\",\n        },\n{\n            'v': 91077287,\n            'f': \"91077287\",\n        }],\n [{\n            'v': 1235,\n            'f': \"1235\",\n        },\n\"Poland\",\n{\n            'v': 2007,\n            'f': \"2007\",\n        },\n{\n            'v': 38518241,\n            'f': \"38518241\",\n        }],\n [{\n            'v': 1247,\n            'f': \"1247\",\n        },\n\"Portugal\",\n{\n            'v': 2007,\n            'f': \"2007\",\n        },\n{\n            'v': 10642836,\n            'f': \"10642836\",\n        }],\n [{\n            'v': 1259,\n            'f': \"1259\",\n        },\n\"Puerto Rico\",\n{\n            'v': 2007,\n            'f': \"2007\",\n        },\n{\n            'v': 3942491,\n            'f': \"3942491\",\n        }],\n [{\n            'v': 1271,\n            'f': \"1271\",\n        },\n\"Reunion\",\n{\n            'v': 2007,\n            'f': \"2007\",\n        },\n{\n            'v': 798094,\n            'f': \"798094\",\n        }],\n [{\n            'v': 1283,\n            'f': \"1283\",\n        },\n\"Romania\",\n{\n            'v': 2007,\n            'f': \"2007\",\n        },\n{\n            'v': 22276056,\n            'f': \"22276056\",\n        }],\n [{\n            'v': 1295,\n            'f': \"1295\",\n        },\n\"Rwanda\",\n{\n            'v': 2007,\n            'f': \"2007\",\n        },\n{\n            'v': 8860588,\n            'f': \"8860588\",\n        }],\n [{\n            'v': 1307,\n            'f': \"1307\",\n        },\n\"Sao Tome and Principe\",\n{\n            'v': 2007,\n            'f': \"2007\",\n        },\n{\n            'v': 199579,\n            'f': \"199579\",\n        }],\n [{\n            'v': 1319,\n            'f': \"1319\",\n        },\n\"Saudi Arabia\",\n{\n            'v': 2007,\n            'f': \"2007\",\n        },\n{\n            'v': 27601038,\n            'f': \"27601038\",\n        }],\n [{\n            'v': 1331,\n            'f': \"1331\",\n        },\n\"Senegal\",\n{\n            'v': 2007,\n            'f': \"2007\",\n        },\n{\n            'v': 12267493,\n            'f': \"12267493\",\n        }],\n [{\n            'v': 1343,\n            'f': \"1343\",\n        },\n\"Serbia\",\n{\n            'v': 2007,\n            'f': \"2007\",\n        },\n{\n            'v': 10150265,\n            'f': \"10150265\",\n        }],\n [{\n            'v': 1355,\n            'f': \"1355\",\n        },\n\"Sierra Leone\",\n{\n            'v': 2007,\n            'f': \"2007\",\n        },\n{\n            'v': 6144562,\n            'f': \"6144562\",\n        }],\n [{\n            'v': 1367,\n            'f': \"1367\",\n        },\n\"Singapore\",\n{\n            'v': 2007,\n            'f': \"2007\",\n        },\n{\n            'v': 4553009,\n            'f': \"4553009\",\n        }],\n [{\n            'v': 1379,\n            'f': \"1379\",\n        },\n\"Slovak Republic\",\n{\n            'v': 2007,\n            'f': \"2007\",\n        },\n{\n            'v': 5447502,\n            'f': \"5447502\",\n        }],\n [{\n            'v': 1391,\n            'f': \"1391\",\n        },\n\"Slovenia\",\n{\n            'v': 2007,\n            'f': \"2007\",\n        },\n{\n            'v': 2009245,\n            'f': \"2009245\",\n        }],\n [{\n            'v': 1403,\n            'f': \"1403\",\n        },\n\"Somalia\",\n{\n            'v': 2007,\n            'f': \"2007\",\n        },\n{\n            'v': 9118773,\n            'f': \"9118773\",\n        }],\n [{\n            'v': 1415,\n            'f': \"1415\",\n        },\n\"South Africa\",\n{\n            'v': 2007,\n            'f': \"2007\",\n        },\n{\n            'v': 43997828,\n            'f': \"43997828\",\n        }],\n [{\n            'v': 1427,\n            'f': \"1427\",\n        },\n\"Spain\",\n{\n            'v': 2007,\n            'f': \"2007\",\n        },\n{\n            'v': 40448191,\n            'f': \"40448191\",\n        }],\n [{\n            'v': 1439,\n            'f': \"1439\",\n        },\n\"Sri Lanka\",\n{\n            'v': 2007,\n            'f': \"2007\",\n        },\n{\n            'v': 20378239,\n            'f': \"20378239\",\n        }],\n [{\n            'v': 1451,\n            'f': \"1451\",\n        },\n\"Sudan\",\n{\n            'v': 2007,\n            'f': \"2007\",\n        },\n{\n            'v': 42292929,\n            'f': \"42292929\",\n        }],\n [{\n            'v': 1463,\n            'f': \"1463\",\n        },\n\"Swaziland\",\n{\n            'v': 2007,\n            'f': \"2007\",\n        },\n{\n            'v': 1133066,\n            'f': \"1133066\",\n        }],\n [{\n            'v': 1475,\n            'f': \"1475\",\n        },\n\"Sweden\",\n{\n            'v': 2007,\n            'f': \"2007\",\n        },\n{\n            'v': 9031088,\n            'f': \"9031088\",\n        }],\n [{\n            'v': 1487,\n            'f': \"1487\",\n        },\n\"Switzerland\",\n{\n            'v': 2007,\n            'f': \"2007\",\n        },\n{\n            'v': 7554661,\n            'f': \"7554661\",\n        }],\n [{\n            'v': 1499,\n            'f': \"1499\",\n        },\n\"Syria\",\n{\n            'v': 2007,\n            'f': \"2007\",\n        },\n{\n            'v': 19314747,\n            'f': \"19314747\",\n        }],\n [{\n            'v': 1511,\n            'f': \"1511\",\n        },\n\"Taiwan\",\n{\n            'v': 2007,\n            'f': \"2007\",\n        },\n{\n            'v': 23174294,\n            'f': \"23174294\",\n        }],\n [{\n            'v': 1523,\n            'f': \"1523\",\n        },\n\"Tanzania\",\n{\n            'v': 2007,\n            'f': \"2007\",\n        },\n{\n            'v': 38139640,\n            'f': \"38139640\",\n        }],\n [{\n            'v': 1535,\n            'f': \"1535\",\n        },\n\"Thailand\",\n{\n            'v': 2007,\n            'f': \"2007\",\n        },\n{\n            'v': 65068149,\n            'f': \"65068149\",\n        }],\n [{\n            'v': 1547,\n            'f': \"1547\",\n        },\n\"Togo\",\n{\n            'v': 2007,\n            'f': \"2007\",\n        },\n{\n            'v': 5701579,\n            'f': \"5701579\",\n        }],\n [{\n            'v': 1559,\n            'f': \"1559\",\n        },\n\"Trinidad and Tobago\",\n{\n            'v': 2007,\n            'f': \"2007\",\n        },\n{\n            'v': 1056608,\n            'f': \"1056608\",\n        }],\n [{\n            'v': 1571,\n            'f': \"1571\",\n        },\n\"Tunisia\",\n{\n            'v': 2007,\n            'f': \"2007\",\n        },\n{\n            'v': 10276158,\n            'f': \"10276158\",\n        }],\n [{\n            'v': 1583,\n            'f': \"1583\",\n        },\n\"Turkey\",\n{\n            'v': 2007,\n            'f': \"2007\",\n        },\n{\n            'v': 71158647,\n            'f': \"71158647\",\n        }],\n [{\n            'v': 1595,\n            'f': \"1595\",\n        },\n\"Uganda\",\n{\n            'v': 2007,\n            'f': \"2007\",\n        },\n{\n            'v': 29170398,\n            'f': \"29170398\",\n        }],\n [{\n            'v': 1607,\n            'f': \"1607\",\n        },\n\"United Kingdom\",\n{\n            'v': 2007,\n            'f': \"2007\",\n        },\n{\n            'v': 60776238,\n            'f': \"60776238\",\n        }],\n [{\n            'v': 1619,\n            'f': \"1619\",\n        },\n\"United States\",\n{\n            'v': 2007,\n            'f': \"2007\",\n        },\n{\n            'v': 301139947,\n            'f': \"301139947\",\n        }],\n [{\n            'v': 1631,\n            'f': \"1631\",\n        },\n\"Uruguay\",\n{\n            'v': 2007,\n            'f': \"2007\",\n        },\n{\n            'v': 3447496,\n            'f': \"3447496\",\n        }],\n [{\n            'v': 1643,\n            'f': \"1643\",\n        },\n\"Venezuela\",\n{\n            'v': 2007,\n            'f': \"2007\",\n        },\n{\n            'v': 26084662,\n            'f': \"26084662\",\n        }],\n [{\n            'v': 1655,\n            'f': \"1655\",\n        },\n\"Vietnam\",\n{\n            'v': 2007,\n            'f': \"2007\",\n        },\n{\n            'v': 85262356,\n            'f': \"85262356\",\n        }],\n [{\n            'v': 1667,\n            'f': \"1667\",\n        },\n\"West Bank and Gaza\",\n{\n            'v': 2007,\n            'f': \"2007\",\n        },\n{\n            'v': 4018332,\n            'f': \"4018332\",\n        }],\n [{\n            'v': 1679,\n            'f': \"1679\",\n        },\n\"Yemen, Rep.\",\n{\n            'v': 2007,\n            'f': \"2007\",\n        },\n{\n            'v': 22211743,\n            'f': \"22211743\",\n        }],\n [{\n            'v': 1691,\n            'f': \"1691\",\n        },\n\"Zambia\",\n{\n            'v': 2007,\n            'f': \"2007\",\n        },\n{\n            'v': 11746035,\n            'f': \"11746035\",\n        }],\n [{\n            'v': 1703,\n            'f': \"1703\",\n        },\n\"Zimbabwe\",\n{\n            'v': 2007,\n            'f': \"2007\",\n        },\n{\n            'v': 12311143,\n            'f': \"12311143\",\n        }]],\n        columns: [[\"number\", \"index\"], [\"string\", \"country\"], [\"number\", \"year\"], [\"number\", \"population\"]],\n        columnOptions: [{\"width\": \"1px\", \"className\": \"index_column\"}],\n        rowsPerPage: 25,\n        helpUrl: \"https://colab.research.google.com/notebooks/data_table.ipynb\",\n        suppressOutputScrolling: true,\n        minimumWidth: undefined,\n      });\n    "
          },
          "metadata": {},
          "execution_count": 19
        }
      ]
    },
    {
      "cell_type": "markdown",
      "source": [
        "O DataFrame está organizado em ordem alfabética do nome dos países. Faremos a ordenação por população utilizando o comando DataFrame.sort_values(by=nome_da_coluna). O comando fará a ordenação do menor valor para o maior, especificando a coluna de referência para a ordenação através da definição do parâmetro by. Para inverter a ordem da ordenação, definimos o parâmetro ascending=False e, para efetuar a modificação no DataFrame, definimos também o parâmetro inplace=True."
      ],
      "metadata": {
        "id": "IJVPqdrMgWCR"
      }
    },
    {
      "cell_type": "code",
      "source": [
        "biggest_pop_2007.sort_values(by='population', ascending=False, inplace=True)\n",
        "biggest_pop_2007.head(10)"
      ],
      "metadata": {
        "colab": {
          "base_uri": "https://localhost:8080/",
          "height": 302
        },
        "id": "dWGnH1XrgW_B",
        "outputId": "a7a9c424-38e5-4987-ea33-b033d95a1d3a"
      },
      "execution_count": 20,
      "outputs": [
        {
          "output_type": "execute_result",
          "data": {
            "text/plain": [
              "            country  year  population\n",
              "299           China  2007  1318683096\n",
              "707           India  2007  1110396331\n",
              "1619  United States  2007   301139947\n",
              "719       Indonesia  2007   223547000\n",
              "179          Brazil  2007   190010647\n",
              "1175       Pakistan  2007   169270617\n",
              "107      Bangladesh  2007   150448339\n",
              "1139        Nigeria  2007   135031164\n",
              "803           Japan  2007   127467972\n",
              "995          Mexico  2007   108700891"
            ],
            "text/html": [
              "\n",
              "  <div id=\"df-167f775d-0391-4ec2-b7f0-41d506c0b31b\">\n",
              "    <div class=\"colab-df-container\">\n",
              "      <div>\n",
              "<style scoped>\n",
              "    .dataframe tbody tr th:only-of-type {\n",
              "        vertical-align: middle;\n",
              "    }\n",
              "\n",
              "    .dataframe tbody tr th {\n",
              "        vertical-align: top;\n",
              "    }\n",
              "\n",
              "    .dataframe thead th {\n",
              "        text-align: right;\n",
              "    }\n",
              "</style>\n",
              "<table border=\"1\" class=\"dataframe\">\n",
              "  <thead>\n",
              "    <tr style=\"text-align: right;\">\n",
              "      <th></th>\n",
              "      <th>country</th>\n",
              "      <th>year</th>\n",
              "      <th>population</th>\n",
              "    </tr>\n",
              "  </thead>\n",
              "  <tbody>\n",
              "    <tr>\n",
              "      <th>299</th>\n",
              "      <td>China</td>\n",
              "      <td>2007</td>\n",
              "      <td>1318683096</td>\n",
              "    </tr>\n",
              "    <tr>\n",
              "      <th>707</th>\n",
              "      <td>India</td>\n",
              "      <td>2007</td>\n",
              "      <td>1110396331</td>\n",
              "    </tr>\n",
              "    <tr>\n",
              "      <th>1619</th>\n",
              "      <td>United States</td>\n",
              "      <td>2007</td>\n",
              "      <td>301139947</td>\n",
              "    </tr>\n",
              "    <tr>\n",
              "      <th>719</th>\n",
              "      <td>Indonesia</td>\n",
              "      <td>2007</td>\n",
              "      <td>223547000</td>\n",
              "    </tr>\n",
              "    <tr>\n",
              "      <th>179</th>\n",
              "      <td>Brazil</td>\n",
              "      <td>2007</td>\n",
              "      <td>190010647</td>\n",
              "    </tr>\n",
              "    <tr>\n",
              "      <th>1175</th>\n",
              "      <td>Pakistan</td>\n",
              "      <td>2007</td>\n",
              "      <td>169270617</td>\n",
              "    </tr>\n",
              "    <tr>\n",
              "      <th>107</th>\n",
              "      <td>Bangladesh</td>\n",
              "      <td>2007</td>\n",
              "      <td>150448339</td>\n",
              "    </tr>\n",
              "    <tr>\n",
              "      <th>1139</th>\n",
              "      <td>Nigeria</td>\n",
              "      <td>2007</td>\n",
              "      <td>135031164</td>\n",
              "    </tr>\n",
              "    <tr>\n",
              "      <th>803</th>\n",
              "      <td>Japan</td>\n",
              "      <td>2007</td>\n",
              "      <td>127467972</td>\n",
              "    </tr>\n",
              "    <tr>\n",
              "      <th>995</th>\n",
              "      <td>Mexico</td>\n",
              "      <td>2007</td>\n",
              "      <td>108700891</td>\n",
              "    </tr>\n",
              "  </tbody>\n",
              "</table>\n",
              "</div>\n",
              "      <button class=\"colab-df-convert\" onclick=\"convertToInteractive('df-167f775d-0391-4ec2-b7f0-41d506c0b31b')\"\n",
              "              title=\"Convert this dataframe to an interactive table.\"\n",
              "              style=\"display:none;\">\n",
              "        \n",
              "  <svg xmlns=\"http://www.w3.org/2000/svg\" height=\"24px\"viewBox=\"0 0 24 24\"\n",
              "       width=\"24px\">\n",
              "    <path d=\"M0 0h24v24H0V0z\" fill=\"none\"/>\n",
              "    <path d=\"M18.56 5.44l.94 2.06.94-2.06 2.06-.94-2.06-.94-.94-2.06-.94 2.06-2.06.94zm-11 1L8.5 8.5l.94-2.06 2.06-.94-2.06-.94L8.5 2.5l-.94 2.06-2.06.94zm10 10l.94 2.06.94-2.06 2.06-.94-2.06-.94-.94-2.06-.94 2.06-2.06.94z\"/><path d=\"M17.41 7.96l-1.37-1.37c-.4-.4-.92-.59-1.43-.59-.52 0-1.04.2-1.43.59L10.3 9.45l-7.72 7.72c-.78.78-.78 2.05 0 2.83L4 21.41c.39.39.9.59 1.41.59.51 0 1.02-.2 1.41-.59l7.78-7.78 2.81-2.81c.8-.78.8-2.07 0-2.86zM5.41 20L4 18.59l7.72-7.72 1.47 1.35L5.41 20z\"/>\n",
              "  </svg>\n",
              "      </button>\n",
              "      \n",
              "  <style>\n",
              "    .colab-df-container {\n",
              "      display:flex;\n",
              "      flex-wrap:wrap;\n",
              "      gap: 12px;\n",
              "    }\n",
              "\n",
              "    .colab-df-convert {\n",
              "      background-color: #E8F0FE;\n",
              "      border: none;\n",
              "      border-radius: 50%;\n",
              "      cursor: pointer;\n",
              "      display: none;\n",
              "      fill: #1967D2;\n",
              "      height: 32px;\n",
              "      padding: 0 0 0 0;\n",
              "      width: 32px;\n",
              "    }\n",
              "\n",
              "    .colab-df-convert:hover {\n",
              "      background-color: #E2EBFA;\n",
              "      box-shadow: 0px 1px 2px rgba(60, 64, 67, 0.3), 0px 1px 3px 1px rgba(60, 64, 67, 0.15);\n",
              "      fill: #174EA6;\n",
              "    }\n",
              "\n",
              "    [theme=dark] .colab-df-convert {\n",
              "      background-color: #3B4455;\n",
              "      fill: #D2E3FC;\n",
              "    }\n",
              "\n",
              "    [theme=dark] .colab-df-convert:hover {\n",
              "      background-color: #434B5C;\n",
              "      box-shadow: 0px 1px 3px 1px rgba(0, 0, 0, 0.15);\n",
              "      filter: drop-shadow(0px 1px 2px rgba(0, 0, 0, 0.3));\n",
              "      fill: #FFFFFF;\n",
              "    }\n",
              "  </style>\n",
              "\n",
              "      <script>\n",
              "        const buttonEl =\n",
              "          document.querySelector('#df-167f775d-0391-4ec2-b7f0-41d506c0b31b button.colab-df-convert');\n",
              "        buttonEl.style.display =\n",
              "          google.colab.kernel.accessAllowed ? 'block' : 'none';\n",
              "\n",
              "        async function convertToInteractive(key) {\n",
              "          const element = document.querySelector('#df-167f775d-0391-4ec2-b7f0-41d506c0b31b');\n",
              "          const dataTable =\n",
              "            await google.colab.kernel.invokeFunction('convertToInteractive',\n",
              "                                                     [key], {});\n",
              "          if (!dataTable) return;\n",
              "\n",
              "          const docLinkHtml = 'Like what you see? Visit the ' +\n",
              "            '<a target=\"_blank\" href=https://colab.research.google.com/notebooks/data_table.ipynb>data table notebook</a>'\n",
              "            + ' to learn more about interactive tables.';\n",
              "          element.innerHTML = '';\n",
              "          dataTable['output_type'] = 'display_data';\n",
              "          await google.colab.output.renderOutput(dataTable, element);\n",
              "          const docLink = document.createElement('div');\n",
              "          docLink.innerHTML = docLinkHtml;\n",
              "          element.appendChild(docLink);\n",
              "        }\n",
              "      </script>\n",
              "    </div>\n",
              "  </div>\n",
              "  "
            ],
            "application/vnd.google.colaboratory.module+javascript": "\n      import \"https://ssl.gstatic.com/colaboratory/data_table/99dac6621f6ae8c4/data_table.js\";\n\n      window.createDataTable({\n        data: [[{\n            'v': 299,\n            'f': \"299\",\n        },\n\"China\",\n{\n            'v': 2007,\n            'f': \"2007\",\n        },\n{\n            'v': 1318683096,\n            'f': \"1318683096\",\n        }],\n [{\n            'v': 707,\n            'f': \"707\",\n        },\n\"India\",\n{\n            'v': 2007,\n            'f': \"2007\",\n        },\n{\n            'v': 1110396331,\n            'f': \"1110396331\",\n        }],\n [{\n            'v': 1619,\n            'f': \"1619\",\n        },\n\"United States\",\n{\n            'v': 2007,\n            'f': \"2007\",\n        },\n{\n            'v': 301139947,\n            'f': \"301139947\",\n        }],\n [{\n            'v': 719,\n            'f': \"719\",\n        },\n\"Indonesia\",\n{\n            'v': 2007,\n            'f': \"2007\",\n        },\n{\n            'v': 223547000,\n            'f': \"223547000\",\n        }],\n [{\n            'v': 179,\n            'f': \"179\",\n        },\n\"Brazil\",\n{\n            'v': 2007,\n            'f': \"2007\",\n        },\n{\n            'v': 190010647,\n            'f': \"190010647\",\n        }],\n [{\n            'v': 1175,\n            'f': \"1175\",\n        },\n\"Pakistan\",\n{\n            'v': 2007,\n            'f': \"2007\",\n        },\n{\n            'v': 169270617,\n            'f': \"169270617\",\n        }],\n [{\n            'v': 107,\n            'f': \"107\",\n        },\n\"Bangladesh\",\n{\n            'v': 2007,\n            'f': \"2007\",\n        },\n{\n            'v': 150448339,\n            'f': \"150448339\",\n        }],\n [{\n            'v': 1139,\n            'f': \"1139\",\n        },\n\"Nigeria\",\n{\n            'v': 2007,\n            'f': \"2007\",\n        },\n{\n            'v': 135031164,\n            'f': \"135031164\",\n        }],\n [{\n            'v': 803,\n            'f': \"803\",\n        },\n\"Japan\",\n{\n            'v': 2007,\n            'f': \"2007\",\n        },\n{\n            'v': 127467972,\n            'f': \"127467972\",\n        }],\n [{\n            'v': 995,\n            'f': \"995\",\n        },\n\"Mexico\",\n{\n            'v': 2007,\n            'f': \"2007\",\n        },\n{\n            'v': 108700891,\n            'f': \"108700891\",\n        }]],\n        columns: [[\"number\", \"index\"], [\"string\", \"country\"], [\"number\", \"year\"], [\"number\", \"population\"]],\n        columnOptions: [{\"width\": \"1px\", \"className\": \"index_column\"}],\n        rowsPerPage: 25,\n        helpUrl: \"https://colab.research.google.com/notebooks/data_table.ipynb\",\n        suppressOutputScrolling: true,\n        minimumWidth: undefined,\n      });\n    "
          },
          "metadata": {},
          "execution_count": 20
        }
      ]
    },
    {
      "cell_type": "markdown",
      "source": [
        "Como estamos interessados somente nas 5 maiores populações, utilizamos o comando Series.head(5) para copiar as 5 primeiras linhas da tabela. Para facilitar o uso do código, atribuiremos o valor 5 à variável n. O gráfico resultante pode ficar pequeno para plotar 5 barras. Para alterar o tamanho do gráfico, aprescentemos o comando plt.figure(figsize=(largura, altura)). Nesse caso, modificaremos as dimensões do gráfico para largura=8 e altura=4."
      ],
      "metadata": {
        "id": "SCJe-C3cg2xv"
      }
    },
    {
      "cell_type": "code",
      "source": [
        "n = 5\n",
        "plt.figure(figsize=(8, 4))\n",
        "plt.bar(biggest_pop_2007.country.head(n), biggest_pop_2007.population.head(n))\n",
        "plt.title(f'Os {n} países mais populosos são:')\n",
        "plt.figure(figsize=(8,5))"
      ],
      "metadata": {
        "colab": {
          "base_uri": "https://localhost:8080/",
          "height": 426
        },
        "id": "E9hrZySKg1e_",
        "outputId": "d96866ff-f8ce-40f1-b093-a8ae30239ad0"
      },
      "execution_count": 21,
      "outputs": [
        {
          "output_type": "execute_result",
          "data": {
            "text/plain": [
              "<Figure size 800x500 with 0 Axes>"
            ]
          },
          "metadata": {},
          "execution_count": 21
        },
        {
          "output_type": "display_data",
          "data": {
            "text/plain": [
              "<Figure size 800x400 with 1 Axes>"
            ],
            "image/png": "[encoded data removed]"
          },
          "metadata": {}
        },
        {
          "output_type": "display_data",
          "data": {
            "text/plain": [
              "<Figure size 800x500 with 0 Axes>"
            ]
          },
          "metadata": {}
        }
      ]
    },
    {
      "cell_type": "markdown",
      "source": [
        "# Parte 03: Histograma e gráfico de frequência"
      ],
      "metadata": {
        "id": "MtWaJ6ioqYm8"
      }
    },
    {
      "cell_type": "markdown",
      "source": [
        "Histogramas e gráficos de frequência são utilizados para analisar a distribuição de frequência de um determinado conjunto de dados. Na sua versão para dados contínuos, o histograma representa a frequência com a qual os valores presentes no conjunto estudado aparecem em intervalos de tamanho igual pré-calculados. Para entender o uso desse tipo de gráfico, trabalharemos com uma nova base denominada housing_ok.csv, contendo dados imobiliários da cidade de Melbourne, Austrália."
      ],
      "metadata": {
        "id": "nUShiWCcqaGz"
      }
    },
    {
      "cell_type": "code",
      "source": [
        "housing = pd.read_csv('https://raw.githubusercontent.com/cvs2010/udemyDeepLearning/main/Files/housing_ok.csv')"
      ],
      "metadata": {
        "id": "_NkS-10IqlZ0"
      },
      "execution_count": 22,
      "outputs": []
    },
    {
      "cell_type": "markdown",
      "source": [
        "Iniciamos a análise executando o comando DataFrame.info() para investigar o conteúdo da tabela."
      ],
      "metadata": {
        "id": "rmOjWE6wqp0o"
      }
    },
    {
      "cell_type": "code",
      "source": [
        "housing.info()"
      ],
      "metadata": {
        "colab": {
          "base_uri": "https://localhost:8080/"
        },
        "id": "7eNLeMq-qsDO",
        "outputId": "f115a19c-2ca6-4333-a480-62f43a8bddd5"
      },
      "execution_count": 23,
      "outputs": [
        {
          "output_type": "stream",
          "name": "stdout",
          "text": [
            "<class 'pandas.core.frame.DataFrame'>\n",
            "RangeIndex: 2832 entries, 0 to 2831\n",
            "Data columns (total 14 columns):\n",
            " #   Column               Non-Null Count  Dtype  \n",
            "---  ------               --------------  -----  \n",
            " 0   bairro               2832 non-null   object \n",
            " 1   endereco             2832 non-null   object \n",
            " 2   quartos              2832 non-null   int64  \n",
            " 3   tipo                 2832 non-null   object \n",
            " 4   preco                2832 non-null   float64\n",
            " 5   distancia_aeroporto  2832 non-null   float64\n",
            " 6   cep                  2832 non-null   float64\n",
            " 7   banheiros            2832 non-null   int64  \n",
            " 8   vagas                2832 non-null   int64  \n",
            " 9   area_terreno         2832 non-null   float64\n",
            " 10  area_construida      2832 non-null   float64\n",
            " 11  ano_construcao       2832 non-null   float64\n",
            " 12  latitude             2832 non-null   float64\n",
            " 13  longitude            2832 non-null   float64\n",
            "dtypes: float64(8), int64(3), object(3)\n",
            "memory usage: 309.9+ KB\n"
          ]
        }
      ]
    },
    {
      "cell_type": "code",
      "source": [
        "housing.quartos.unique()"
      ],
      "metadata": {
        "colab": {
          "base_uri": "https://localhost:8080/"
        },
        "id": "yiEgX3gCqxIP",
        "outputId": "8c7bb310-bdb4-419d-ed12-89cbaba8df84"
      },
      "execution_count": 24,
      "outputs": [
        {
          "output_type": "execute_result",
          "data": {
            "text/plain": [
              "array([2, 4, 3, 5, 6, 1, 8, 7])"
            ]
          },
          "metadata": {},
          "execution_count": 24
        }
      ]
    },
    {
      "cell_type": "code",
      "source": [
        "housing.banheiros.unique()"
      ],
      "metadata": {
        "colab": {
          "base_uri": "https://localhost:8080/"
        },
        "id": "HeP-bIFaqyl9",
        "outputId": "df524652-251f-475e-d0a5-392821cb796e"
      },
      "execution_count": 25,
      "outputs": [
        {
          "output_type": "execute_result",
          "data": {
            "text/plain": [
              "array([1, 4, 2, 5, 3, 6, 8, 7])"
            ]
          },
          "metadata": {},
          "execution_count": 25
        }
      ]
    },
    {
      "cell_type": "code",
      "source": [
        "housing.vagas.unique()"
      ],
      "metadata": {
        "colab": {
          "base_uri": "https://localhost:8080/"
        },
        "id": "DPlh8QH5q0h9",
        "outputId": "658a3771-f849-41f8-9cd1-956504f65f3d"
      },
      "execution_count": 26,
      "outputs": [
        {
          "output_type": "execute_result",
          "data": {
            "text/plain": [
              "array([1, 2, 0, 3, 4, 6, 5, 7, 8])"
            ]
          },
          "metadata": {},
          "execution_count": 26
        }
      ]
    },
    {
      "cell_type": "markdown",
      "source": [
        "É possível perceber que não existe, de fato, a necessidade de manter o tipo das três colunas como float64. O formato int8 consegue guardar valores no intervalo de -128 até 127. Sabemos que seria pouco provável a existência de um imóvel com mais de 127 quartos, banheiros ou vagas. Sendo assim, faz sentido utilizarmos esse formato. Para modificar o tipo de uma coluna, utilizamos o comando Series.astype('int8'), atribuindo o resultado à própria coluna.\n",
        "\n",
        "int8 (-128 to 127)\n",
        "int16 (-32,768 to 32,767)\n",
        "int32 (-2,147,483,648 to 2,147,483,647)\n",
        "int64 (-9,223,372,036,854,775,808 to 9,223,372,036,854,775,807)\n",
        "\n",
        "mais informações em: http://www.ece.northwestern.edu/local-apps/matlabhelp/techdoc/ref/int8.html"
      ],
      "metadata": {
        "id": "mPhQSuGxq5CB"
      }
    },
    {
      "cell_type": "code",
      "source": [
        "housing.quartos = housing.quartos.astype('int8')\n",
        "housing.banheiros = housing.banheiros.astype('int8')\n",
        "housing.vagas = housing.vagas.astype('int8')\n",
        "housing.info()"
      ],
      "metadata": {
        "colab": {
          "base_uri": "https://localhost:8080/"
        },
        "id": "se3MWwQ5ra89",
        "outputId": "969a310c-f94e-470d-b9f5-3e76796ec92d"
      },
      "execution_count": 27,
      "outputs": [
        {
          "output_type": "stream",
          "name": "stdout",
          "text": [
            "<class 'pandas.core.frame.DataFrame'>\n",
            "RangeIndex: 2832 entries, 0 to 2831\n",
            "Data columns (total 14 columns):\n",
            " #   Column               Non-Null Count  Dtype  \n",
            "---  ------               --------------  -----  \n",
            " 0   bairro               2832 non-null   object \n",
            " 1   endereco             2832 non-null   object \n",
            " 2   quartos              2832 non-null   int8   \n",
            " 3   tipo                 2832 non-null   object \n",
            " 4   preco                2832 non-null   float64\n",
            " 5   distancia_aeroporto  2832 non-null   float64\n",
            " 6   cep                  2832 non-null   float64\n",
            " 7   banheiros            2832 non-null   int8   \n",
            " 8   vagas                2832 non-null   int8   \n",
            " 9   area_terreno         2832 non-null   float64\n",
            " 10  area_construida      2832 non-null   float64\n",
            " 11  ano_construcao       2832 non-null   float64\n",
            " 12  latitude             2832 non-null   float64\n",
            " 13  longitude            2832 non-null   float64\n",
            "dtypes: float64(8), int8(3), object(3)\n",
            "memory usage: 251.8+ KB\n"
          ]
        }
      ]
    },
    {
      "cell_type": "markdown",
      "source": [
        "**Observe que o uso de memória do DataFrame caiu de 330.5+ KB para 268.5+ KB.**"
      ],
      "metadata": {
        "id": "RWW01yy_sxZ8"
      }
    },
    {
      "cell_type": "code",
      "source": [
        "housing.quartos"
      ],
      "metadata": {
        "colab": {
          "base_uri": "https://localhost:8080/"
        },
        "id": "Z7iTLcbCtPY_",
        "outputId": "0f243ef6-bd16-4a5d-a8c4-815b8bf1ef7f"
      },
      "execution_count": 28,
      "outputs": [
        {
          "output_type": "execute_result",
          "data": {
            "text/plain": [
              "0       2\n",
              "1       4\n",
              "2       2\n",
              "3       2\n",
              "4       2\n",
              "       ..\n",
              "2827    4\n",
              "2828    3\n",
              "2829    3\n",
              "2830    3\n",
              "2831    2\n",
              "Name: quartos, Length: 2832, dtype: int8"
            ]
          },
          "metadata": {},
          "execution_count": 28
        }
      ]
    },
    {
      "cell_type": "markdown",
      "source": [
        "# Gráfico de frequência categórica"
      ],
      "metadata": {
        "id": "3I8rShTjs4cl"
      }
    },
    {
      "cell_type": "markdown",
      "source": [
        "Para nosso primeiro gráfico de frequência, plotaremos o resultado associado ao número de quartos. Como visto anteriormente, o número de quartos representa um conjunto limitado de opções. Para contar a frequência de ocorrência dos valores de uma coluna, utilizamos o comando Series.value_counts()."
      ],
      "metadata": {
        "id": "GVF5PEPks8Oj"
      }
    },
    {
      "cell_type": "code",
      "source": [
        "housing.quartos.value_counts()"
      ],
      "metadata": {
        "colab": {
          "base_uri": "https://localhost:8080/"
        },
        "id": "i9waxsiWtAzq",
        "outputId": "0089991e-7138-47b1-df11-cb46141e7614"
      },
      "execution_count": 29,
      "outputs": [
        {
          "output_type": "execute_result",
          "data": {
            "text/plain": [
              "3    1287\n",
              "4     687\n",
              "2     631\n",
              "5     158\n",
              "1      50\n",
              "6      14\n",
              "7       3\n",
              "8       2\n",
              "Name: quartos, dtype: int64"
            ]
          },
          "metadata": {},
          "execution_count": 29
        }
      ]
    },
    {
      "cell_type": "markdown",
      "source": [
        "**Veja que automaticamente o pandas apresentou o dtype: int64, pois ele está criando uma nova tabela com muitos dados, e por padrão como números inteiros ele cria o int64**"
      ],
      "metadata": {
        "id": "OMU7kutht32h"
      }
    },
    {
      "cell_type": "markdown",
      "source": [
        "O resultado obtido é representado na forma de um DataFrame de coluna única (denominado Series), com o número de quartos como indice e as frequências correspondentes como os valores. Utilizando o comando Series.plot.bar(), temos a possibilidade de criar gráficos de barras diretamente a partir de uma Series."
      ],
      "metadata": {
        "id": "XDaSy-DSub-W"
      }
    },
    {
      "cell_type": "code",
      "source": [
        "# Criando o histograma\n",
        "housing.quartos.value_counts().plot.bar()"
      ],
      "metadata": {
        "colab": {
          "base_uri": "https://localhost:8080/",
          "height": 442
        },
        "id": "6Jjc3Qpqufwv",
        "outputId": "4c07b2ef-3ee1-46f3-ff42-c6324de0a053"
      },
      "execution_count": 30,
      "outputs": [
        {
          "output_type": "execute_result",
          "data": {
            "text/plain": [
              "<Axes: >"
            ]
          },
          "metadata": {},
          "execution_count": 30
        },
        {
          "output_type": "display_data",
          "data": {
            "text/plain": [
              "<Figure size 640x480 with 1 Axes>"
            ],
            "image/png": "[encoded data removed]"
          },
          "metadata": {}
        }
      ]
    },
    {
      "cell_type": "markdown",
      "source": [
        "Através do gráfico de frequência gerado é possível concluir que a maioria dos imóveis da tabela possui entre 2 e 4 quartos, sendo 3 o valor com maior frequência."
      ],
      "metadata": {
        "id": "4p8mQgjiuWJs"
      }
    },
    {
      "cell_type": "markdown",
      "source": [
        "# Histograma"
      ],
      "metadata": {
        "id": "mr6_XiEg0CKU"
      }
    },
    {
      "cell_type": "markdown",
      "source": [
        "Para criar histogramas (gráfico de frequência para dados contínuos), utilizaremos o comando Series.hist() ou Series.plot.hist(). Para criar o histograma dos preços dos imóveis, por exemplo, utilizamos o comando abaixo."
      ],
      "metadata": {
        "id": "pgP5Hma70DYk"
      }
    },
    {
      "cell_type": "code",
      "source": [
        "housing.preco.plot.hist()"
      ],
      "metadata": {
        "colab": {
          "base_uri": "https://localhost:8080/",
          "height": 465
        },
        "id": "tvYP_wZO0LZV",
        "outputId": "c37df323-3e8f-4ba9-935c-b60becb5f21b"
      },
      "execution_count": 31,
      "outputs": [
        {
          "output_type": "execute_result",
          "data": {
            "text/plain": [
              "<Axes: ylabel='Frequency'>"
            ]
          },
          "metadata": {},
          "execution_count": 31
        },
        {
          "output_type": "display_data",
          "data": {
            "text/plain": [
              "<Figure size 640x480 with 1 Axes>"
            ],
            "image/png": "[encoded data removed]"
          },
          "metadata": {}
        }
      ]
    },
    {
      "cell_type": "code",
      "source": [
        "housing.preco"
      ],
      "metadata": {
        "colab": {
          "base_uri": "https://localhost:8080/"
        },
        "id": "cnfryhO_1k5a",
        "outputId": "b6e6f283-ae50-4cbb-e17e-5adca15ea7cf"
      },
      "execution_count": 32,
      "outputs": [
        {
          "output_type": "execute_result",
          "data": {
            "text/plain": [
              "0        855000.0\n",
              "1       3310000.0\n",
              "2       2200000.0\n",
              "3       1010000.0\n",
              "4        860000.0\n",
              "          ...    \n",
              "2827     550000.0\n",
              "2828     945000.0\n",
              "2829     851000.0\n",
              "2830    1030000.0\n",
              "2831    1310000.0\n",
              "Name: preco, Length: 2832, dtype: float64"
            ]
          },
          "metadata": {},
          "execution_count": 32
        }
      ]
    },
    {
      "cell_type": "markdown",
      "source": [
        "Ajustando os parâmetros do gráfico:\n",
        "\n",
        "Primiero vamos dividir todos os preços por 1000 (teriamos o valor em milhares de $)\n",
        "Depois vamos rotacionar a exibição dos valores do eixo, definindo o parâmetro rot=45 (45 graus)\n",
        "Por fim ,vamos aumentar o gráfico definindo o parâmetro figsize=(largura, altura)"
      ],
      "metadata": {
        "id": "sKZ76wQX0ZUh"
      }
    },
    {
      "cell_type": "markdown",
      "source": [
        "No contexto de histogramas, bins são intervalos contíguos que cobrem toda a faixa de valores dos dados que estamos analisando. Em outras palavras, os bins são faixas de valores dentro das quais contamos a frequência dos dados que se encontram nessa faixa.\n",
        "\n",
        "Por exemplo, se estamos criando um histograma de notas de uma prova, podemos criar bins de 0 a 10, de 10 a 20, de 20 a 30, e assim por diante. O número de bins que utilizamos afeta a aparência do histograma e pode afetar a interpretação dos dados.\n",
        "\n",
        "Em geral, escolhemos um número de bins que permita visualizar as características relevantes dos dados, mas não tão grande que se torne difícil de interpretar. A escolha do número de bins é uma decisão importante no processo de criação de um histograma. O número de bins pode ser especificado diretamente na chamada da função hist do Matplotlib, ou pode ser calculado automaticamente por algoritmos que tentam otimizar a visualização dos dados."
      ],
      "metadata": {
        "id": "OEFf0rb32shH"
      }
    },
    {
      "cell_type": "code",
      "source": [
        "# Criando um conjunto de valores para o histograma\n",
        "valores_hist = housing.preco / 1000\n",
        "\n",
        "# Definindo a faixa de intervalo do histograma\n",
        "num_bins = 20\n",
        "\n",
        "# Plotando o histograma com 20 bins e cores variáveis\n",
        "plt.hist(valores_hist, bins=num_bins)\n",
        "\n",
        "# Adicionando rótulos aos eixos\n",
        "plt.xlabel('Valores em milhões')\n",
        "plt.ylabel('Frequência')\n",
        "\n",
        "# Rotacionando a exibição do eixo x em 45 graus\n",
        "plt.xticks(rotation=45)\n",
        "\n",
        "# Exibindo o gráfico\n",
        "plt.show()"
      ],
      "metadata": {
        "colab": {
          "base_uri": "https://localhost:8080/",
          "height": 474
        },
        "id": "J9Tfe5Dl0mXs",
        "outputId": "806ef5b5-ddbd-411b-a6af-0e421a686e19"
      },
      "execution_count": 33,
      "outputs": [
        {
          "output_type": "display_data",
          "data": {
            "text/plain": [
              "<Figure size 640x480 with 1 Axes>"
            ],
            "image/png": "[encoded data removed]"
          },
          "metadata": {}
        }
      ]
    },
    {
      "cell_type": "code",
      "source": [
        "valores_hist"
      ],
      "metadata": {
        "colab": {
          "base_uri": "https://localhost:8080/"
        },
        "id": "D3ve6zVq-CgK",
        "outputId": "d1177068-d5f6-4677-febb-73e66fa24bf1"
      },
      "execution_count": 34,
      "outputs": [
        {
          "output_type": "execute_result",
          "data": {
            "text/plain": [
              "0        855.0\n",
              "1       3310.0\n",
              "2       2200.0\n",
              "3       1010.0\n",
              "4        860.0\n",
              "         ...  \n",
              "2827     550.0\n",
              "2828     945.0\n",
              "2829     851.0\n",
              "2830    1030.0\n",
              "2831    1310.0\n",
              "Name: preco, Length: 2832, dtype: float64"
            ]
          },
          "metadata": {},
          "execution_count": 34
        }
      ]
    },
    {
      "cell_type": "markdown",
      "source": [
        "Alterando a aparência do gráfico com o SeaBorn"
      ],
      "metadata": {
        "id": "-8N5TvFJ5D90"
      }
    },
    {
      "cell_type": "code",
      "source": [
        "# !pip install seaborn # Nós já instalamos a biblioteca seaborn lá no início\n",
        "import seaborn as sns"
      ],
      "metadata": {
        "colab": {
          "base_uri": "https://localhost:8080/"
        },
        "id": "u3FF2iVG5DIz",
        "outputId": "6e2164aa-f32b-414a-c9a7-feedbf396fd4"
      },
      "execution_count": 35,
      "outputs": [
        {
          "output_type": "stream",
          "name": "stdout",
          "text": [
            "Looking in indexes: https://pypi.org/simple, https://us-python.pkg.dev/colab-wheels/public/simple/\n",
            "Requirement already satisfied: seaborn in /usr/local/lib/python3.9/dist-packages (0.12.2)\n",
            "Requirement already satisfied: matplotlib!=3.6.1,>=3.1 in /usr/local/lib/python3.9/dist-packages (from seaborn) (3.7.1)\n",
            "Requirement already satisfied: numpy!=1.24.0,>=1.17 in /usr/local/lib/python3.9/dist-packages (from seaborn) (1.22.4)\n",
            "Requirement already satisfied: pandas>=0.25 in /usr/local/lib/python3.9/dist-packages (from seaborn) (1.5.3)\n",
            "Requirement already satisfied: kiwisolver>=1.0.1 in /usr/local/lib/python3.9/dist-packages (from matplotlib!=3.6.1,>=3.1->seaborn) (1.4.4)\n",
            "Requirement already satisfied: pyparsing>=2.3.1 in /usr/local/lib/python3.9/dist-packages (from matplotlib!=3.6.1,>=3.1->seaborn) (3.0.9)\n",
            "Requirement already satisfied: packaging>=20.0 in /usr/local/lib/python3.9/dist-packages (from matplotlib!=3.6.1,>=3.1->seaborn) (23.1)\n",
            "Requirement already satisfied: cycler>=0.10 in /usr/local/lib/python3.9/dist-packages (from matplotlib!=3.6.1,>=3.1->seaborn) (0.11.0)\n",
            "Requirement already satisfied: fonttools>=4.22.0 in /usr/local/lib/python3.9/dist-packages (from matplotlib!=3.6.1,>=3.1->seaborn) (4.39.3)\n",
            "Requirement already satisfied: importlib-resources>=3.2.0 in /usr/local/lib/python3.9/dist-packages (from matplotlib!=3.6.1,>=3.1->seaborn) (5.12.0)\n",
            "Requirement already satisfied: pillow>=6.2.0 in /usr/local/lib/python3.9/dist-packages (from matplotlib!=3.6.1,>=3.1->seaborn) (8.4.0)\n",
            "Requirement already satisfied: python-dateutil>=2.7 in /usr/local/lib/python3.9/dist-packages (from matplotlib!=3.6.1,>=3.1->seaborn) (2.8.2)\n",
            "Requirement already satisfied: contourpy>=1.0.1 in /usr/local/lib/python3.9/dist-packages (from matplotlib!=3.6.1,>=3.1->seaborn) (1.0.7)\n",
            "Requirement already satisfied: pytz>=2020.1 in /usr/local/lib/python3.9/dist-packages (from pandas>=0.25->seaborn) (2022.7.1)\n",
            "Requirement already satisfied: zipp>=3.1.0 in /usr/local/lib/python3.9/dist-packages (from importlib-resources>=3.2.0->matplotlib!=3.6.1,>=3.1->seaborn) (3.15.0)\n",
            "Requirement already satisfied: six>=1.5 in /usr/local/lib/python3.9/dist-packages (from python-dateutil>=2.7->matplotlib!=3.6.1,>=3.1->seaborn) (1.16.0)\n"
          ]
        }
      ]
    },
    {
      "cell_type": "code",
      "source": [
        "# Criando as faixas de valores\n",
        "bins = pd.cut(valores_hist, bins=20, precision=0)\n",
        "\n",
        "# Criando o histograma com cores variáveis\n",
        "sns.histplot(data=valores_hist, x=valores_hist, bins=20, hue=bins, legend=False)\n",
        "\n",
        "# Adicionando rótulos aos eixos\n",
        "plt.xlabel('Valores em milhões')\n",
        "plt.ylabel('Frequência')\n",
        "\n",
        "# Rotacionando a exibição do eixo x em 45 graus\n",
        "plt.xticks(rotation=45)\n",
        "\n",
        "# Exibindo o gráfico\n",
        "plt.show()"
      ],
      "metadata": {
        "colab": {
          "base_uri": "https://localhost:8080/",
          "height": 474
        },
        "id": "B4ifo9YV_FlA",
        "outputId": "6be1d075-6595-45f6-ddb8-1017dd5b9766"
      },
      "execution_count": 36,
      "outputs": [
        {
          "output_type": "display_data",
          "data": {
            "text/plain": [
              "<Figure size 640x480 with 1 Axes>"
            ],
            "image/png": "[encoded data removed]"
          },
          "metadata": {}
        }
      ]
    },
    {
      "cell_type": "markdown",
      "source": [
        "# Filtrando possíveis outliers"
      ],
      "metadata": {
        "id": "sZFRqxGLEZSv"
      }
    },
    {
      "cell_type": "code",
      "source": [
        "housing.boxplot(column='preco')"
      ],
      "metadata": {
        "colab": {
          "base_uri": "https://localhost:8080/",
          "height": 462
        },
        "id": "fgwsXhgVEuSQ",
        "outputId": "e2090ef7-d01f-4bc2-af61-204fa6f40d9e"
      },
      "execution_count": 39,
      "outputs": [
        {
          "output_type": "execute_result",
          "data": {
            "text/plain": [
              "<Axes: >"
            ]
          },
          "metadata": {},
          "execution_count": 39
        },
        {
          "output_type": "display_data",
          "data": {
            "text/plain": [
              "<Figure size 640x480 with 1 Axes>"
            ],
            "image/png": "[encoded data removed]"
          },
          "metadata": {}
        }
      ]
    },
    {
      "cell_type": "markdown",
      "source": [
        "Acima de 4 milhões e abaixo de 300.000 os outliers"
      ],
      "metadata": {
        "id": "---s33TCLCtx"
      }
    },
    {
      "cell_type": "code",
      "source": [
        "qtd_imoveis_preco_alto = len(housing[housing.preco > 4_000_000])\n",
        "qtd_imoveis_preco_baixo = len(housing[housing.preco < 300_000])\n",
        "print(f\"Quantidade total do dataframe é : {len(housing.preco)}.\")\n",
        "print(f\"A quantidade de imóveis com preço acima de 3 milhões é: {qtd_imoveis_preco_alto}.\")\n",
        "print(f\"A quantidade de imóveis com preço abaixo de 100 mil é: {qtd_imoveis_preco_baixo}.\")"
      ],
      "metadata": {
        "colab": {
          "base_uri": "https://localhost:8080/"
        },
        "id": "-lzZ9F_xLn17",
        "outputId": "a36c2792-ce1b-4c61-f77d-6a2653d3ed1c"
      },
      "execution_count": 125,
      "outputs": [
        {
          "output_type": "stream",
          "name": "stdout",
          "text": [
            "Quantidade total do dataframe é : 2832.\n",
            "A quantidade de imóveis com preço acima de 3 milhões é: 18.\n",
            "A quantidade de imóveis com preço abaixo de 100 mil é: 14.\n"
          ]
        }
      ]
    },
    {
      "cell_type": "markdown",
      "source": [
        "Para aplicar o filtro no preço dos imóveis para esse intervalo, utilizaremos o comando Series.between(), que recebe como parâmetros os limites superior e inferior. Por questão de organização, criaremos uma variável chamada superior para guardar o limite superior e uma variável chamada inferior para aguardar o limite inferior. Em seguida, criaremos uma variável chamada filtro para guardar o filtro resultante da função Series.between(). Finalmente, aplicaremos o filtro do DataFrame e criaremos o histograma."
      ],
      "metadata": {
        "id": "Yo5cAYuoFSNW"
      }
    },
    {
      "cell_type": "code",
      "source": [
        "lim_superior = 4000000\n",
        "lim_inferior = 300000\n",
        "filtro_housing_preco = housing.preco.between(lim_inferior, lim_superior)\n",
        "housing[filtro_housing_preco].preco.plot.hist(figsize=(10, 4))"
      ],
      "metadata": {
        "colab": {
          "base_uri": "https://localhost:8080/",
          "height": 403
        },
        "id": "B0P1xmSGFXGT",
        "outputId": "d1f31adc-e6c6-4120-a7f2-155dec45c2c1"
      },
      "execution_count": 123,
      "outputs": [
        {
          "output_type": "execute_result",
          "data": {
            "text/plain": [
              "<Axes: ylabel='Frequency'>"
            ]
          },
          "metadata": {},
          "execution_count": 123
        },
        {
          "output_type": "display_data",
          "data": {
            "text/plain": [
              "<Figure size 1000x400 with 1 Axes>"
            ],
            "image/png": "[encoded data removed]"
          },
          "metadata": {}
        }
      ]
    },
    {
      "cell_type": "markdown",
      "source": [
        "#  Gráfico de dispersão (scatter plot)"
      ],
      "metadata": {
        "id": "J5T39CyTpCF6"
      }
    },
    {
      "cell_type": "markdown",
      "source": [
        "Gráficos scatter são utilizados para comparar pares de valores com o objetivo de identificar relações de dependência. Na presença de coordenadas geográficas, o gráfico scatter pode ser utilizado para visualização da distribuição de pontos.\n",
        "\n",
        "Utilizaremos a base housing_ok.csv como exemplo."
      ],
      "metadata": {
        "id": "JJ9FnjhcpD0I"
      }
    },
    {
      "cell_type": "code",
      "source": [
        "housing = pd.read_csv('https://raw.githubusercontent.com/cvs2010/udemyDeepLearning/main/Files/housing_ok.csv')\n",
        "housing.quartos = housing.quartos.astype('int8')\n",
        "housing.banheiros = housing.banheiros.astype('int8')\n",
        "housing.vagas = housing.vagas.astype('int8')"
      ],
      "metadata": {
        "id": "s2BYzpvppDRB"
      },
      "execution_count": 37,
      "outputs": []
    },
    {
      "cell_type": "markdown",
      "source": [
        "# Plotando coordenadas geográficas"
      ],
      "metadata": {
        "id": "PU_wYphZp2hu"
      }
    },
    {
      "cell_type": "markdown",
      "source": [
        "Podemos, inicialmente, plotar o gráfico scatter para termos uma ideia da distribuição geográfica dos imóveis. Para isso utilizaremos a função DataFrame.plot.scatter(). Os parâmetros x e y recebem o nome da coluna contendo os dados para cada um dos respectivos eixos. Definiremos, também, o tamanho da figura para as dimensões 10 x 8 através do parâmetro figsize=(10, 0). Para manter idêntica a escala dos eixos, acrescentamos o comando plt.axis('equal')."
      ],
      "metadata": {
        "id": "X1R2cy9Sp3zQ"
      }
    },
    {
      "cell_type": "code",
      "source": [
        "housing.plot.scatter(x='longitude', y='latitude', figsize=(10, 8))\n",
        "plt.axis('equal')"
      ],
      "metadata": {
        "colab": {
          "base_uri": "https://localhost:8080/",
          "height": 713
        },
        "id": "9b42YRhhqBUU",
        "outputId": "a374e58f-bc97-415e-ceab-518826b73034"
      },
      "execution_count": 38,
      "outputs": [
        {
          "output_type": "execute_result",
          "data": {
            "text/plain": [
              "(144.774223, 145.16091699999998, -37.957815, -37.673685)"
            ]
          },
          "metadata": {},
          "execution_count": 38
        },
        {
          "output_type": "display_data",
          "data": {
            "text/plain": [
              "<Figure size 1000x800 with 1 Axes>"
            ],
            "image/png": "[encoded data removed]"
          },
          "metadata": {}
        }
      ]
    }
  ]
}